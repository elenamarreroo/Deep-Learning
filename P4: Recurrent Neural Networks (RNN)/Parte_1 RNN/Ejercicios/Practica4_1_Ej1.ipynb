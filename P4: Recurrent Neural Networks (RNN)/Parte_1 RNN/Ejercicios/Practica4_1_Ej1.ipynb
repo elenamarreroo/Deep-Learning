{
  "cells": [
    {
      "cell_type": "markdown",
      "metadata": {
        "id": "63K4N7Dc4_fr"
      },
      "source": [
        "# **PRÁCTICA 4:  Deep Learning - Parte 1: RNN**\n",
        "### Universitat de València, Escola Tecnica Superior d'Enginyeria\n",
        "### Elena Marrero Castellano | 4ª curso del Grado Ciencia de Datos\n"
      ]
    },
    {
      "cell_type": "markdown",
      "metadata": {
        "id": "auGPNmG05LAy"
      },
      "source": [
        "## **Ejercicio 1:  Crea, entrena y prueba un modelo con varias capas recurrentes. Da el valor de mae en entrenamiento y test.** "
      ]
    },
    {
      "cell_type": "markdown",
      "metadata": {
        "id": "mTver5RWpIFs"
      },
      "source": [
        "# Laboratorio\n",
        "\n",
        "Vamos a hacer predicción del valor de un activo financiero de una empresa a partir del valor de los días anteriores."
      ]
    },
    {
      "cell_type": "code",
      "execution_count": null,
      "metadata": {
        "id": "079yMXRgoxM8"
      },
      "outputs": [],
      "source": [
        "# Importamos librerías\n",
        "from tensorflow.keras.models import Sequential\n",
        "from tensorflow.keras.layers import Dense, Conv1D, Flatten, LSTM, Dropout\n",
        "import numpy as np"
      ]
    },
    {
      "cell_type": "markdown",
      "metadata": {
        "id": "ndHK4OTtjVex"
      },
      "source": [
        "## Database\n",
        "Los datos se pueden descargar de aquí (aunque están en el aula virtual)\n",
        "\n",
        "https://www.kaggle.com/borismarjanovic/price-volume-data-for-all-us-stocks-etfs"
      ]
    },
    {
      "cell_type": "markdown",
      "metadata": {
        "id": "N7CdTSbKQkBy"
      },
      "source": [
        "## Veamos los datos\n"
      ]
    },
    {
      "cell_type": "code",
      "execution_count": null,
      "metadata": {
        "id": "xbzWW9BkQjXa"
      },
      "outputs": [],
      "source": [
        "# Usamos Pandas para leerlos y mirarlos un poco\n",
        "import pandas as pd\n",
        "dataset = pd.read_csv(\"googl.us.txt\", delimiter=\",\")"
      ]
    },
    {
      "cell_type": "code",
      "execution_count": null,
      "metadata": {
        "colab": {
          "base_uri": "https://localhost:8080/",
          "height": 423
        },
        "id": "wCeuECbtOxoh",
        "outputId": "c83b3fea-e0e3-4f4c-a602-b76d900b07cd"
      },
      "outputs": [
        {
          "data": {
            "text/html": [
              "\n",
              "  <div id=\"df-00f053a7-ca47-4f15-935d-839169700a7b\">\n",
              "    <div class=\"colab-df-container\">\n",
              "      <div>\n",
              "<style scoped>\n",
              "    .dataframe tbody tr th:only-of-type {\n",
              "        vertical-align: middle;\n",
              "    }\n",
              "\n",
              "    .dataframe tbody tr th {\n",
              "        vertical-align: top;\n",
              "    }\n",
              "\n",
              "    .dataframe thead th {\n",
              "        text-align: right;\n",
              "    }\n",
              "</style>\n",
              "<table border=\"1\" class=\"dataframe\">\n",
              "  <thead>\n",
              "    <tr style=\"text-align: right;\">\n",
              "      <th></th>\n",
              "      <th>Date</th>\n",
              "      <th>Open</th>\n",
              "      <th>High</th>\n",
              "      <th>Low</th>\n",
              "      <th>Close</th>\n",
              "      <th>Volume</th>\n",
              "      <th>OpenInt</th>\n",
              "    </tr>\n",
              "  </thead>\n",
              "  <tbody>\n",
              "    <tr>\n",
              "      <th>0</th>\n",
              "      <td>2004-08-19</td>\n",
              "      <td>50.000</td>\n",
              "      <td>52.03</td>\n",
              "      <td>47.980</td>\n",
              "      <td>50.170</td>\n",
              "      <td>44703800</td>\n",
              "      <td>0</td>\n",
              "    </tr>\n",
              "    <tr>\n",
              "      <th>1</th>\n",
              "      <td>2004-08-20</td>\n",
              "      <td>50.505</td>\n",
              "      <td>54.54</td>\n",
              "      <td>50.250</td>\n",
              "      <td>54.155</td>\n",
              "      <td>22857200</td>\n",
              "      <td>0</td>\n",
              "    </tr>\n",
              "    <tr>\n",
              "      <th>2</th>\n",
              "      <td>2004-08-23</td>\n",
              "      <td>55.375</td>\n",
              "      <td>56.74</td>\n",
              "      <td>54.525</td>\n",
              "      <td>54.700</td>\n",
              "      <td>18274400</td>\n",
              "      <td>0</td>\n",
              "    </tr>\n",
              "    <tr>\n",
              "      <th>3</th>\n",
              "      <td>2004-08-24</td>\n",
              "      <td>55.620</td>\n",
              "      <td>55.80</td>\n",
              "      <td>51.785</td>\n",
              "      <td>52.435</td>\n",
              "      <td>15262600</td>\n",
              "      <td>0</td>\n",
              "    </tr>\n",
              "    <tr>\n",
              "      <th>4</th>\n",
              "      <td>2004-08-25</td>\n",
              "      <td>52.480</td>\n",
              "      <td>54.00</td>\n",
              "      <td>51.940</td>\n",
              "      <td>53.000</td>\n",
              "      <td>9197800</td>\n",
              "      <td>0</td>\n",
              "    </tr>\n",
              "    <tr>\n",
              "      <th>...</th>\n",
              "      <td>...</td>\n",
              "      <td>...</td>\n",
              "      <td>...</td>\n",
              "      <td>...</td>\n",
              "      <td>...</td>\n",
              "      <td>...</td>\n",
              "      <td>...</td>\n",
              "    </tr>\n",
              "    <tr>\n",
              "      <th>3328</th>\n",
              "      <td>2017-11-06</td>\n",
              "      <td>1049.100</td>\n",
              "      <td>1052.59</td>\n",
              "      <td>1042.000</td>\n",
              "      <td>1042.680</td>\n",
              "      <td>913954</td>\n",
              "      <td>0</td>\n",
              "    </tr>\n",
              "    <tr>\n",
              "      <th>3329</th>\n",
              "      <td>2017-11-07</td>\n",
              "      <td>1049.650</td>\n",
              "      <td>1053.41</td>\n",
              "      <td>1043.000</td>\n",
              "      <td>1052.390</td>\n",
              "      <td>1303832</td>\n",
              "      <td>0</td>\n",
              "    </tr>\n",
              "    <tr>\n",
              "      <th>3330</th>\n",
              "      <td>2017-11-08</td>\n",
              "      <td>1050.050</td>\n",
              "      <td>1062.69</td>\n",
              "      <td>1047.050</td>\n",
              "      <td>1058.290</td>\n",
              "      <td>1214469</td>\n",
              "      <td>0</td>\n",
              "    </tr>\n",
              "    <tr>\n",
              "      <th>3331</th>\n",
              "      <td>2017-11-09</td>\n",
              "      <td>1048.000</td>\n",
              "      <td>1050.88</td>\n",
              "      <td>1035.850</td>\n",
              "      <td>1047.720</td>\n",
              "      <td>1793994</td>\n",
              "      <td>0</td>\n",
              "    </tr>\n",
              "    <tr>\n",
              "      <th>3332</th>\n",
              "      <td>2017-11-10</td>\n",
              "      <td>1043.870</td>\n",
              "      <td>1046.63</td>\n",
              "      <td>1041.220</td>\n",
              "      <td>1044.150</td>\n",
              "      <td>970498</td>\n",
              "      <td>0</td>\n",
              "    </tr>\n",
              "  </tbody>\n",
              "</table>\n",
              "<p>3333 rows × 7 columns</p>\n",
              "</div>\n",
              "      <button class=\"colab-df-convert\" onclick=\"convertToInteractive('df-00f053a7-ca47-4f15-935d-839169700a7b')\"\n",
              "              title=\"Convert this dataframe to an interactive table.\"\n",
              "              style=\"display:none;\">\n",
              "        \n",
              "  <svg xmlns=\"http://www.w3.org/2000/svg\" height=\"24px\"viewBox=\"0 0 24 24\"\n",
              "       width=\"24px\">\n",
              "    <path d=\"M0 0h24v24H0V0z\" fill=\"none\"/>\n",
              "    <path d=\"M18.56 5.44l.94 2.06.94-2.06 2.06-.94-2.06-.94-.94-2.06-.94 2.06-2.06.94zm-11 1L8.5 8.5l.94-2.06 2.06-.94-2.06-.94L8.5 2.5l-.94 2.06-2.06.94zm10 10l.94 2.06.94-2.06 2.06-.94-2.06-.94-.94-2.06-.94 2.06-2.06.94z\"/><path d=\"M17.41 7.96l-1.37-1.37c-.4-.4-.92-.59-1.43-.59-.52 0-1.04.2-1.43.59L10.3 9.45l-7.72 7.72c-.78.78-.78 2.05 0 2.83L4 21.41c.39.39.9.59 1.41.59.51 0 1.02-.2 1.41-.59l7.78-7.78 2.81-2.81c.8-.78.8-2.07 0-2.86zM5.41 20L4 18.59l7.72-7.72 1.47 1.35L5.41 20z\"/>\n",
              "  </svg>\n",
              "      </button>\n",
              "      \n",
              "  <style>\n",
              "    .colab-df-container {\n",
              "      display:flex;\n",
              "      flex-wrap:wrap;\n",
              "      gap: 12px;\n",
              "    }\n",
              "\n",
              "    .colab-df-convert {\n",
              "      background-color: #E8F0FE;\n",
              "      border: none;\n",
              "      border-radius: 50%;\n",
              "      cursor: pointer;\n",
              "      display: none;\n",
              "      fill: #1967D2;\n",
              "      height: 32px;\n",
              "      padding: 0 0 0 0;\n",
              "      width: 32px;\n",
              "    }\n",
              "\n",
              "    .colab-df-convert:hover {\n",
              "      background-color: #E2EBFA;\n",
              "      box-shadow: 0px 1px 2px rgba(60, 64, 67, 0.3), 0px 1px 3px 1px rgba(60, 64, 67, 0.15);\n",
              "      fill: #174EA6;\n",
              "    }\n",
              "\n",
              "    [theme=dark] .colab-df-convert {\n",
              "      background-color: #3B4455;\n",
              "      fill: #D2E3FC;\n",
              "    }\n",
              "\n",
              "    [theme=dark] .colab-df-convert:hover {\n",
              "      background-color: #434B5C;\n",
              "      box-shadow: 0px 1px 3px 1px rgba(0, 0, 0, 0.15);\n",
              "      filter: drop-shadow(0px 1px 2px rgba(0, 0, 0, 0.3));\n",
              "      fill: #FFFFFF;\n",
              "    }\n",
              "  </style>\n",
              "\n",
              "      <script>\n",
              "        const buttonEl =\n",
              "          document.querySelector('#df-00f053a7-ca47-4f15-935d-839169700a7b button.colab-df-convert');\n",
              "        buttonEl.style.display =\n",
              "          google.colab.kernel.accessAllowed ? 'block' : 'none';\n",
              "\n",
              "        async function convertToInteractive(key) {\n",
              "          const element = document.querySelector('#df-00f053a7-ca47-4f15-935d-839169700a7b');\n",
              "          const dataTable =\n",
              "            await google.colab.kernel.invokeFunction('convertToInteractive',\n",
              "                                                     [key], {});\n",
              "          if (!dataTable) return;\n",
              "\n",
              "          const docLinkHtml = 'Like what you see? Visit the ' +\n",
              "            '<a target=\"_blank\" href=https://colab.research.google.com/notebooks/data_table.ipynb>data table notebook</a>'\n",
              "            + ' to learn more about interactive tables.';\n",
              "          element.innerHTML = '';\n",
              "          dataTable['output_type'] = 'display_data';\n",
              "          await google.colab.output.renderOutput(dataTable, element);\n",
              "          const docLink = document.createElement('div');\n",
              "          docLink.innerHTML = docLinkHtml;\n",
              "          element.appendChild(docLink);\n",
              "        }\n",
              "      </script>\n",
              "    </div>\n",
              "  </div>\n",
              "  "
            ],
            "text/plain": [
              "            Date      Open     High       Low     Close    Volume  OpenInt\n",
              "0     2004-08-19    50.000    52.03    47.980    50.170  44703800        0\n",
              "1     2004-08-20    50.505    54.54    50.250    54.155  22857200        0\n",
              "2     2004-08-23    55.375    56.74    54.525    54.700  18274400        0\n",
              "3     2004-08-24    55.620    55.80    51.785    52.435  15262600        0\n",
              "4     2004-08-25    52.480    54.00    51.940    53.000   9197800        0\n",
              "...          ...       ...      ...       ...       ...       ...      ...\n",
              "3328  2017-11-06  1049.100  1052.59  1042.000  1042.680    913954        0\n",
              "3329  2017-11-07  1049.650  1053.41  1043.000  1052.390   1303832        0\n",
              "3330  2017-11-08  1050.050  1062.69  1047.050  1058.290   1214469        0\n",
              "3331  2017-11-09  1048.000  1050.88  1035.850  1047.720   1793994        0\n",
              "3332  2017-11-10  1043.870  1046.63  1041.220  1044.150    970498        0\n",
              "\n",
              "[3333 rows x 7 columns]"
            ]
          },
          "execution_count": 4,
          "metadata": {},
          "output_type": "execute_result"
        }
      ],
      "source": [
        "# El dataset tiene 5 características por dia\n",
        "dataset"
      ]
    },
    {
      "cell_type": "code",
      "execution_count": null,
      "metadata": {
        "colab": {
          "base_uri": "https://localhost:8080/"
        },
        "id": "c1CchphhPWTG",
        "outputId": "5d024849-05e3-4647-81b2-5eee64bd792a"
      },
      "outputs": [
        {
          "data": {
            "text/plain": [
              "0         50.000\n",
              "1         50.505\n",
              "2         55.375\n",
              "3         55.620\n",
              "4         52.480\n",
              "          ...   \n",
              "3328    1049.100\n",
              "3329    1049.650\n",
              "3330    1050.050\n",
              "3331    1048.000\n",
              "3332    1043.870\n",
              "Name: Open, Length: 3333, dtype: float64"
            ]
          },
          "execution_count": 5,
          "metadata": {},
          "output_type": "execute_result"
        }
      ],
      "source": [
        "# Valores de apertura de cada día\n",
        "dataset['Open']"
      ]
    },
    {
      "cell_type": "code",
      "execution_count": null,
      "metadata": {
        "colab": {
          "base_uri": "https://localhost:8080/"
        },
        "id": "P86GSpRlkRRI",
        "outputId": "24f14c6d-83cb-4ff4-ece1-b4b68aebc0db"
      },
      "outputs": [
        {
          "data": {
            "text/plain": [
              "(3333,)"
            ]
          },
          "execution_count": 6,
          "metadata": {},
          "output_type": "execute_result"
        }
      ],
      "source": [
        "aa = dataset['Open']\n",
        "aa.shape"
      ]
    },
    {
      "cell_type": "code",
      "execution_count": null,
      "metadata": {
        "colab": {
          "base_uri": "https://localhost:8080/",
          "height": 283
        },
        "id": "x72djQQvk27Y",
        "outputId": "1bfafd64-1fcb-4230-b8f8-235f3abf131a"
      },
      "outputs": [
        {
          "data": {
            "text/plain": [
              "[<matplotlib.lines.Line2D at 0x7f7e0a85ae90>]"
            ]
          },
          "execution_count": 7,
          "metadata": {},
          "output_type": "execute_result"
        },
        {
          "data": {
            "image/png": "[encoded data removed]",
            "text/plain": [
              "<Figure size 432x288 with 1 Axes>"
            ]
          },
          "metadata": {
            "needs_background": "light"
          },
          "output_type": "display_data"
        }
      ],
      "source": [
        "# Visualizamos los valores de apertura\n",
        "import matplotlib.pyplot as plt\n",
        "%matplotlib inline\n",
        "plt.figure()\n",
        "plt.plot(aa)"
      ]
    },
    {
      "cell_type": "code",
      "execution_count": null,
      "metadata": {
        "colab": {
          "base_uri": "https://localhost:8080/",
          "height": 311
        },
        "id": "xjvkXOHqmIWM",
        "outputId": "abb35956-b45b-4366-86e9-077b08e1b41c"
      },
      "outputs": [
        {
          "data": {
            "text/plain": [
              "<matplotlib.axes._subplots.AxesSubplot at 0x7f7e0a36ee50>"
            ]
          },
          "execution_count": 8,
          "metadata": {},
          "output_type": "execute_result"
        },
        {
          "data": {
            "text/plain": [
              "<Figure size 432x288 with 0 Axes>"
            ]
          },
          "metadata": {},
          "output_type": "display_data"
        },
        {
          "data": {
            "image/png": "[encoded data removed]",
            "text/plain": [
              "<Figure size 432x288 with 1 Axes>"
            ]
          },
          "metadata": {
            "needs_background": "light"
          },
          "output_type": "display_data"
        }
      ],
      "source": [
        "# Podemos visualizar las 5 características a la vez\n",
        "%matplotlib inline\n",
        "plt.figure()\n",
        "dataset.plot()"
      ]
    },
    {
      "cell_type": "code",
      "execution_count": null,
      "metadata": {
        "id": "CPSWzZMfoyss"
      },
      "outputs": [],
      "source": [
        "# Cogemos los datos de apertura y de cierre\n",
        "googl_op = dataset['Open']\n",
        "googl_cl = dataset['Close']"
      ]
    },
    {
      "cell_type": "code",
      "execution_count": null,
      "metadata": {
        "colab": {
          "base_uri": "https://localhost:8080/",
          "height": 283
        },
        "id": "U9Lgabvuo3K6",
        "outputId": "99220b04-d3c5-4e94-bdca-68e1e7ce5baf"
      },
      "outputs": [
        {
          "data": {
            "text/plain": [
              "[<matplotlib.lines.Line2D at 0x7f7e0a276990>]"
            ]
          },
          "execution_count": 10,
          "metadata": {},
          "output_type": "execute_result"
        },
        {
          "data": {
            "image/png": "[encoded data removed]",
            "text/plain": [
              "<Figure size 432x288 with 1 Axes>"
            ]
          },
          "metadata": {
            "needs_background": "light"
          },
          "output_type": "display_data"
        }
      ],
      "source": [
        "# Los datos de apertura y de cierre son muy parecidos\n",
        "%matplotlib inline\n",
        "plt.figure()\n",
        "plt.plot(googl_op)\n",
        "plt.plot(googl_cl)"
      ]
    },
    {
      "cell_type": "code",
      "execution_count": null,
      "metadata": {
        "colab": {
          "base_uri": "https://localhost:8080/",
          "height": 283
        },
        "id": "0WrUMu3Aa7Tr",
        "outputId": "704a4108-0e25-4125-94d3-a4edc401b68c"
      },
      "outputs": [
        {
          "data": {
            "text/plain": [
              "[<matplotlib.lines.Line2D at 0x7f7e0a1e3c10>]"
            ]
          },
          "execution_count": 11,
          "metadata": {},
          "output_type": "execute_result"
        },
        {
          "data": {
            "image/png": "[encoded data removed]",
            "text/plain": [
              "<Figure size 432x288 with 1 Axes>"
            ]
          },
          "metadata": {
            "needs_background": "light"
          },
          "output_type": "display_data"
        }
      ],
      "source": [
        "# Estas son las diferencias entre apertura y cierre\n",
        "%matplotlib inline\n",
        "plt.figure()\n",
        "plt.plot(googl_op-googl_cl)"
      ]
    },
    {
      "cell_type": "code",
      "execution_count": null,
      "metadata": {
        "id": "FKJrAyBapDoh"
      },
      "outputs": [],
      "source": [
        "# Nos quedamos con los valores de apertura de 10 días como entrada (x), \n",
        "# y con el valor de cierre de último día como salida (y)\n",
        "import numpy as np\n",
        "xx = googl_op.values[np.arange(0,2000,1)]\n",
        "yy = googl_cl.values[np.arange(0,2000,1)]\n",
        "                     \n",
        "X_train = np.reshape(xx,(200,10,1))\n",
        "y_train = yy[np.arange(9,2000,10)]\n",
        "                     \n",
        "xx = googl_op.values[np.arange(2000,3000,1)]\n",
        "yy = googl_cl.values[np.arange(2000,3000,1)]\n",
        "X_test = np.reshape(xx,(100,10,1))\n",
        "y_test = yy[np.arange(9,1000,10)]"
      ]
    },
    {
      "cell_type": "code",
      "execution_count": null,
      "metadata": {
        "colab": {
          "base_uri": "https://localhost:8080/"
        },
        "id": "eYMMzSaOdYfk",
        "outputId": "385e3bbc-5cc3-4549-d29b-34117bd74ad0"
      },
      "outputs": [
        {
          "data": {
            "text/plain": [
              "(200, 10, 1)"
            ]
          },
          "execution_count": 13,
          "metadata": {},
          "output_type": "execute_result"
        }
      ],
      "source": [
        "X_train.shape"
      ]
    },
    {
      "cell_type": "code",
      "execution_count": null,
      "metadata": {
        "colab": {
          "base_uri": "https://localhost:8080/"
        },
        "id": "G4VRoE8Iumj2",
        "outputId": "78448de9-f9f6-4c9a-a7ec-1f32168890b4"
      },
      "outputs": [
        {
          "data": {
            "text/plain": [
              "(200,)"
            ]
          },
          "execution_count": 14,
          "metadata": {},
          "output_type": "execute_result"
        }
      ],
      "source": [
        "y_train.shape"
      ]
    },
    {
      "cell_type": "markdown",
      "metadata": {
        "id": "OhgHFX9cRJHv"
      },
      "source": [
        "## MODELO\n",
        "\n",
        "Definimos un modelo de red neuronal"
      ]
    },
    {
      "cell_type": "code",
      "execution_count": null,
      "metadata": {
        "id": "9dgW3qLWveVH"
      },
      "outputs": [],
      "source": [
        "model = Sequential()\n",
        "model.add(LSTM(150, input_shape=(X_train.shape[1], X_train.shape[2]), return_sequences=True))\n",
        "model.add(LSTM(40, return_sequences=True)) # 50\n",
        "model.add(Dropout(0.2))\n",
        "model.add(LSTM(10))\n",
        "model.add(Dense(1))\n",
        "\n",
        "model.compile(optimizer = 'adam', loss= 'mae')"
      ]
    },
    {
      "cell_type": "code",
      "execution_count": null,
      "metadata": {
        "colab": {
          "base_uri": "https://localhost:8080/"
        },
        "id": "PSevl02cSDmi",
        "outputId": "56795815-3bd0-4fd3-8da0-91e1bcd37f2d"
      },
      "outputs": [
        {
          "name": "stdout",
          "output_type": "stream",
          "text": [
            "Model: \"sequential\"\n",
            "_________________________________________________________________\n",
            " Layer (type)                Output Shape              Param #   \n",
            "=================================================================\n",
            " lstm (LSTM)                 (None, 10, 150)           91200     \n",
            "                                                                 \n",
            " lstm_1 (LSTM)               (None, 10, 40)            30560     \n",
            "                                                                 \n",
            " dropout (Dropout)           (None, 10, 40)            0         \n",
            "                                                                 \n",
            " lstm_2 (LSTM)               (None, 10)                2040      \n",
            "                                                                 \n",
            " dense (Dense)               (None, 1)                 11        \n",
            "                                                                 \n",
            "=================================================================\n",
            "Total params: 123,811\n",
            "Trainable params: 123,811\n",
            "Non-trainable params: 0\n",
            "_________________________________________________________________\n"
          ]
        }
      ],
      "source": [
        "model.summary()"
      ]
    },
    {
      "cell_type": "code",
      "execution_count": null,
      "metadata": {
        "id": "-m45mugpvB2k"
      },
      "outputs": [],
      "source": [
        "model.fit(X_train, y_train, batch_size=32, epochs=1000, verbose=0)"
      ]
    },
    {
      "cell_type": "code",
      "execution_count": null,
      "metadata": {
        "colab": {
          "base_uri": "https://localhost:8080/"
        },
        "id": "MICaT444ivvY",
        "outputId": "c90e28c1-c8e9-4fda-f4b8-367006855ab8"
      },
      "outputs": [
        {
          "name": "stdout",
          "output_type": "stream",
          "text": [
            "7/7 [==============================] - 3s 11ms/step - loss: 149.7947\n",
            "4/4 [==============================] - 0s 8ms/step - loss: 470.8695\n",
            "MAE en el entrenamiento: 150.0\n",
            "MAE en el test: 471.0\n"
          ]
        }
      ],
      "source": [
        "# EVALUACION\n",
        "score_train = model.evaluate(X_train, y_train, batch_size=32)\n",
        "score_test = model.evaluate(X_test, y_test, batch_size=32)\n",
        "\n",
        "print('MAE en el entrenamiento:', np.round(score_train))\n",
        "print('MAE en el test:', np.round(score_test))"
      ]
    },
    {
      "cell_type": "code",
      "execution_count": null,
      "metadata": {
        "id": "e5z2rwdSyhDt"
      },
      "outputs": [],
      "source": [
        "# Predecir\n",
        "y_hat = model.predict(X_test)"
      ]
    },
    {
      "cell_type": "code",
      "execution_count": null,
      "metadata": {
        "colab": {
          "base_uri": "https://localhost:8080/",
          "height": 283
        },
        "id": "WGwDs5q8w1d9",
        "outputId": "c708470e-788c-43d6-c710-0c3f9066ec07"
      },
      "outputs": [
        {
          "data": {
            "text/plain": [
              "[<matplotlib.lines.Line2D at 0x7f7d9062d810>]"
            ]
          },
          "execution_count": 20,
          "metadata": {},
          "output_type": "execute_result"
        },
        {
          "data": {
            "image/png": "[encoded data removed]",
            "text/plain": [
              "<Figure size 432x288 with 1 Axes>"
            ]
          },
          "metadata": {
            "needs_background": "light"
          },
          "output_type": "display_data"
        }
      ],
      "source": [
        "%matplotlib inline\n",
        "plt.figure()\n",
        "plt.plot(y_test)\n",
        "plt.plot(y_hat)"
      ]
    }
  ],
  "metadata": {
    "accelerator": "GPU",
    "colab": {
      "collapsed_sections": [],
      "provenance": []
    },
    "kernelspec": {
      "display_name": "Python 3.8.2 64-bit",
      "language": "python",
      "name": "python3"
    },
    "language_info": {
      "name": "python",
      "version": "3.8.2"
    },
    "vscode": {
      "interpreter": {
        "hash": "31f2aee4e71d21fbe5cf8b01ff0e069b9275f58929596ceb00d14d90e3e16cd6"
      }
    }
  },
  "nbformat": 4,
  "nbformat_minor": 0
}
