{
  "nbformat": 4,
  "nbformat_minor": 0,
  "metadata": {
    "colab": {
      "provenance": [],
      "collapsed_sections": []
    },
    "kernelspec": {
      "name": "python3",
      "display_name": "Python 3"
    },
    "accelerator": "GPU"
  },
  "cells": [
    {
      "cell_type": "markdown",
      "source": [
        "# **PRÁCTICA 4:  Deep Learning - Parte 1: RNN**\n",
        "### Universitat de València, Escola Tecnica Superior d'Enginyeria\n",
        "### Elena Marrero Castellano | 4ª curso del Grado Ciencia de Datos\n"
      ],
      "metadata": {
        "id": "63K4N7Dc4_fr"
      }
    },
    {
      "cell_type": "markdown",
      "source": [
        "## **Ejercicio 3:  Crea, entrena y prueba un modelo que mezcle capas convolucionales y recurrentes y que no utilice capas densas. Da el valor de mae en entrenamiento y test.** "
      ],
      "metadata": {
        "id": "auGPNmG05LAy"
      }
    },
    {
      "cell_type": "markdown",
      "source": [
        "# Laboratorio\n",
        "\n",
        "Vamos a hacer predicción del valor de un activo financiero de una empresa a partir del valor de los días anteriores."
      ],
      "metadata": {
        "id": "mTver5RWpIFs"
      }
    },
    {
      "cell_type": "code",
      "source": [
        "# Importamos librerías\n",
        "from tensorflow.keras.models import Sequential\n",
        "from tensorflow.keras.layers import Dense, Conv1D, Flatten, LSTM, Dropout\n",
        "import numpy as np"
      ],
      "metadata": {
        "id": "079yMXRgoxM8"
      },
      "execution_count": null,
      "outputs": []
    },
    {
      "cell_type": "markdown",
      "metadata": {
        "id": "ndHK4OTtjVex"
      },
      "source": [
        "## Database\n",
        "Los datos se pueden descargar de aquí (aunque están en el aula virtual)\n",
        "\n",
        "https://www.kaggle.com/borismarjanovic/price-volume-data-for-all-us-stocks-etfs"
      ]
    },
    {
      "cell_type": "markdown",
      "metadata": {
        "id": "N7CdTSbKQkBy"
      },
      "source": [
        "## Veamos los datos\n"
      ]
    },
    {
      "cell_type": "code",
      "metadata": {
        "id": "xbzWW9BkQjXa"
      },
      "source": [
        "# Usamos Pandas para leerlos y mirarlos un poco\n",
        "import pandas as pd\n",
        "dataset = pd.read_csv(\"googl.us.txt\", delimiter=\",\")"
      ],
      "execution_count": null,
      "outputs": []
    },
    {
      "cell_type": "code",
      "metadata": {
        "id": "wCeuECbtOxoh",
        "colab": {
          "base_uri": "https://localhost:8080/",
          "height": 423
        },
        "outputId": "04574e60-7c23-47d7-da72-1f5ffc980968"
      },
      "source": [
        "# El dataset tiene 5 características por dia\n",
        "dataset"
      ],
      "execution_count": null,
      "outputs": [
        {
          "output_type": "execute_result",
          "data": {
            "text/plain": [
              "            Date      Open     High       Low     Close    Volume  OpenInt\n",
              "0     2004-08-19    50.000    52.03    47.980    50.170  44703800        0\n",
              "1     2004-08-20    50.505    54.54    50.250    54.155  22857200        0\n",
              "2     2004-08-23    55.375    56.74    54.525    54.700  18274400        0\n",
              "3     2004-08-24    55.620    55.80    51.785    52.435  15262600        0\n",
              "4     2004-08-25    52.480    54.00    51.940    53.000   9197800        0\n",
              "...          ...       ...      ...       ...       ...       ...      ...\n",
              "3328  2017-11-06  1049.100  1052.59  1042.000  1042.680    913954        0\n",
              "3329  2017-11-07  1049.650  1053.41  1043.000  1052.390   1303832        0\n",
              "3330  2017-11-08  1050.050  1062.69  1047.050  1058.290   1214469        0\n",
              "3331  2017-11-09  1048.000  1050.88  1035.850  1047.720   1793994        0\n",
              "3332  2017-11-10  1043.870  1046.63  1041.220  1044.150    970498        0\n",
              "\n",
              "[3333 rows x 7 columns]"
            ],
            "text/html": [
              "\n",
              "  <div id=\"df-1d3689fd-31c2-4c21-a36d-98502aa391a8\">\n",
              "    <div class=\"colab-df-container\">\n",
              "      <div>\n",
              "<style scoped>\n",
              "    .dataframe tbody tr th:only-of-type {\n",
              "        vertical-align: middle;\n",
              "    }\n",
              "\n",
              "    .dataframe tbody tr th {\n",
              "        vertical-align: top;\n",
              "    }\n",
              "\n",
              "    .dataframe thead th {\n",
              "        text-align: right;\n",
              "    }\n",
              "</style>\n",
              "<table border=\"1\" class=\"dataframe\">\n",
              "  <thead>\n",
              "    <tr style=\"text-align: right;\">\n",
              "      <th></th>\n",
              "      <th>Date</th>\n",
              "      <th>Open</th>\n",
              "      <th>High</th>\n",
              "      <th>Low</th>\n",
              "      <th>Close</th>\n",
              "      <th>Volume</th>\n",
              "      <th>OpenInt</th>\n",
              "    </tr>\n",
              "  </thead>\n",
              "  <tbody>\n",
              "    <tr>\n",
              "      <th>0</th>\n",
              "      <td>2004-08-19</td>\n",
              "      <td>50.000</td>\n",
              "      <td>52.03</td>\n",
              "      <td>47.980</td>\n",
              "      <td>50.170</td>\n",
              "      <td>44703800</td>\n",
              "      <td>0</td>\n",
              "    </tr>\n",
              "    <tr>\n",
              "      <th>1</th>\n",
              "      <td>2004-08-20</td>\n",
              "      <td>50.505</td>\n",
              "      <td>54.54</td>\n",
              "      <td>50.250</td>\n",
              "      <td>54.155</td>\n",
              "      <td>22857200</td>\n",
              "      <td>0</td>\n",
              "    </tr>\n",
              "    <tr>\n",
              "      <th>2</th>\n",
              "      <td>2004-08-23</td>\n",
              "      <td>55.375</td>\n",
              "      <td>56.74</td>\n",
              "      <td>54.525</td>\n",
              "      <td>54.700</td>\n",
              "      <td>18274400</td>\n",
              "      <td>0</td>\n",
              "    </tr>\n",
              "    <tr>\n",
              "      <th>3</th>\n",
              "      <td>2004-08-24</td>\n",
              "      <td>55.620</td>\n",
              "      <td>55.80</td>\n",
              "      <td>51.785</td>\n",
              "      <td>52.435</td>\n",
              "      <td>15262600</td>\n",
              "      <td>0</td>\n",
              "    </tr>\n",
              "    <tr>\n",
              "      <th>4</th>\n",
              "      <td>2004-08-25</td>\n",
              "      <td>52.480</td>\n",
              "      <td>54.00</td>\n",
              "      <td>51.940</td>\n",
              "      <td>53.000</td>\n",
              "      <td>9197800</td>\n",
              "      <td>0</td>\n",
              "    </tr>\n",
              "    <tr>\n",
              "      <th>...</th>\n",
              "      <td>...</td>\n",
              "      <td>...</td>\n",
              "      <td>...</td>\n",
              "      <td>...</td>\n",
              "      <td>...</td>\n",
              "      <td>...</td>\n",
              "      <td>...</td>\n",
              "    </tr>\n",
              "    <tr>\n",
              "      <th>3328</th>\n",
              "      <td>2017-11-06</td>\n",
              "      <td>1049.100</td>\n",
              "      <td>1052.59</td>\n",
              "      <td>1042.000</td>\n",
              "      <td>1042.680</td>\n",
              "      <td>913954</td>\n",
              "      <td>0</td>\n",
              "    </tr>\n",
              "    <tr>\n",
              "      <th>3329</th>\n",
              "      <td>2017-11-07</td>\n",
              "      <td>1049.650</td>\n",
              "      <td>1053.41</td>\n",
              "      <td>1043.000</td>\n",
              "      <td>1052.390</td>\n",
              "      <td>1303832</td>\n",
              "      <td>0</td>\n",
              "    </tr>\n",
              "    <tr>\n",
              "      <th>3330</th>\n",
              "      <td>2017-11-08</td>\n",
              "      <td>1050.050</td>\n",
              "      <td>1062.69</td>\n",
              "      <td>1047.050</td>\n",
              "      <td>1058.290</td>\n",
              "      <td>1214469</td>\n",
              "      <td>0</td>\n",
              "    </tr>\n",
              "    <tr>\n",
              "      <th>3331</th>\n",
              "      <td>2017-11-09</td>\n",
              "      <td>1048.000</td>\n",
              "      <td>1050.88</td>\n",
              "      <td>1035.850</td>\n",
              "      <td>1047.720</td>\n",
              "      <td>1793994</td>\n",
              "      <td>0</td>\n",
              "    </tr>\n",
              "    <tr>\n",
              "      <th>3332</th>\n",
              "      <td>2017-11-10</td>\n",
              "      <td>1043.870</td>\n",
              "      <td>1046.63</td>\n",
              "      <td>1041.220</td>\n",
              "      <td>1044.150</td>\n",
              "      <td>970498</td>\n",
              "      <td>0</td>\n",
              "    </tr>\n",
              "  </tbody>\n",
              "</table>\n",
              "<p>3333 rows × 7 columns</p>\n",
              "</div>\n",
              "      <button class=\"colab-df-convert\" onclick=\"convertToInteractive('df-1d3689fd-31c2-4c21-a36d-98502aa391a8')\"\n",
              "              title=\"Convert this dataframe to an interactive table.\"\n",
              "              style=\"display:none;\">\n",
              "        \n",
              "  <svg xmlns=\"http://www.w3.org/2000/svg\" height=\"24px\"viewBox=\"0 0 24 24\"\n",
              "       width=\"24px\">\n",
              "    <path d=\"M0 0h24v24H0V0z\" fill=\"none\"/>\n",
              "    <path d=\"M18.56 5.44l.94 2.06.94-2.06 2.06-.94-2.06-.94-.94-2.06-.94 2.06-2.06.94zm-11 1L8.5 8.5l.94-2.06 2.06-.94-2.06-.94L8.5 2.5l-.94 2.06-2.06.94zm10 10l.94 2.06.94-2.06 2.06-.94-2.06-.94-.94-2.06-.94 2.06-2.06.94z\"/><path d=\"M17.41 7.96l-1.37-1.37c-.4-.4-.92-.59-1.43-.59-.52 0-1.04.2-1.43.59L10.3 9.45l-7.72 7.72c-.78.78-.78 2.05 0 2.83L4 21.41c.39.39.9.59 1.41.59.51 0 1.02-.2 1.41-.59l7.78-7.78 2.81-2.81c.8-.78.8-2.07 0-2.86zM5.41 20L4 18.59l7.72-7.72 1.47 1.35L5.41 20z\"/>\n",
              "  </svg>\n",
              "      </button>\n",
              "      \n",
              "  <style>\n",
              "    .colab-df-container {\n",
              "      display:flex;\n",
              "      flex-wrap:wrap;\n",
              "      gap: 12px;\n",
              "    }\n",
              "\n",
              "    .colab-df-convert {\n",
              "      background-color: #E8F0FE;\n",
              "      border: none;\n",
              "      border-radius: 50%;\n",
              "      cursor: pointer;\n",
              "      display: none;\n",
              "      fill: #1967D2;\n",
              "      height: 32px;\n",
              "      padding: 0 0 0 0;\n",
              "      width: 32px;\n",
              "    }\n",
              "\n",
              "    .colab-df-convert:hover {\n",
              "      background-color: #E2EBFA;\n",
              "      box-shadow: 0px 1px 2px rgba(60, 64, 67, 0.3), 0px 1px 3px 1px rgba(60, 64, 67, 0.15);\n",
              "      fill: #174EA6;\n",
              "    }\n",
              "\n",
              "    [theme=dark] .colab-df-convert {\n",
              "      background-color: #3B4455;\n",
              "      fill: #D2E3FC;\n",
              "    }\n",
              "\n",
              "    [theme=dark] .colab-df-convert:hover {\n",
              "      background-color: #434B5C;\n",
              "      box-shadow: 0px 1px 3px 1px rgba(0, 0, 0, 0.15);\n",
              "      filter: drop-shadow(0px 1px 2px rgba(0, 0, 0, 0.3));\n",
              "      fill: #FFFFFF;\n",
              "    }\n",
              "  </style>\n",
              "\n",
              "      <script>\n",
              "        const buttonEl =\n",
              "          document.querySelector('#df-1d3689fd-31c2-4c21-a36d-98502aa391a8 button.colab-df-convert');\n",
              "        buttonEl.style.display =\n",
              "          google.colab.kernel.accessAllowed ? 'block' : 'none';\n",
              "\n",
              "        async function convertToInteractive(key) {\n",
              "          const element = document.querySelector('#df-1d3689fd-31c2-4c21-a36d-98502aa391a8');\n",
              "          const dataTable =\n",
              "            await google.colab.kernel.invokeFunction('convertToInteractive',\n",
              "                                                     [key], {});\n",
              "          if (!dataTable) return;\n",
              "\n",
              "          const docLinkHtml = 'Like what you see? Visit the ' +\n",
              "            '<a target=\"_blank\" href=https://colab.research.google.com/notebooks/data_table.ipynb>data table notebook</a>'\n",
              "            + ' to learn more about interactive tables.';\n",
              "          element.innerHTML = '';\n",
              "          dataTable['output_type'] = 'display_data';\n",
              "          await google.colab.output.renderOutput(dataTable, element);\n",
              "          const docLink = document.createElement('div');\n",
              "          docLink.innerHTML = docLinkHtml;\n",
              "          element.appendChild(docLink);\n",
              "        }\n",
              "      </script>\n",
              "    </div>\n",
              "  </div>\n",
              "  "
            ]
          },
          "metadata": {},
          "execution_count": 4
        }
      ]
    },
    {
      "cell_type": "code",
      "metadata": {
        "id": "c1CchphhPWTG",
        "colab": {
          "base_uri": "https://localhost:8080/"
        },
        "outputId": "97e63c92-37a5-4b36-c9a6-9e41cd78a3e0"
      },
      "source": [
        "# Valores de apertura de cada día\n",
        "dataset['Open']"
      ],
      "execution_count": null,
      "outputs": [
        {
          "output_type": "execute_result",
          "data": {
            "text/plain": [
              "0         50.000\n",
              "1         50.505\n",
              "2         55.375\n",
              "3         55.620\n",
              "4         52.480\n",
              "          ...   \n",
              "3328    1049.100\n",
              "3329    1049.650\n",
              "3330    1050.050\n",
              "3331    1048.000\n",
              "3332    1043.870\n",
              "Name: Open, Length: 3333, dtype: float64"
            ]
          },
          "metadata": {},
          "execution_count": 5
        }
      ]
    },
    {
      "cell_type": "code",
      "metadata": {
        "id": "P86GSpRlkRRI",
        "colab": {
          "base_uri": "https://localhost:8080/"
        },
        "outputId": "c5a1ee8a-deea-4722-d9e8-a19aa23c7a8e"
      },
      "source": [
        "aa = dataset['Open']\n",
        "aa.shape"
      ],
      "execution_count": null,
      "outputs": [
        {
          "output_type": "execute_result",
          "data": {
            "text/plain": [
              "(3333,)"
            ]
          },
          "metadata": {},
          "execution_count": 6
        }
      ]
    },
    {
      "cell_type": "code",
      "metadata": {
        "id": "x72djQQvk27Y",
        "colab": {
          "base_uri": "https://localhost:8080/",
          "height": 283
        },
        "outputId": "319641c0-2a4d-4ee5-cd77-9283f965080d"
      },
      "source": [
        "# Visualizamos los valores de apertura\n",
        "import matplotlib.pyplot as plt\n",
        "%matplotlib inline\n",
        "plt.figure()\n",
        "plt.plot(aa)"
      ],
      "execution_count": null,
      "outputs": [
        {
          "output_type": "execute_result",
          "data": {
            "text/plain": [
              "[<matplotlib.lines.Line2D at 0x7f78dd959190>]"
            ]
          },
          "metadata": {},
          "execution_count": 7
        },
        {
          "output_type": "display_data",
          "data": {
            "text/plain": [
              "<Figure size 432x288 with 1 Axes>"
            ],
            "image/png": "[encoded data removed]"
          },
          "metadata": {
            "needs_background": "light"
          }
        }
      ]
    },
    {
      "cell_type": "code",
      "metadata": {
        "id": "xjvkXOHqmIWM",
        "colab": {
          "base_uri": "https://localhost:8080/",
          "height": 311
        },
        "outputId": "fdd2205e-0825-43a7-fffe-8e3261965546"
      },
      "source": [
        "# Podemos visualizar las 5 características a la vez\n",
        "%matplotlib inline\n",
        "plt.figure()\n",
        "dataset.plot()"
      ],
      "execution_count": null,
      "outputs": [
        {
          "output_type": "execute_result",
          "data": {
            "text/plain": [
              "<matplotlib.axes._subplots.AxesSubplot at 0x7f785a22dd90>"
            ]
          },
          "metadata": {},
          "execution_count": 8
        },
        {
          "output_type": "display_data",
          "data": {
            "text/plain": [
              "<Figure size 432x288 with 0 Axes>"
            ]
          },
          "metadata": {}
        },
        {
          "output_type": "display_data",
          "data": {
            "text/plain": [
              "<Figure size 432x288 with 1 Axes>"
            ],
            "image/png": "[encoded data removed]"
          },
          "metadata": {
            "needs_background": "light"
          }
        }
      ]
    },
    {
      "cell_type": "code",
      "metadata": {
        "id": "CPSWzZMfoyss"
      },
      "source": [
        "# Cogemos los datos de apertura y de cierre\n",
        "googl_op = dataset['Open']\n",
        "googl_cl = dataset['Close']"
      ],
      "execution_count": null,
      "outputs": []
    },
    {
      "cell_type": "code",
      "metadata": {
        "id": "U9Lgabvuo3K6",
        "colab": {
          "base_uri": "https://localhost:8080/",
          "height": 283
        },
        "outputId": "03ee8fe3-4a98-4ec0-efc5-045bc382223b"
      },
      "source": [
        "# Los datos de apertura y de cierre son muy parecidos\n",
        "%matplotlib inline\n",
        "plt.figure()\n",
        "plt.plot(googl_op)\n",
        "plt.plot(googl_cl)"
      ],
      "execution_count": null,
      "outputs": [
        {
          "output_type": "execute_result",
          "data": {
            "text/plain": [
              "[<matplotlib.lines.Line2D at 0x7f785a13fa10>]"
            ]
          },
          "metadata": {},
          "execution_count": 10
        },
        {
          "output_type": "display_data",
          "data": {
            "text/plain": [
              "<Figure size 432x288 with 1 Axes>"
            ],
            "image/png": "[encoded data removed]"
          },
          "metadata": {
            "needs_background": "light"
          }
        }
      ]
    },
    {
      "cell_type": "code",
      "metadata": {
        "id": "0WrUMu3Aa7Tr",
        "colab": {
          "base_uri": "https://localhost:8080/",
          "height": 283
        },
        "outputId": "4dc097fa-366c-49e9-cec1-199a887bf546"
      },
      "source": [
        "# Estas son las diferencias entre apertura y cierre\n",
        "%matplotlib inline\n",
        "plt.figure()\n",
        "plt.plot(googl_op-googl_cl)"
      ],
      "execution_count": null,
      "outputs": [
        {
          "output_type": "execute_result",
          "data": {
            "text/plain": [
              "[<matplotlib.lines.Line2D at 0x7f785a0a9c10>]"
            ]
          },
          "metadata": {},
          "execution_count": 11
        },
        {
          "output_type": "display_data",
          "data": {
            "text/plain": [
              "<Figure size 432x288 with 1 Axes>"
            ],
            "image/png": "[encoded data removed]"
          },
          "metadata": {
            "needs_background": "light"
          }
        }
      ]
    },
    {
      "cell_type": "code",
      "metadata": {
        "id": "FKJrAyBapDoh"
      },
      "source": [
        "# Nos quedamos con los valores de apertura de 10 días como entrada (x), \n",
        "# y con el valor de cierre de último día como salida (y)\n",
        "import numpy as np\n",
        "xx = googl_op.values[np.arange(0,2000,1)]\n",
        "yy = googl_cl.values[np.arange(0,2000,1)]\n",
        "                     \n",
        "X_train = np.reshape(xx,(200,10,1))\n",
        "y_train = yy[np.arange(9,2000,10)]\n",
        "                     \n",
        "xx = googl_op.values[np.arange(2000,3000,1)]\n",
        "yy = googl_cl.values[np.arange(2000,3000,1)]\n",
        "X_test = np.reshape(xx,(100,10,1))\n",
        "y_test = yy[np.arange(9,1000,10)]"
      ],
      "execution_count": null,
      "outputs": []
    },
    {
      "cell_type": "code",
      "metadata": {
        "id": "eYMMzSaOdYfk",
        "colab": {
          "base_uri": "https://localhost:8080/"
        },
        "outputId": "d426f208-0390-40c5-92fc-f0f274319d79"
      },
      "source": [
        "X_train.shape"
      ],
      "execution_count": null,
      "outputs": [
        {
          "output_type": "execute_result",
          "data": {
            "text/plain": [
              "(200, 10, 1)"
            ]
          },
          "metadata": {},
          "execution_count": 13
        }
      ]
    },
    {
      "cell_type": "code",
      "metadata": {
        "colab": {
          "base_uri": "https://localhost:8080/"
        },
        "id": "G4VRoE8Iumj2",
        "outputId": "29da3f0d-a876-46b9-abb5-33ab5516548e"
      },
      "source": [
        "y_train.shape"
      ],
      "execution_count": null,
      "outputs": [
        {
          "output_type": "execute_result",
          "data": {
            "text/plain": [
              "(200,)"
            ]
          },
          "metadata": {},
          "execution_count": 14
        }
      ]
    },
    {
      "cell_type": "markdown",
      "metadata": {
        "id": "OhgHFX9cRJHv"
      },
      "source": [
        "## MODELO\n",
        "\n",
        "Definimos un modelo de red neuronal"
      ]
    },
    {
      "cell_type": "code",
      "metadata": {
        "id": "9dgW3qLWveVH"
      },
      "source": [
        "model = Sequential()\n",
        "model.add(LSTM(10, input_shape=(X_train.shape[1], X_train.shape[2]), return_sequences=True))\n",
        "model.add(Conv1D(10, 3, input_shape=(X_train.shape[1], X_train.shape[2])))\n",
        "model.add(LSTM(10, input_shape=(X_train.shape[1], X_train.shape[2]), return_sequences=True))\n",
        "model.add(Conv1D(15, 3, input_shape=(X_train.shape[1], X_train.shape[2])))\n",
        "model.add(Flatten())\n",
        "model.compile(optimizer = 'adam', loss= 'mae')"
      ],
      "execution_count": null,
      "outputs": []
    },
    {
      "cell_type": "code",
      "metadata": {
        "id": "PSevl02cSDmi",
        "colab": {
          "base_uri": "https://localhost:8080/"
        },
        "outputId": "fa35e7e6-a6b2-4a01-a2f2-ad9046cafb1b"
      },
      "source": [
        "model.summary()"
      ],
      "execution_count": null,
      "outputs": [
        {
          "output_type": "stream",
          "name": "stdout",
          "text": [
            "Model: \"sequential\"\n",
            "_________________________________________________________________\n",
            " Layer (type)                Output Shape              Param #   \n",
            "=================================================================\n",
            " lstm (LSTM)                 (None, 10, 10)            480       \n",
            "                                                                 \n",
            " conv1d (Conv1D)             (None, 8, 10)             310       \n",
            "                                                                 \n",
            " lstm_1 (LSTM)               (None, 8, 10)             840       \n",
            "                                                                 \n",
            " conv1d_1 (Conv1D)           (None, 6, 15)             465       \n",
            "                                                                 \n",
            " flatten (Flatten)           (None, 90)                0         \n",
            "                                                                 \n",
            "=================================================================\n",
            "Total params: 2,095\n",
            "Trainable params: 2,095\n",
            "Non-trainable params: 0\n",
            "_________________________________________________________________\n"
          ]
        }
      ]
    },
    {
      "cell_type": "code",
      "metadata": {
        "id": "-m45mugpvB2k"
      },
      "source": [
        "model.fit(X_train, y_train, batch_size=32, epochs=1000, verbose=0)"
      ],
      "execution_count": null,
      "outputs": []
    },
    {
      "cell_type": "code",
      "metadata": {
        "id": "MICaT444ivvY",
        "colab": {
          "base_uri": "https://localhost:8080/"
        },
        "outputId": "5f4ff601-434d-48d1-873f-daaa9dffe687"
      },
      "source": [
        "# EVALUACION\n",
        "score_train = model.evaluate(X_train, y_train, batch_size=32)\n",
        "score_test = model.evaluate(X_test, y_test, batch_size=32)\n",
        "\n",
        "print('MAE en el entrenamiento:', np.round(score_train))\n",
        "print('MAE en el test:', np.round(score_test))"
      ],
      "execution_count": null,
      "outputs": [
        {
          "output_type": "stream",
          "name": "stdout",
          "text": [
            "7/7 [==============================] - 1s 4ms/step - loss: 50.4350\n",
            "4/4 [==============================] - 0s 12ms/step - loss: 352.5058\n",
            "MAE en el entrenamiento: 50.0\n",
            "MAE en el test: 353.0\n"
          ]
        }
      ]
    },
    {
      "cell_type": "code",
      "metadata": {
        "id": "e5z2rwdSyhDt"
      },
      "source": [
        "# Predecir\n",
        "y_hat = model.predict(X_test)"
      ],
      "execution_count": null,
      "outputs": []
    },
    {
      "cell_type": "code",
      "metadata": {
        "colab": {
          "base_uri": "https://localhost:8080/",
          "height": 1000
        },
        "id": "WGwDs5q8w1d9",
        "outputId": "c83582f0-f47f-41af-87ea-5a084955f5c9"
      },
      "source": [
        "%matplotlib inline\n",
        "plt.figure()\n",
        "plt.plot(y_test)\n",
        "plt.plot(y_hat)"
      ],
      "execution_count": null,
      "outputs": [
        {
          "output_type": "execute_result",
          "data": {
            "text/plain": [
              "[<matplotlib.lines.Line2D at 0x7f77d53c6710>,\n",
              " <matplotlib.lines.Line2D at 0x7f77d53c6910>,\n",
              " <matplotlib.lines.Line2D at 0x7f77d53c6ad0>,\n",
              " <matplotlib.lines.Line2D at 0x7f77d53c6c90>,\n",
              " <matplotlib.lines.Line2D at 0x7f77d53c6e90>,\n",
              " <matplotlib.lines.Line2D at 0x7f77d53cc090>,\n",
              " <matplotlib.lines.Line2D at 0x7f77d53cc290>,\n",
              " <matplotlib.lines.Line2D at 0x7f77d53c6c50>,\n",
              " <matplotlib.lines.Line2D at 0x7f77d53cc5d0>,\n",
              " <matplotlib.lines.Line2D at 0x7f77d53c6150>,\n",
              " <matplotlib.lines.Line2D at 0x7f77d53cc8d0>,\n",
              " <matplotlib.lines.Line2D at 0x7f77d53cca90>,\n",
              " <matplotlib.lines.Line2D at 0x7f77d53ccc50>,\n",
              " <matplotlib.lines.Line2D at 0x7f77d53cce10>,\n",
              " <matplotlib.lines.Line2D at 0x7f77d53ccfd0>,\n",
              " <matplotlib.lines.Line2D at 0x7f77d53d21d0>,\n",
              " <matplotlib.lines.Line2D at 0x7f77d53d2390>,\n",
              " <matplotlib.lines.Line2D at 0x7f77d53d2550>,\n",
              " <matplotlib.lines.Line2D at 0x7f77d53d2710>,\n",
              " <matplotlib.lines.Line2D at 0x7f77d53d28d0>,\n",
              " <matplotlib.lines.Line2D at 0x7f77d53d2a90>,\n",
              " <matplotlib.lines.Line2D at 0x7f77d53d2c50>,\n",
              " <matplotlib.lines.Line2D at 0x7f77d53d2e10>,\n",
              " <matplotlib.lines.Line2D at 0x7f77d53d2fd0>,\n",
              " <matplotlib.lines.Line2D at 0x7f77d53d51d0>,\n",
              " <matplotlib.lines.Line2D at 0x7f77d53d5390>,\n",
              " <matplotlib.lines.Line2D at 0x7f77d53d5550>,\n",
              " <matplotlib.lines.Line2D at 0x7f77d53d5710>,\n",
              " <matplotlib.lines.Line2D at 0x7f77d53d58d0>,\n",
              " <matplotlib.lines.Line2D at 0x7f77d53d5a90>,\n",
              " <matplotlib.lines.Line2D at 0x7f77d53d5c50>,\n",
              " <matplotlib.lines.Line2D at 0x7f77d53d5e10>,\n",
              " <matplotlib.lines.Line2D at 0x7f77d53d5fd0>,\n",
              " <matplotlib.lines.Line2D at 0x7f77d53da1d0>,\n",
              " <matplotlib.lines.Line2D at 0x7f77d53da390>,\n",
              " <matplotlib.lines.Line2D at 0x7f77d53da550>,\n",
              " <matplotlib.lines.Line2D at 0x7f77d53da710>,\n",
              " <matplotlib.lines.Line2D at 0x7f77d53da8d0>,\n",
              " <matplotlib.lines.Line2D at 0x7f77d53daa90>,\n",
              " <matplotlib.lines.Line2D at 0x7f77d53dac50>,\n",
              " <matplotlib.lines.Line2D at 0x7f77d53dae10>,\n",
              " <matplotlib.lines.Line2D at 0x7f77d53dafd0>,\n",
              " <matplotlib.lines.Line2D at 0x7f77d53dd1d0>,\n",
              " <matplotlib.lines.Line2D at 0x7f77d53dd390>,\n",
              " <matplotlib.lines.Line2D at 0x7f77d53dd550>,\n",
              " <matplotlib.lines.Line2D at 0x7f77d53dd710>,\n",
              " <matplotlib.lines.Line2D at 0x7f77d53dd8d0>,\n",
              " <matplotlib.lines.Line2D at 0x7f77d53dda90>,\n",
              " <matplotlib.lines.Line2D at 0x7f77d53ddc50>,\n",
              " <matplotlib.lines.Line2D at 0x7f77d53dde10>,\n",
              " <matplotlib.lines.Line2D at 0x7f77d53ddfd0>,\n",
              " <matplotlib.lines.Line2D at 0x7f77d53e21d0>,\n",
              " <matplotlib.lines.Line2D at 0x7f77d53e2390>,\n",
              " <matplotlib.lines.Line2D at 0x7f77d53e2550>,\n",
              " <matplotlib.lines.Line2D at 0x7f77d53e2710>,\n",
              " <matplotlib.lines.Line2D at 0x7f77d53e28d0>,\n",
              " <matplotlib.lines.Line2D at 0x7f77d53e2a90>,\n",
              " <matplotlib.lines.Line2D at 0x7f77d53e2c50>,\n",
              " <matplotlib.lines.Line2D at 0x7f77d53e2e10>,\n",
              " <matplotlib.lines.Line2D at 0x7f77d53e2fd0>,\n",
              " <matplotlib.lines.Line2D at 0x7f77d53e51d0>,\n",
              " <matplotlib.lines.Line2D at 0x7f77d53e5390>,\n",
              " <matplotlib.lines.Line2D at 0x7f77d53e5550>,\n",
              " <matplotlib.lines.Line2D at 0x7f77d53e5710>,\n",
              " <matplotlib.lines.Line2D at 0x7f77d53e58d0>,\n",
              " <matplotlib.lines.Line2D at 0x7f77d53e5a90>,\n",
              " <matplotlib.lines.Line2D at 0x7f77d53e5c50>,\n",
              " <matplotlib.lines.Line2D at 0x7f77d53e5e10>,\n",
              " <matplotlib.lines.Line2D at 0x7f77d53e5fd0>,\n",
              " <matplotlib.lines.Line2D at 0x7f77d53eb1d0>,\n",
              " <matplotlib.lines.Line2D at 0x7f77d53eb390>,\n",
              " <matplotlib.lines.Line2D at 0x7f77d53eb550>,\n",
              " <matplotlib.lines.Line2D at 0x7f77d53eb710>,\n",
              " <matplotlib.lines.Line2D at 0x7f77d53eb8d0>,\n",
              " <matplotlib.lines.Line2D at 0x7f77d53eba90>,\n",
              " <matplotlib.lines.Line2D at 0x7f77d53ebc50>,\n",
              " <matplotlib.lines.Line2D at 0x7f77d53ebe10>,\n",
              " <matplotlib.lines.Line2D at 0x7f77d53ebfd0>,\n",
              " <matplotlib.lines.Line2D at 0x7f77d53ef1d0>,\n",
              " <matplotlib.lines.Line2D at 0x7f77d53ef390>,\n",
              " <matplotlib.lines.Line2D at 0x7f77d53ef550>,\n",
              " <matplotlib.lines.Line2D at 0x7f77d53ef710>,\n",
              " <matplotlib.lines.Line2D at 0x7f77d53ef8d0>,\n",
              " <matplotlib.lines.Line2D at 0x7f77d53efa90>,\n",
              " <matplotlib.lines.Line2D at 0x7f77d53efc50>,\n",
              " <matplotlib.lines.Line2D at 0x7f77d53efe10>,\n",
              " <matplotlib.lines.Line2D at 0x7f77d53effd0>,\n",
              " <matplotlib.lines.Line2D at 0x7f77d53f21d0>,\n",
              " <matplotlib.lines.Line2D at 0x7f77d53f2390>,\n",
              " <matplotlib.lines.Line2D at 0x7f77d53f2550>]"
            ]
          },
          "metadata": {},
          "execution_count": 20
        },
        {
          "output_type": "display_data",
          "data": {
            "text/plain": [
              "<Figure size 432x288 with 1 Axes>"
            ],
            "image/png": "[encoded data removed]"
          },
          "metadata": {
            "needs_background": "light"
          }
        }
      ]
    }
  ]
}