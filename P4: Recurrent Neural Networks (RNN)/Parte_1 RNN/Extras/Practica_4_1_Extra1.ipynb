{
  "nbformat": 4,
  "nbformat_minor": 0,
  "metadata": {
    "colab": {
      "provenance": [],
      "collapsed_sections": []
    },
    "kernelspec": {
      "name": "python3",
      "display_name": "Python 3"
    },
    "accelerator": "GPU"
  },
  "cells": [
    {
      "cell_type": "markdown",
      "source": [
        "# **PRÁCTICA 4:  Deep Learning - Parte 1: RNN**\n",
        "### Universitat de València, Escola Tecnica Superior d'Enginyeria\n",
        "### Elena Marrero Castellano | 4ª curso del Grado Ciencia de Datos\n"
      ],
      "metadata": {
        "id": "63K4N7Dc4_fr"
      }
    },
    {
      "cell_type": "markdown",
      "source": [
        "**Contexto**\n",
        "\n",
        "Los datos financieros de alta calidad son costosos de adquirir y, por lo tanto, rara vez se comparten de forma gratuita. Aquí proporciono los datos históricos completos de precios y volúmenes diarios para todas las acciones y ETF de EE. UU. que se negocian en NYSE, NASDAQ y NYSE MKT. Es uno de los mejores conjuntos de datos de este tipo que puede obtener.\n",
        "\n",
        "**Contenido**\n",
        "\n",
        "Los datos (última actualización 10/11/2017) se presentan en formato CSV de la siguiente manera: Fecha, Apertura, Máximo, Mínimo, Cierre, Volumen, IntAbierto. Tenga en cuenta que los precios se han ajustado por dividendos y splits.\n",
        "\n",
        "**Agradecimientos**\n",
        "\n",
        "Este conjunto de datos me pertenece. Lo comparto aquí gratis. Puedes hacer con él lo que quieras.\n",
        "\n",
        "**Inspiración**\n",
        "\n",
        "Muchos han intentado, pero la mayoría ha fallado, predecir los altibajos del mercado de valores. ¿Puedes hacerlo mejor?\n",
        "\n"
      ],
      "metadata": {
        "id": "JYGRRVzNTT4g"
      }
    },
    {
      "cell_type": "markdown",
      "source": [
        "## Importar bibliotecas\n",
        "\n",
        "El primer paso, como siempre, es importar las bibliotecas requeridas. Ejecute el siguiente script para hacerlo:\n",
        "Vamos a hacer predicción del valor de un activo financiero de una empresa a partir del valor de los días anteriores."
      ],
      "metadata": {
        "id": "mTver5RWpIFs"
      }
    },
    {
      "cell_type": "code",
      "source": [
        "# Importamos librerías\n",
        "from tensorflow.keras.models import Sequential\n",
        "from tensorflow.keras.layers import Dense, Conv1D, Flatten, LSTM, Dropout\n",
        "import numpy as np\n",
        "import matplotlib.pyplot as plt\n",
        "import pandas as pd"
      ],
      "metadata": {
        "id": "079yMXRgoxM8"
      },
      "execution_count": null,
      "outputs": []
    },
    {
      "cell_type": "markdown",
      "metadata": {
        "id": "N7CdTSbKQkBy"
      },
      "source": [
        "## Importar conjunto de datos\n"
      ]
    },
    {
      "cell_type": "markdown",
      "source": [
        "Los datos que vamos a utilizar para esta práctica se pueden descargar de https://www.kaggle.com/borismarjanovic/price-volume-data-for-all-us-stocks-etfs. Para entrenar nuestro algoritmo, usaremos los precios de las acciones de Apple desde el 1 de enero de 2013 hasta el 31 de diciembre de 2017. En aras de la predicción, usaremos los precios de las acciones de Apple para el mes de enero de 2018. Entonces, para evaluar el desempeño de el algoritmo, descargue también los precios reales de las acciones para el mes de enero de 2018."
      ],
      "metadata": {
        "id": "sI_gh4LO6-fx"
      }
    },
    {
      "cell_type": "code",
      "metadata": {
        "id": "xbzWW9BkQjXa"
      },
      "source": [
        "# Usamos Pandas para leerlos y mirarlos un poco\n",
        "dataset = pd.read_csv(\"googl.us.txt\", delimiter=\",\")"
      ],
      "execution_count": null,
      "outputs": []
    },
    {
      "cell_type": "markdown",
      "source": [
        "Veamos ahora cómo se ven nuestros datos. Abra el archivo de capacitación de precios de acciones de Apple que contiene datos de cinco años. Verá que contiene siete columnas: Fecha, Apertura, Máximo, Mínimo, Cierre, Ajuste de cierre y Volumen. Estaremos pronosticando el precio de apertura de las acciones, por lo tanto, no estamos interesados ​​en el resto de las columnas."
      ],
      "metadata": {
        "id": "hPUUbBfO7gPk"
      }
    },
    {
      "cell_type": "code",
      "metadata": {
        "id": "wCeuECbtOxoh",
        "colab": {
          "base_uri": "https://localhost:8080/",
          "height": 423
        },
        "outputId": "8e5198e4-29c9-4893-963d-baeb7d838375"
      },
      "source": [
        "# El dataset tiene 5 características por dia\n",
        "dataset"
      ],
      "execution_count": null,
      "outputs": [
        {
          "output_type": "execute_result",
          "data": {
            "text/plain": [
              "            Date      Open     High       Low     Close    Volume  OpenInt\n",
              "0     2004-08-19    50.000    52.03    47.980    50.170  44703800        0\n",
              "1     2004-08-20    50.505    54.54    50.250    54.155  22857200        0\n",
              "2     2004-08-23    55.375    56.74    54.525    54.700  18274400        0\n",
              "3     2004-08-24    55.620    55.80    51.785    52.435  15262600        0\n",
              "4     2004-08-25    52.480    54.00    51.940    53.000   9197800        0\n",
              "...          ...       ...      ...       ...       ...       ...      ...\n",
              "3328  2017-11-06  1049.100  1052.59  1042.000  1042.680    913954        0\n",
              "3329  2017-11-07  1049.650  1053.41  1043.000  1052.390   1303832        0\n",
              "3330  2017-11-08  1050.050  1062.69  1047.050  1058.290   1214469        0\n",
              "3331  2017-11-09  1048.000  1050.88  1035.850  1047.720   1793994        0\n",
              "3332  2017-11-10  1043.870  1046.63  1041.220  1044.150    970498        0\n",
              "\n",
              "[3333 rows x 7 columns]"
            ],
            "text/html": [
              "\n",
              "  <div id=\"df-9e98ac3c-4750-46a6-91ac-6424cd88397f\">\n",
              "    <div class=\"colab-df-container\">\n",
              "      <div>\n",
              "<style scoped>\n",
              "    .dataframe tbody tr th:only-of-type {\n",
              "        vertical-align: middle;\n",
              "    }\n",
              "\n",
              "    .dataframe tbody tr th {\n",
              "        vertical-align: top;\n",
              "    }\n",
              "\n",
              "    .dataframe thead th {\n",
              "        text-align: right;\n",
              "    }\n",
              "</style>\n",
              "<table border=\"1\" class=\"dataframe\">\n",
              "  <thead>\n",
              "    <tr style=\"text-align: right;\">\n",
              "      <th></th>\n",
              "      <th>Date</th>\n",
              "      <th>Open</th>\n",
              "      <th>High</th>\n",
              "      <th>Low</th>\n",
              "      <th>Close</th>\n",
              "      <th>Volume</th>\n",
              "      <th>OpenInt</th>\n",
              "    </tr>\n",
              "  </thead>\n",
              "  <tbody>\n",
              "    <tr>\n",
              "      <th>0</th>\n",
              "      <td>2004-08-19</td>\n",
              "      <td>50.000</td>\n",
              "      <td>52.03</td>\n",
              "      <td>47.980</td>\n",
              "      <td>50.170</td>\n",
              "      <td>44703800</td>\n",
              "      <td>0</td>\n",
              "    </tr>\n",
              "    <tr>\n",
              "      <th>1</th>\n",
              "      <td>2004-08-20</td>\n",
              "      <td>50.505</td>\n",
              "      <td>54.54</td>\n",
              "      <td>50.250</td>\n",
              "      <td>54.155</td>\n",
              "      <td>22857200</td>\n",
              "      <td>0</td>\n",
              "    </tr>\n",
              "    <tr>\n",
              "      <th>2</th>\n",
              "      <td>2004-08-23</td>\n",
              "      <td>55.375</td>\n",
              "      <td>56.74</td>\n",
              "      <td>54.525</td>\n",
              "      <td>54.700</td>\n",
              "      <td>18274400</td>\n",
              "      <td>0</td>\n",
              "    </tr>\n",
              "    <tr>\n",
              "      <th>3</th>\n",
              "      <td>2004-08-24</td>\n",
              "      <td>55.620</td>\n",
              "      <td>55.80</td>\n",
              "      <td>51.785</td>\n",
              "      <td>52.435</td>\n",
              "      <td>15262600</td>\n",
              "      <td>0</td>\n",
              "    </tr>\n",
              "    <tr>\n",
              "      <th>4</th>\n",
              "      <td>2004-08-25</td>\n",
              "      <td>52.480</td>\n",
              "      <td>54.00</td>\n",
              "      <td>51.940</td>\n",
              "      <td>53.000</td>\n",
              "      <td>9197800</td>\n",
              "      <td>0</td>\n",
              "    </tr>\n",
              "    <tr>\n",
              "      <th>...</th>\n",
              "      <td>...</td>\n",
              "      <td>...</td>\n",
              "      <td>...</td>\n",
              "      <td>...</td>\n",
              "      <td>...</td>\n",
              "      <td>...</td>\n",
              "      <td>...</td>\n",
              "    </tr>\n",
              "    <tr>\n",
              "      <th>3328</th>\n",
              "      <td>2017-11-06</td>\n",
              "      <td>1049.100</td>\n",
              "      <td>1052.59</td>\n",
              "      <td>1042.000</td>\n",
              "      <td>1042.680</td>\n",
              "      <td>913954</td>\n",
              "      <td>0</td>\n",
              "    </tr>\n",
              "    <tr>\n",
              "      <th>3329</th>\n",
              "      <td>2017-11-07</td>\n",
              "      <td>1049.650</td>\n",
              "      <td>1053.41</td>\n",
              "      <td>1043.000</td>\n",
              "      <td>1052.390</td>\n",
              "      <td>1303832</td>\n",
              "      <td>0</td>\n",
              "    </tr>\n",
              "    <tr>\n",
              "      <th>3330</th>\n",
              "      <td>2017-11-08</td>\n",
              "      <td>1050.050</td>\n",
              "      <td>1062.69</td>\n",
              "      <td>1047.050</td>\n",
              "      <td>1058.290</td>\n",
              "      <td>1214469</td>\n",
              "      <td>0</td>\n",
              "    </tr>\n",
              "    <tr>\n",
              "      <th>3331</th>\n",
              "      <td>2017-11-09</td>\n",
              "      <td>1048.000</td>\n",
              "      <td>1050.88</td>\n",
              "      <td>1035.850</td>\n",
              "      <td>1047.720</td>\n",
              "      <td>1793994</td>\n",
              "      <td>0</td>\n",
              "    </tr>\n",
              "    <tr>\n",
              "      <th>3332</th>\n",
              "      <td>2017-11-10</td>\n",
              "      <td>1043.870</td>\n",
              "      <td>1046.63</td>\n",
              "      <td>1041.220</td>\n",
              "      <td>1044.150</td>\n",
              "      <td>970498</td>\n",
              "      <td>0</td>\n",
              "    </tr>\n",
              "  </tbody>\n",
              "</table>\n",
              "<p>3333 rows × 7 columns</p>\n",
              "</div>\n",
              "      <button class=\"colab-df-convert\" onclick=\"convertToInteractive('df-9e98ac3c-4750-46a6-91ac-6424cd88397f')\"\n",
              "              title=\"Convert this dataframe to an interactive table.\"\n",
              "              style=\"display:none;\">\n",
              "        \n",
              "  <svg xmlns=\"http://www.w3.org/2000/svg\" height=\"24px\"viewBox=\"0 0 24 24\"\n",
              "       width=\"24px\">\n",
              "    <path d=\"M0 0h24v24H0V0z\" fill=\"none\"/>\n",
              "    <path d=\"M18.56 5.44l.94 2.06.94-2.06 2.06-.94-2.06-.94-.94-2.06-.94 2.06-2.06.94zm-11 1L8.5 8.5l.94-2.06 2.06-.94-2.06-.94L8.5 2.5l-.94 2.06-2.06.94zm10 10l.94 2.06.94-2.06 2.06-.94-2.06-.94-.94-2.06-.94 2.06-2.06.94z\"/><path d=\"M17.41 7.96l-1.37-1.37c-.4-.4-.92-.59-1.43-.59-.52 0-1.04.2-1.43.59L10.3 9.45l-7.72 7.72c-.78.78-.78 2.05 0 2.83L4 21.41c.39.39.9.59 1.41.59.51 0 1.02-.2 1.41-.59l7.78-7.78 2.81-2.81c.8-.78.8-2.07 0-2.86zM5.41 20L4 18.59l7.72-7.72 1.47 1.35L5.41 20z\"/>\n",
              "  </svg>\n",
              "      </button>\n",
              "      \n",
              "  <style>\n",
              "    .colab-df-container {\n",
              "      display:flex;\n",
              "      flex-wrap:wrap;\n",
              "      gap: 12px;\n",
              "    }\n",
              "\n",
              "    .colab-df-convert {\n",
              "      background-color: #E8F0FE;\n",
              "      border: none;\n",
              "      border-radius: 50%;\n",
              "      cursor: pointer;\n",
              "      display: none;\n",
              "      fill: #1967D2;\n",
              "      height: 32px;\n",
              "      padding: 0 0 0 0;\n",
              "      width: 32px;\n",
              "    }\n",
              "\n",
              "    .colab-df-convert:hover {\n",
              "      background-color: #E2EBFA;\n",
              "      box-shadow: 0px 1px 2px rgba(60, 64, 67, 0.3), 0px 1px 3px 1px rgba(60, 64, 67, 0.15);\n",
              "      fill: #174EA6;\n",
              "    }\n",
              "\n",
              "    [theme=dark] .colab-df-convert {\n",
              "      background-color: #3B4455;\n",
              "      fill: #D2E3FC;\n",
              "    }\n",
              "\n",
              "    [theme=dark] .colab-df-convert:hover {\n",
              "      background-color: #434B5C;\n",
              "      box-shadow: 0px 1px 3px 1px rgba(0, 0, 0, 0.15);\n",
              "      filter: drop-shadow(0px 1px 2px rgba(0, 0, 0, 0.3));\n",
              "      fill: #FFFFFF;\n",
              "    }\n",
              "  </style>\n",
              "\n",
              "      <script>\n",
              "        const buttonEl =\n",
              "          document.querySelector('#df-9e98ac3c-4750-46a6-91ac-6424cd88397f button.colab-df-convert');\n",
              "        buttonEl.style.display =\n",
              "          google.colab.kernel.accessAllowed ? 'block' : 'none';\n",
              "\n",
              "        async function convertToInteractive(key) {\n",
              "          const element = document.querySelector('#df-9e98ac3c-4750-46a6-91ac-6424cd88397f');\n",
              "          const dataTable =\n",
              "            await google.colab.kernel.invokeFunction('convertToInteractive',\n",
              "                                                     [key], {});\n",
              "          if (!dataTable) return;\n",
              "\n",
              "          const docLinkHtml = 'Like what you see? Visit the ' +\n",
              "            '<a target=\"_blank\" href=https://colab.research.google.com/notebooks/data_table.ipynb>data table notebook</a>'\n",
              "            + ' to learn more about interactive tables.';\n",
              "          element.innerHTML = '';\n",
              "          dataTable['output_type'] = 'display_data';\n",
              "          await google.colab.output.renderOutput(dataTable, element);\n",
              "          const docLink = document.createElement('div');\n",
              "          docLink.innerHTML = docLinkHtml;\n",
              "          element.appendChild(docLink);\n",
              "        }\n",
              "      </script>\n",
              "    </div>\n",
              "  </div>\n",
              "  "
            ]
          },
          "metadata": {},
          "execution_count": 3
        }
      ]
    },
    {
      "cell_type": "markdown",
      "source": [
        "Si queremos mostrar los valores de apertura de cada día:"
      ],
      "metadata": {
        "id": "0rOWZgQF75-h"
      }
    },
    {
      "cell_type": "code",
      "metadata": {
        "id": "c1CchphhPWTG",
        "colab": {
          "base_uri": "https://localhost:8080/"
        },
        "outputId": "fdb5b7dc-4b96-4a20-d13d-3e93818952c2"
      },
      "source": [
        "dataset['Open']"
      ],
      "execution_count": null,
      "outputs": [
        {
          "output_type": "execute_result",
          "data": {
            "text/plain": [
              "0         50.000\n",
              "1         50.505\n",
              "2         55.375\n",
              "3         55.620\n",
              "4         52.480\n",
              "          ...   \n",
              "3328    1049.100\n",
              "3329    1049.650\n",
              "3330    1050.050\n",
              "3331    1048.000\n",
              "3332    1043.870\n",
              "Name: Open, Length: 3333, dtype: float64"
            ]
          },
          "metadata": {},
          "execution_count": 4
        }
      ]
    },
    {
      "cell_type": "code",
      "metadata": {
        "id": "P86GSpRlkRRI"
      },
      "source": [
        "aa = dataset['Open']\n",
        "high = dataset['High']\n",
        "low = dataset['Low']\n",
        "close = dataset['Close']\n",
        "volume = dataset['Volume']\n",
        "openint = dataset['OpenInt']"
      ],
      "execution_count": null,
      "outputs": []
    },
    {
      "cell_type": "markdown",
      "source": [
        "Si traza los precios de las acciones de apertura contra la fecha, verá el siguiente gráfico:"
      ],
      "metadata": {
        "id": "CxC7BLwB7wKK"
      }
    },
    {
      "cell_type": "code",
      "metadata": {
        "id": "x72djQQvk27Y",
        "colab": {
          "base_uri": "https://localhost:8080/",
          "height": 313
        },
        "outputId": "4a2bf313-d3a4-4025-b212-59cb73d3c393"
      },
      "source": [
        "%matplotlib inline\n",
        "plt.subplot(131)\n",
        "p1, = plt.plot(aa)\n",
        "plt.ylabel(' ')\n",
        "plt.title('Valores de apertura')\n",
        "\n",
        "plt.subplot(132)\n",
        "p2, = plt.plot(volume)\n",
        "plt.xlabel('Tiempo')\n",
        "plt.title('Volume')\n",
        "\n",
        "plt.subplot(133)\n",
        "p3, = plt.plot(low)\n",
        "p4, = plt.plot(close)\n",
        "p5, = plt.plot(openint)\n",
        "plt.xlabel('Tiempo')\n",
        "plt.title('3 variables')\n",
        "\n",
        "# dataset.plot"
      ],
      "execution_count": null,
      "outputs": [
        {
          "output_type": "execute_result",
          "data": {
            "text/plain": [
              "Text(0.5, 1.0, '3 variables')"
            ]
          },
          "metadata": {},
          "execution_count": 6
        },
        {
          "output_type": "display_data",
          "data": {
            "text/plain": [
              "<Figure size 432x288 with 3 Axes>"
            ],
            "image/png": "[encoded data removed]"
          },
          "metadata": {
            "needs_background": "light"
          }
        }
      ]
    },
    {
      "cell_type": "markdown",
      "source": [
        "Puede ver que la tendencia es altamente no lineal y es muy difícil capturar la tendencia usando esta información. Aquí es donde se puede utilizar el poder de LSTM . LSTM (Long Short-Term Memory network) es un tipo de red neuronal recurrente capaz de recordar la información pasada y, al predecir los valores futuros, tiene en cuenta esta información pasada."
      ],
      "metadata": {
        "id": "Tq1bGkQQ8Gwo"
      }
    },
    {
      "cell_type": "markdown",
      "source": [
        "La importancia de visualizar los datos la vemos aquí. Como podemos observar, a continuación se muestran en un gráfico, los valores de apertura y de cierre. Estos son muy parecidos, utilizaremos esta infomración para predecir. "
      ],
      "metadata": {
        "id": "mdDUwOUZ8dvn"
      }
    },
    {
      "cell_type": "code",
      "source": [
        "# Cogemos los datos de apertura y de cierre\n",
        "googl_op = dataset['Open']\n",
        "googl_cl = dataset['Close']\n",
        "\n",
        "%matplotlib inline\n",
        "plt.subplot(121)\n",
        "p1, = plt.plot(googl_op)\n",
        "p3, = plt.plot(googl_cl)\n",
        "plt.ylabel('Amplitud / cm')\n",
        "plt.title('Datos apertura cierre')\n",
        "\n",
        "plt.subplot(122)\n",
        "p2, = plt.plot(googl_op-googl_cl)\n",
        "plt.xlabel('Tiempo')\n",
        "plt.title('Diferencia apertura cierre')"
      ],
      "metadata": {
        "colab": {
          "base_uri": "https://localhost:8080/",
          "height": 313
        },
        "id": "DGE8kmmX-gWS",
        "outputId": "cdfc65f1-2cb1-4e54-a33b-35553526d7d5"
      },
      "execution_count": null,
      "outputs": [
        {
          "output_type": "execute_result",
          "data": {
            "text/plain": [
              "Text(0.5, 1.0, 'Diferencia apertura cierre')"
            ]
          },
          "metadata": {},
          "execution_count": 7
        },
        {
          "output_type": "display_data",
          "data": {
            "text/plain": [
              "<Figure size 432x288 with 2 Axes>"
            ],
            "image/png": "[encoded data removed]"
          },
          "metadata": {
            "needs_background": "light"
          }
        }
      ]
    },
    {
      "cell_type": "code",
      "source": [
        "dataset"
      ],
      "metadata": {
        "colab": {
          "base_uri": "https://localhost:8080/",
          "height": 423
        },
        "id": "w1PjPm6ASTPT",
        "outputId": "c61ce9f6-f60c-42e3-9322-5421d90119d7"
      },
      "execution_count": null,
      "outputs": [
        {
          "output_type": "execute_result",
          "data": {
            "text/plain": [
              "            Date      Open     High       Low     Close    Volume  OpenInt\n",
              "0     2004-08-19    50.000    52.03    47.980    50.170  44703800        0\n",
              "1     2004-08-20    50.505    54.54    50.250    54.155  22857200        0\n",
              "2     2004-08-23    55.375    56.74    54.525    54.700  18274400        0\n",
              "3     2004-08-24    55.620    55.80    51.785    52.435  15262600        0\n",
              "4     2004-08-25    52.480    54.00    51.940    53.000   9197800        0\n",
              "...          ...       ...      ...       ...       ...       ...      ...\n",
              "3328  2017-11-06  1049.100  1052.59  1042.000  1042.680    913954        0\n",
              "3329  2017-11-07  1049.650  1053.41  1043.000  1052.390   1303832        0\n",
              "3330  2017-11-08  1050.050  1062.69  1047.050  1058.290   1214469        0\n",
              "3331  2017-11-09  1048.000  1050.88  1035.850  1047.720   1793994        0\n",
              "3332  2017-11-10  1043.870  1046.63  1041.220  1044.150    970498        0\n",
              "\n",
              "[3333 rows x 7 columns]"
            ],
            "text/html": [
              "\n",
              "  <div id=\"df-3950d13d-d4a4-4e55-9657-0e5a84713d8f\">\n",
              "    <div class=\"colab-df-container\">\n",
              "      <div>\n",
              "<style scoped>\n",
              "    .dataframe tbody tr th:only-of-type {\n",
              "        vertical-align: middle;\n",
              "    }\n",
              "\n",
              "    .dataframe tbody tr th {\n",
              "        vertical-align: top;\n",
              "    }\n",
              "\n",
              "    .dataframe thead th {\n",
              "        text-align: right;\n",
              "    }\n",
              "</style>\n",
              "<table border=\"1\" class=\"dataframe\">\n",
              "  <thead>\n",
              "    <tr style=\"text-align: right;\">\n",
              "      <th></th>\n",
              "      <th>Date</th>\n",
              "      <th>Open</th>\n",
              "      <th>High</th>\n",
              "      <th>Low</th>\n",
              "      <th>Close</th>\n",
              "      <th>Volume</th>\n",
              "      <th>OpenInt</th>\n",
              "    </tr>\n",
              "  </thead>\n",
              "  <tbody>\n",
              "    <tr>\n",
              "      <th>0</th>\n",
              "      <td>2004-08-19</td>\n",
              "      <td>50.000</td>\n",
              "      <td>52.03</td>\n",
              "      <td>47.980</td>\n",
              "      <td>50.170</td>\n",
              "      <td>44703800</td>\n",
              "      <td>0</td>\n",
              "    </tr>\n",
              "    <tr>\n",
              "      <th>1</th>\n",
              "      <td>2004-08-20</td>\n",
              "      <td>50.505</td>\n",
              "      <td>54.54</td>\n",
              "      <td>50.250</td>\n",
              "      <td>54.155</td>\n",
              "      <td>22857200</td>\n",
              "      <td>0</td>\n",
              "    </tr>\n",
              "    <tr>\n",
              "      <th>2</th>\n",
              "      <td>2004-08-23</td>\n",
              "      <td>55.375</td>\n",
              "      <td>56.74</td>\n",
              "      <td>54.525</td>\n",
              "      <td>54.700</td>\n",
              "      <td>18274400</td>\n",
              "      <td>0</td>\n",
              "    </tr>\n",
              "    <tr>\n",
              "      <th>3</th>\n",
              "      <td>2004-08-24</td>\n",
              "      <td>55.620</td>\n",
              "      <td>55.80</td>\n",
              "      <td>51.785</td>\n",
              "      <td>52.435</td>\n",
              "      <td>15262600</td>\n",
              "      <td>0</td>\n",
              "    </tr>\n",
              "    <tr>\n",
              "      <th>4</th>\n",
              "      <td>2004-08-25</td>\n",
              "      <td>52.480</td>\n",
              "      <td>54.00</td>\n",
              "      <td>51.940</td>\n",
              "      <td>53.000</td>\n",
              "      <td>9197800</td>\n",
              "      <td>0</td>\n",
              "    </tr>\n",
              "    <tr>\n",
              "      <th>...</th>\n",
              "      <td>...</td>\n",
              "      <td>...</td>\n",
              "      <td>...</td>\n",
              "      <td>...</td>\n",
              "      <td>...</td>\n",
              "      <td>...</td>\n",
              "      <td>...</td>\n",
              "    </tr>\n",
              "    <tr>\n",
              "      <th>3328</th>\n",
              "      <td>2017-11-06</td>\n",
              "      <td>1049.100</td>\n",
              "      <td>1052.59</td>\n",
              "      <td>1042.000</td>\n",
              "      <td>1042.680</td>\n",
              "      <td>913954</td>\n",
              "      <td>0</td>\n",
              "    </tr>\n",
              "    <tr>\n",
              "      <th>3329</th>\n",
              "      <td>2017-11-07</td>\n",
              "      <td>1049.650</td>\n",
              "      <td>1053.41</td>\n",
              "      <td>1043.000</td>\n",
              "      <td>1052.390</td>\n",
              "      <td>1303832</td>\n",
              "      <td>0</td>\n",
              "    </tr>\n",
              "    <tr>\n",
              "      <th>3330</th>\n",
              "      <td>2017-11-08</td>\n",
              "      <td>1050.050</td>\n",
              "      <td>1062.69</td>\n",
              "      <td>1047.050</td>\n",
              "      <td>1058.290</td>\n",
              "      <td>1214469</td>\n",
              "      <td>0</td>\n",
              "    </tr>\n",
              "    <tr>\n",
              "      <th>3331</th>\n",
              "      <td>2017-11-09</td>\n",
              "      <td>1048.000</td>\n",
              "      <td>1050.88</td>\n",
              "      <td>1035.850</td>\n",
              "      <td>1047.720</td>\n",
              "      <td>1793994</td>\n",
              "      <td>0</td>\n",
              "    </tr>\n",
              "    <tr>\n",
              "      <th>3332</th>\n",
              "      <td>2017-11-10</td>\n",
              "      <td>1043.870</td>\n",
              "      <td>1046.63</td>\n",
              "      <td>1041.220</td>\n",
              "      <td>1044.150</td>\n",
              "      <td>970498</td>\n",
              "      <td>0</td>\n",
              "    </tr>\n",
              "  </tbody>\n",
              "</table>\n",
              "<p>3333 rows × 7 columns</p>\n",
              "</div>\n",
              "      <button class=\"colab-df-convert\" onclick=\"convertToInteractive('df-3950d13d-d4a4-4e55-9657-0e5a84713d8f')\"\n",
              "              title=\"Convert this dataframe to an interactive table.\"\n",
              "              style=\"display:none;\">\n",
              "        \n",
              "  <svg xmlns=\"http://www.w3.org/2000/svg\" height=\"24px\"viewBox=\"0 0 24 24\"\n",
              "       width=\"24px\">\n",
              "    <path d=\"M0 0h24v24H0V0z\" fill=\"none\"/>\n",
              "    <path d=\"M18.56 5.44l.94 2.06.94-2.06 2.06-.94-2.06-.94-.94-2.06-.94 2.06-2.06.94zm-11 1L8.5 8.5l.94-2.06 2.06-.94-2.06-.94L8.5 2.5l-.94 2.06-2.06.94zm10 10l.94 2.06.94-2.06 2.06-.94-2.06-.94-.94-2.06-.94 2.06-2.06.94z\"/><path d=\"M17.41 7.96l-1.37-1.37c-.4-.4-.92-.59-1.43-.59-.52 0-1.04.2-1.43.59L10.3 9.45l-7.72 7.72c-.78.78-.78 2.05 0 2.83L4 21.41c.39.39.9.59 1.41.59.51 0 1.02-.2 1.41-.59l7.78-7.78 2.81-2.81c.8-.78.8-2.07 0-2.86zM5.41 20L4 18.59l7.72-7.72 1.47 1.35L5.41 20z\"/>\n",
              "  </svg>\n",
              "      </button>\n",
              "      \n",
              "  <style>\n",
              "    .colab-df-container {\n",
              "      display:flex;\n",
              "      flex-wrap:wrap;\n",
              "      gap: 12px;\n",
              "    }\n",
              "\n",
              "    .colab-df-convert {\n",
              "      background-color: #E8F0FE;\n",
              "      border: none;\n",
              "      border-radius: 50%;\n",
              "      cursor: pointer;\n",
              "      display: none;\n",
              "      fill: #1967D2;\n",
              "      height: 32px;\n",
              "      padding: 0 0 0 0;\n",
              "      width: 32px;\n",
              "    }\n",
              "\n",
              "    .colab-df-convert:hover {\n",
              "      background-color: #E2EBFA;\n",
              "      box-shadow: 0px 1px 2px rgba(60, 64, 67, 0.3), 0px 1px 3px 1px rgba(60, 64, 67, 0.15);\n",
              "      fill: #174EA6;\n",
              "    }\n",
              "\n",
              "    [theme=dark] .colab-df-convert {\n",
              "      background-color: #3B4455;\n",
              "      fill: #D2E3FC;\n",
              "    }\n",
              "\n",
              "    [theme=dark] .colab-df-convert:hover {\n",
              "      background-color: #434B5C;\n",
              "      box-shadow: 0px 1px 3px 1px rgba(0, 0, 0, 0.15);\n",
              "      filter: drop-shadow(0px 1px 2px rgba(0, 0, 0, 0.3));\n",
              "      fill: #FFFFFF;\n",
              "    }\n",
              "  </style>\n",
              "\n",
              "      <script>\n",
              "        const buttonEl =\n",
              "          document.querySelector('#df-3950d13d-d4a4-4e55-9657-0e5a84713d8f button.colab-df-convert');\n",
              "        buttonEl.style.display =\n",
              "          google.colab.kernel.accessAllowed ? 'block' : 'none';\n",
              "\n",
              "        async function convertToInteractive(key) {\n",
              "          const element = document.querySelector('#df-3950d13d-d4a4-4e55-9657-0e5a84713d8f');\n",
              "          const dataTable =\n",
              "            await google.colab.kernel.invokeFunction('convertToInteractive',\n",
              "                                                     [key], {});\n",
              "          if (!dataTable) return;\n",
              "\n",
              "          const docLinkHtml = 'Like what you see? Visit the ' +\n",
              "            '<a target=\"_blank\" href=https://colab.research.google.com/notebooks/data_table.ipynb>data table notebook</a>'\n",
              "            + ' to learn more about interactive tables.';\n",
              "          element.innerHTML = '';\n",
              "          dataTable['output_type'] = 'display_data';\n",
              "          await google.colab.output.renderOutput(dataTable, element);\n",
              "          const docLink = document.createElement('div');\n",
              "          docLink.innerHTML = docLinkHtml;\n",
              "          element.appendChild(docLink);\n",
              "        }\n",
              "      </script>\n",
              "    </div>\n",
              "  </div>\n",
              "  "
            ]
          },
          "metadata": {},
          "execution_count": 12
        }
      ]
    },
    {
      "cell_type": "markdown",
      "source": [
        "## Preprocesado de los datos"
      ],
      "metadata": {
        "id": "_OWRY8_vCnE8"
      }
    },
    {
      "cell_type": "code",
      "source": [
        "from sklearn.model_selection import train_test_split \n",
        "train, test = train_test_split(dataset, test_size = 0.30)\n",
        "\n",
        "p_train = 0.80 # Porcentaje de train.\n",
        "\n",
        "train = dataset[:int((len(dataset))* p_train)] \n",
        "test = dataset[int((len(dataset))* p_train):]"
      ],
      "metadata": {
        "id": "lUCQCLbIGLGF"
      },
      "execution_count": null,
      "outputs": []
    },
    {
      "cell_type": "markdown",
      "source": [
        "Como dijimos anteriormente, solo nos interesa el precio de apertura de la acción. Por lo tanto, filtraremos todos los datos de nuestro conjunto de entrenamiento y conservaremos solo los valores de la columna Abrir."
      ],
      "metadata": {
        "id": "c0waca8dEV6H"
      }
    },
    {
      "cell_type": "code",
      "source": [
        "train"
      ],
      "metadata": {
        "colab": {
          "base_uri": "https://localhost:8080/",
          "height": 423
        },
        "id": "_X0_rVg5SEFM",
        "outputId": "c870e364-a07a-4544-d332-d5f82c015988"
      },
      "execution_count": null,
      "outputs": [
        {
          "output_type": "execute_result",
          "data": {
            "text/plain": [
              "            Date     Open    High      Low    Close    Volume  OpenInt\n",
              "0     2004-08-19   50.000   52.03   47.980   50.170  44703800        0\n",
              "1     2004-08-20   50.505   54.54   50.250   54.155  22857200        0\n",
              "2     2004-08-23   55.375   56.74   54.525   54.700  18274400        0\n",
              "3     2004-08-24   55.620   55.80   51.785   52.435  15262600        0\n",
              "4     2004-08-25   52.480   54.00   51.940   53.000   9197800        0\n",
              "...          ...      ...     ...      ...      ...       ...      ...\n",
              "2661  2015-03-17  558.160  560.64  554.410  557.610   1444500        0\n",
              "2662  2015-03-18  557.730  566.51  553.500  566.160   1766200        0\n",
              "2663  2015-03-19  564.520  566.96  562.120  563.670   1232900        0\n",
              "2664  2015-03-20  566.710  567.10  564.480  564.950   2216000        0\n",
              "2665  2015-03-23  566.000  569.64  563.060  565.370   1511600        0\n",
              "\n",
              "[2666 rows x 7 columns]"
            ],
            "text/html": [
              "\n",
              "  <div id=\"df-a10fca71-026e-44b4-8d71-bb18b79ed23c\">\n",
              "    <div class=\"colab-df-container\">\n",
              "      <div>\n",
              "<style scoped>\n",
              "    .dataframe tbody tr th:only-of-type {\n",
              "        vertical-align: middle;\n",
              "    }\n",
              "\n",
              "    .dataframe tbody tr th {\n",
              "        vertical-align: top;\n",
              "    }\n",
              "\n",
              "    .dataframe thead th {\n",
              "        text-align: right;\n",
              "    }\n",
              "</style>\n",
              "<table border=\"1\" class=\"dataframe\">\n",
              "  <thead>\n",
              "    <tr style=\"text-align: right;\">\n",
              "      <th></th>\n",
              "      <th>Date</th>\n",
              "      <th>Open</th>\n",
              "      <th>High</th>\n",
              "      <th>Low</th>\n",
              "      <th>Close</th>\n",
              "      <th>Volume</th>\n",
              "      <th>OpenInt</th>\n",
              "    </tr>\n",
              "  </thead>\n",
              "  <tbody>\n",
              "    <tr>\n",
              "      <th>0</th>\n",
              "      <td>2004-08-19</td>\n",
              "      <td>50.000</td>\n",
              "      <td>52.03</td>\n",
              "      <td>47.980</td>\n",
              "      <td>50.170</td>\n",
              "      <td>44703800</td>\n",
              "      <td>0</td>\n",
              "    </tr>\n",
              "    <tr>\n",
              "      <th>1</th>\n",
              "      <td>2004-08-20</td>\n",
              "      <td>50.505</td>\n",
              "      <td>54.54</td>\n",
              "      <td>50.250</td>\n",
              "      <td>54.155</td>\n",
              "      <td>22857200</td>\n",
              "      <td>0</td>\n",
              "    </tr>\n",
              "    <tr>\n",
              "      <th>2</th>\n",
              "      <td>2004-08-23</td>\n",
              "      <td>55.375</td>\n",
              "      <td>56.74</td>\n",
              "      <td>54.525</td>\n",
              "      <td>54.700</td>\n",
              "      <td>18274400</td>\n",
              "      <td>0</td>\n",
              "    </tr>\n",
              "    <tr>\n",
              "      <th>3</th>\n",
              "      <td>2004-08-24</td>\n",
              "      <td>55.620</td>\n",
              "      <td>55.80</td>\n",
              "      <td>51.785</td>\n",
              "      <td>52.435</td>\n",
              "      <td>15262600</td>\n",
              "      <td>0</td>\n",
              "    </tr>\n",
              "    <tr>\n",
              "      <th>4</th>\n",
              "      <td>2004-08-25</td>\n",
              "      <td>52.480</td>\n",
              "      <td>54.00</td>\n",
              "      <td>51.940</td>\n",
              "      <td>53.000</td>\n",
              "      <td>9197800</td>\n",
              "      <td>0</td>\n",
              "    </tr>\n",
              "    <tr>\n",
              "      <th>...</th>\n",
              "      <td>...</td>\n",
              "      <td>...</td>\n",
              "      <td>...</td>\n",
              "      <td>...</td>\n",
              "      <td>...</td>\n",
              "      <td>...</td>\n",
              "      <td>...</td>\n",
              "    </tr>\n",
              "    <tr>\n",
              "      <th>2661</th>\n",
              "      <td>2015-03-17</td>\n",
              "      <td>558.160</td>\n",
              "      <td>560.64</td>\n",
              "      <td>554.410</td>\n",
              "      <td>557.610</td>\n",
              "      <td>1444500</td>\n",
              "      <td>0</td>\n",
              "    </tr>\n",
              "    <tr>\n",
              "      <th>2662</th>\n",
              "      <td>2015-03-18</td>\n",
              "      <td>557.730</td>\n",
              "      <td>566.51</td>\n",
              "      <td>553.500</td>\n",
              "      <td>566.160</td>\n",
              "      <td>1766200</td>\n",
              "      <td>0</td>\n",
              "    </tr>\n",
              "    <tr>\n",
              "      <th>2663</th>\n",
              "      <td>2015-03-19</td>\n",
              "      <td>564.520</td>\n",
              "      <td>566.96</td>\n",
              "      <td>562.120</td>\n",
              "      <td>563.670</td>\n",
              "      <td>1232900</td>\n",
              "      <td>0</td>\n",
              "    </tr>\n",
              "    <tr>\n",
              "      <th>2664</th>\n",
              "      <td>2015-03-20</td>\n",
              "      <td>566.710</td>\n",
              "      <td>567.10</td>\n",
              "      <td>564.480</td>\n",
              "      <td>564.950</td>\n",
              "      <td>2216000</td>\n",
              "      <td>0</td>\n",
              "    </tr>\n",
              "    <tr>\n",
              "      <th>2665</th>\n",
              "      <td>2015-03-23</td>\n",
              "      <td>566.000</td>\n",
              "      <td>569.64</td>\n",
              "      <td>563.060</td>\n",
              "      <td>565.370</td>\n",
              "      <td>1511600</td>\n",
              "      <td>0</td>\n",
              "    </tr>\n",
              "  </tbody>\n",
              "</table>\n",
              "<p>2666 rows × 7 columns</p>\n",
              "</div>\n",
              "      <button class=\"colab-df-convert\" onclick=\"convertToInteractive('df-a10fca71-026e-44b4-8d71-bb18b79ed23c')\"\n",
              "              title=\"Convert this dataframe to an interactive table.\"\n",
              "              style=\"display:none;\">\n",
              "        \n",
              "  <svg xmlns=\"http://www.w3.org/2000/svg\" height=\"24px\"viewBox=\"0 0 24 24\"\n",
              "       width=\"24px\">\n",
              "    <path d=\"M0 0h24v24H0V0z\" fill=\"none\"/>\n",
              "    <path d=\"M18.56 5.44l.94 2.06.94-2.06 2.06-.94-2.06-.94-.94-2.06-.94 2.06-2.06.94zm-11 1L8.5 8.5l.94-2.06 2.06-.94-2.06-.94L8.5 2.5l-.94 2.06-2.06.94zm10 10l.94 2.06.94-2.06 2.06-.94-2.06-.94-.94-2.06-.94 2.06-2.06.94z\"/><path d=\"M17.41 7.96l-1.37-1.37c-.4-.4-.92-.59-1.43-.59-.52 0-1.04.2-1.43.59L10.3 9.45l-7.72 7.72c-.78.78-.78 2.05 0 2.83L4 21.41c.39.39.9.59 1.41.59.51 0 1.02-.2 1.41-.59l7.78-7.78 2.81-2.81c.8-.78.8-2.07 0-2.86zM5.41 20L4 18.59l7.72-7.72 1.47 1.35L5.41 20z\"/>\n",
              "  </svg>\n",
              "      </button>\n",
              "      \n",
              "  <style>\n",
              "    .colab-df-container {\n",
              "      display:flex;\n",
              "      flex-wrap:wrap;\n",
              "      gap: 12px;\n",
              "    }\n",
              "\n",
              "    .colab-df-convert {\n",
              "      background-color: #E8F0FE;\n",
              "      border: none;\n",
              "      border-radius: 50%;\n",
              "      cursor: pointer;\n",
              "      display: none;\n",
              "      fill: #1967D2;\n",
              "      height: 32px;\n",
              "      padding: 0 0 0 0;\n",
              "      width: 32px;\n",
              "    }\n",
              "\n",
              "    .colab-df-convert:hover {\n",
              "      background-color: #E2EBFA;\n",
              "      box-shadow: 0px 1px 2px rgba(60, 64, 67, 0.3), 0px 1px 3px 1px rgba(60, 64, 67, 0.15);\n",
              "      fill: #174EA6;\n",
              "    }\n",
              "\n",
              "    [theme=dark] .colab-df-convert {\n",
              "      background-color: #3B4455;\n",
              "      fill: #D2E3FC;\n",
              "    }\n",
              "\n",
              "    [theme=dark] .colab-df-convert:hover {\n",
              "      background-color: #434B5C;\n",
              "      box-shadow: 0px 1px 3px 1px rgba(0, 0, 0, 0.15);\n",
              "      filter: drop-shadow(0px 1px 2px rgba(0, 0, 0, 0.3));\n",
              "      fill: #FFFFFF;\n",
              "    }\n",
              "  </style>\n",
              "\n",
              "      <script>\n",
              "        const buttonEl =\n",
              "          document.querySelector('#df-a10fca71-026e-44b4-8d71-bb18b79ed23c button.colab-df-convert');\n",
              "        buttonEl.style.display =\n",
              "          google.colab.kernel.accessAllowed ? 'block' : 'none';\n",
              "\n",
              "        async function convertToInteractive(key) {\n",
              "          const element = document.querySelector('#df-a10fca71-026e-44b4-8d71-bb18b79ed23c');\n",
              "          const dataTable =\n",
              "            await google.colab.kernel.invokeFunction('convertToInteractive',\n",
              "                                                     [key], {});\n",
              "          if (!dataTable) return;\n",
              "\n",
              "          const docLinkHtml = 'Like what you see? Visit the ' +\n",
              "            '<a target=\"_blank\" href=https://colab.research.google.com/notebooks/data_table.ipynb>data table notebook</a>'\n",
              "            + ' to learn more about interactive tables.';\n",
              "          element.innerHTML = '';\n",
              "          dataTable['output_type'] = 'display_data';\n",
              "          await google.colab.output.renderOutput(dataTable, element);\n",
              "          const docLink = document.createElement('div');\n",
              "          docLink.innerHTML = docLinkHtml;\n",
              "          element.appendChild(docLink);\n",
              "        }\n",
              "      </script>\n",
              "    </div>\n",
              "  </div>\n",
              "  "
            ]
          },
          "metadata": {},
          "execution_count": 9
        }
      ]
    },
    {
      "cell_type": "code",
      "source": [
        "xx = train.iloc[:, 1:2].values   "
      ],
      "metadata": {
        "id": "QB3Qao8zEq2-"
      },
      "execution_count": null,
      "outputs": []
    },
    {
      "cell_type": "code",
      "source": [
        "xx"
      ],
      "metadata": {
        "colab": {
          "base_uri": "https://localhost:8080/"
        },
        "id": "OuuDFZ7uSFfZ",
        "outputId": "02502d8a-f4b7-4371-dc8f-eff4c0940370"
      },
      "execution_count": null,
      "outputs": [
        {
          "output_type": "execute_result",
          "data": {
            "text/plain": [
              "array([[ 50.   ],\n",
              "       [ 50.505],\n",
              "       [ 55.375],\n",
              "       ...,\n",
              "       [564.52 ],\n",
              "       [566.71 ],\n",
              "       [566.   ]])"
            ]
          },
          "metadata": {},
          "execution_count": 11
        }
      ]
    },
    {
      "cell_type": "markdown",
      "source": [
        "Como regla general, siempre que utilice una red neuronal, debe normalizar o escalar sus datos. Usaremos la calse MinMaxScaler de la `sklear.preprocessing`, biblioteca para escalar nuestros datos entre 0 y 1. El `feature_range` parámetro se usa para especificar el rango de los datos escalados. Ejecute el siguiente script:"
      ],
      "metadata": {
        "id": "-duWqOE4DBlM"
      }
    },
    {
      "cell_type": "code",
      "source": [
        "from sklearn.preprocessing import MinMaxScaler\n",
        "scaler = MinMaxScaler(feature_range = (0, 1))\n",
        "\n",
        "X_train = scaler.fit_transform(xx)"
      ],
      "metadata": {
        "id": "oQvEv_OpC_k6"
      },
      "execution_count": null,
      "outputs": []
    },
    {
      "cell_type": "markdown",
      "source": [
        "Convierta los datos de entrenamiento en la forma correcta\n",
        "Como dije antes, en un problema de series de tiempo, tenemos que predecir un valor en el tiempo T, con base en los datos de los días TN donde N puede ser cualquier número de pasos. En este artículo, vamos a predecir el precio de apertura de las acciones de los datos en función de los precios de apertura de las acciones de los últimos 60 días. Probé y probé diferentes números y descubrí que los mejores resultados se obtienen cuando se usan los últimos 60 pasos de tiempo. Puede probar diferentes números y ver cómo funciona su algoritmo.\n",
        "\n",
        "Nuestro conjunto de características debe contener los valores del precio de apertura de las acciones durante los últimos 60 días, mientras que la etiqueta o variable dependiente debe ser el precio de las acciones en el día 61. Ejecute el siguiente script para crear un conjunto de características y etiquetas."
      ],
      "metadata": {
        "id": "krrYvth6Ff_s"
      }
    },
    {
      "cell_type": "code",
      "source": [
        "features_set = []\n",
        "labels = []\n",
        "for i in range(60, 2333):\n",
        "    features_set.append(X_train[i-60:i, 0])\n",
        "    labels.append(X_train[i, 0])"
      ],
      "metadata": {
        "id": "RKYgcaf7Fi43"
      },
      "execution_count": null,
      "outputs": []
    },
    {
      "cell_type": "markdown",
      "source": [
        "En el script anterior, creamos dos listas: feature_sety labels. Hay 1260 registros en los datos de entrenamiento. Ejecutamos un bucle que comienza desde el registro 61 y almacena todos los 60 registros anteriores en la feature_setlista. El registro número 61 se almacena en la labelslista.\n",
        "\n",
        "Necesitamos convertir tanto el feature_set como la labels lista a la matriz numpy antes de que podamos usarla para el entrenamiento. "
      ],
      "metadata": {
        "id": "gDuxTtzdFqKb"
      }
    },
    {
      "cell_type": "code",
      "source": [
        "features_set, labels = np.array(features_set), np.array(labels)"
      ],
      "metadata": {
        "id": "BxW8P6KS4wiO"
      },
      "execution_count": null,
      "outputs": []
    },
    {
      "cell_type": "markdown",
      "source": [
        "Para entrenar LSTM en nuestros datos, necesitamos convertir nuestros datos en la forma aceptada por LSTM. Necesitamos convertir nuestros datos en formato tridimensional. La primera dimensión es el número de registros o filas en el conjunto de datos, que en nuestro caso es 1260. La segunda dimensión es el número de pasos de tiempo que es 60 mientras que la última dimensión es el número de indicadores. Dado que solo estamos usando una función, es decir , Abrir , el número de indicadores será uno."
      ],
      "metadata": {
        "id": "ySQBfNVM4ybU"
      }
    },
    {
      "cell_type": "code",
      "source": [
        "X_train = np.reshape(features_set, (features_set.shape[0], features_set.shape[1], 1))"
      ],
      "metadata": {
        "id": "v-HJ2vl25DED"
      },
      "execution_count": null,
      "outputs": []
    },
    {
      "cell_type": "markdown",
      "metadata": {
        "id": "OhgHFX9cRJHv"
      },
      "source": [
        "## Modelo\n",
        "\n"
      ]
    },
    {
      "cell_type": "markdown",
      "source": [
        "**Entrenando el LSTM**\n",
        "\n",
        "Hemos preprocesado nuestros datos y los hemos convertido al formato deseado. ahora es el momento de crear nuestro LSTM. El modelo LSTM que vamos a crear será un modelo secuencial con varias capas. Agregaremos cuatro capas LSTM a nuestro modelo seguidas de una capa densa que predice el precio futuro de las acciones.\n",
        "\n",
        "Como primer paso, necesitamos instanciar la Sequential clase. Esta será nuestra clase modelo y agregaremos capas LSTM, Dropout y Dense a este modelo. "
      ],
      "metadata": {
        "id": "h-IiDI85jYn-"
      }
    },
    {
      "cell_type": "code",
      "source": [
        "model = Sequential()"
      ],
      "metadata": {
        "id": "SXtHY6nE518b"
      },
      "execution_count": null,
      "outputs": []
    },
    {
      "cell_type": "markdown",
      "source": [
        "**Creación de capas LSTM y de abandono**\n",
        "\n",
        "Agreguemos una capa LSTM al modelo que acabamos de crear.  Para agregar una capa al modelo secuencial, `add` se utiliza el método. Dentro del `add`, pasamos nuestra capa LSTM. El primer parámetro de la capa LSTM es el número de neuronas o nodos que queremos en la capa. El segundo parámetro es return_sequences, que se establece en verdadero ya que agregaremos más capas al modelo. El primer parámetro del input_shapees el número de pasos de tiempo mientras que el último parámetro es el número de indicadores."
      ],
      "metadata": {
        "id": "mWcM9Xvc53Hd"
      }
    },
    {
      "cell_type": "code",
      "source": [
        "model.add(LSTM(units=50, return_sequences=True, input_shape=(X_train.shape[1], 1)))"
      ],
      "metadata": {
        "id": "0ycLc3vs6GVA"
      },
      "execution_count": null,
      "outputs": []
    },
    {
      "cell_type": "markdown",
      "source": [
        "Ahora agreguemos una capa de exclusión a nuestro modelo. Se agrega una capa de abandono para evitar el sobreajuste, que es un fenómeno en el que un modelo de aprendizaje automático funciona mejor en los datos de entrenamiento en comparación con los datos de prueba. "
      ],
      "metadata": {
        "id": "Xhlk5ja56IOm"
      }
    },
    {
      "cell_type": "code",
      "source": [
        "model.add(Dropout(0.2))"
      ],
      "metadata": {
        "id": "tM6Vg15V6MJI"
      },
      "execution_count": null,
      "outputs": []
    },
    {
      "cell_type": "markdown",
      "source": [
        "Agreguemos tres capas más de LSTM y abandono a nuestro modelo."
      ],
      "metadata": {
        "id": "uwTuD13F6NH6"
      }
    },
    {
      "cell_type": "code",
      "metadata": {
        "id": "9dgW3qLWveVH"
      },
      "source": [
        "# Capa 2\n",
        "model.add(LSTM(units=50, return_sequences=True))\n",
        "model.add(Dropout(0.2))\n",
        "\n",
        "# Capa 3\n",
        "model.add(LSTM(units=50, return_sequences=True))\n",
        "model.add(Dropout(0.2))\n",
        "\n",
        "# Capa 4\n",
        "model.add(LSTM(units=50))\n",
        "model.add(Dropout(0.2))"
      ],
      "execution_count": null,
      "outputs": []
    },
    {
      "cell_type": "markdown",
      "source": [
        "**Creando una capa densa**\n",
        "\n",
        "Para hacer que nuestro modelo sea más robusto, agregamos una capa densa al final del modelo. El número de neuronas en la capa densa se establecerá en 1 ya que queremos predecir un solo valor en la salida."
      ],
      "metadata": {
        "id": "Ua7r-hp06XPa"
      }
    },
    {
      "cell_type": "code",
      "source": [
        "# Capa 5 \n",
        "model.add(Dense(units = 1))"
      ],
      "metadata": {
        "id": "QcdD5j2g6SQX"
      },
      "execution_count": null,
      "outputs": []
    },
    {
      "cell_type": "markdown",
      "source": [
        "**Compilación de modelos**\n",
        "\n",
        "Finalmente, necesitamos compilar nuestro LSTM antes de que podamos entrenarlo con los datos de entrenamiento. El siguiente script compila nuestro modelo."
      ],
      "metadata": {
        "id": "Sp4pjRjL6aw0"
      }
    },
    {
      "cell_type": "code",
      "source": [
        "model.compile(optimizer = 'adam', loss= 'mae')"
      ],
      "metadata": {
        "id": "zwEygRDx5rfM"
      },
      "execution_count": null,
      "outputs": []
    },
    {
      "cell_type": "markdown",
      "source": [
        "Llamamos al método de compilación en el objeto de modelo secuencial que es \"model\" en nuestro caso. Usamos el \n",
        "error absoluto medio como función de pérdida y para reducir la pérdida u optimizar el algoritmo, usamos el optimizador de adam."
      ],
      "metadata": {
        "id": "zxzDIfQh67Ue"
      }
    },
    {
      "cell_type": "code",
      "metadata": {
        "id": "PSevl02cSDmi",
        "colab": {
          "base_uri": "https://localhost:8080/"
        },
        "outputId": "4106eec0-6896-4be6-9b5f-67231614104d"
      },
      "source": [
        "model.summary()"
      ],
      "execution_count": null,
      "outputs": [
        {
          "output_type": "stream",
          "name": "stdout",
          "text": [
            "Model: \"sequential\"\n",
            "_________________________________________________________________\n",
            " Layer (type)                Output Shape              Param #   \n",
            "=================================================================\n",
            " lstm (LSTM)                 (None, 60, 50)            10400     \n",
            "                                                                 \n",
            " dropout (Dropout)           (None, 60, 50)            0         \n",
            "                                                                 \n",
            " lstm_1 (LSTM)               (None, 60, 50)            20200     \n",
            "                                                                 \n",
            " dropout_1 (Dropout)         (None, 60, 50)            0         \n",
            "                                                                 \n",
            " lstm_2 (LSTM)               (None, 60, 50)            20200     \n",
            "                                                                 \n",
            " dropout_2 (Dropout)         (None, 60, 50)            0         \n",
            "                                                                 \n",
            " lstm_3 (LSTM)               (None, 50)                20200     \n",
            "                                                                 \n",
            " dropout_3 (Dropout)         (None, 50)                0         \n",
            "                                                                 \n",
            " dense (Dense)               (None, 1)                 51        \n",
            "                                                                 \n",
            "=================================================================\n",
            "Total params: 71,051\n",
            "Trainable params: 71,051\n",
            "Non-trainable params: 0\n",
            "_________________________________________________________________\n"
          ]
        }
      ]
    },
    {
      "cell_type": "markdown",
      "source": [
        "**Entrenamiento de algoritmos**\n",
        "\n",
        "Ahora es el momento de entrenar el modelo que definimos en los pasos anteriores. Para hacerlo, llamamos al método fit en el model y le pasamos nuestras características y etiquetas de entrenamiento como se muestra a continuación:"
      ],
      "metadata": {
        "id": "H6Gk11yW7M91"
      }
    },
    {
      "cell_type": "code",
      "metadata": {
        "id": "-m45mugpvB2k",
        "colab": {
          "base_uri": "https://localhost:8080/"
        },
        "outputId": "999af6eb-04f5-476c-e871-1985c83b3c96"
      },
      "source": [
        "model.fit(X_train, labels, epochs = 100, batch_size = 32)"
      ],
      "execution_count": null,
      "outputs": [
        {
          "output_type": "execute_result",
          "data": {
            "text/plain": [
              "<keras.callbacks.History at 0x7fccc57598d0>"
            ]
          },
          "metadata": {},
          "execution_count": 22
        }
      ]
    },
    {
      "cell_type": "markdown",
      "source": [
        "## Probando nuestro LSTM"
      ],
      "metadata": {
        "id": "pWrDE6TMIizY"
      }
    },
    {
      "cell_type": "markdown",
      "source": [
        "Hemos entrenado con éxito nuestro LSTM, ahora es el momento de probar el rendimiento de nuestro algoritmo en el conjunto de prueba al predecir los precios de apertura de las acciones para el mes de enero de 2018. Sin embargo, como hicimos con los datos de entrenamiento, necesitamos convertir nuestro datos de prueba en el formato correcto.\n",
        "\n",
        "Primero importemos nuestros datos de prueba."
      ],
      "metadata": {
        "id": "72EojM22B0wv"
      }
    },
    {
      "cell_type": "code",
      "source": [
        "X_test = test.iloc[:, 1:2].values  "
      ],
      "metadata": {
        "id": "yYbnKiREFetA"
      },
      "execution_count": null,
      "outputs": []
    },
    {
      "cell_type": "markdown",
      "source": [
        "Como ya comentamos con anterioridad, como hicimos con los datos de entrenamiento, eliminamos todas las columnas de los datos de prueba excepto la columna que contiene los precios de las acciones de apertura."
      ],
      "metadata": {
        "id": "_tkxLO1jIzFQ"
      }
    },
    {
      "cell_type": "markdown",
      "source": [
        "**Conversión de datos de prueba al formato correcto**\n",
        "\n",
        "Para cada día de enero de 2018, queremos que nuestro conjunto de funciones contenga los precios de apertura de las acciones de los 60 días anteriores. Para el 1 de enero, necesitamos los precios de las acciones de los 60 días anteriores. Para hacerlo, necesitamos concatenar nuestros datos de entrenamiento y datos de prueba antes del preprocesamiento. "
      ],
      "metadata": {
        "id": "HxQlr7orI4Wr"
      }
    },
    {
      "cell_type": "code",
      "source": [
        "total = pd.concat((train['Open'], test['Open']), axis=0)"
      ],
      "metadata": {
        "id": "YUV3a5Y2Ip1S"
      },
      "execution_count": null,
      "outputs": []
    },
    {
      "cell_type": "markdown",
      "source": [
        "Ahora preparemos nuestras entradas de prueba. La entrada para cada día debe contener los precios de apertura de las acciones de los 60 días anteriores. Eso significa que necesitamos los precios de las acciones de apertura para los 20 días de prueba del mes de enero de 2018 y los 60 precios de las acciones de los últimos 60 días para el conjunto de entrenamiento. Ejecute el siguiente script para obtener esos 80 valores."
      ],
      "metadata": {
        "id": "NB9LOQPvJKlj"
      }
    },
    {
      "cell_type": "code",
      "source": [
        "test_inputs = total[len(total) - len(X_test) - 60:].values"
      ],
      "metadata": {
        "id": "1lWPQ5DuJJ-v"
      },
      "execution_count": null,
      "outputs": []
    },
    {
      "cell_type": "markdown",
      "source": [
        "Como hicimos con el conjunto de entrenamiento, necesitamos escalar nuestros datos de prueba."
      ],
      "metadata": {
        "id": "tABWZ-2EJdPD"
      }
    },
    {
      "cell_type": "code",
      "source": [
        "test_inputs = test_inputs.reshape(-1,1)\n",
        "test_inputs = scaler.transform(test_inputs)"
      ],
      "metadata": {
        "id": "abhr4I6hJdh8"
      },
      "execution_count": null,
      "outputs": []
    },
    {
      "cell_type": "markdown",
      "source": [
        "Escalamos nuestros datos, ahora preparemos nuestro conjunto de entrada de prueba final que contendrá los 60 precios de acciones anteriores para el mes de enero. "
      ],
      "metadata": {
        "id": "N8jF9LWoJhz4"
      }
    },
    {
      "cell_type": "code",
      "source": [
        "test_features = []\n",
        "for i in range(60, 80):\n",
        "    test_features.append(test_inputs[i-60:i, 0])"
      ],
      "metadata": {
        "id": "ocDitaUyJkNS"
      },
      "execution_count": null,
      "outputs": []
    },
    {
      "cell_type": "markdown",
      "source": [
        "Finalmente, necesitamos convertir nuestros datos al formato tridimensional que se puede usar como entrada para el LSTM."
      ],
      "metadata": {
        "id": "xOZpIYs8JlOt"
      }
    },
    {
      "cell_type": "code",
      "source": [
        "test_features = np.array(test_features)\n",
        "test_features = np.reshape(test_features, (test_features.shape[0], test_features.shape[1], 1))"
      ],
      "metadata": {
        "id": "8U6fzyk9JniM"
      },
      "execution_count": null,
      "outputs": []
    },
    {
      "cell_type": "markdown",
      "source": [
        "Haciendo predicciones\n",
        "Ahora es el momento de ver la magia. Preprocesamos nuestros datos de prueba y ahora podemos usarlos para hacer predicciones. Para hacerlo, simplemente necesitamos llamar al predictmétodo en el modelo que entrenamos."
      ],
      "metadata": {
        "id": "ksr2E16RJ0rs"
      }
    },
    {
      "cell_type": "code",
      "source": [
        "predictions = model.predict(test_features)"
      ],
      "metadata": {
        "id": "rtY9lcYZJ34I"
      },
      "execution_count": null,
      "outputs": []
    },
    {
      "cell_type": "markdown",
      "source": [
        "Dado que escalamos nuestros datos, las predicciones realizadas por el LSTM también se escalan. Necesitamos revertir la predicción escalada a sus valores reales. Para hacerlo, podemos usar el ìnverse_transformmétodo del objeto escalador que creamos durante el entrenamiento."
      ],
      "metadata": {
        "id": "8B3WOBRsKcC2"
      }
    },
    {
      "cell_type": "code",
      "source": [
        "predictions = scaler.inverse_transform(predictions)"
      ],
      "metadata": {
        "id": "Sk-dsvyvJ4Wf"
      },
      "execution_count": null,
      "outputs": []
    },
    {
      "cell_type": "code",
      "source": [
        "# EVALUACION\n",
        "score_train = model.evaluate(X_train, labels, batch_size=32)\n",
        "score_test = model.evaluate(test_features, predictions, batch_size=32)\n",
        "\n",
        "print('MAE en el entrenamiento:', np.round(score_train))\n",
        "print('MAE en el test:', np.round(score_test))"
      ],
      "metadata": {
        "colab": {
          "base_uri": "https://localhost:8080/"
        },
        "id": "laRkIZNg7mmZ",
        "outputId": "2d4706ca-e243-48a2-f09c-fb8f2277a668"
      },
      "execution_count": null,
      "outputs": [
        {
          "output_type": "stream",
          "name": "stdout",
          "text": [
            "72/72 [==============================] - 2s 25ms/step - loss: 0.0072\n",
            "1/1 [==============================] - 2s 2s/step - loss: 550.6030\n",
            "MAE en el entrenamiento: 0.0\n",
            "MAE en el test: 551.0\n"
          ]
        }
      ]
    },
    {
      "cell_type": "markdown",
      "source": [
        "Finalmente, veamos qué tan bien predijo nuestro algoritmo los precios futuros de las acciones visualmente."
      ],
      "metadata": {
        "id": "bOgQhcTZKf3c"
      }
    },
    {
      "cell_type": "code",
      "source": [
        "plt.figure(figsize=(10,6))\n",
        "plt.plot(X_test[0:20], color='blue', label='Actual Stock Price')\n",
        "plt.plot(predictions , color='red', label='Predicted Stock Price')\n",
        "plt.title('Stock Price Prediction')\n",
        "plt.xlabel('Date')\n",
        "plt.ylabel('Stock Price')\n",
        "plt.legend()\n",
        "plt.show()"
      ],
      "metadata": {
        "colab": {
          "base_uri": "https://localhost:8080/",
          "height": 404
        },
        "id": "_TA-LtL6J4eI",
        "outputId": "531305c9-46e7-4171-e6b7-66c83a8163cc"
      },
      "execution_count": null,
      "outputs": [
        {
          "output_type": "display_data",
          "data": {
            "text/plain": [
              "<Figure size 720x432 with 1 Axes>"
            ],
            "image/png": "[encoded data removed]"
          },
          "metadata": {
            "needs_background": "light"
          }
        }
      ]
    },
    {
      "cell_type": "markdown",
      "source": [
        "En el resultado, la línea azul representa los precios de las acciones reales para el mes de enero de 2018, mientras que la línea roja representa los precios de las acciones pronosticados. Puede ver claramente que nuestro algoritmo ha podido capturar la tendencia general. Los precios pronosticados también ven una tendencia alcista al principio seguida de una tendencia bajista o bajista al final. "
      ],
      "metadata": {
        "id": "zt2RN4fbi4Mg"
      }
    },
    {
      "cell_type": "markdown",
      "source": [
        "## Conclusión"
      ],
      "metadata": {
        "id": "R48sQbuhjG_W"
      }
    },
    {
      "cell_type": "markdown",
      "source": [
        "Una red de memoria larga a corto plazo (LSTM) es una de las redes neuronales más utilizadas para el análisis de series temporales. La capacidad de LSTM para recordar información previa lo hace ideal para tales tareas. En este ejercico se ha visto cómo podemos usar LSTM para la predicción del precio de las acciones. "
      ],
      "metadata": {
        "id": "c9nxdX92jGMY"
      }
    },
    {
      "cell_type": "markdown",
      "source": [
        "En diferencia con los casos anteriores lo que hemos hecho es: Primero, entendimos nuestros datos, como hemos visto, esto es algo muy importante porque así nos damos cuenta que datos tenemos que seleccionar y cuáles son las variables más importantes para predecir el precio de las acciones de Google. \n",
        "\n",
        "Además tambien controlamos némero el parámetro de los modelos, no ni es un número pequeño de parámetro como en los ejercicios 1 y 3 (parámetros 11 y 0 respectrvimente) ni un valor de parámetro 81 como en el ejercico 2. En este caso, tenemos 51 parámentros."
      ],
      "metadata": {
        "id": "IfFZEKqj3yAO"
      }
    }
  ]
}