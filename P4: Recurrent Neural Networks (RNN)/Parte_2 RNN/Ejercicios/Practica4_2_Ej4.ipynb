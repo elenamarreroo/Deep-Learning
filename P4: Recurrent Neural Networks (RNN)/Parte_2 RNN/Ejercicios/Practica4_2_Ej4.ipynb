{
  "nbformat": 4,
  "nbformat_minor": 0,
  "metadata": {
    "colab": {
      "provenance": [],
      "collapsed_sections": []
    },
    "kernelspec": {
      "name": "python3",
      "display_name": "Python 3"
    },
    "accelerator": "GPU"
  },
  "cells": [
    {
      "cell_type": "markdown",
      "source": [
        "# **PRÁCTICA 4:  Deep Learning - Parte 2: RNN**\n",
        "### Universitat de València, Escola Tecnica Superior d'Enginyeria\n",
        "### Elena Marrero Castellano | 4ª curso del Grado Ciencia de Datos"
      ],
      "metadata": {
        "id": "Cp6rUC7Wowvn"
      }
    },
    {
      "cell_type": "markdown",
      "source": [
        "## **Ejercicio 4: Haz un modelo que use la capa Bidirectional: https://keras.io/api/layers/recurrent_layers/bidirectional/** \n",
        "\n",
        "\n"
      ],
      "metadata": {
        "id": "xBAxP1AQREjA"
      }
    },
    {
      "cell_type": "markdown",
      "source": [
        "# Laboratorio\n",
        "\n",
        "Vamos a hacer predicción del valor de un activo financiero de una empresa a partir del valor de los días anteriores de varias compañías."
      ],
      "metadata": {
        "id": "mTver5RWpIFs"
      }
    },
    {
      "cell_type": "code",
      "source": [
        "# Importamos librerías\n",
        "from keras.models import Sequential\n",
        "from keras.layers import Dense, Flatten, Conv1D, LSTM, GRU, Bidirectional\n",
        "from tensorflow.keras.layers import Input\n",
        "from keras.callbacks import History \n",
        "import numpy as np\n",
        "import pandas as pd\n",
        "import matplotlib.pyplot as plt\n",
        "from tensorflow.keras.optimizers import Adam, SGD"
      ],
      "metadata": {
        "id": "5iMJZwiaulkV"
      },
      "execution_count": null,
      "outputs": []
    },
    {
      "cell_type": "markdown",
      "metadata": {
        "collapsed": true,
        "id": "e18-vJ_IfEza"
      },
      "source": [
        "Para leer datos lo mejor es usar la toolbox pandas\n",
        "\n",
        "Los datos se han sacado de:\n",
        "https://www.kaggle.com/borismarjanovic/price-volume-data-for-all-us-stocks-etfs/version/3"
      ]
    },
    {
      "cell_type": "code",
      "metadata": {
        "id": "7HsjSYqPfEze"
      },
      "source": [
        "dd_googl = pd.read_csv(\"googl.us.txt\", delimiter=\",\")\n",
        "dd_aa = pd.read_csv(\"aa.us.txt\", delimiter=\",\")\n",
        "dd_iae = pd.read_csv(\"iae.us.txt\", delimiter=\",\")"
      ],
      "execution_count": null,
      "outputs": []
    },
    {
      "cell_type": "code",
      "metadata": {
        "id": "VtM0xnsYfEz0"
      },
      "source": [
        "googl_op = dd_googl['Open'].values\n",
        "aa_op = dd_aa['Open'].values\n",
        "iae_op = dd_iae['Open'].values"
      ],
      "execution_count": null,
      "outputs": []
    },
    {
      "cell_type": "code",
      "metadata": {
        "id": "hN4bVTZUfEz8"
      },
      "source": [
        "aa = dd_googl['Date'].values\n",
        "googl_indice = np.zeros(aa.shape)\n",
        "for n in range(0, aa.shape[0]):\n",
        "    cc = aa[n]\n",
        "    qq1 = np.asarray(cc[0:4], dtype=np.float64, order='C')\n",
        "    qq2 = np.asarray(cc[5:7], dtype=np.float64, order='C')\n",
        "    qq3 = np.asarray(cc[8:10], dtype=np.float64, order='C')\n",
        "\n",
        "    googl_indice[n] = (qq1-2000)*365 + qq2*30 + qq3"
      ],
      "execution_count": null,
      "outputs": []
    },
    {
      "cell_type": "code",
      "metadata": {
        "id": "tpwSaRT7fE0D"
      },
      "source": [
        "aa = dd_aa['Date'].values\n",
        "aa_indice = np.zeros(aa.shape)\n",
        "for n in range(0, aa.shape[0]):\n",
        "    cc = aa[n]\n",
        "    qq1 = np.asarray(cc[0:4], dtype=np.float64, order='C')\n",
        "    qq2 = np.asarray(cc[5:7], dtype=np.float64, order='C')\n",
        "    qq3 = np.asarray(cc[8:10], dtype=np.float64, order='C')\n",
        "\n",
        "    aa_indice[n] = (qq1-2000)*365 + qq2*30 + qq3"
      ],
      "execution_count": null,
      "outputs": []
    },
    {
      "cell_type": "code",
      "metadata": {
        "id": "WfkAsDo4fE0N"
      },
      "source": [
        "aa = dd_iae['Date'].values\n",
        "iae_indice = np.zeros(aa.shape)\n",
        "for n in range(0, aa.shape[0]):\n",
        "    cc = aa[n]\n",
        "    qq1 = np.asarray(cc[0:4], dtype=np.float64, order='C')\n",
        "    qq2 = np.asarray(cc[5:7], dtype=np.float64, order='C')\n",
        "    qq3 = np.asarray(cc[8:10], dtype=np.float64, order='C')\n",
        "\n",
        "    iae_indice[n] = (qq1-2000)*365 + qq2*30 + qq3"
      ],
      "execution_count": null,
      "outputs": []
    },
    {
      "cell_type": "code",
      "metadata": {
        "id": "VR2FHL6ufE0V",
        "colab": {
          "base_uri": "https://localhost:8080/"
        },
        "outputId": "e6b1a4dc-b228-4260-8658-b5f9b682ade5"
      },
      "source": [
        "print(googl_indice.shape)\n",
        "print(googl_op.shape)"
      ],
      "execution_count": null,
      "outputs": [
        {
          "output_type": "stream",
          "name": "stdout",
          "text": [
            "(3333,)\n",
            "(3333,)\n"
          ]
        }
      ]
    },
    {
      "cell_type": "code",
      "metadata": {
        "id": "Z75bJRV5fE0y"
      },
      "source": [
        "indices = set(googl_indice) & set(aa_indice) & set(iae_indice) \n",
        "\n",
        "ii = np.in1d(googl_indice,list(indices))\n",
        "data_googl = googl_op[ii]\n",
        "ii = np.in1d(aa_indice,list(indices))\n",
        "data_aa = aa_op[ii]\n",
        "ii = np.in1d(iae_indice,list(indices))\n",
        "data_iae = iae_op[ii]"
      ],
      "execution_count": null,
      "outputs": []
    },
    {
      "cell_type": "code",
      "metadata": {
        "id": "jS3hc9OefE04",
        "colab": {
          "base_uri": "https://localhost:8080/",
          "height": 283
        },
        "outputId": "4b271046-ac9c-4fe8-99d3-d6c5ec439ffb"
      },
      "source": [
        "%matplotlib inline\n",
        "plt.figure()\n",
        "plt.plot(data_googl)\n",
        "plt.plot(data_aa)\n",
        "plt.plot(data_iae)"
      ],
      "execution_count": null,
      "outputs": [
        {
          "output_type": "execute_result",
          "data": {
            "text/plain": [
              "[<matplotlib.lines.Line2D at 0x7f6330ce7290>]"
            ]
          },
          "metadata": {},
          "execution_count": 9
        },
        {
          "output_type": "display_data",
          "data": {
            "text/plain": [
              "<Figure size 432x288 with 1 Axes>"
            ],
            "image/png": "[encoded data removed]"
          },
          "metadata": {
            "needs_background": "light"
          }
        }
      ]
    },
    {
      "cell_type": "code",
      "metadata": {
        "id": "XtuUa24tfE1C"
      },
      "source": [
        "DAT = np.zeros((data_googl.shape[0],3))\n",
        "DAT[:,0] = data_googl\n",
        "DAT[:,1] = data_aa\n",
        "DAT[:,2] = data_iae          "
      ],
      "execution_count": null,
      "outputs": []
    },
    {
      "cell_type": "code",
      "metadata": {
        "id": "XxHjD63SXFPV",
        "colab": {
          "base_uri": "https://localhost:8080/"
        },
        "outputId": "82122324-331a-4d39-99be-872a6c859b8c"
      },
      "source": [
        "DAT.shape"
      ],
      "execution_count": null,
      "outputs": [
        {
          "output_type": "execute_result",
          "data": {
            "text/plain": [
              "(2678, 3)"
            ]
          },
          "metadata": {},
          "execution_count": 11
        }
      ]
    },
    {
      "cell_type": "code",
      "metadata": {
        "id": "xmCzN6XUfE1S"
      },
      "source": [
        "LAG = 5\n",
        "DAT_TS = np.zeros((DAT.shape[0]-LAG,LAG,DAT.shape[1]))\n",
        "\n",
        "for ii in range(0,DAT.shape[0]-LAG):\n",
        "    DAT_TS[ii,:,:] = DAT[ii:ii+LAG,:]  "
      ],
      "execution_count": null,
      "outputs": []
    },
    {
      "cell_type": "code",
      "metadata": {
        "id": "V5zawxjsXYXb",
        "colab": {
          "base_uri": "https://localhost:8080/"
        },
        "outputId": "0c2a5a9b-14ca-45c3-df84-da71589231eb"
      },
      "source": [
        "DAT_TS.shape"
      ],
      "execution_count": null,
      "outputs": [
        {
          "output_type": "execute_result",
          "data": {
            "text/plain": [
              "(2673, 5, 3)"
            ]
          },
          "metadata": {},
          "execution_count": 13
        }
      ]
    },
    {
      "cell_type": "code",
      "metadata": {
        "id": "StW902QwfE1l",
        "colab": {
          "base_uri": "https://localhost:8080/"
        },
        "outputId": "ca6b9bde-0493-492a-84ac-901a4c7d7854"
      },
      "source": [
        "Ntr = np.floor(DAT_TS.shape[0]/2)\n",
        "Y_target = 0\n",
        "\n",
        "XX_tr = DAT_TS[range(0,np.int(Ntr)),0:LAG-1,:]\n",
        "XX_ts = DAT_TS[range(np.int(Ntr)+1,2*np.int(Ntr)),0:LAG-1,:]\n",
        "\n",
        "YY_tr = DAT_TS[range(0,np.int(Ntr)),LAG-1,Y_target]\n",
        "YY_ts = DAT_TS[range(np.int(Ntr)+1,2*np.int(Ntr)),LAG-1,Y_target]"
      ],
      "execution_count": null,
      "outputs": [
        {
          "output_type": "stream",
          "name": "stderr",
          "text": [
            "/usr/local/lib/python3.7/dist-packages/ipykernel_launcher.py:4: DeprecationWarning: `np.int` is a deprecated alias for the builtin `int`. To silence this warning, use `int` by itself. Doing this will not modify any behavior and is safe. When replacing `np.int`, you may wish to use e.g. `np.int64` or `np.int32` to specify the precision. If you wish to review your current use, check the release note link for additional information.\n",
            "Deprecated in NumPy 1.20; for more details and guidance: https://numpy.org/devdocs/release/1.20.0-notes.html#deprecations\n",
            "  after removing the cwd from sys.path.\n",
            "/usr/local/lib/python3.7/dist-packages/ipykernel_launcher.py:5: DeprecationWarning: `np.int` is a deprecated alias for the builtin `int`. To silence this warning, use `int` by itself. Doing this will not modify any behavior and is safe. When replacing `np.int`, you may wish to use e.g. `np.int64` or `np.int32` to specify the precision. If you wish to review your current use, check the release note link for additional information.\n",
            "Deprecated in NumPy 1.20; for more details and guidance: https://numpy.org/devdocs/release/1.20.0-notes.html#deprecations\n",
            "  \"\"\"\n",
            "/usr/local/lib/python3.7/dist-packages/ipykernel_launcher.py:7: DeprecationWarning: `np.int` is a deprecated alias for the builtin `int`. To silence this warning, use `int` by itself. Doing this will not modify any behavior and is safe. When replacing `np.int`, you may wish to use e.g. `np.int64` or `np.int32` to specify the precision. If you wish to review your current use, check the release note link for additional information.\n",
            "Deprecated in NumPy 1.20; for more details and guidance: https://numpy.org/devdocs/release/1.20.0-notes.html#deprecations\n",
            "  import sys\n",
            "/usr/local/lib/python3.7/dist-packages/ipykernel_launcher.py:8: DeprecationWarning: `np.int` is a deprecated alias for the builtin `int`. To silence this warning, use `int` by itself. Doing this will not modify any behavior and is safe. When replacing `np.int`, you may wish to use e.g. `np.int64` or `np.int32` to specify the precision. If you wish to review your current use, check the release note link for additional information.\n",
            "Deprecated in NumPy 1.20; for more details and guidance: https://numpy.org/devdocs/release/1.20.0-notes.html#deprecations\n",
            "  \n"
          ]
        }
      ]
    },
    {
      "cell_type": "code",
      "metadata": {
        "id": "yqrTYim2fE1v",
        "colab": {
          "base_uri": "https://localhost:8080/"
        },
        "outputId": "b82abeb4-7f9b-48e3-aede-dd23ef872c13"
      },
      "source": [
        "XX_tr.shape"
      ],
      "execution_count": null,
      "outputs": [
        {
          "output_type": "execute_result",
          "data": {
            "text/plain": [
              "(1336, 4, 3)"
            ]
          },
          "metadata": {},
          "execution_count": 15
        }
      ]
    },
    {
      "cell_type": "markdown",
      "metadata": {
        "id": "WPJMRR95fE1_"
      },
      "source": [
        "## MODELO"
      ]
    },
    {
      "cell_type": "code",
      "source": [
        "model = Sequential()\n",
        "model.add(Input(shape=(4,3)))\n",
        "model.add(Conv1D(20, kernel_size=2,  activation='relu'))\n",
        "model.add(Bidirectional(LSTM(20, return_sequences=True, activation=\"relu\")))\n",
        "model.add(Flatten())\n",
        "model.add(Dense(1))"
      ],
      "metadata": {
        "id": "JeK5efMIlXhv"
      },
      "execution_count": null,
      "outputs": []
    },
    {
      "cell_type": "code",
      "source": [
        "#learning_rate: la longitud de paso del algoritmo\n",
        "#momentum: velocidad de descenso al gradiente\n",
        "model.compile(optimizer=Adam(learning_rate=0.0001), loss=\"mae\") \n",
        "#model.compile(optimizer=SGD(learning_rate=..., momentum=...), loss=\"mae\")"
      ],
      "metadata": {
        "id": "wrvM7LgmpQrJ"
      },
      "execution_count": null,
      "outputs": []
    },
    {
      "cell_type": "code",
      "metadata": {
        "id": "OQ5MicB-YCdH",
        "colab": {
          "base_uri": "https://localhost:8080/"
        },
        "outputId": "b6c15a17-03d7-45bc-b412-209b3ac2ce37"
      },
      "source": [
        "model.summary()"
      ],
      "execution_count": null,
      "outputs": [
        {
          "output_type": "stream",
          "name": "stdout",
          "text": [
            "Model: \"sequential\"\n",
            "_________________________________________________________________\n",
            " Layer (type)                Output Shape              Param #   \n",
            "=================================================================\n",
            " conv1d (Conv1D)             (None, 3, 20)             140       \n",
            "                                                                 \n",
            " bidirectional (Bidirectiona  (None, 3, 40)            6560      \n",
            " l)                                                              \n",
            "                                                                 \n",
            " flatten (Flatten)           (None, 120)               0         \n",
            "                                                                 \n",
            " dense (Dense)               (None, 1)                 121       \n",
            "                                                                 \n",
            "=================================================================\n",
            "Total params: 6,821\n",
            "Trainable params: 6,821\n",
            "Non-trainable params: 0\n",
            "_________________________________________________________________\n"
          ]
        }
      ]
    },
    {
      "cell_type": "markdown",
      "source": [
        "## Evaluación"
      ],
      "metadata": {
        "id": "_THBUqSU4Y_J"
      }
    },
    {
      "cell_type": "code",
      "metadata": {
        "scrolled": true,
        "id": "rUzDlBvefE2y",
        "colab": {
          "base_uri": "https://localhost:8080/"
        },
        "outputId": "f9fb2024-4215-426c-e133-a1850ae587ba"
      },
      "source": [
        "history = History()\n",
        "model.fit(XX_tr, YY_tr, batch_size=32, epochs=80, validation_split=0.3,\n",
        "          verbose=0, callbacks=[history]) #validation_data=(XX_ts, YY_ts)"
      ],
      "execution_count": null,
      "outputs": [
        {
          "output_type": "execute_result",
          "data": {
            "text/plain": [
              "<keras.callbacks.History at 0x7f632c044110>"
            ]
          },
          "metadata": {},
          "execution_count": 44
        }
      ]
    },
    {
      "cell_type": "code",
      "metadata": {
        "id": "1mvxBnpofE28",
        "colab": {
          "base_uri": "https://localhost:8080/",
          "height": 283
        },
        "outputId": "93b22754-db27-4d83-cfa7-133bb8a24171"
      },
      "source": [
        "loss_ev = history.history['loss']\n",
        "\n",
        "%matplotlib inline\n",
        "plt.figure()\n",
        "# Evolución del MAE\n",
        "plt.plot(loss_ev[0:-1])\n",
        "plt.plot(history.history[\"val_loss\"])"
      ],
      "execution_count": null,
      "outputs": [
        {
          "output_type": "execute_result",
          "data": {
            "text/plain": [
              "[<matplotlib.lines.Line2D at 0x7f632be78650>]"
            ]
          },
          "metadata": {},
          "execution_count": 52
        },
        {
          "output_type": "display_data",
          "data": {
            "text/plain": [
              "<Figure size 432x288 with 1 Axes>"
            ],
            "image/png": "[encoded data removed]"
          },
          "metadata": {
            "needs_background": "light"
          }
        }
      ]
    },
    {
      "cell_type": "code",
      "metadata": {
        "id": "cpMU60wRfE3G",
        "colab": {
          "base_uri": "https://localhost:8080/"
        },
        "outputId": "b7e6bb50-377a-4d7a-edc0-9682d4489be7"
      },
      "source": [
        "score = model.evaluate(XX_tr, YY_tr, verbose=0)\n",
        "score"
      ],
      "execution_count": null,
      "outputs": [
        {
          "output_type": "execute_result",
          "data": {
            "text/plain": [
              "3.6968047618865967"
            ]
          },
          "metadata": {},
          "execution_count": 46
        }
      ]
    },
    {
      "cell_type": "code",
      "metadata": {
        "id": "IWCBN1aZfE3L",
        "colab": {
          "base_uri": "https://localhost:8080/"
        },
        "outputId": "d7ef78d3-f69b-4455-b8d3-8024d3717609"
      },
      "source": [
        "y_hat = model.predict(XX_tr)\n",
        "np.mean(abs(y_hat[:,0]-YY_tr))"
      ],
      "execution_count": null,
      "outputs": [
        {
          "output_type": "execute_result",
          "data": {
            "text/plain": [
              "3.6968035011519924"
            ]
          },
          "metadata": {},
          "execution_count": 47
        }
      ]
    },
    {
      "cell_type": "code",
      "metadata": {
        "id": "CW_o_6cGfE3S",
        "colab": {
          "base_uri": "https://localhost:8080/"
        },
        "outputId": "25652876-18ad-4a39-80fa-228bf25138c8"
      },
      "source": [
        "y_hat.shape"
      ],
      "execution_count": null,
      "outputs": [
        {
          "output_type": "execute_result",
          "data": {
            "text/plain": [
              "(1336, 1)"
            ]
          },
          "metadata": {},
          "execution_count": 48
        }
      ]
    },
    {
      "cell_type": "markdown",
      "metadata": {
        "id": "c_I2B87hfE3g"
      },
      "source": [
        "## TEST"
      ]
    },
    {
      "cell_type": "code",
      "metadata": {
        "id": "nu6befzBfE3h",
        "colab": {
          "base_uri": "https://localhost:8080/"
        },
        "outputId": "1a0f6674-7f81-44be-f54f-8b588c568aee"
      },
      "source": [
        "y_hat = model.predict(XX_ts)\n",
        "np.mean(abs(y_hat[:,0]-YY_ts))"
      ],
      "execution_count": null,
      "outputs": [
        {
          "output_type": "execute_result",
          "data": {
            "text/plain": [
              "7.442393713790379"
            ]
          },
          "metadata": {},
          "execution_count": 49
        }
      ]
    },
    {
      "cell_type": "code",
      "metadata": {
        "scrolled": true,
        "id": "daRz2tXdfE3l",
        "colab": {
          "base_uri": "https://localhost:8080/",
          "height": 283
        },
        "outputId": "ba983f03-ca24-454b-c693-4ade3aae236f"
      },
      "source": [
        "%matplotlib inline\n",
        "plt.figure()\n",
        "# Predición en el entrenamiento \n",
        "plt.plot(y_hat[:,0]-YY_ts, label='NN')\n",
        "plt.legend()"
      ],
      "execution_count": null,
      "outputs": [
        {
          "output_type": "execute_result",
          "data": {
            "text/plain": [
              "<matplotlib.legend.Legend at 0x7f632bf12910>"
            ]
          },
          "metadata": {},
          "execution_count": 50
        },
        {
          "output_type": "display_data",
          "data": {
            "text/plain": [
              "<Figure size 432x288 with 1 Axes>"
            ],
            "image/png": "[encoded data removed]"
          },
          "metadata": {
            "needs_background": "light"
          }
        }
      ]
    },
    {
      "cell_type": "code",
      "metadata": {
        "scrolled": true,
        "id": "xsuY7YHwfE3u",
        "colab": {
          "base_uri": "https://localhost:8080/",
          "height": 283
        },
        "outputId": "1f7e62ba-0f47-43ba-ca1d-2166c83a8853"
      },
      "source": [
        "plt.figure()\n",
        "# Predición en el test \n",
        "plt.plot(y_hat[:,0], label='y hat')\n",
        "plt.plot(YY_ts, label='y')\n",
        "plt.legend()"
      ],
      "execution_count": null,
      "outputs": [
        {
          "output_type": "execute_result",
          "data": {
            "text/plain": [
              "<matplotlib.legend.Legend at 0x7f632bf0e590>"
            ]
          },
          "metadata": {},
          "execution_count": 51
        },
        {
          "output_type": "display_data",
          "data": {
            "text/plain": [
              "<Figure size 432x288 with 1 Axes>"
            ],
            "image/png": "[encoded data removed]"
          },
          "metadata": {
            "needs_background": "light"
          }
        }
      ]
    }
  ]
}