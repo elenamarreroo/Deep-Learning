{
  "nbformat": 4,
  "nbformat_minor": 0,
  "metadata": {
    "colab": {
      "provenance": [],
      "collapsed_sections": [
        "WPJMRR95fE1_",
        "Lk7YhiZIdnaX",
        "vW0zNIMSiPSw",
        "XUtPugRtdp-G",
        "6V9CyoA7wlJK",
        "hWH8AkOghQaI"
      ]
    },
    "kernelspec": {
      "name": "python3",
      "display_name": "Python 3"
    },
    "accelerator": "GPU"
  },
  "cells": [
    {
      "cell_type": "markdown",
      "source": [
        "# **PRÁCTICA 4:  Deep Learning - Parte 2: RNN**\n",
        "### Universitat de València, Escola Tecnica Superior d'Enginyeria\n",
        "### Elena Marrero Castellano | 4ª curso del Grado Ciencia de Datos"
      ],
      "metadata": {
        "id": "Cp6rUC7Wowvn"
      }
    },
    {
      "cell_type": "markdown",
      "source": [
        "## **Ejercicio 3: Modifica la capa LSTM para que use una función de activación diferente. ¿Qué pasa con el entrenamiento?**\n"
      ],
      "metadata": {
        "id": "xBAxP1AQREjA"
      }
    },
    {
      "cell_type": "markdown",
      "source": [
        "# Laboratorio\n",
        "\n",
        "Vamos a hacer predicción del valor de un activo financiero de una empresa a partir del valor de los días anteriores de varias compañías."
      ],
      "metadata": {
        "id": "mTver5RWpIFs"
      }
    },
    {
      "cell_type": "markdown",
      "source": [
        "## Datos y librerías"
      ],
      "metadata": {
        "id": "YDmuGfNY620v"
      }
    },
    {
      "cell_type": "code",
      "source": [
        "# Importamos librerías\n",
        "from keras.models import Sequential\n",
        "from keras.layers import Dense, Flatten, Conv1D, LSTM, GRU\n",
        "import numpy as np\n",
        "import pandas as pd\n",
        "from keras.callbacks import History \n",
        "import matplotlib.pyplot as plt\n",
        "import matplotlib.pyplot as plt\n",
        "import matplotlib.pyplot as plt"
      ],
      "metadata": {
        "id": "5iMJZwiaulkV"
      },
      "execution_count": null,
      "outputs": []
    },
    {
      "cell_type": "markdown",
      "metadata": {
        "collapsed": true,
        "id": "e18-vJ_IfEza"
      },
      "source": [
        "Para leer datos lo mejor es usar la toolbox pandas\n",
        "\n",
        "Los datos se han sacado de:\n",
        "https://www.kaggle.com/borismarjanovic/price-volume-data-for-all-us-stocks-etfs/version/3"
      ]
    },
    {
      "cell_type": "code",
      "metadata": {
        "id": "7HsjSYqPfEze"
      },
      "source": [
        "dd_googl = pd.read_csv(\"googl.us.txt\", delimiter=\",\")\n",
        "dd_aa = pd.read_csv(\"aa.us.txt\", delimiter=\",\")\n",
        "dd_iae = pd.read_csv(\"iae.us.txt\", delimiter=\",\")"
      ],
      "execution_count": null,
      "outputs": []
    },
    {
      "cell_type": "code",
      "metadata": {
        "id": "VtM0xnsYfEz0"
      },
      "source": [
        "googl_op = dd_googl['Open'].values\n",
        "aa_op = dd_aa['Open'].values\n",
        "iae_op = dd_iae['Open'].values"
      ],
      "execution_count": null,
      "outputs": []
    },
    {
      "cell_type": "code",
      "metadata": {
        "id": "hN4bVTZUfEz8"
      },
      "source": [
        "aa = dd_googl['Date'].values\n",
        "googl_indice = np.zeros(aa.shape)\n",
        "for n in range(0, aa.shape[0]):\n",
        "    cc = aa[n]\n",
        "    qq1 = np.asarray(cc[0:4], dtype=np.float64, order='C')\n",
        "    qq2 = np.asarray(cc[5:7], dtype=np.float64, order='C')\n",
        "    qq3 = np.asarray(cc[8:10], dtype=np.float64, order='C')\n",
        "\n",
        "    googl_indice[n] = (qq1-2000)*365 + qq2*30 + qq3"
      ],
      "execution_count": null,
      "outputs": []
    },
    {
      "cell_type": "code",
      "metadata": {
        "id": "tpwSaRT7fE0D"
      },
      "source": [
        "aa = dd_aa['Date'].values\n",
        "aa_indice = np.zeros(aa.shape)\n",
        "for n in range(0, aa.shape[0]):\n",
        "    cc = aa[n]\n",
        "    qq1 = np.asarray(cc[0:4], dtype=np.float64, order='C')\n",
        "    qq2 = np.asarray(cc[5:7], dtype=np.float64, order='C')\n",
        "    qq3 = np.asarray(cc[8:10], dtype=np.float64, order='C')\n",
        "\n",
        "    aa_indice[n] = (qq1-2000)*365 + qq2*30 + qq3"
      ],
      "execution_count": null,
      "outputs": []
    },
    {
      "cell_type": "code",
      "metadata": {
        "id": "WfkAsDo4fE0N"
      },
      "source": [
        "aa = dd_iae['Date'].values\n",
        "iae_indice = np.zeros(aa.shape)\n",
        "for n in range(0, aa.shape[0]):\n",
        "    cc = aa[n]\n",
        "    qq1 = np.asarray(cc[0:4], dtype=np.float64, order='C')\n",
        "    qq2 = np.asarray(cc[5:7], dtype=np.float64, order='C')\n",
        "    qq3 = np.asarray(cc[8:10], dtype=np.float64, order='C')\n",
        "\n",
        "    iae_indice[n] = (qq1-2000)*365 + qq2*30 + qq3"
      ],
      "execution_count": null,
      "outputs": []
    },
    {
      "cell_type": "code",
      "metadata": {
        "id": "VR2FHL6ufE0V",
        "colab": {
          "base_uri": "https://localhost:8080/"
        },
        "outputId": "c7f27bcb-d3c0-4f49-abf4-ffc0c7af0b18"
      },
      "source": [
        "print(googl_indice.shape)\n",
        "print(googl_op.shape)"
      ],
      "execution_count": null,
      "outputs": [
        {
          "output_type": "stream",
          "name": "stdout",
          "text": [
            "(3333,)\n",
            "(3333,)\n"
          ]
        }
      ]
    },
    {
      "cell_type": "code",
      "metadata": {
        "id": "Z75bJRV5fE0y"
      },
      "source": [
        "indices = set(googl_indice) & set(aa_indice) & set(iae_indice) \n",
        "\n",
        "ii = np.in1d(googl_indice,list(indices))\n",
        "data_googl = googl_op[ii]\n",
        "ii = np.in1d(aa_indice,list(indices))\n",
        "data_aa = aa_op[ii]\n",
        "ii = np.in1d(iae_indice,list(indices))\n",
        "data_iae = iae_op[ii]"
      ],
      "execution_count": null,
      "outputs": []
    },
    {
      "cell_type": "code",
      "metadata": {
        "id": "jS3hc9OefE04",
        "colab": {
          "base_uri": "https://localhost:8080/",
          "height": 283
        },
        "outputId": "a353f022-5503-4513-bffe-a589cf93dd19"
      },
      "source": [
        "%matplotlib inline\n",
        "plt.figure()\n",
        "plt.plot(data_googl)\n",
        "plt.plot(data_aa)\n",
        "plt.plot(data_iae)"
      ],
      "execution_count": null,
      "outputs": [
        {
          "output_type": "execute_result",
          "data": {
            "text/plain": [
              "[<matplotlib.lines.Line2D at 0x7fd7ade74950>]"
            ]
          },
          "metadata": {},
          "execution_count": 62
        },
        {
          "output_type": "display_data",
          "data": {
            "text/plain": [
              "<Figure size 432x288 with 1 Axes>"
            ],
            "image/png": "[encoded data removed]"
          },
          "metadata": {
            "needs_background": "light"
          }
        }
      ]
    },
    {
      "cell_type": "code",
      "metadata": {
        "id": "XtuUa24tfE1C"
      },
      "source": [
        "DAT = np.zeros((data_googl.shape[0],3))\n",
        "DAT[:,0] = data_googl\n",
        "DAT[:,1] = data_aa\n",
        "DAT[:,2] = data_iae          "
      ],
      "execution_count": null,
      "outputs": []
    },
    {
      "cell_type": "code",
      "metadata": {
        "id": "XxHjD63SXFPV",
        "colab": {
          "base_uri": "https://localhost:8080/"
        },
        "outputId": "62018831-15a9-4e5a-9262-34c08b4d70d2"
      },
      "source": [
        "DAT.shape"
      ],
      "execution_count": null,
      "outputs": [
        {
          "output_type": "execute_result",
          "data": {
            "text/plain": [
              "(2678, 3)"
            ]
          },
          "metadata": {},
          "execution_count": 64
        }
      ]
    },
    {
      "cell_type": "code",
      "metadata": {
        "id": "xmCzN6XUfE1S"
      },
      "source": [
        "LAG = 5\n",
        "DAT_TS = np.zeros((DAT.shape[0]-LAG,LAG,DAT.shape[1]))\n",
        "\n",
        "for ii in range(0,DAT.shape[0]-LAG):\n",
        "    DAT_TS[ii,:,:] = DAT[ii:ii+LAG,:]"
      ],
      "execution_count": null,
      "outputs": []
    },
    {
      "cell_type": "code",
      "metadata": {
        "id": "V5zawxjsXYXb",
        "colab": {
          "base_uri": "https://localhost:8080/"
        },
        "outputId": "ca9fa273-2ef0-4e0a-c6ad-7cab5f7926fc"
      },
      "source": [
        "DAT_TS.shape"
      ],
      "execution_count": null,
      "outputs": [
        {
          "output_type": "execute_result",
          "data": {
            "text/plain": [
              "(2673, 5, 3)"
            ]
          },
          "metadata": {},
          "execution_count": 66
        }
      ]
    },
    {
      "cell_type": "code",
      "metadata": {
        "id": "StW902QwfE1l",
        "colab": {
          "base_uri": "https://localhost:8080/"
        },
        "outputId": "1bf317f6-dd81-4ad0-fb12-f2d549a692bf"
      },
      "source": [
        "Ntr = np.floor(DAT_TS.shape[0]/2)\n",
        "Y_target = 0\n",
        "\n",
        "XX_tr = DAT_TS[range(0,np.int(Ntr)),0:LAG-1,:]\n",
        "XX_ts = DAT_TS[range(np.int(Ntr)+1,2*np.int(Ntr)),0:LAG-1,:]\n",
        "\n",
        "YY_tr = DAT_TS[range(0,np.int(Ntr)),LAG-1,Y_target]\n",
        "YY_ts = DAT_TS[range(np.int(Ntr)+1,2*np.int(Ntr)),LAG-1,Y_target]"
      ],
      "execution_count": null,
      "outputs": [
        {
          "output_type": "stream",
          "name": "stderr",
          "text": [
            "/usr/local/lib/python3.7/dist-packages/ipykernel_launcher.py:4: DeprecationWarning: `np.int` is a deprecated alias for the builtin `int`. To silence this warning, use `int` by itself. Doing this will not modify any behavior and is safe. When replacing `np.int`, you may wish to use e.g. `np.int64` or `np.int32` to specify the precision. If you wish to review your current use, check the release note link for additional information.\n",
            "Deprecated in NumPy 1.20; for more details and guidance: https://numpy.org/devdocs/release/1.20.0-notes.html#deprecations\n",
            "  after removing the cwd from sys.path.\n",
            "/usr/local/lib/python3.7/dist-packages/ipykernel_launcher.py:5: DeprecationWarning: `np.int` is a deprecated alias for the builtin `int`. To silence this warning, use `int` by itself. Doing this will not modify any behavior and is safe. When replacing `np.int`, you may wish to use e.g. `np.int64` or `np.int32` to specify the precision. If you wish to review your current use, check the release note link for additional information.\n",
            "Deprecated in NumPy 1.20; for more details and guidance: https://numpy.org/devdocs/release/1.20.0-notes.html#deprecations\n",
            "  \"\"\"\n",
            "/usr/local/lib/python3.7/dist-packages/ipykernel_launcher.py:7: DeprecationWarning: `np.int` is a deprecated alias for the builtin `int`. To silence this warning, use `int` by itself. Doing this will not modify any behavior and is safe. When replacing `np.int`, you may wish to use e.g. `np.int64` or `np.int32` to specify the precision. If you wish to review your current use, check the release note link for additional information.\n",
            "Deprecated in NumPy 1.20; for more details and guidance: https://numpy.org/devdocs/release/1.20.0-notes.html#deprecations\n",
            "  import sys\n",
            "/usr/local/lib/python3.7/dist-packages/ipykernel_launcher.py:8: DeprecationWarning: `np.int` is a deprecated alias for the builtin `int`. To silence this warning, use `int` by itself. Doing this will not modify any behavior and is safe. When replacing `np.int`, you may wish to use e.g. `np.int64` or `np.int32` to specify the precision. If you wish to review your current use, check the release note link for additional information.\n",
            "Deprecated in NumPy 1.20; for more details and guidance: https://numpy.org/devdocs/release/1.20.0-notes.html#deprecations\n",
            "  \n"
          ]
        }
      ]
    },
    {
      "cell_type": "code",
      "metadata": {
        "id": "yqrTYim2fE1v",
        "colab": {
          "base_uri": "https://localhost:8080/"
        },
        "outputId": "5fc94fd0-5f60-4983-a702-d4d48396cb01"
      },
      "source": [
        "print(\"El tamaño del array XX_ts es\", XX_tr.shape, \":\",  \n",
        "      XX_tr.shape[0], \"veces (\",\n",
        "      XX_tr.shape[1], \"filas y \", \n",
        "      XX_tr.shape[2], \"columnas )\")"
      ],
      "execution_count": null,
      "outputs": [
        {
          "output_type": "stream",
          "name": "stdout",
          "text": [
            "El tamaño del array XX_ts es (1336, 4, 3) : 1336 veces ( 4 filas y  3 columnas )\n"
          ]
        }
      ]
    },
    {
      "cell_type": "code",
      "source": [
        "print(\"El tamaño del array XX_ts es\", XX_ts.shape, \":\",  \n",
        "      XX_ts.shape[0], \"veces (\",\n",
        "      XX_ts.shape[1], \"filas y \", \n",
        "      XX_ts.shape[2], \"columnas )\")"
      ],
      "metadata": {
        "colab": {
          "base_uri": "https://localhost:8080/"
        },
        "id": "ql7KzmB7rXjf",
        "outputId": "5c091401-a1c2-446e-919c-0dbc4becedd0"
      },
      "execution_count": null,
      "outputs": [
        {
          "output_type": "stream",
          "name": "stdout",
          "text": [
            "El tamaño del array XX_ts es (1335, 4, 3) : 1335 veces ( 4 filas y  3 columnas )\n"
          ]
        }
      ]
    },
    {
      "cell_type": "markdown",
      "source": [
        "## Modelos"
      ],
      "metadata": {
        "id": "VzinQdts6ttD"
      }
    },
    {
      "cell_type": "markdown",
      "metadata": {
        "id": "WPJMRR95fE1_"
      },
      "source": [
        "### MODELO 1 - F.A. RELU CAPA OCULTA "
      ]
    },
    {
      "cell_type": "code",
      "metadata": {
        "id": "m_n915JGfE2B",
        "colab": {
          "base_uri": "https://localhost:8080/"
        },
        "outputId": "d796c09c-faa3-4ea5-9fbd-f464fa690004"
      },
      "source": [
        "model = Sequential()\n",
        "model.add(LSTM(50, activation=\"relu\", input_shape=(XX_tr.shape[1],XX_tr.shape[2],), return_sequences = True))\n",
        "model.add(LSTM(10,return_sequences = True))\n",
        "model.add(Conv1D(10, 3))\n",
        "model.add(GRU(10))\n",
        "model.add(Dense(1))\n",
        "model.compile(optimizer='adam',loss='mae')"
      ],
      "execution_count": null,
      "outputs": [
        {
          "output_type": "stream",
          "name": "stdout",
          "text": [
            "WARNING:tensorflow:Layer lstm_11 will not use cuDNN kernels since it doesn't meet the criteria. It will use a generic GPU kernel as fallback when running on GPU.\n"
          ]
        }
      ]
    },
    {
      "cell_type": "code",
      "metadata": {
        "id": "OQ5MicB-YCdH",
        "colab": {
          "base_uri": "https://localhost:8080/"
        },
        "outputId": "3c475bf1-b0bf-411d-eecb-f5437ee7b225"
      },
      "source": [
        "model.summary()"
      ],
      "execution_count": null,
      "outputs": [
        {
          "output_type": "stream",
          "name": "stdout",
          "text": [
            "Model: \"sequential_6\"\n",
            "_________________________________________________________________\n",
            " Layer (type)                Output Shape              Param #   \n",
            "=================================================================\n",
            " lstm_11 (LSTM)              (None, 4, 50)             10800     \n",
            "                                                                 \n",
            " lstm_12 (LSTM)              (None, 4, 10)             2440      \n",
            "                                                                 \n",
            " conv1d_5 (Conv1D)           (None, 2, 10)             310       \n",
            "                                                                 \n",
            " gru_5 (GRU)                 (None, 10)                660       \n",
            "                                                                 \n",
            " dense_6 (Dense)             (None, 1)                 11        \n",
            "                                                                 \n",
            "=================================================================\n",
            "Total params: 14,221\n",
            "Trainable params: 14,221\n",
            "Non-trainable params: 0\n",
            "_________________________________________________________________\n"
          ]
        }
      ]
    },
    {
      "cell_type": "markdown",
      "metadata": {
        "id": "Lk7YhiZIdnaX"
      },
      "source": [
        "### MODELO 2 - F.A TANH CAPA OCULTA\n"
      ]
    },
    {
      "cell_type": "code",
      "metadata": {
        "id": "CZQMkaFGfE2R"
      },
      "source": [
        "model2 = Sequential()\n",
        "model2.add(LSTM(50, activation=\"tanh\", input_shape=(XX_tr.shape[1],XX_tr.shape[2],), return_sequences = True))\n",
        "model2.add(LSTM(10,return_sequences = True))\n",
        "model2.add(Conv1D(10, 3))\n",
        "model2.add(GRU(10))\n",
        "model2.add(Dense(1))\n",
        "model2.compile(optimizer='adam',loss='mae')"
      ],
      "execution_count": null,
      "outputs": []
    },
    {
      "cell_type": "code",
      "metadata": {
        "colab": {
          "base_uri": "https://localhost:8080/"
        },
        "id": "_2nRgiONTzmJ",
        "outputId": "0d188c5e-ae6f-44df-c221-aa7ecf775608"
      },
      "source": [
        "model2.summary()"
      ],
      "execution_count": null,
      "outputs": [
        {
          "output_type": "stream",
          "name": "stdout",
          "text": [
            "Model: \"sequential_7\"\n",
            "_________________________________________________________________\n",
            " Layer (type)                Output Shape              Param #   \n",
            "=================================================================\n",
            " lstm_13 (LSTM)              (None, 4, 50)             10800     \n",
            "                                                                 \n",
            " lstm_14 (LSTM)              (None, 4, 10)             2440      \n",
            "                                                                 \n",
            " conv1d_6 (Conv1D)           (None, 2, 10)             310       \n",
            "                                                                 \n",
            " gru_6 (GRU)                 (None, 10)                660       \n",
            "                                                                 \n",
            " dense_7 (Dense)             (None, 1)                 11        \n",
            "                                                                 \n",
            "=================================================================\n",
            "Total params: 14,221\n",
            "Trainable params: 14,221\n",
            "Non-trainable params: 0\n",
            "_________________________________________________________________\n"
          ]
        }
      ]
    },
    {
      "cell_type": "markdown",
      "source": [
        "### MODELO 3 - F.A SIGMOIDE CAPA OCULTA"
      ],
      "metadata": {
        "id": "vW0zNIMSiPSw"
      }
    },
    {
      "cell_type": "code",
      "source": [
        "model3 = Sequential()\n",
        "model3.add(LSTM(50, activation=\"sigmoid\", input_shape=(XX_tr.shape[1],XX_tr.shape[2],), return_sequences = True))\n",
        "model3.add(LSTM(10,return_sequences = True))\n",
        "model3.add(Conv1D(10, 3))\n",
        "model3.add(GRU(10))\n",
        "model3.add(Dense(1))\n",
        "model3.compile(optimizer='adam',loss='mae')"
      ],
      "metadata": {
        "colab": {
          "base_uri": "https://localhost:8080/"
        },
        "id": "M-RdXDNRiNNH",
        "outputId": "6846d5a1-fd96-4260-f89d-e449943d817f"
      },
      "execution_count": null,
      "outputs": [
        {
          "output_type": "stream",
          "name": "stdout",
          "text": [
            "WARNING:tensorflow:Layer lstm_15 will not use cuDNN kernels since it doesn't meet the criteria. It will use a generic GPU kernel as fallback when running on GPU.\n"
          ]
        }
      ]
    },
    {
      "cell_type": "code",
      "source": [
        "model3.summary()"
      ],
      "metadata": {
        "colab": {
          "base_uri": "https://localhost:8080/"
        },
        "id": "efmegJjnib69",
        "outputId": "d6ecb047-0b76-40eb-b195-8ebd21fe496a"
      },
      "execution_count": null,
      "outputs": [
        {
          "output_type": "stream",
          "name": "stdout",
          "text": [
            "Model: \"sequential_8\"\n",
            "_________________________________________________________________\n",
            " Layer (type)                Output Shape              Param #   \n",
            "=================================================================\n",
            " lstm_15 (LSTM)              (None, 4, 50)             10800     \n",
            "                                                                 \n",
            " lstm_16 (LSTM)              (None, 4, 10)             2440      \n",
            "                                                                 \n",
            " conv1d_7 (Conv1D)           (None, 2, 10)             310       \n",
            "                                                                 \n",
            " gru_7 (GRU)                 (None, 10)                660       \n",
            "                                                                 \n",
            " dense_8 (Dense)             (None, 1)                 11        \n",
            "                                                                 \n",
            "=================================================================\n",
            "Total params: 14,221\n",
            "Trainable params: 14,221\n",
            "Non-trainable params: 0\n",
            "_________________________________________________________________\n"
          ]
        }
      ]
    },
    {
      "cell_type": "markdown",
      "metadata": {
        "id": "XUtPugRtdp-G"
      },
      "source": [
        "### MODELO 4 - F.A LINEAR CAPA OCULTA"
      ]
    },
    {
      "cell_type": "code",
      "metadata": {
        "id": "4Bp4GtCJfE2V",
        "colab": {
          "base_uri": "https://localhost:8080/"
        },
        "outputId": "f140d1c5-c7af-4f56-b795-c950830f4882"
      },
      "source": [
        "model4 = Sequential()\n",
        "model4.add(LSTM(50, activation=\"linear\", input_shape=(XX_tr.shape[1],XX_tr.shape[2],), return_sequences = True))\n",
        "model4.add(LSTM(10,return_sequences = True))\n",
        "model4.add(Conv1D(10, 3))\n",
        "model4.add(GRU(10))\n",
        "model4.add(Dense(1))\n",
        "model4.compile(optimizer='adam',loss='mae')"
      ],
      "execution_count": null,
      "outputs": [
        {
          "output_type": "stream",
          "name": "stdout",
          "text": [
            "WARNING:tensorflow:Layer lstm_17 will not use cuDNN kernels since it doesn't meet the criteria. It will use a generic GPU kernel as fallback when running on GPU.\n"
          ]
        }
      ]
    },
    {
      "cell_type": "code",
      "metadata": {
        "id": "lS6XW4BjfE2g",
        "colab": {
          "base_uri": "https://localhost:8080/"
        },
        "outputId": "6381d4a7-8924-4af5-966f-cebd63c7732d"
      },
      "source": [
        "model4.summary()"
      ],
      "execution_count": null,
      "outputs": [
        {
          "output_type": "stream",
          "name": "stdout",
          "text": [
            "Model: \"sequential_9\"\n",
            "_________________________________________________________________\n",
            " Layer (type)                Output Shape              Param #   \n",
            "=================================================================\n",
            " lstm_17 (LSTM)              (None, 4, 50)             10800     \n",
            "                                                                 \n",
            " lstm_18 (LSTM)              (None, 4, 10)             2440      \n",
            "                                                                 \n",
            " conv1d_8 (Conv1D)           (None, 2, 10)             310       \n",
            "                                                                 \n",
            " gru_8 (GRU)                 (None, 10)                660       \n",
            "                                                                 \n",
            " dense_9 (Dense)             (None, 1)                 11        \n",
            "                                                                 \n",
            "=================================================================\n",
            "Total params: 14,221\n",
            "Trainable params: 14,221\n",
            "Non-trainable params: 0\n",
            "_________________________________________________________________\n"
          ]
        }
      ]
    },
    {
      "cell_type": "markdown",
      "metadata": {
        "id": "6V9CyoA7wlJK"
      },
      "source": [
        "### MODELO 5 - F.A LINEAR ÚLTIMA CAPA Y  LSTM F.A RELU"
      ]
    },
    {
      "cell_type": "code",
      "metadata": {
        "colab": {
          "base_uri": "https://localhost:8080/"
        },
        "outputId": "a19a5b8d-7079-41fb-dd6b-ec88a5f78f3b",
        "id": "Lr4nD8x9wlJX"
      },
      "source": [
        "model5 = Sequential()\n",
        "model5.add(LSTM(50, activation=\"relu\", input_shape=(XX_tr.shape[1],XX_tr.shape[2],), return_sequences = True))\n",
        "model5.add(LSTM(10, activation=\"relu\",return_sequences = True))\n",
        "model5.add(Conv1D(10, 3))\n",
        "model5.add(GRU(10))\n",
        "model5.add(Dense(1, activation=\"linear\"))\n",
        "model5.compile(optimizer='adam',loss='mae')"
      ],
      "execution_count": null,
      "outputs": [
        {
          "output_type": "stream",
          "name": "stdout",
          "text": [
            "WARNING:tensorflow:Layer lstm_19 will not use cuDNN kernels since it doesn't meet the criteria. It will use a generic GPU kernel as fallback when running on GPU.\n",
            "WARNING:tensorflow:Layer lstm_20 will not use cuDNN kernels since it doesn't meet the criteria. It will use a generic GPU kernel as fallback when running on GPU.\n"
          ]
        }
      ]
    },
    {
      "cell_type": "code",
      "metadata": {
        "colab": {
          "base_uri": "https://localhost:8080/"
        },
        "outputId": "9442d471-6cc2-4bb9-c021-fe2c8b8d79de",
        "id": "okOmizeKwlJY"
      },
      "source": [
        "model5.summary()"
      ],
      "execution_count": null,
      "outputs": [
        {
          "output_type": "stream",
          "name": "stdout",
          "text": [
            "Model: \"sequential_10\"\n",
            "_________________________________________________________________\n",
            " Layer (type)                Output Shape              Param #   \n",
            "=================================================================\n",
            " lstm_19 (LSTM)              (None, 4, 50)             10800     \n",
            "                                                                 \n",
            " lstm_20 (LSTM)              (None, 4, 10)             2440      \n",
            "                                                                 \n",
            " conv1d_9 (Conv1D)           (None, 2, 10)             310       \n",
            "                                                                 \n",
            " gru_9 (GRU)                 (None, 10)                660       \n",
            "                                                                 \n",
            " dense_10 (Dense)            (None, 1)                 11        \n",
            "                                                                 \n",
            "=================================================================\n",
            "Total params: 14,221\n",
            "Trainable params: 14,221\n",
            "Non-trainable params: 0\n",
            "_________________________________________________________________\n"
          ]
        }
      ]
    },
    {
      "cell_type": "code",
      "source": [],
      "metadata": {
        "id": "eNofWRNBwlJY"
      },
      "execution_count": null,
      "outputs": []
    },
    {
      "cell_type": "markdown",
      "source": [
        "## Evaluación entrenamiento"
      ],
      "metadata": {
        "id": "t7GaBZNRtaHq"
      }
    },
    {
      "cell_type": "code",
      "metadata": {
        "scrolled": true,
        "id": "rUzDlBvefE2y",
        "colab": {
          "base_uri": "https://localhost:8080/"
        },
        "outputId": "21ba127f-58c1-4a3b-e77e-d381300afd93"
      },
      "source": [
        "history = History()\n",
        "model.fit(XX_tr, YY_tr, batch_size=32, epochs=50, verbose=0, callbacks=[history])\n",
        "history2 = History()\n",
        "model2.fit(XX_tr, YY_tr, batch_size=32, epochs=50, verbose=0, callbacks=[history2])\n",
        "history3 = History()\n",
        "model3.fit(XX_tr, YY_tr, batch_size=32, epochs=50, verbose=0, callbacks=[history3])\n",
        "history4 = History()\n",
        "model4.fit(XX_tr, YY_tr, batch_size=32, epochs=50, verbose=0, callbacks=[history4])\n",
        "history5 = History()\n",
        "model5.fit(XX_tr, YY_tr, batch_size=32, epochs=50, verbose=0, callbacks=[history5])"
      ],
      "execution_count": null,
      "outputs": [
        {
          "output_type": "execute_result",
          "data": {
            "text/plain": [
              "<keras.callbacks.History at 0x7fd6a245e310>"
            ]
          },
          "metadata": {},
          "execution_count": 80
        }
      ]
    },
    {
      "cell_type": "code",
      "metadata": {
        "id": "1mvxBnpofE28",
        "colab": {
          "base_uri": "https://localhost:8080/",
          "height": 299
        },
        "outputId": "531d806f-e083-457e-9da1-94adf5670c6e"
      },
      "source": [
        "loss_ev_m1 = history.history['loss']\n",
        "loss_ev_m2 = history2.history['loss']\n",
        "loss_ev_m3 = history3.history['loss']\n",
        "loss_ev_m4 = history4.history['loss']\n",
        "loss_ev_m5 = history5.history['loss']\n",
        "\n",
        "%matplotlib inline\n",
        "plt.figure()\n",
        "plt.plot(loss_ev_m1[0:-1], label='LOSS M1')\n",
        "plt.plot(loss_ev_m2[0:-1], label='LOSS M2')\n",
        "plt.plot(loss_ev_m3[0:-1], label='LOSS M3')\n",
        "plt.plot(loss_ev_m4[0:-1], label='LOSS M4')\n",
        "plt.plot(loss_ev_m5[0:-1], label='LOSS M5')\n",
        "plt.title(\"Loss entrenamiento:\")\n",
        "plt.legend()"
      ],
      "execution_count": null,
      "outputs": [
        {
          "output_type": "execute_result",
          "data": {
            "text/plain": [
              "<matplotlib.legend.Legend at 0x7fd6ade02550>"
            ]
          },
          "metadata": {},
          "execution_count": 81
        },
        {
          "output_type": "display_data",
          "data": {
            "text/plain": [
              "<Figure size 432x288 with 1 Axes>"
            ],
            "image/png": "[encoded data removed]"
          },
          "metadata": {
            "needs_background": "light"
          }
        }
      ]
    },
    {
      "cell_type": "code",
      "metadata": {
        "id": "cpMU60wRfE3G",
        "colab": {
          "base_uri": "https://localhost:8080/"
        },
        "outputId": "f7575e42-fc0c-4248-e767-29b357378f74"
      },
      "source": [
        "# Devuelve el valor de pérdida y los valores de métricas del modelo en modo de prueba.\n",
        "score_m1 = model.evaluate(XX_tr, YY_tr, verbose=0)\n",
        "score_m2 = model2.evaluate(XX_tr, YY_tr, verbose=0)\n",
        "score_m3 = model3.evaluate(XX_tr, YY_tr, verbose=0)\n",
        "score_m4 = model4.evaluate(XX_tr, YY_tr, verbose=0)\n",
        "score_m5 = model5.evaluate(XX_tr, YY_tr, verbose=0)\n",
        "\n",
        "print(\"Loss entrenamiento modelo 1: \", score_m1)\n",
        "print(\"Loss entrenamiento modelo 2: \", score_m2)\n",
        "print(\"Loss entrenamiento modelo 3: \", score_m3)\n",
        "print(\"Loss entrenamiento modelo 4: \", score_m4)\n",
        "print(\"Loss entrenamiento modelo 5: \", score_m5)"
      ],
      "execution_count": null,
      "outputs": [
        {
          "output_type": "stream",
          "name": "stdout",
          "text": [
            "Loss entrenamiento modelo 1:  233.016357421875\n",
            "Loss entrenamiento modelo 2:  233.8018341064453\n",
            "Loss entrenamiento modelo 3:  234.23240661621094\n",
            "Loss entrenamiento modelo 4:  233.188720703125\n",
            "Loss entrenamiento modelo 5:  243.0100860595703\n"
          ]
        }
      ]
    },
    {
      "cell_type": "code",
      "metadata": {
        "id": "IWCBN1aZfE3L",
        "colab": {
          "base_uri": "https://localhost:8080/"
        },
        "outputId": "7ef3fc94-3887-4077-e5eb-103f2b6673a8"
      },
      "source": [
        "y_hat_m1_entrenamiento = model.predict(XX_tr)\n",
        "y_hat_m2_entrenamiento = model2.predict(XX_tr)\n",
        "y_hat_m3_entrenamiento = model3.predict(XX_tr)\n",
        "y_hat_m4_entrenamiento = model4.predict(XX_tr)\n",
        "y_hat_m5_entrenamiento = model5.predict(XX_tr)\n",
        "\n",
        "print(\"MAE test modelo 1: \", np.mean(abs(y_hat_m1_entrenamiento[:,0]-YY_tr)))\n",
        "print(\"MAE test modelo 2: \", np.mean(abs(y_hat_m2_entrenamiento[:,0]-YY_tr)))\n",
        "print(\"MAE test modelo 3: \", np.mean(abs(y_hat_m3_entrenamiento[:,0]-YY_tr)))\n",
        "print(\"MAE test modelo 4: \", np.mean(abs(y_hat_m4_entrenamiento[:,0]-YY_tr)))"
      ],
      "execution_count": null,
      "outputs": [
        {
          "output_type": "stream",
          "name": "stdout",
          "text": [
            "MAE test modelo 1:  233.01637592429887\n",
            "MAE test modelo 2:  233.80186037246338\n",
            "MAE test modelo 3:  234.2324226530726\n",
            "MAE test modelo 4:  233.1887334949242\n"
          ]
        }
      ]
    },
    {
      "cell_type": "code",
      "metadata": {
        "id": "CW_o_6cGfE3S",
        "colab": {
          "base_uri": "https://localhost:8080/"
        },
        "outputId": "9135c7f6-ddb9-4ab0-e2e0-6246efce59cf"
      },
      "source": [
        "print(\"Shape entrenamiento modelo 1:\", y_hat_m1.shape)\n",
        "print(\"Shape entrenamiento modelo 2:\", y_hat_m2.shape)\n",
        "print(\"Shape entrenamiento modelo 3:\", y_hat_m3.shape)\n",
        "print(\"Shape entrenamiento modelo 4:\", y_hat_m4.shape)"
      ],
      "execution_count": null,
      "outputs": [
        {
          "output_type": "stream",
          "name": "stdout",
          "text": [
            "Shape entrenamiento modelo 1: (1335, 1)\n",
            "Shape entrenamiento modelo 2: (1335, 1)\n",
            "Shape entrenamiento modelo 3: (1335, 1)\n",
            "Shape entrenamiento modelo 4: (1335, 1)\n"
          ]
        }
      ]
    },
    {
      "cell_type": "markdown",
      "metadata": {
        "id": "c_I2B87hfE3g"
      },
      "source": [
        "## Evaluación test"
      ]
    },
    {
      "cell_type": "code",
      "metadata": {
        "id": "nu6befzBfE3h",
        "colab": {
          "base_uri": "https://localhost:8080/"
        },
        "outputId": "f550b174-ad7a-4bcc-97e8-969f511d52a2"
      },
      "source": [
        "y_hat_m1_entrenamiento = model.predict(XX_tr)\n",
        "y_hat_m1_test = model.predict(XX_ts)\n",
        "y_hat_m2_entrenamiento = model2.predict(XX_tr)\n",
        "y_hat_m2_test = model2.predict(XX_ts)\n",
        "\n",
        "y_hat_m3_entrenamiento = model3.predict(XX_tr)\n",
        "y_hat_m3_test = model3.predict(XX_ts)\n",
        "\n",
        "y_hat_m4_entrenamiento = model4.predict(XX_tr)\n",
        "y_hat_m4_test = model4.predict(XX_ts)\n",
        "\n",
        "y_hat_m5_entrenamiento = model5.predict(XX_tr)\n",
        "y_hat_m5_test = model5.predict(XX_ts)\n",
        "\n",
        "print(\"MAE entrenamiento modelo 1: \", np.mean(abs(y_hat_m1_entrenamiento[:,0]-YY_tr)))\n",
        "print(\"MAE test modelo 1: \", np.mean(abs(y_hat_m1_test[:,0]-YY_tr[:-1])))\n",
        "\n",
        "print(\"MAE entrenamiento modelo 2: \", np.mean(abs(y_hat_m2_entrenamiento[:,0]-YY_tr)))\n",
        "print(\"MAE test modelo 2: \", np.mean(abs(y_hat_m2_test[:,0]-YY_tr[:-1])))\n",
        "\n",
        "print(\"MAE entrenamiento modelo 3: \", np.mean(abs(y_hat_m3_entrenamiento[:,0]-YY_tr)))\n",
        "print(\"MAE test modelo 3: \", np.mean(abs(y_hat_m3_test[:,0]-YY_tr[:-1])))\n",
        "\n",
        "print(\"MAE entrenamiento modelo 4: \", np.mean(abs(y_hat_m4_entrenamiento[:,0]-YY_tr)))\n",
        "print(\"MAE test modelo 4: \", np.mean(abs(y_hat_m4_test[:,0]-YY_tr[:-1])))\n",
        "\n",
        "print(\"MAE entrenamiento modelo 5: \", np.mean(abs(y_hat_m5_entrenamiento[:,0]-YY_tr)))\n",
        "print(\"MAE test modelo 5: \", np.mean(abs(y_hat_m5_test[:,0]-YY_tr[:-1])))\n"
      ],
      "execution_count": null,
      "outputs": [
        {
          "output_type": "stream",
          "name": "stdout",
          "text": [
            "MAE entrenamiento modelo 1:  233.01637592429887\n",
            "MAE test modelo 1:  232.99214844555806\n",
            "MAE entrenamiento modelo 2:  233.80186037246338\n",
            "MAE test modelo 2:  233.77763058500258\n",
            "MAE entrenamiento modelo 3:  234.2324226530726\n",
            "MAE test modelo 3:  234.2081931536957\n",
            "MAE entrenamiento modelo 4:  233.1887334949242\n",
            "MAE test modelo 4:  233.1645039902591\n",
            "MAE entrenamiento modelo 5:  243.01009310648112\n",
            "MAE test modelo 5:  242.98586346464126\n"
          ]
        }
      ]
    },
    {
      "cell_type": "code",
      "metadata": {
        "scrolled": true,
        "id": "daRz2tXdfE3l",
        "colab": {
          "base_uri": "https://localhost:8080/",
          "height": 299
        },
        "outputId": "5ea0a8cc-e28b-43d5-df06-ad3e3a400f8b"
      },
      "source": [
        "%matplotlib inline\n",
        "plt.figure()\n",
        "plt.plot(y_hat_m1_test[:,0]-YY_ts, label='M1')\n",
        "plt.plot(y_hat_m2_test[:,0]-YY_ts, label='M2')\n",
        "plt.plot(y_hat_m3_test[:,0]-YY_ts, label='M3')\n",
        "plt.plot(y_hat_m4_test[:,0]-YY_ts, label='M4')\n",
        "plt.plot(y_hat_m4_test[:,0]-YY_ts, label='M4')\n",
        "plt.title(\"Y_hat test:\")\n",
        "plt.legend()"
      ],
      "execution_count": null,
      "outputs": [
        {
          "output_type": "execute_result",
          "data": {
            "text/plain": [
              "<matplotlib.legend.Legend at 0x7fd69da40950>"
            ]
          },
          "metadata": {},
          "execution_count": 92
        },
        {
          "output_type": "display_data",
          "data": {
            "text/plain": [
              "<Figure size 432x288 with 1 Axes>"
            ],
            "image/png": "[encoded data removed]"
          },
          "metadata": {
            "needs_background": "light"
          }
        }
      ]
    },
    {
      "cell_type": "code",
      "metadata": {
        "scrolled": true,
        "id": "xsuY7YHwfE3u",
        "colab": {
          "base_uri": "https://localhost:8080/",
          "height": 283
        },
        "outputId": "4f0dfc12-f1ec-4b3a-d585-746f0072ac1e"
      },
      "source": [
        "plt.figure()\n",
        "plt.plot(y_hat_m1_test[:,0], label='M1')\n",
        "plt.plot(YY_ts, label='y')\n",
        "plt.plot(y_hat_m2_test[:,0], label='M2')\n",
        "plt.plot(YY_ts, label='y')\n",
        "plt.plot(y_hat_m3_test[:,0], label='M3')\n",
        "plt.plot(YY_ts, label='y')\n",
        "plt.plot(y_hat_m4_test[:,0], label='M4')\n",
        "plt.plot(YY_ts, label='y')\n",
        "plt.legend()"
      ],
      "execution_count": null,
      "outputs": [
        {
          "output_type": "execute_result",
          "data": {
            "text/plain": [
              "<matplotlib.legend.Legend at 0x7fd69da67250>"
            ]
          },
          "metadata": {},
          "execution_count": 93
        },
        {
          "output_type": "display_data",
          "data": {
            "text/plain": [
              "<Figure size 432x288 with 1 Axes>"
            ],
            "image/png": "[encoded data removed]"
          },
          "metadata": {
            "needs_background": "light"
          }
        }
      ]
    },
    {
      "cell_type": "markdown",
      "source": [
        "## Conclusión a la pregunta planteada\n",
        "\n"
      ],
      "metadata": {
        "id": "hWH8AkOghQaI"
      }
    },
    {
      "cell_type": "code",
      "source": [
        "print(\"MAE entrenamiento modelo 1: \", np.mean(abs(y_hat_m1_entrenamiento[:,0]-YY_tr)))\n",
        "print(\"MAE test modelo 1: \", np.mean(abs(y_hat_m1_test[:,0]-YY_tr[:-1])))\n",
        "\n",
        "print(\"MAE entrenamiento modelo 2: \", np.mean(abs(y_hat_m2_entrenamiento[:,0]-YY_tr)))\n",
        "print(\"MAE test modelo 2: \", np.mean(abs(y_hat_m2_test[:,0]-YY_tr[:-1])))\n",
        "\n",
        "print(\"MAE entrenamiento modelo 3: \", np.mean(abs(y_hat_m3_entrenamiento[:,0]-YY_tr)))\n",
        "print(\"MAE test modelo 3: \", np.mean(abs(y_hat_m3_test[:,0]-YY_tr[:-1])))\n",
        "\n",
        "print(\"MAE entrenamiento modelo 4: \", np.mean(abs(y_hat_m4_entrenamiento[:,0]-YY_tr)))\n",
        "print(\"MAE test modelo 4: \", np.mean(abs(y_hat_m4_test[:,0]-YY_tr[:-1])))\n",
        "\n",
        "print(\"MAE entrenamiento modelo 4: \", np.mean(abs(y_hat_m4_entrenamiento[:,0]-YY_tr)))\n",
        "print(\"MAE test modelo 4: \", np.mean(abs(y_hat_m5_test[:,0]-YY_tr[:-1])))"
      ],
      "metadata": {
        "colab": {
          "base_uri": "https://localhost:8080/"
        },
        "id": "8nsa4ewQz_L6",
        "outputId": "3e01c00f-17f8-4675-d716-b1008f4fdacd"
      },
      "execution_count": null,
      "outputs": [
        {
          "output_type": "stream",
          "name": "stdout",
          "text": [
            "MAE entrenamiento modelo 1:  233.01637592429887\n",
            "MAE test modelo 1:  232.99214844555806\n",
            "MAE entrenamiento modelo 2:  233.80186037246338\n",
            "MAE test modelo 2:  233.77763058500258\n",
            "MAE entrenamiento modelo 3:  234.2324226530726\n",
            "MAE test modelo 3:  234.2081931536957\n",
            "MAE entrenamiento modelo 4:  233.1887334949242\n",
            "MAE test modelo 4:  233.1645039902591\n",
            "MAE entrenamiento modelo 4:  233.1887334949242\n",
            "MAE test modelo 4:  242.98586346464126\n"
          ]
        }
      ]
    },
    {
      "cell_type": "markdown",
      "source": [
        "En varios ejercicios se ha comentado la importancia del entender la forma y estructura de los datos. La función de activación influye en nuestro modelo dependiendo del formato de nuestras variables. \n",
        "\n",
        "Entender nuestros datos nos permite saber que la función de activación inluye en la forma y estructura de la salida del modelo. \n",
        "\n",
        "En la última capa:\n",
        "- Si en la salida de la última capa necesitamos datos númericos como el valor activo, no nos interesa ni una sigmoide ni una tanh ya que sus intervalos no coinciden (0:1 ó -1:1 respectivamente). En este caso deberíamos poner una función *`lineal`*. \n",
        "\n",
        "- Si en la salida de la última capa estas clasificando clases entre 0:1 tu función de activación de la capa de salida tiene que ser una `*sigmoide*` que nos devuelve un valore ente 0:1.\n",
        "\n",
        "- Si en la salida de la última capa necesitas valores entre -1:1, deberíamos utilizar una *`tanh`*.\n",
        "\n",
        "\n",
        "\n",
        "> La influencia de la elección de la función de activación es muy importante a la hora de selecionar un buen modelo. En la capa de salida la f.a. es muy importante porque tine que estar en las mismas unidades que y que vayas al meter al modelo para poder comparar.\n",
        "\n",
        "\n",
        "**En capas ocultas:**\n",
        "- Si en una capa oculta tu pones la *`lineal`*. Toda la red converge a una suma, es decir a una suma de w*x+sum(pesos.)\n",
        "- Si en una capa oculta tu pones una *`relu`*, que lo que hace es el máximo entre 0:número (si tenemos un 5 se queda un 5 pero si tenemos un -1 se queda en 0). Sirve para que no pase lo del devanecimiento del gradiente, por ejemplo.\n",
        "\n",
        "> Las de las capas ocultas también son muy importantes dependiendo del modelo pero no hay algo general si no que es más parecido a una norma.\n",
        "\n",
        "*Vamos a poner un ejermplo: Si lo que tenemos es una red con más de 3 capas ocultas o una red muy profunda como una LSTM o una convolucional no podemos poner ni de broma sigmoid de función de activación. Esto se debe a que si hacemos esto, el gradiente nos converge a cero y nuestra red/modelo no va a aprender.* \n",
        "\n",
        "*Como \"norma\" en estos casos donde la red es muy profunda (LSTM, etc.) o una convolucional tenemos que poner relu, selu, etc. pero no una tanh ni sigmoid*\n",
        "\n",
        "**Resumen:**\n",
        "> Nos podemos dar cuenta, que tanto en las capas ocultas como en la última capa, la función de activación juega un gran papel ya que si no la elegimos bien, el modelo empeora."
      ],
      "metadata": {
        "id": "8zX0iY2yhWe_"
      }
    }
  ]
}