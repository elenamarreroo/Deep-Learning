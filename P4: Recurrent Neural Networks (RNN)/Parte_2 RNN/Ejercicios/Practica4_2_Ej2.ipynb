{
  "nbformat": 4,
  "nbformat_minor": 0,
  "metadata": {
    "colab": {
      "provenance": [],
      "collapsed_sections": []
    },
    "kernelspec": {
      "name": "python3",
      "display_name": "Python 3"
    },
    "accelerator": "GPU"
  },
  "cells": [
    {
      "cell_type": "markdown",
      "source": [
        "# **PRÁCTICA 4:  Deep Learning - Parte 2: RNN**\n",
        "### Universitat de València, Escola Tecnica Superior d'Enginyeria\n",
        "### Elena Marrero Castellano | 4ª curso del Grado Ciencia de Datos"
      ],
      "metadata": {
        "id": "Cp6rUC7Wowvn"
      }
    },
    {
      "cell_type": "markdown",
      "source": [
        "## **Ejercicio 2:  Crea, entrena y prueba un modelo con capas recurrentes y convolucionales. Da el valor de mae en entrenamiento y test.** "
      ],
      "metadata": {
        "id": "xBAxP1AQREjA"
      }
    },
    {
      "cell_type": "markdown",
      "source": [
        "# Laboratorio\n",
        "\n",
        "Vamos a hacer predicción del valor de un activo financiero de una empresa a partir del valor de los días anteriores de varias compañías."
      ],
      "metadata": {
        "id": "mTver5RWpIFs"
      }
    },
    {
      "cell_type": "code",
      "source": [
        "# Importamos librerías\n",
        "from keras.models import Sequential\n",
        "from keras.layers import Dense, Flatten, Conv1D, LSTM, GRU\n",
        "import numpy as np\n",
        "import pandas as pd\n",
        "from keras.callbacks import History \n",
        "import matplotlib.pyplot as plt"
      ],
      "metadata": {
        "id": "5iMJZwiaulkV"
      },
      "execution_count": null,
      "outputs": []
    },
    {
      "cell_type": "markdown",
      "metadata": {
        "collapsed": true,
        "id": "e18-vJ_IfEza"
      },
      "source": [
        "Para leer datos lo mejor es usar la toolbox pandas\n",
        "\n",
        "Los datos se han sacado de:\n",
        "https://www.kaggle.com/borismarjanovic/price-volume-data-for-all-us-stocks-etfs/version/3"
      ]
    },
    {
      "cell_type": "code",
      "metadata": {
        "id": "7HsjSYqPfEze"
      },
      "source": [
        "dd_googl = pd.read_csv(\"googl.us.txt\", delimiter=\",\")\n",
        "dd_aa = pd.read_csv(\"aa.us.txt\", delimiter=\",\")\n",
        "dd_iae = pd.read_csv(\"iae.us.txt\", delimiter=\",\")"
      ],
      "execution_count": null,
      "outputs": []
    },
    {
      "cell_type": "code",
      "metadata": {
        "id": "VtM0xnsYfEz0"
      },
      "source": [
        "googl_op = dd_googl['Open'].values\n",
        "aa_op = dd_aa['Open'].values\n",
        "iae_op = dd_iae['Open'].values"
      ],
      "execution_count": null,
      "outputs": []
    },
    {
      "cell_type": "code",
      "metadata": {
        "id": "hN4bVTZUfEz8"
      },
      "source": [
        "aa = dd_googl['Date'].values\n",
        "googl_indice = np.zeros(aa.shape)\n",
        "for n in range(0, aa.shape[0]):\n",
        "    cc = aa[n]\n",
        "    qq1 = np.asarray(cc[0:4], dtype=np.float64, order='C')\n",
        "    qq2 = np.asarray(cc[5:7], dtype=np.float64, order='C')\n",
        "    qq3 = np.asarray(cc[8:10], dtype=np.float64, order='C')\n",
        "\n",
        "    googl_indice[n] = (qq1-2000)*365 + qq2*30 + qq3"
      ],
      "execution_count": null,
      "outputs": []
    },
    {
      "cell_type": "code",
      "metadata": {
        "id": "tpwSaRT7fE0D"
      },
      "source": [
        "aa = dd_aa['Date'].values\n",
        "aa_indice = np.zeros(aa.shape)\n",
        "for n in range(0, aa.shape[0]):\n",
        "    cc = aa[n]\n",
        "    qq1 = np.asarray(cc[0:4], dtype=np.float64, order='C')\n",
        "    qq2 = np.asarray(cc[5:7], dtype=np.float64, order='C')\n",
        "    qq3 = np.asarray(cc[8:10], dtype=np.float64, order='C')\n",
        "\n",
        "    aa_indice[n] = (qq1-2000)*365 + qq2*30 + qq3"
      ],
      "execution_count": null,
      "outputs": []
    },
    {
      "cell_type": "code",
      "metadata": {
        "id": "WfkAsDo4fE0N"
      },
      "source": [
        "aa = dd_iae['Date'].values\n",
        "iae_indice = np.zeros(aa.shape)\n",
        "for n in range(0, aa.shape[0]):\n",
        "    cc = aa[n]\n",
        "    qq1 = np.asarray(cc[0:4], dtype=np.float64, order='C')\n",
        "    qq2 = np.asarray(cc[5:7], dtype=np.float64, order='C')\n",
        "    qq3 = np.asarray(cc[8:10], dtype=np.float64, order='C')\n",
        "\n",
        "    iae_indice[n] = (qq1-2000)*365 + qq2*30 + qq3"
      ],
      "execution_count": null,
      "outputs": []
    },
    {
      "cell_type": "code",
      "metadata": {
        "id": "VR2FHL6ufE0V",
        "colab": {
          "base_uri": "https://localhost:8080/"
        },
        "outputId": "869b62d9-ebd9-4ca2-d029-96200d691bd7"
      },
      "source": [
        "print(googl_indice.shape)\n",
        "print(googl_op.shape)"
      ],
      "execution_count": null,
      "outputs": [
        {
          "output_type": "stream",
          "name": "stdout",
          "text": [
            "(3333,)\n",
            "(3333,)\n"
          ]
        }
      ]
    },
    {
      "cell_type": "code",
      "metadata": {
        "id": "Z75bJRV5fE0y"
      },
      "source": [
        "indices = set(googl_indice) & set(aa_indice) & set(iae_indice) \n",
        "\n",
        "ii = np.in1d(googl_indice,list(indices))\n",
        "data_googl = googl_op[ii]\n",
        "ii = np.in1d(aa_indice,list(indices))\n",
        "data_aa = aa_op[ii]\n",
        "ii = np.in1d(iae_indice,list(indices))\n",
        "data_iae = iae_op[ii]"
      ],
      "execution_count": null,
      "outputs": []
    },
    {
      "cell_type": "code",
      "metadata": {
        "id": "jS3hc9OefE04",
        "colab": {
          "base_uri": "https://localhost:8080/",
          "height": 283
        },
        "outputId": "f7b04cf7-c347-4c85-c963-c41d09e4ea4e"
      },
      "source": [
        "import matplotlib.pyplot as plt\n",
        "%matplotlib inline\n",
        "plt.figure()\n",
        "plt.plot(data_googl)\n",
        "plt.plot(data_aa)\n",
        "plt.plot(data_iae)"
      ],
      "execution_count": null,
      "outputs": [
        {
          "output_type": "execute_result",
          "data": {
            "text/plain": [
              "[<matplotlib.lines.Line2D at 0x7f1be2c69050>]"
            ]
          },
          "metadata": {},
          "execution_count": 9
        },
        {
          "output_type": "display_data",
          "data": {
            "text/plain": [
              "<Figure size 432x288 with 1 Axes>"
            ],
            "image/png": "[encoded data removed]"
          },
          "metadata": {
            "needs_background": "light"
          }
        }
      ]
    },
    {
      "cell_type": "code",
      "metadata": {
        "id": "XtuUa24tfE1C"
      },
      "source": [
        "DAT = np.zeros((data_googl.shape[0],3))\n",
        "DAT[:,0] = data_googl\n",
        "DAT[:,1] = data_aa\n",
        "DAT[:,2] = data_iae          "
      ],
      "execution_count": null,
      "outputs": []
    },
    {
      "cell_type": "code",
      "metadata": {
        "id": "XxHjD63SXFPV",
        "colab": {
          "base_uri": "https://localhost:8080/"
        },
        "outputId": "11048f32-ef58-4d93-dfa1-cbc0c136472e"
      },
      "source": [
        "DAT.shape"
      ],
      "execution_count": null,
      "outputs": [
        {
          "output_type": "execute_result",
          "data": {
            "text/plain": [
              "(2678, 3)"
            ]
          },
          "metadata": {},
          "execution_count": 11
        }
      ]
    },
    {
      "cell_type": "code",
      "metadata": {
        "id": "xmCzN6XUfE1S"
      },
      "source": [
        "LAG = 5\n",
        "DAT_TS = np.zeros((DAT.shape[0]-LAG,LAG,DAT.shape[1]))\n",
        "\n",
        "for ii in range(0,DAT.shape[0]-LAG):\n",
        "    DAT_TS[ii,:,:] = DAT[ii:ii+LAG,:] "
      ],
      "execution_count": null,
      "outputs": []
    },
    {
      "cell_type": "code",
      "metadata": {
        "id": "V5zawxjsXYXb",
        "colab": {
          "base_uri": "https://localhost:8080/"
        },
        "outputId": "1dd66755-1685-435e-dd01-5c4198780390"
      },
      "source": [
        "DAT_TS.shape"
      ],
      "execution_count": null,
      "outputs": [
        {
          "output_type": "execute_result",
          "data": {
            "text/plain": [
              "(2673, 5, 3)"
            ]
          },
          "metadata": {},
          "execution_count": 13
        }
      ]
    },
    {
      "cell_type": "code",
      "metadata": {
        "id": "StW902QwfE1l",
        "colab": {
          "base_uri": "https://localhost:8080/"
        },
        "outputId": "5a698c3d-321f-4e41-f280-13222f45fdaf"
      },
      "source": [
        "Ntr = np.floor(DAT_TS.shape[0]/2)\n",
        "Y_target = 0\n",
        "\n",
        "XX_tr = DAT_TS[range(0,np.int(Ntr)),0:LAG-1,:]\n",
        "XX_ts = DAT_TS[range(np.int(Ntr)+1,2*np.int(Ntr)),0:LAG-1,:]\n",
        "\n",
        "YY_tr = DAT_TS[range(0,np.int(Ntr)),LAG-1,Y_target]\n",
        "YY_ts = DAT_TS[range(np.int(Ntr)+1,2*np.int(Ntr)),LAG-1,Y_target]"
      ],
      "execution_count": null,
      "outputs": [
        {
          "output_type": "stream",
          "name": "stderr",
          "text": [
            "/usr/local/lib/python3.7/dist-packages/ipykernel_launcher.py:4: DeprecationWarning: `np.int` is a deprecated alias for the builtin `int`. To silence this warning, use `int` by itself. Doing this will not modify any behavior and is safe. When replacing `np.int`, you may wish to use e.g. `np.int64` or `np.int32` to specify the precision. If you wish to review your current use, check the release note link for additional information.\n",
            "Deprecated in NumPy 1.20; for more details and guidance: https://numpy.org/devdocs/release/1.20.0-notes.html#deprecations\n",
            "  after removing the cwd from sys.path.\n",
            "/usr/local/lib/python3.7/dist-packages/ipykernel_launcher.py:5: DeprecationWarning: `np.int` is a deprecated alias for the builtin `int`. To silence this warning, use `int` by itself. Doing this will not modify any behavior and is safe. When replacing `np.int`, you may wish to use e.g. `np.int64` or `np.int32` to specify the precision. If you wish to review your current use, check the release note link for additional information.\n",
            "Deprecated in NumPy 1.20; for more details and guidance: https://numpy.org/devdocs/release/1.20.0-notes.html#deprecations\n",
            "  \"\"\"\n",
            "/usr/local/lib/python3.7/dist-packages/ipykernel_launcher.py:7: DeprecationWarning: `np.int` is a deprecated alias for the builtin `int`. To silence this warning, use `int` by itself. Doing this will not modify any behavior and is safe. When replacing `np.int`, you may wish to use e.g. `np.int64` or `np.int32` to specify the precision. If you wish to review your current use, check the release note link for additional information.\n",
            "Deprecated in NumPy 1.20; for more details and guidance: https://numpy.org/devdocs/release/1.20.0-notes.html#deprecations\n",
            "  import sys\n",
            "/usr/local/lib/python3.7/dist-packages/ipykernel_launcher.py:8: DeprecationWarning: `np.int` is a deprecated alias for the builtin `int`. To silence this warning, use `int` by itself. Doing this will not modify any behavior and is safe. When replacing `np.int`, you may wish to use e.g. `np.int64` or `np.int32` to specify the precision. If you wish to review your current use, check the release note link for additional information.\n",
            "Deprecated in NumPy 1.20; for more details and guidance: https://numpy.org/devdocs/release/1.20.0-notes.html#deprecations\n",
            "  \n"
          ]
        }
      ]
    },
    {
      "cell_type": "code",
      "metadata": {
        "id": "yqrTYim2fE1v",
        "colab": {
          "base_uri": "https://localhost:8080/"
        },
        "outputId": "b1db5ebc-30f6-41d9-870d-af57da253e2d"
      },
      "source": [
        "XX_tr.shape"
      ],
      "execution_count": null,
      "outputs": [
        {
          "output_type": "execute_result",
          "data": {
            "text/plain": [
              "(1336, 4, 3)"
            ]
          },
          "metadata": {},
          "execution_count": 15
        }
      ]
    },
    {
      "cell_type": "markdown",
      "metadata": {
        "id": "WPJMRR95fE1_"
      },
      "source": [
        "## MODELO"
      ]
    },
    {
      "cell_type": "code",
      "metadata": {
        "id": "m_n915JGfE2B"
      },
      "source": [
        "model = Sequential()\n",
        "model.add(LSTM(50, input_shape=(XX_tr.shape[1],XX_tr.shape[2],), return_sequences = True))\n",
        "model.add(LSTM(10,return_sequences = True))\n",
        "model.add(Conv1D(10, 3))\n",
        "model.add(GRU(10))\n",
        "model.add(Dense(1))\n",
        "\n",
        "model.compile(optimizer='adam',loss='mae')"
      ],
      "execution_count": null,
      "outputs": []
    },
    {
      "cell_type": "code",
      "metadata": {
        "id": "OQ5MicB-YCdH",
        "colab": {
          "base_uri": "https://localhost:8080/"
        },
        "outputId": "55ffb5c1-27f6-4456-9258-14101821eae1"
      },
      "source": [
        "model.summary()"
      ],
      "execution_count": null,
      "outputs": [
        {
          "output_type": "stream",
          "name": "stdout",
          "text": [
            "Model: \"sequential\"\n",
            "_________________________________________________________________\n",
            " Layer (type)                Output Shape              Param #   \n",
            "=================================================================\n",
            " lstm (LSTM)                 (None, 4, 50)             10800     \n",
            "                                                                 \n",
            " lstm_1 (LSTM)               (None, 4, 10)             2440      \n",
            "                                                                 \n",
            " conv1d (Conv1D)             (None, 2, 10)             310       \n",
            "                                                                 \n",
            " gru (GRU)                   (None, 10)                660       \n",
            "                                                                 \n",
            " dense (Dense)               (None, 1)                 11        \n",
            "                                                                 \n",
            "=================================================================\n",
            "Total params: 14,221\n",
            "Trainable params: 14,221\n",
            "Non-trainable params: 0\n",
            "_________________________________________________________________\n"
          ]
        }
      ]
    },
    {
      "cell_type": "code",
      "metadata": {
        "scrolled": true,
        "id": "rUzDlBvefE2y",
        "colab": {
          "base_uri": "https://localhost:8080/"
        },
        "outputId": "52f3b8b5-f779-41a9-df97-47eea8237604"
      },
      "source": [
        "history = History()\n",
        "model.fit(XX_tr, YY_tr, batch_size=32, epochs=50, verbose=0, callbacks=[history])"
      ],
      "execution_count": null,
      "outputs": [
        {
          "output_type": "execute_result",
          "data": {
            "text/plain": [
              "<keras.callbacks.History at 0x7f1b69362ed0>"
            ]
          },
          "metadata": {},
          "execution_count": 23
        }
      ]
    },
    {
      "cell_type": "code",
      "metadata": {
        "id": "1mvxBnpofE28",
        "colab": {
          "base_uri": "https://localhost:8080/",
          "height": 283
        },
        "outputId": "d79bdcaf-c661-4ab4-9fa2-28ae35f31ea8"
      },
      "source": [
        "loss_ev = history.history['loss']\n",
        "\n",
        "%matplotlib inline\n",
        "plt.figure()\n",
        "plt.plot(loss_ev[0:-1])"
      ],
      "execution_count": null,
      "outputs": [
        {
          "output_type": "execute_result",
          "data": {
            "text/plain": [
              "[<matplotlib.lines.Line2D at 0x7f1b6919e810>]"
            ]
          },
          "metadata": {},
          "execution_count": 24
        },
        {
          "output_type": "display_data",
          "data": {
            "text/plain": [
              "<Figure size 432x288 with 1 Axes>"
            ],
            "image/png": "[encoded data removed]"
          },
          "metadata": {
            "needs_background": "light"
          }
        }
      ]
    },
    {
      "cell_type": "code",
      "metadata": {
        "id": "cpMU60wRfE3G",
        "colab": {
          "base_uri": "https://localhost:8080/"
        },
        "outputId": "5d610925-d974-4e52-951e-02e8dff3924e"
      },
      "source": [
        "score = model.evaluate(XX_tr, YY_tr, verbose=0)\n",
        "score"
      ],
      "execution_count": null,
      "outputs": [
        {
          "output_type": "execute_result",
          "data": {
            "text/plain": [
              "233.20506286621094"
            ]
          },
          "metadata": {},
          "execution_count": 25
        }
      ]
    },
    {
      "cell_type": "code",
      "metadata": {
        "id": "IWCBN1aZfE3L",
        "colab": {
          "base_uri": "https://localhost:8080/"
        },
        "outputId": "674b8ae6-327a-4b15-8721-48466dff5847"
      },
      "source": [
        "y_hat = model.predict(XX_tr)\n",
        "np.mean(abs(y_hat[:,0]-YY_tr))"
      ],
      "execution_count": null,
      "outputs": [
        {
          "output_type": "execute_result",
          "data": {
            "text/plain": [
              "233.2050908882461"
            ]
          },
          "metadata": {},
          "execution_count": 26
        }
      ]
    },
    {
      "cell_type": "code",
      "metadata": {
        "id": "CW_o_6cGfE3S",
        "colab": {
          "base_uri": "https://localhost:8080/"
        },
        "outputId": "5bc562d8-2fa7-4745-b6ec-7ccb21616713"
      },
      "source": [
        "y_hat.shape"
      ],
      "execution_count": null,
      "outputs": [
        {
          "output_type": "execute_result",
          "data": {
            "text/plain": [
              "(1336, 1)"
            ]
          },
          "metadata": {},
          "execution_count": 27
        }
      ]
    },
    {
      "cell_type": "markdown",
      "metadata": {
        "id": "c_I2B87hfE3g"
      },
      "source": [
        "## TEST"
      ]
    },
    {
      "cell_type": "code",
      "metadata": {
        "id": "nu6befzBfE3h",
        "colab": {
          "base_uri": "https://localhost:8080/"
        },
        "outputId": "a2c6fa99-69ba-4b78-b856-5018a45ec53e"
      },
      "source": [
        "y_hat = model.predict(XX_ts)\n",
        "np.mean(abs(y_hat[:,0]-YY_ts))"
      ],
      "execution_count": null,
      "outputs": [
        {
          "output_type": "execute_result",
          "data": {
            "text/plain": [
              "602.193523340518"
            ]
          },
          "metadata": {},
          "execution_count": 28
        }
      ]
    },
    {
      "cell_type": "code",
      "metadata": {
        "scrolled": true,
        "id": "daRz2tXdfE3l",
        "colab": {
          "base_uri": "https://localhost:8080/",
          "height": 283
        },
        "outputId": "966af0bd-c5b5-4163-e5e2-7934493211f8"
      },
      "source": [
        "import matplotlib.pyplot as plt\n",
        "%matplotlib inline\n",
        "plt.figure()\n",
        "plt.plot(y_hat[:,0]-YY_ts, label='NN')\n",
        "plt.legend()"
      ],
      "execution_count": null,
      "outputs": [
        {
          "output_type": "execute_result",
          "data": {
            "text/plain": [
              "<matplotlib.legend.Legend at 0x7f1b68c23810>"
            ]
          },
          "metadata": {},
          "execution_count": 29
        },
        {
          "output_type": "display_data",
          "data": {
            "text/plain": [
              "<Figure size 432x288 with 1 Axes>"
            ],
            "image/png": "[encoded data removed]"
          },
          "metadata": {
            "needs_background": "light"
          }
        }
      ]
    },
    {
      "cell_type": "code",
      "metadata": {
        "scrolled": true,
        "id": "xsuY7YHwfE3u",
        "colab": {
          "base_uri": "https://localhost:8080/",
          "height": 283
        },
        "outputId": "4ab2f520-9dd8-46d7-a5e2-93217ee29deb"
      },
      "source": [
        "plt.figure()\n",
        "plt.plot(y_hat[:,0], label='y hat')\n",
        "plt.plot(YY_ts, label='y')\n",
        "plt.legend()"
      ],
      "execution_count": null,
      "outputs": [
        {
          "output_type": "execute_result",
          "data": {
            "text/plain": [
              "<matplotlib.legend.Legend at 0x7f1b68bb0ed0>"
            ]
          },
          "metadata": {},
          "execution_count": 30
        },
        {
          "output_type": "display_data",
          "data": {
            "text/plain": [
              "<Figure size 432x288 with 1 Axes>"
            ],
            "image/png": "[encoded data removed]"
          },
          "metadata": {
            "needs_background": "light"
          }
        }
      ]
    }
  ]
}