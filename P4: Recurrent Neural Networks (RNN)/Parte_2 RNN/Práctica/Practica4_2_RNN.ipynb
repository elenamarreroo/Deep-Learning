{
  "nbformat": 4,
  "nbformat_minor": 0,
  "metadata": {
    "colab": {
      "provenance": [],
      "collapsed_sections": []
    },
    "kernelspec": {
      "name": "python3",
      "display_name": "Python 3"
    },
    "accelerator": "GPU"
  },
  "cells": [
    {
      "cell_type": "markdown",
      "source": [
        "# **PRÁCTICA 4:  Deep Learning - Parte 2: RNN**\n",
        "### Universitat de València, Escola Tecnica Superior d'Enginyeria\n",
        "### Elena Marrero Castellano | 4ª curso del Grado Ciencia de Datos"
      ],
      "metadata": {
        "id": "Cp6rUC7Wowvn"
      }
    },
    {
      "cell_type": "markdown",
      "source": [
        "# Prelaboratorio\n"
      ],
      "metadata": {
        "id": "MyK_T6_npCrB"
      }
    },
    {
      "cell_type": "markdown",
      "source": [
        "\n",
        "Corre el código y entiéndelo"
      ],
      "metadata": {
        "id": "bID7uioOgPlw"
      }
    },
    {
      "cell_type": "markdown",
      "source": [
        "# Laboratorio\n",
        "\n",
        "Vamos a hacer predicción del valor de un activo financiero de una empresa a partir del valor de los días anteriores de varias compañías."
      ],
      "metadata": {
        "id": "mTver5RWpIFs"
      }
    },
    {
      "cell_type": "code",
      "source": [
        "# Importamos librerías\n",
        "from keras.models import Sequential\n",
        "from keras.layers import Dense, Flatten, Conv1D, LSTM, GRU\n",
        "import numpy as np\n",
        "import pandas as pd"
      ],
      "metadata": {
        "id": "5iMJZwiaulkV"
      },
      "execution_count": null,
      "outputs": []
    },
    {
      "cell_type": "markdown",
      "metadata": {
        "collapsed": true,
        "id": "e18-vJ_IfEza"
      },
      "source": [
        "Para leer datos lo mejor es usar la toolbox pandas\n",
        "\n",
        "Los datos se han sacado de:\n",
        "https://www.kaggle.com/borismarjanovic/price-volume-data-for-all-us-stocks-etfs/version/3"
      ]
    },
    {
      "cell_type": "code",
      "metadata": {
        "id": "7HsjSYqPfEze"
      },
      "source": [
        "dd_googl = pd.read_csv(\"googl.us.txt\", delimiter=\",\")\n",
        "dd_aa = pd.read_csv(\"aa.us.txt\", delimiter=\",\")\n",
        "dd_iae = pd.read_csv(\"iae.us.txt\", delimiter=\",\")"
      ],
      "execution_count": null,
      "outputs": []
    },
    {
      "cell_type": "code",
      "metadata": {
        "id": "VtM0xnsYfEz0"
      },
      "source": [
        "googl_op = dd_googl['Open'].values\n",
        "aa_op = dd_aa['Open'].values\n",
        "iae_op = dd_iae['Open'].values"
      ],
      "execution_count": null,
      "outputs": []
    },
    {
      "cell_type": "code",
      "metadata": {
        "id": "hN4bVTZUfEz8"
      },
      "source": [
        "aa = dd_googl['Date'].values\n",
        "googl_indice = np.zeros(aa.shape)\n",
        "for n in range(0, aa.shape[0]):\n",
        "    cc = aa[n]\n",
        "    qq1 = np.asarray(cc[0:4], dtype=np.float64, order='C')\n",
        "    qq2 = np.asarray(cc[5:7], dtype=np.float64, order='C')\n",
        "    qq3 = np.asarray(cc[8:10], dtype=np.float64, order='C')\n",
        "\n",
        "    googl_indice[n] = (qq1-2000)*365 + qq2*30 + qq3"
      ],
      "execution_count": null,
      "outputs": []
    },
    {
      "cell_type": "code",
      "metadata": {
        "id": "tpwSaRT7fE0D"
      },
      "source": [
        "aa = dd_aa['Date'].values\n",
        "aa_indice = np.zeros(aa.shape)\n",
        "for n in range(0, aa.shape[0]):\n",
        "    cc = aa[n]\n",
        "    qq1 = np.asarray(cc[0:4], dtype=np.float64, order='C')\n",
        "    qq2 = np.asarray(cc[5:7], dtype=np.float64, order='C')\n",
        "    qq3 = np.asarray(cc[8:10], dtype=np.float64, order='C')\n",
        "\n",
        "    aa_indice[n] = (qq1-2000)*365 + qq2*30 + qq3"
      ],
      "execution_count": null,
      "outputs": []
    },
    {
      "cell_type": "code",
      "metadata": {
        "id": "WfkAsDo4fE0N"
      },
      "source": [
        "aa = dd_iae['Date'].values\n",
        "iae_indice = np.zeros(aa.shape)\n",
        "for n in range(0, aa.shape[0]):\n",
        "    cc = aa[n]\n",
        "    qq1 = np.asarray(cc[0:4], dtype=np.float64, order='C')\n",
        "    qq2 = np.asarray(cc[5:7], dtype=np.float64, order='C')\n",
        "    qq3 = np.asarray(cc[8:10], dtype=np.float64, order='C')\n",
        "\n",
        "    iae_indice[n] = (qq1-2000)*365 + qq2*30 + qq3"
      ],
      "execution_count": null,
      "outputs": []
    },
    {
      "cell_type": "code",
      "metadata": {
        "id": "VR2FHL6ufE0V",
        "colab": {
          "base_uri": "https://localhost:8080/"
        },
        "outputId": "78b39c61-efad-44b8-f76c-0cd6a39223ad"
      },
      "source": [
        "print(googl_indice.shape)\n",
        "print(googl_op.shape)"
      ],
      "execution_count": null,
      "outputs": [
        {
          "output_type": "stream",
          "name": "stdout",
          "text": [
            "(3333,)\n",
            "(3333,)\n"
          ]
        }
      ]
    },
    {
      "cell_type": "code",
      "metadata": {
        "id": "Z75bJRV5fE0y"
      },
      "source": [
        "indices = set(googl_indice) & set(aa_indice) & set(iae_indice) \n",
        "\n",
        "ii = np.in1d(googl_indice,list(indices))\n",
        "data_googl = googl_op[ii]\n",
        "ii = np.in1d(aa_indice,list(indices))\n",
        "data_aa = aa_op[ii]\n",
        "ii = np.in1d(iae_indice,list(indices))\n",
        "data_iae = iae_op[ii]"
      ],
      "execution_count": null,
      "outputs": []
    },
    {
      "cell_type": "code",
      "metadata": {
        "id": "jS3hc9OefE04",
        "colab": {
          "base_uri": "https://localhost:8080/",
          "height": 283
        },
        "outputId": "8b0f050d-ae1f-4e75-a2c3-121ce5c962b6"
      },
      "source": [
        "import matplotlib.pyplot as plt\n",
        "%matplotlib inline\n",
        "plt.figure()\n",
        "plt.plot(data_googl)\n",
        "plt.plot(data_aa)\n",
        "plt.plot(data_iae)"
      ],
      "execution_count": null,
      "outputs": [
        {
          "output_type": "execute_result",
          "data": {
            "text/plain": [
              "[<matplotlib.lines.Line2D at 0x7fed32669fd0>]"
            ]
          },
          "metadata": {},
          "execution_count": 10
        },
        {
          "output_type": "display_data",
          "data": {
            "text/plain": [
              "<Figure size 432x288 with 1 Axes>"
            ],
            "image/png": "[encoded data removed]"
          },
          "metadata": {
            "needs_background": "light"
          }
        }
      ]
    },
    {
      "cell_type": "code",
      "metadata": {
        "id": "XtuUa24tfE1C"
      },
      "source": [
        "DAT = np.zeros((data_googl.shape[0],3))\n",
        "DAT[:,0] = data_googl\n",
        "DAT[:,1] = data_aa\n",
        "DAT[:,2] = data_iae          "
      ],
      "execution_count": null,
      "outputs": []
    },
    {
      "cell_type": "code",
      "metadata": {
        "id": "XxHjD63SXFPV",
        "colab": {
          "base_uri": "https://localhost:8080/"
        },
        "outputId": "3ba03ed3-3920-4281-8124-73e68097d903"
      },
      "source": [
        "DAT.shape"
      ],
      "execution_count": null,
      "outputs": [
        {
          "output_type": "execute_result",
          "data": {
            "text/plain": [
              "(2678, 3)"
            ]
          },
          "metadata": {},
          "execution_count": 12
        }
      ]
    },
    {
      "cell_type": "code",
      "metadata": {
        "id": "xmCzN6XUfE1S"
      },
      "source": [
        "LAG = 5\n",
        "DAT_TS = np.zeros((DAT.shape[0]-LAG,LAG,DAT.shape[1]))\n",
        "\n",
        "for ii in range(0,DAT.shape[0]-LAG):\n",
        "    DAT_TS[ii,:,:] = DAT[ii:ii+LAG,:]\n",
        "    "
      ],
      "execution_count": null,
      "outputs": []
    },
    {
      "cell_type": "code",
      "metadata": {
        "id": "V5zawxjsXYXb",
        "colab": {
          "base_uri": "https://localhost:8080/"
        },
        "outputId": "02ddb074-5e8c-43a2-97af-14836b5c817b"
      },
      "source": [
        "DAT_TS.shape"
      ],
      "execution_count": null,
      "outputs": [
        {
          "output_type": "execute_result",
          "data": {
            "text/plain": [
              "(2673, 5, 3)"
            ]
          },
          "metadata": {},
          "execution_count": 14
        }
      ]
    },
    {
      "cell_type": "code",
      "metadata": {
        "id": "StW902QwfE1l",
        "colab": {
          "base_uri": "https://localhost:8080/"
        },
        "outputId": "da18b566-73fa-47a0-b733-eaa335f8dc8c"
      },
      "source": [
        "Ntr = np.floor(DAT_TS.shape[0]/2)\n",
        "Y_target = 0\n",
        "\n",
        "XX_tr = DAT_TS[range(0,np.int(Ntr)),0:LAG-1,:]\n",
        "XX_ts = DAT_TS[range(np.int(Ntr)+1,2*np.int(Ntr)),0:LAG-1,:]\n",
        "\n",
        "YY_tr = DAT_TS[range(0,np.int(Ntr)),LAG-1,Y_target]\n",
        "YY_ts = DAT_TS[range(np.int(Ntr)+1,2*np.int(Ntr)),LAG-1,Y_target]"
      ],
      "execution_count": null,
      "outputs": [
        {
          "output_type": "stream",
          "name": "stderr",
          "text": [
            "/usr/local/lib/python3.7/dist-packages/ipykernel_launcher.py:4: DeprecationWarning: `np.int` is a deprecated alias for the builtin `int`. To silence this warning, use `int` by itself. Doing this will not modify any behavior and is safe. When replacing `np.int`, you may wish to use e.g. `np.int64` or `np.int32` to specify the precision. If you wish to review your current use, check the release note link for additional information.\n",
            "Deprecated in NumPy 1.20; for more details and guidance: https://numpy.org/devdocs/release/1.20.0-notes.html#deprecations\n",
            "  after removing the cwd from sys.path.\n",
            "/usr/local/lib/python3.7/dist-packages/ipykernel_launcher.py:5: DeprecationWarning: `np.int` is a deprecated alias for the builtin `int`. To silence this warning, use `int` by itself. Doing this will not modify any behavior and is safe. When replacing `np.int`, you may wish to use e.g. `np.int64` or `np.int32` to specify the precision. If you wish to review your current use, check the release note link for additional information.\n",
            "Deprecated in NumPy 1.20; for more details and guidance: https://numpy.org/devdocs/release/1.20.0-notes.html#deprecations\n",
            "  \"\"\"\n",
            "/usr/local/lib/python3.7/dist-packages/ipykernel_launcher.py:7: DeprecationWarning: `np.int` is a deprecated alias for the builtin `int`. To silence this warning, use `int` by itself. Doing this will not modify any behavior and is safe. When replacing `np.int`, you may wish to use e.g. `np.int64` or `np.int32` to specify the precision. If you wish to review your current use, check the release note link for additional information.\n",
            "Deprecated in NumPy 1.20; for more details and guidance: https://numpy.org/devdocs/release/1.20.0-notes.html#deprecations\n",
            "  import sys\n",
            "/usr/local/lib/python3.7/dist-packages/ipykernel_launcher.py:8: DeprecationWarning: `np.int` is a deprecated alias for the builtin `int`. To silence this warning, use `int` by itself. Doing this will not modify any behavior and is safe. When replacing `np.int`, you may wish to use e.g. `np.int64` or `np.int32` to specify the precision. If you wish to review your current use, check the release note link for additional information.\n",
            "Deprecated in NumPy 1.20; for more details and guidance: https://numpy.org/devdocs/release/1.20.0-notes.html#deprecations\n",
            "  \n"
          ]
        }
      ]
    },
    {
      "cell_type": "code",
      "metadata": {
        "id": "yqrTYim2fE1v",
        "colab": {
          "base_uri": "https://localhost:8080/"
        },
        "outputId": "e77f7c75-7e80-4814-cb47-5bd1797de3a1"
      },
      "source": [
        "XX_tr.shape"
      ],
      "execution_count": null,
      "outputs": [
        {
          "output_type": "execute_result",
          "data": {
            "text/plain": [
              "(1336, 4, 3)"
            ]
          },
          "metadata": {},
          "execution_count": 16
        }
      ]
    },
    {
      "cell_type": "markdown",
      "metadata": {
        "id": "WPJMRR95fE1_"
      },
      "source": [
        "## MODEL 1"
      ]
    },
    {
      "cell_type": "code",
      "metadata": {
        "id": "m_n915JGfE2B"
      },
      "source": [
        "model = Sequential()\n",
        "model.add(LSTM(1, input_shape=(XX_tr.shape[1],XX_tr.shape[2]),return_sequences=True))\n",
        "model.add(Flatten())\n",
        "model.add(Dense(1))\n",
        "\n",
        "model.compile(optimizer='adam',loss='mae')"
      ],
      "execution_count": null,
      "outputs": []
    },
    {
      "cell_type": "code",
      "metadata": {
        "id": "OQ5MicB-YCdH",
        "colab": {
          "base_uri": "https://localhost:8080/"
        },
        "outputId": "7e0f338d-0b72-436d-e93b-dfb39b5ef5f9"
      },
      "source": [
        "model.summary()"
      ],
      "execution_count": null,
      "outputs": [
        {
          "output_type": "stream",
          "name": "stdout",
          "text": [
            "Model: \"sequential\"\n",
            "_________________________________________________________________\n",
            " Layer (type)                Output Shape              Param #   \n",
            "=================================================================\n",
            " lstm (LSTM)                 (None, 4, 1)              20        \n",
            "                                                                 \n",
            " flatten (Flatten)           (None, 4)                 0         \n",
            "                                                                 \n",
            " dense (Dense)               (None, 1)                 5         \n",
            "                                                                 \n",
            "=================================================================\n",
            "Total params: 25\n",
            "Trainable params: 25\n",
            "Non-trainable params: 0\n",
            "_________________________________________________________________\n"
          ]
        }
      ]
    },
    {
      "cell_type": "markdown",
      "metadata": {
        "id": "Lk7YhiZIdnaX"
      },
      "source": [
        "## MODELO 2"
      ]
    },
    {
      "cell_type": "code",
      "metadata": {
        "id": "CZQMkaFGfE2R"
      },
      "source": [
        "model2 = Sequential()\n",
        "model2.add(LSTM(10, input_shape=(XX_tr.shape[1],XX_tr.shape[2]), return_sequences = True))\n",
        "model2.add(LSTM(10))\n",
        "model2.add(Dense(1))\n",
        "\n",
        "model2.compile(optimizer='adam',loss='mae')"
      ],
      "execution_count": null,
      "outputs": []
    },
    {
      "cell_type": "code",
      "metadata": {
        "colab": {
          "base_uri": "https://localhost:8080/"
        },
        "id": "_2nRgiONTzmJ",
        "outputId": "0512d4cf-e40e-4371-e9db-70bea20dee23"
      },
      "source": [
        "model2.summary()"
      ],
      "execution_count": null,
      "outputs": [
        {
          "output_type": "stream",
          "name": "stdout",
          "text": [
            "Model: \"sequential_1\"\n",
            "_________________________________________________________________\n",
            " Layer (type)                Output Shape              Param #   \n",
            "=================================================================\n",
            " lstm_1 (LSTM)               (None, 4, 10)             560       \n",
            "                                                                 \n",
            " lstm_2 (LSTM)               (None, 10)                840       \n",
            "                                                                 \n",
            " dense_1 (Dense)             (None, 1)                 11        \n",
            "                                                                 \n",
            "=================================================================\n",
            "Total params: 1,411\n",
            "Trainable params: 1,411\n",
            "Non-trainable params: 0\n",
            "_________________________________________________________________\n"
          ]
        }
      ]
    },
    {
      "cell_type": "markdown",
      "metadata": {
        "id": "XUtPugRtdp-G"
      },
      "source": [
        "## MODELO 3"
      ]
    },
    {
      "cell_type": "code",
      "metadata": {
        "id": "4Bp4GtCJfE2V"
      },
      "source": [
        "model3 = Sequential()\n",
        "model3.add(LSTM(10, input_shape=(XX_tr.shape[1],XX_tr.shape[2],), return_sequences = True))\n",
        "model3.add(GRU(10))\n",
        "model3.add(Dense(1))\n",
        "\n",
        "model3.compile(optimizer='adam',loss='mae')"
      ],
      "execution_count": null,
      "outputs": []
    },
    {
      "cell_type": "code",
      "metadata": {
        "id": "lS6XW4BjfE2g",
        "colab": {
          "base_uri": "https://localhost:8080/"
        },
        "outputId": "eb8b34a0-b081-4bc5-96cb-f07c394f4af0"
      },
      "source": [
        "model3.summary()"
      ],
      "execution_count": null,
      "outputs": [
        {
          "output_type": "stream",
          "name": "stdout",
          "text": [
            "Model: \"sequential_2\"\n",
            "_________________________________________________________________\n",
            " Layer (type)                Output Shape              Param #   \n",
            "=================================================================\n",
            " lstm_3 (LSTM)               (None, 4, 10)             560       \n",
            "                                                                 \n",
            " gru (GRU)                   (None, 10)                660       \n",
            "                                                                 \n",
            " dense_2 (Dense)             (None, 1)                 11        \n",
            "                                                                 \n",
            "=================================================================\n",
            "Total params: 1,231\n",
            "Trainable params: 1,231\n",
            "Non-trainable params: 0\n",
            "_________________________________________________________________\n"
          ]
        }
      ]
    },
    {
      "cell_type": "code",
      "metadata": {
        "scrolled": true,
        "id": "rUzDlBvefE2y",
        "colab": {
          "base_uri": "https://localhost:8080/"
        },
        "outputId": "3bd767a0-661c-4626-96a8-68726c83cf84"
      },
      "source": [
        "from keras.callbacks import History \n",
        "history = History()\n",
        "\n",
        "model3.fit(XX_tr, YY_tr, batch_size=32, epochs=50, verbose=0, callbacks=[history])"
      ],
      "execution_count": null,
      "outputs": [
        {
          "output_type": "execute_result",
          "data": {
            "text/plain": [
              "<keras.callbacks.History at 0x7fec8fd53550>"
            ]
          },
          "metadata": {},
          "execution_count": 24
        }
      ]
    },
    {
      "cell_type": "code",
      "metadata": {
        "id": "1mvxBnpofE28",
        "colab": {
          "base_uri": "https://localhost:8080/",
          "height": 283
        },
        "outputId": "e21e571e-d4c5-4c99-eee5-5465f6633eec"
      },
      "source": [
        "loss_ev = history.history['loss']\n",
        "\n",
        "import matplotlib.pyplot as plt\n",
        "%matplotlib inline\n",
        "plt.figure()\n",
        "plt.plot(loss_ev[0:-1])"
      ],
      "execution_count": null,
      "outputs": [
        {
          "output_type": "execute_result",
          "data": {
            "text/plain": [
              "[<matplotlib.lines.Line2D at 0x7fec8d4fd850>]"
            ]
          },
          "metadata": {},
          "execution_count": 25
        },
        {
          "output_type": "display_data",
          "data": {
            "text/plain": [
              "<Figure size 432x288 with 1 Axes>"
            ],
            "image/png": "[encoded data removed]"
          },
          "metadata": {
            "needs_background": "light"
          }
        }
      ]
    },
    {
      "cell_type": "code",
      "metadata": {
        "id": "cpMU60wRfE3G",
        "colab": {
          "base_uri": "https://localhost:8080/"
        },
        "outputId": "291ba4d6-d1e9-4453-bdb3-fcb7a4335504"
      },
      "source": [
        "score = model.evaluate(XX_tr, YY_tr, verbose=0)\n",
        "score"
      ],
      "execution_count": null,
      "outputs": [
        {
          "output_type": "execute_result",
          "data": {
            "text/plain": [
              "261.68341064453125"
            ]
          },
          "metadata": {},
          "execution_count": 26
        }
      ]
    },
    {
      "cell_type": "code",
      "metadata": {
        "id": "IWCBN1aZfE3L",
        "colab": {
          "base_uri": "https://localhost:8080/"
        },
        "outputId": "e7fb2e6f-7ed9-4ee8-a5f8-759d703a702b"
      },
      "source": [
        "y_hat = model.predict(XX_tr)\n",
        "np.mean(abs(y_hat[:,0]-YY_tr))"
      ],
      "execution_count": null,
      "outputs": [
        {
          "output_type": "execute_result",
          "data": {
            "text/plain": [
              "261.6833842474365"
            ]
          },
          "metadata": {},
          "execution_count": 27
        }
      ]
    },
    {
      "cell_type": "code",
      "metadata": {
        "id": "CW_o_6cGfE3S",
        "colab": {
          "base_uri": "https://localhost:8080/"
        },
        "outputId": "3bd9339e-958f-43ff-a722-c98151d06270"
      },
      "source": [
        "y_hat.shape"
      ],
      "execution_count": null,
      "outputs": [
        {
          "output_type": "execute_result",
          "data": {
            "text/plain": [
              "(1336, 1)"
            ]
          },
          "metadata": {},
          "execution_count": 28
        }
      ]
    },
    {
      "cell_type": "markdown",
      "metadata": {
        "id": "c_I2B87hfE3g"
      },
      "source": [
        "## TEST"
      ]
    },
    {
      "cell_type": "code",
      "metadata": {
        "id": "nu6befzBfE3h",
        "colab": {
          "base_uri": "https://localhost:8080/"
        },
        "outputId": "8acc5be7-af0c-4288-d56f-dd4df50dc728"
      },
      "source": [
        "y_hat = model.predict(XX_ts)\n",
        "np.mean(abs(y_hat[:,0]-YY_ts))"
      ],
      "execution_count": null,
      "outputs": [
        {
          "output_type": "execute_result",
          "data": {
            "text/plain": [
              "630.6718175327447"
            ]
          },
          "metadata": {},
          "execution_count": 29
        }
      ]
    },
    {
      "cell_type": "code",
      "metadata": {
        "scrolled": true,
        "id": "daRz2tXdfE3l",
        "colab": {
          "base_uri": "https://localhost:8080/",
          "height": 283
        },
        "outputId": "b5fb110d-ef21-4b7f-a23b-109bcbf9f304"
      },
      "source": [
        "import matplotlib.pyplot as plt\n",
        "%matplotlib inline\n",
        "plt.figure()\n",
        "plt.plot(y_hat[:,0]-YY_ts, label='NN')\n",
        "plt.legend()"
      ],
      "execution_count": null,
      "outputs": [
        {
          "output_type": "execute_result",
          "data": {
            "text/plain": [
              "<matplotlib.legend.Legend at 0x7fec8fbbead0>"
            ]
          },
          "metadata": {},
          "execution_count": 30
        },
        {
          "output_type": "display_data",
          "data": {
            "text/plain": [
              "<Figure size 432x288 with 1 Axes>"
            ],
            "image/png": "[encoded data removed]"
          },
          "metadata": {
            "needs_background": "light"
          }
        }
      ]
    },
    {
      "cell_type": "code",
      "metadata": {
        "scrolled": true,
        "id": "xsuY7YHwfE3u",
        "colab": {
          "base_uri": "https://localhost:8080/",
          "height": 283
        },
        "outputId": "b2b4cf18-98da-42d9-9cac-ced96eae7f08"
      },
      "source": [
        "plt.figure()\n",
        "plt.plot(y_hat[:,0], label='y hat')\n",
        "plt.plot(YY_ts, label='y')\n",
        "plt.legend()"
      ],
      "execution_count": null,
      "outputs": [
        {
          "output_type": "execute_result",
          "data": {
            "text/plain": [
              "<matplotlib.legend.Legend at 0x7fec8fac7990>"
            ]
          },
          "metadata": {},
          "execution_count": 31
        },
        {
          "output_type": "display_data",
          "data": {
            "text/plain": [
              "<Figure size 432x288 with 1 Axes>"
            ],
            "image/png": "[encoded data removed]"
          },
          "metadata": {
            "needs_background": "light"
          }
        }
      ]
    },
    {
      "cell_type": "markdown",
      "source": [
        "# Ejercicios"
      ],
      "metadata": {
        "id": "TcE0v2Dct_KO"
      }
    },
    {
      "cell_type": "markdown",
      "source": [
        "1) Comenta cada celda del código"
      ],
      "metadata": {
        "id": "aGNndbsVyWub"
      }
    },
    {
      "cell_type": "markdown",
      "source": [
        "2) Crea, entrena y prueba un modelo con capas recurrentes y convolucionales. Da el valor de mae en entrenamiento y test. \n"
      ],
      "metadata": {
        "id": "RrEFRra9vC7A"
      }
    },
    {
      "cell_type": "markdown",
      "source": [
        "3) Modifica la capa LSTM para que use una función de activación diferente. ¿Qué pasa con el entrenamiento?\n"
      ],
      "metadata": {
        "id": "8ymJFcMJwVUQ"
      }
    },
    {
      "cell_type": "markdown",
      "source": [
        "4) Haz un modelo que use la capa Bidirectional:\n",
        "https://keras.io/api/layers/recurrent_layers/bidirectional/"
      ],
      "metadata": {
        "id": "4mQVKQt4uBNw"
      }
    },
    {
      "cell_type": "markdown",
      "source": [
        "# Ejercicios EXTRA"
      ],
      "metadata": {
        "id": "QXXOOdYXuWz-"
      }
    },
    {
      "cell_type": "markdown",
      "source": [
        "5) Haz un modelos que incluya 10 activos, intenta seleccionarlos correctamente para poder predecir el valor de google."
      ],
      "metadata": {
        "id": "AT2UPVDHwcgk"
      }
    }
  ]
}