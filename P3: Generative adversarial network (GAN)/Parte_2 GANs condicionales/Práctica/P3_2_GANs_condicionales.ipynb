{
  "nbformat": 4,
  "nbformat_minor": 0,
  "metadata": {
    "colab": {
      "provenance": [],
      "collapsed_sections": []
    },
    "kernelspec": {
      "name": "python3",
      "display_name": "Python 3"
    },
    "accelerator": "GPU"
  },
  "cells": [
    {
      "cell_type": "markdown",
      "source": [
        "# **PRÁCTICA 3: GANs - Parte 2: GANs condicionales**\n",
        "### Universitat de València, Escola Tecnica Superior d'Enginyeria\n",
        "### Elena Marrero Castellano | 4ª curso del Grado Ciencia de Datos\n"
      ],
      "metadata": {
        "id": "h6-OWnZ-7KOU"
      }
    },
    {
      "cell_type": "markdown",
      "source": [
        "## Prelaboratorio:\n"
      ],
      "metadata": {
        "id": "p-RCqufHNAzL"
      }
    },
    {
      "cell_type": "markdown",
      "source": [
        "- Corre el código de pix2pix de la página de tensorflow:\n",
        "https://www.tensorflow.org/tutorials/generative/pix2pix"
      ],
      "metadata": {
        "id": "4KTohsnZ7SXR"
      }
    },
    {
      "cell_type": "markdown",
      "source": [
        "- Corre el código de cyclegan de la página de tensorflow:\n",
        "https://www.tensorflow.org/tutorials/generative/cyclegan"
      ],
      "metadata": {
        "id": "g5vL1bXB7Tv8"
      }
    },
    {
      "cell_type": "markdown",
      "source": [
        "## Ejercicios"
      ],
      "metadata": {
        "id": "WfGMvzYd2l4n"
      }
    },
    {
      "cell_type": "markdown",
      "source": [
        "1) Corre el código de pix2pix de la página de tensorflow (el anterior) para el dataset \"maps\". Testealo pasándole como entrada una imagen del mapa de google maps de la ETSE."
      ],
      "metadata": {
        "id": "330dWmlel6sV"
      }
    },
    {
      "cell_type": "markdown",
      "source": [
        "2) Modifica el código de cyclegan de la página de tensorflow (el anterior) para que funcione sobre el dataset de documentos sucios que os proporcionamos. Comprueba que los modelos han aprendido a \"limpiar\" y a \"ensuciar\" documentos."
      ],
      "metadata": {
        "id": "N0xJLXjam1qw"
      }
    },
    {
      "cell_type": "markdown",
      "source": [
        "# Ejercicios EXTRA"
      ],
      "metadata": {
        "id": "t_skeNN9jtSi"
      }
    },
    {
      "cell_type": "markdown",
      "source": [
        "3) Busca algún dataset interesante y entrena el modelo de pix2pix\n",
        "\n"
      ],
      "metadata": {
        "id": "5pixCh8jmtmr"
      }
    },
    {
      "cell_type": "markdown",
      "source": [
        "4) Busca algún dataset interesante y entrena el modelo de cyclegan\n",
        "\n"
      ],
      "metadata": {
        "id": "Fce33pmxnjlV"
      }
    },
    {
      "cell_type": "markdown",
      "source": [
        "5) Busca algún dataset interesante y entrena el modelo de pix2pix y cyclegan y compara los resultados.\n",
        "\n"
      ],
      "metadata": {
        "id": "YnmaWaIhnnNr"
      }
    }
  ]
}