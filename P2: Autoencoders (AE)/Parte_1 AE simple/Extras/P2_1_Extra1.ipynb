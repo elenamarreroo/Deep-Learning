{
  "nbformat": 4,
  "nbformat_minor": 0,
  "metadata": {
    "accelerator": "GPU",
    "colab": {
      "provenance": [],
      "collapsed_sections": []
    },
    "kernelspec": {
      "display_name": "Python 3",
      "name": "python3"
    }
  },
  "cells": [
    {
      "cell_type": "markdown",
      "metadata": {
        "id": "uJN6CLjLvAHg"
      },
      "source": [
        "# **PRÁCTICA 2: AUTOENCODERS - Parte 1: Densos**\n",
        "### Universitat de València, Escola Tecnica Superior d'Enginyeria\n",
        "### Elena Marrero Castellano | 4ª curso del Grado Ciencia de Datos"
      ]
    },
    {
      "cell_type": "markdown",
      "source": [
        "## **Ejercicios EXTRA: Compara los resultados de una capa con un PCA entrenado con sklearn**"
      ],
      "metadata": {
        "id": "-y89irWtw70v"
      }
    },
    {
      "cell_type": "markdown",
      "source": [
        "<p align=\"justify\"> El análisis de componentes principales es un uso clásico de la técnica de aprendizaje automático para la reducción de dimensiones. Ahora tratamos de hacer lo mismo usando PCA.</p>"
      ],
      "metadata": {
        "id": "AbyDOIpr7mD0"
      }
    },
    {
      "cell_type": "code",
      "source": [
        "import matplotlib.pyplot as plt\n",
        "from sklearn.decomposition import PCA\n",
        "from keras.datasets import mnist\n",
        "import numpy as np"
      ],
      "metadata": {
        "id": "vxKdc9dj3zHP"
      },
      "execution_count": 1,
      "outputs": []
    },
    {
      "cell_type": "code",
      "source": [
        "(x_train, _), (x_test, _) = mnist.load_data()\n",
        "\n",
        "# DATOS\n",
        "x_train = x_train.astype('float32') / 255.\n",
        "x_test = x_test.astype('float32') / 255.\n",
        "\n",
        "x_train = x_train.reshape((len(x_train), np.prod(x_train.shape[1:])))\n",
        "x_test = x_test.reshape((len(x_test), np.prod(x_test.shape[1:])))\n",
        "\n",
        "print(x_train.shape)\n",
        "print(x_test.shape)"
      ],
      "metadata": {
        "colab": {
          "base_uri": "https://localhost:8080/"
        },
        "id": "30OE9cBGbgWr",
        "outputId": "a82d2e5a-9e06-48de-cd2f-2ba72870e0fd"
      },
      "execution_count": 2,
      "outputs": [
        {
          "output_type": "stream",
          "name": "stdout",
          "text": [
            "Downloading data from https://storage.googleapis.com/tensorflow/tf-keras-datasets/mnist.npz\n",
            "11490434/11490434 [==============================] - 0s 0us/step\n",
            "(60000, 784)\n",
            "(10000, 784)\n"
          ]
        }
      ]
    },
    {
      "cell_type": "code",
      "source": [
        "pca = PCA(32)\n",
        "pca.fit(x_train)\n",
        "train= pca.transform(x_train)\n",
        "test = pca.transform(x_test)\n",
        "approximation = pca.inverse_transform(test)"
      ],
      "metadata": {
        "id": "hnXH-A9U8IAB"
      },
      "execution_count": 3,
      "outputs": []
    },
    {
      "cell_type": "markdown",
      "source": [
        "<p align=\"justify\">Visualizando resultado:</p>"
      ],
      "metadata": {
        "id": "1oGpP6dxMsF2"
      }
    },
    {
      "cell_type": "code",
      "source": [
        "#plt.figure(figsize=(8,4));\n",
        "\n",
        "# Original Image\n",
        "plt.subplot(1, 2, 1);\n",
        "plt.imshow(x_train[1].reshape(28,28))\n",
        "#plt.xlabel('784 components', fontsize = 14)\n",
        "plt.title('Original Image', fontsize = 20);\n",
        "\n",
        "# 154 principal components\n",
        "plt.subplot(1, 2, 2);\n",
        "plt.imshow(approximation[1].reshape(28, 28))\n",
        "#plt.xlabel('154 components', fontsize = 14)\n",
        "plt.title('Transformed', fontsize = 20);"
      ],
      "metadata": {
        "colab": {
          "base_uri": "https://localhost:8080/",
          "height": 221
        },
        "id": "XNWUew6f8EvW",
        "outputId": "700f78c1-2f74-46f6-9bcd-346191c64d60"
      },
      "execution_count": 4,
      "outputs": [
        {
          "output_type": "display_data",
          "data": {
            "text/plain": [
              "<Figure size 432x288 with 2 Axes>"
            ],
            "image/png": "[encoded data removed]"
          },
          "metadata": {
            "needs_background": "light"
          }
        }
      ]
    },
    {
      "cell_type": "markdown",
      "source": [
        "<p align=\"justify\"> Usamos la misma dimensión aquí para comprimir y luego descomprimirlo nuevamente y trazarlo, es claramente visible que el resultado de Autoencoder es mucho mejor.</p>"
      ],
      "metadata": {
        "id": "2YA3kqrhM28E"
      }
    },
    {
      "cell_type": "markdown",
      "source": [
        "<p align=\"justify\"> Luego hicimos lo mismo, pero aquí usamos el componente principal 200 para reducir la dimensión y trazamos el resultado.</p>"
      ],
      "metadata": {
        "id": "6sYQmS8SPWO5"
      }
    },
    {
      "cell_type": "code",
      "source": [
        "pca = PCA(200)\n",
        "pca.fit(x_train)\n",
        "train= pca.transform(x_train)\n",
        "test = pca.transform(x_test)\n",
        "approximation_train = pca.inverse_transform(train)\n",
        "approximation_test = pca.inverse_transform(test)"
      ],
      "metadata": {
        "id": "cShzqWGl280P"
      },
      "execution_count": 5,
      "outputs": []
    },
    {
      "cell_type": "markdown",
      "source": [
        "**Visualizando resultado:**\n",
        "<p align=\"justify\"> Esto es lo que obtenemos. La fila superior son los dígitos originales y la fila inferior son los dígitos reconstruidos. Estamos perdiendo un poco de detalle con este enfoque básico.</p>"
      ],
      "metadata": {
        "id": "R7xsPVyYNJXd"
      }
    },
    {
      "cell_type": "code",
      "metadata": {
        "colab": {
          "base_uri": "https://localhost:8080/",
          "height": 276
        },
        "outputId": "4ac1be29-9fbd-4c35-e87d-1cbf27ab72f4",
        "id": "A7M3-iSaNJXe"
      },
      "source": [
        "import matplotlib.pyplot as plt\n",
        "\n",
        "n = 10 \n",
        "plt.figure(figsize=(20, 4))\n",
        "print(\"Test data as input:\")\n",
        "for i in range(n):\n",
        "\n",
        "    # display original\n",
        "    ax = plt.subplot(2, n, i + 1)\n",
        "    plt.imshow(x_test[i].reshape(28, 28))\n",
        "    plt.gray()\n",
        "    ax.get_xaxis().set_visible(False)\n",
        "    ax.get_yaxis().set_visible(False)\n",
        "plt.show()\n",
        "\n",
        "plt.figure(figsize=(20, 4))\n",
        "print(\"Decoded Image PCA:\")\n",
        "for i in range(n):\n",
        "\n",
        "    # display reconstruccion\n",
        "    ax = plt.subplot(2, n, i + 1 + n)\n",
        "    plt.imshow(approximation_test[i].reshape(28, 28))\n",
        "    plt.gray()\n",
        "    ax.get_xaxis().set_visible(False)\n",
        "    ax.get_yaxis().set_visible(False)\n",
        "plt.show()"
      ],
      "execution_count": 7,
      "outputs": [
        {
          "output_type": "stream",
          "name": "stdout",
          "text": [
            "Test data as input:\n"
          ]
        },
        {
          "output_type": "display_data",
          "data": {
            "text/plain": [
              "<Figure size 1440x288 with 10 Axes>"
            ],
            "image/png": "[encoded data removed]"
          },
          "metadata": {
            "needs_background": "light"
          }
        },
        {
          "output_type": "stream",
          "name": "stdout",
          "text": [
            "Decoded Image PCA:\n"
          ]
        },
        {
          "output_type": "display_data",
          "data": {
            "text/plain": [
              "<Figure size 1440x288 with 10 Axes>"
            ],
            "image/png": "[encoded data removed]"
          },
          "metadata": {
            "needs_background": "light"
          }
        }
      ]
    },
    {
      "cell_type": "markdown",
      "source": [
        "**Resultado**\n",
        "\n",
        "<p align=\"justify\">Como podemos observar tanto el autoencoder de una capa como la PCA han hecho la transformación correctamente. Vemos que son más claros los números en el autoecoder de una capa que en los de la PCA. Pero la recostrucción ha sido prácticamente la misma.</p>\n",
        "\n",
        "<p align=\"justify\">Debemos tener en cuenta que la PCA y los autoencoder trabajan de maneras diferentes. La PCA es una transformación lineal en la que un conjunto dado de datos se aproxima mediante una línea recta. Mientra que  Autoencoder puede aprender la estructura de no linealidad que está presente en los datos.</p>\n",
        "\n",
        "<p align=\"justify\">Igualmente si no imponemos ninguna no linealidad en la red, Autoencoder y PCA son casi similares.</p>\n"
      ],
      "metadata": {
        "id": "yrRqHdPYlnoC"
      }
    }
  ]
}