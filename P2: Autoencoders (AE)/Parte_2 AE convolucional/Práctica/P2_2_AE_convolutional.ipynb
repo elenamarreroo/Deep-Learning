{
  "nbformat": 4,
  "nbformat_minor": 0,
  "metadata": {
    "colab": {
      "provenance": [],
      "collapsed_sections": []
    },
    "kernelspec": {
      "name": "python3",
      "display_name": "Python 3"
    },
    "accelerator": "GPU"
  },
  "cells": [
    {
      "cell_type": "markdown",
      "metadata": {
        "id": "fvlrVi5YxEXf"
      },
      "source": [
        "# **PRÁCTICA 2: AUTOENCODERS - Parte 2: Convolucionales**\n",
        "### Universitat de València, Escola Tecnica Superior d'Enginyeria\n",
        "### Elena Marrero Castellano | 4ª curso del Grado Ciencia de Datos"
      ]
    },
    {
      "cell_type": "markdown",
      "source": [
        "Autoencoders con Keras\n",
        "\n",
        "https://blog.keras.io/building-autoencoders-in-keras.html"
      ],
      "metadata": {
        "id": "1MKMpBjxv51K"
      }
    },
    {
      "cell_type": "markdown",
      "source": [
        "# Laboratorio"
      ],
      "metadata": {
        "id": "MQpVefJH9IbR"
      }
    },
    {
      "cell_type": "markdown",
      "source": [
        "## Autoencoder convolucional"
      ],
      "metadata": {
        "id": "JzSlgyaWxJi9"
      }
    },
    {
      "cell_type": "code",
      "metadata": {
        "id": "nPYuKtjYTSD_"
      },
      "source": [
        "from tensorflow.keras.layers import Input, Dense, Conv2D, MaxPooling2D, UpSampling2D\n",
        "from tensorflow.keras.models import Model\n",
        "from tensorflow.keras.optimizers import Adam"
      ],
      "execution_count": null,
      "outputs": []
    },
    {
      "cell_type": "code",
      "metadata": {
        "id": "uSq5lDFkWAh_"
      },
      "source": [
        "# MODELO\n",
        "\n",
        "# ENCODER\n",
        "input_img = Input(shape=(28, 28, 1))  \n",
        "x = Conv2D(16, (3, 3), activation='relu', padding='same')(input_img)\n",
        "x = MaxPooling2D((2, 2), padding='same')(x)\n",
        "x = Conv2D(8, (3, 3), activation='relu', padding='same')(x)\n",
        "x = MaxPooling2D((2, 2), padding='same')(x)\n",
        "x = Conv2D(8, (3, 3), activation='relu', padding='same')(x)\n",
        "encoded = MaxPooling2D((2, 2), padding='same')(x)\n",
        "\n",
        "# DECODER\n",
        "x = Conv2D(8, (3, 3), activation='relu', padding='same')(encoded)\n",
        "x = UpSampling2D((2, 2))(x)\n",
        "x = Conv2D(8, (3, 3), activation='relu', padding='same')(x)\n",
        "x = UpSampling2D((2, 2))(x)\n",
        "x = Conv2D(16, (3, 3), activation='relu')(x)\n",
        "x = UpSampling2D((2, 2))(x)\n",
        "decoded = Conv2D(1, (3, 3), activation='sigmoid', padding='same')(x)\n"
      ],
      "execution_count": null,
      "outputs": []
    },
    {
      "cell_type": "code",
      "metadata": {
        "id": "XnGJRQIJje5k"
      },
      "source": [
        "opt = Adam(learning_rate=0.0001)\n",
        "autoencoder = Model(input_img, decoded)\n",
        "autoencoder.compile(optimizer=opt, loss='mse')"
      ],
      "execution_count": null,
      "outputs": []
    },
    {
      "cell_type": "code",
      "source": [
        "autoencoder.summary()"
      ],
      "metadata": {
        "colab": {
          "base_uri": "https://localhost:8080/"
        },
        "id": "K-iLOVYOHp3B",
        "outputId": "e75c5015-b011-4b29-d296-6c81c97533c8"
      },
      "execution_count": null,
      "outputs": [
        {
          "output_type": "stream",
          "name": "stdout",
          "text": [
            "Model: \"model\"\n",
            "_________________________________________________________________\n",
            " Layer (type)                Output Shape              Param #   \n",
            "=================================================================\n",
            " input_1 (InputLayer)        [(None, 28, 28, 1)]       0         \n",
            "                                                                 \n",
            " conv2d (Conv2D)             (None, 28, 28, 16)        160       \n",
            "                                                                 \n",
            " max_pooling2d (MaxPooling2D  (None, 14, 14, 16)       0         \n",
            " )                                                               \n",
            "                                                                 \n",
            " conv2d_1 (Conv2D)           (None, 14, 14, 8)         1160      \n",
            "                                                                 \n",
            " max_pooling2d_1 (MaxPooling  (None, 7, 7, 8)          0         \n",
            " 2D)                                                             \n",
            "                                                                 \n",
            " conv2d_2 (Conv2D)           (None, 7, 7, 8)           584       \n",
            "                                                                 \n",
            " max_pooling2d_2 (MaxPooling  (None, 4, 4, 8)          0         \n",
            " 2D)                                                             \n",
            "                                                                 \n",
            " conv2d_3 (Conv2D)           (None, 4, 4, 8)           584       \n",
            "                                                                 \n",
            " up_sampling2d (UpSampling2D  (None, 8, 8, 8)          0         \n",
            " )                                                               \n",
            "                                                                 \n",
            " conv2d_4 (Conv2D)           (None, 8, 8, 8)           584       \n",
            "                                                                 \n",
            " up_sampling2d_1 (UpSampling  (None, 16, 16, 8)        0         \n",
            " 2D)                                                             \n",
            "                                                                 \n",
            " conv2d_5 (Conv2D)           (None, 14, 14, 16)        1168      \n",
            "                                                                 \n",
            " up_sampling2d_2 (UpSampling  (None, 28, 28, 16)       0         \n",
            " 2D)                                                             \n",
            "                                                                 \n",
            " conv2d_6 (Conv2D)           (None, 28, 28, 1)         145       \n",
            "                                                                 \n",
            "=================================================================\n",
            "Total params: 4,385\n",
            "Trainable params: 4,385\n",
            "Non-trainable params: 0\n",
            "_________________________________________________________________\n"
          ]
        }
      ]
    },
    {
      "cell_type": "code",
      "metadata": {
        "id": "xIrlLun-TFA4",
        "colab": {
          "base_uri": "https://localhost:8080/"
        },
        "outputId": "0138ec44-fac1-4a99-f2ac-446db8bc4e54"
      },
      "source": [
        "# DATOS\n",
        "from keras.datasets import mnist\n",
        "import numpy as np\n",
        "\n",
        "(x_train, _), (x_test, _) = mnist.load_data()\n",
        "\n",
        "x_train = x_train.astype('float32') / 255.\n",
        "x_test = x_test.astype('float32') / 255.\n",
        "x_train = np.reshape(x_train, (len(x_train), 28, 28, 1)) \n",
        "x_test = np.reshape(x_test, (len(x_test), 28, 28, 1))  "
      ],
      "execution_count": null,
      "outputs": [
        {
          "output_type": "stream",
          "name": "stdout",
          "text": [
            "Downloading data from https://storage.googleapis.com/tensorflow/tf-keras-datasets/mnist.npz\n",
            "11493376/11490434 [==============================] - 0s 0us/step\n",
            "11501568/11490434 [==============================] - 0s 0us/step\n"
          ]
        }
      ]
    },
    {
      "cell_type": "code",
      "metadata": {
        "colab": {
          "base_uri": "https://localhost:8080/"
        },
        "id": "bCzcFxPGjXG2",
        "outputId": "9b98ca5e-d6ba-4528-f324-3edc492b0774"
      },
      "source": [
        "autoencoder.summary()"
      ],
      "execution_count": null,
      "outputs": [
        {
          "output_type": "stream",
          "name": "stdout",
          "text": [
            "Model: \"model\"\n",
            "_________________________________________________________________\n",
            " Layer (type)                Output Shape              Param #   \n",
            "=================================================================\n",
            " input_1 (InputLayer)        [(None, 28, 28, 1)]       0         \n",
            "                                                                 \n",
            " conv2d (Conv2D)             (None, 28, 28, 16)        160       \n",
            "                                                                 \n",
            " max_pooling2d (MaxPooling2D  (None, 14, 14, 16)       0         \n",
            " )                                                               \n",
            "                                                                 \n",
            " conv2d_1 (Conv2D)           (None, 14, 14, 8)         1160      \n",
            "                                                                 \n",
            " max_pooling2d_1 (MaxPooling  (None, 7, 7, 8)          0         \n",
            " 2D)                                                             \n",
            "                                                                 \n",
            " conv2d_2 (Conv2D)           (None, 7, 7, 8)           584       \n",
            "                                                                 \n",
            " max_pooling2d_2 (MaxPooling  (None, 4, 4, 8)          0         \n",
            " 2D)                                                             \n",
            "                                                                 \n",
            " conv2d_3 (Conv2D)           (None, 4, 4, 8)           584       \n",
            "                                                                 \n",
            " up_sampling2d (UpSampling2D  (None, 8, 8, 8)          0         \n",
            " )                                                               \n",
            "                                                                 \n",
            " conv2d_4 (Conv2D)           (None, 8, 8, 8)           584       \n",
            "                                                                 \n",
            " up_sampling2d_1 (UpSampling  (None, 16, 16, 8)        0         \n",
            " 2D)                                                             \n",
            "                                                                 \n",
            " conv2d_5 (Conv2D)           (None, 14, 14, 16)        1168      \n",
            "                                                                 \n",
            " up_sampling2d_2 (UpSampling  (None, 28, 28, 16)       0         \n",
            " 2D)                                                             \n",
            "                                                                 \n",
            " conv2d_6 (Conv2D)           (None, 28, 28, 1)         145       \n",
            "                                                                 \n",
            "=================================================================\n",
            "Total params: 4,385\n",
            "Trainable params: 4,385\n",
            "Non-trainable params: 0\n",
            "_________________________________________________________________\n"
          ]
        }
      ]
    },
    {
      "cell_type": "code",
      "metadata": {
        "id": "3defT4BpTG5r",
        "colab": {
          "base_uri": "https://localhost:8080/"
        },
        "outputId": "8312f556-375a-4d7e-a9cc-5bb8b99adb54"
      },
      "source": [
        "# ENTRENAMIENTO\n",
        "autoencoder.fit(x_train, x_train,\n",
        "                epochs=100,\n",
        "                batch_size=128,\n",
        "                shuffle=True,\n",
        "                validation_data=(x_test, x_test))"
      ],
      "execution_count": null,
      "outputs": [
        {
          "output_type": "stream",
          "name": "stdout",
          "text": [
            "Epoch 1/100\n",
            "469/469 [==============================] - 17s 14ms/step - loss: 0.1189 - val_loss: 0.0597\n",
            "Epoch 2/100\n",
            "469/469 [==============================] - 6s 12ms/step - loss: 0.0495 - val_loss: 0.0430\n",
            "Epoch 3/100\n",
            "469/469 [==============================] - 5s 11ms/step - loss: 0.0404 - val_loss: 0.0377\n",
            "Epoch 4/100\n",
            "469/469 [==============================] - 5s 11ms/step - loss: 0.0362 - val_loss: 0.0343\n",
            "Epoch 5/100\n",
            "469/469 [==============================] - 6s 12ms/step - loss: 0.0330 - val_loss: 0.0313\n",
            "Epoch 6/100\n",
            "469/469 [==============================] - 5s 11ms/step - loss: 0.0302 - val_loss: 0.0288\n",
            "Epoch 7/100\n",
            "469/469 [==============================] - 5s 11ms/step - loss: 0.0280 - val_loss: 0.0270\n",
            "Epoch 8/100\n",
            "469/469 [==============================] - 6s 12ms/step - loss: 0.0263 - val_loss: 0.0255\n",
            "Epoch 9/100\n",
            "469/469 [==============================] - 6s 12ms/step - loss: 0.0249 - val_loss: 0.0242\n",
            "Epoch 10/100\n",
            "469/469 [==============================] - 5s 11ms/step - loss: 0.0238 - val_loss: 0.0233\n",
            "Epoch 11/100\n",
            "469/469 [==============================] - 5s 11ms/step - loss: 0.0229 - val_loss: 0.0224\n",
            "Epoch 12/100\n",
            "469/469 [==============================] - 5s 11ms/step - loss: 0.0222 - val_loss: 0.0217\n",
            "Epoch 13/100\n",
            "469/469 [==============================] - 5s 11ms/step - loss: 0.0215 - val_loss: 0.0211\n",
            "Epoch 14/100\n",
            "469/469 [==============================] - 5s 11ms/step - loss: 0.0209 - val_loss: 0.0205\n",
            "Epoch 15/100\n",
            "469/469 [==============================] - 5s 11ms/step - loss: 0.0204 - val_loss: 0.0201\n",
            "Epoch 16/100\n",
            "469/469 [==============================] - 5s 11ms/step - loss: 0.0199 - val_loss: 0.0195\n",
            "Epoch 17/100\n",
            "469/469 [==============================] - 5s 11ms/step - loss: 0.0195 - val_loss: 0.0191\n",
            "Epoch 18/100\n",
            "469/469 [==============================] - 6s 12ms/step - loss: 0.0191 - val_loss: 0.0187\n",
            "Epoch 19/100\n",
            "469/469 [==============================] - 5s 11ms/step - loss: 0.0187 - val_loss: 0.0183\n",
            "Epoch 20/100\n",
            "469/469 [==============================] - 5s 11ms/step - loss: 0.0184 - val_loss: 0.0180\n",
            "Epoch 21/100\n",
            "469/469 [==============================] - 5s 11ms/step - loss: 0.0181 - val_loss: 0.0177\n",
            "Epoch 22/100\n",
            "469/469 [==============================] - 5s 11ms/step - loss: 0.0178 - val_loss: 0.0174\n",
            "Epoch 23/100\n",
            "469/469 [==============================] - 5s 11ms/step - loss: 0.0175 - val_loss: 0.0172\n",
            "Epoch 24/100\n",
            "469/469 [==============================] - 5s 11ms/step - loss: 0.0173 - val_loss: 0.0169\n",
            "Epoch 25/100\n",
            "469/469 [==============================] - 6s 12ms/step - loss: 0.0170 - val_loss: 0.0167\n",
            "Epoch 26/100\n",
            "469/469 [==============================] - 5s 11ms/step - loss: 0.0168 - val_loss: 0.0165\n",
            "Epoch 27/100\n",
            "469/469 [==============================] - 5s 11ms/step - loss: 0.0166 - val_loss: 0.0163\n",
            "Epoch 28/100\n",
            "469/469 [==============================] - 5s 11ms/step - loss: 0.0164 - val_loss: 0.0161\n",
            "Epoch 29/100\n",
            "469/469 [==============================] - 6s 12ms/step - loss: 0.0163 - val_loss: 0.0160\n",
            "Epoch 30/100\n",
            "469/469 [==============================] - 6s 12ms/step - loss: 0.0161 - val_loss: 0.0158\n",
            "Epoch 31/100\n",
            "469/469 [==============================] - 5s 11ms/step - loss: 0.0160 - val_loss: 0.0157\n",
            "Epoch 32/100\n",
            "469/469 [==============================] - 6s 12ms/step - loss: 0.0158 - val_loss: 0.0155\n",
            "Epoch 33/100\n",
            "469/469 [==============================] - 6s 12ms/step - loss: 0.0157 - val_loss: 0.0154\n",
            "Epoch 34/100\n",
            "469/469 [==============================] - 5s 11ms/step - loss: 0.0155 - val_loss: 0.0152\n",
            "Epoch 35/100\n",
            "469/469 [==============================] - 5s 11ms/step - loss: 0.0154 - val_loss: 0.0151\n",
            "Epoch 36/100\n",
            "469/469 [==============================] - 5s 11ms/step - loss: 0.0153 - val_loss: 0.0150\n",
            "Epoch 37/100\n",
            "469/469 [==============================] - 5s 11ms/step - loss: 0.0152 - val_loss: 0.0149\n",
            "Epoch 38/100\n",
            "469/469 [==============================] - 5s 11ms/step - loss: 0.0151 - val_loss: 0.0148\n",
            "Epoch 39/100\n",
            "469/469 [==============================] - 6s 12ms/step - loss: 0.0150 - val_loss: 0.0147\n",
            "Epoch 40/100\n",
            "469/469 [==============================] - 6s 12ms/step - loss: 0.0149 - val_loss: 0.0146\n",
            "Epoch 41/100\n",
            "469/469 [==============================] - 6s 12ms/step - loss: 0.0148 - val_loss: 0.0145\n",
            "Epoch 42/100\n",
            "469/469 [==============================] - 6s 12ms/step - loss: 0.0147 - val_loss: 0.0144\n",
            "Epoch 43/100\n",
            "469/469 [==============================] - 5s 11ms/step - loss: 0.0146 - val_loss: 0.0143\n",
            "Epoch 44/100\n",
            "469/469 [==============================] - 5s 11ms/step - loss: 0.0145 - val_loss: 0.0142\n",
            "Epoch 45/100\n",
            "469/469 [==============================] - 5s 11ms/step - loss: 0.0144 - val_loss: 0.0141\n",
            "Epoch 46/100\n",
            "469/469 [==============================] - 5s 11ms/step - loss: 0.0143 - val_loss: 0.0140\n",
            "Epoch 47/100\n",
            "469/469 [==============================] - 5s 11ms/step - loss: 0.0142 - val_loss: 0.0139\n",
            "Epoch 48/100\n",
            "469/469 [==============================] - 6s 12ms/step - loss: 0.0141 - val_loss: 0.0139\n",
            "Epoch 49/100\n",
            "469/469 [==============================] - 5s 11ms/step - loss: 0.0141 - val_loss: 0.0138\n",
            "Epoch 50/100\n",
            "469/469 [==============================] - 5s 12ms/step - loss: 0.0140 - val_loss: 0.0137\n",
            "Epoch 51/100\n",
            "469/469 [==============================] - 5s 11ms/step - loss: 0.0139 - val_loss: 0.0137\n",
            "Epoch 52/100\n",
            "469/469 [==============================] - 5s 11ms/step - loss: 0.0138 - val_loss: 0.0136\n",
            "Epoch 53/100\n",
            "469/469 [==============================] - 5s 11ms/step - loss: 0.0138 - val_loss: 0.0135\n",
            "Epoch 54/100\n",
            "469/469 [==============================] - 5s 11ms/step - loss: 0.0137 - val_loss: 0.0134\n",
            "Epoch 55/100\n",
            "469/469 [==============================] - 5s 11ms/step - loss: 0.0136 - val_loss: 0.0134\n",
            "Epoch 56/100\n",
            "469/469 [==============================] - 5s 11ms/step - loss: 0.0136 - val_loss: 0.0133\n",
            "Epoch 57/100\n",
            "469/469 [==============================] - 5s 11ms/step - loss: 0.0135 - val_loss: 0.0132\n",
            "Epoch 58/100\n",
            "469/469 [==============================] - 5s 11ms/step - loss: 0.0134 - val_loss: 0.0132\n",
            "Epoch 59/100\n",
            "469/469 [==============================] - 5s 11ms/step - loss: 0.0134 - val_loss: 0.0131\n",
            "Epoch 60/100\n",
            "469/469 [==============================] - 6s 12ms/step - loss: 0.0133 - val_loss: 0.0131\n",
            "Epoch 61/100\n",
            "469/469 [==============================] - 5s 11ms/step - loss: 0.0133 - val_loss: 0.0130\n",
            "Epoch 62/100\n",
            "469/469 [==============================] - 5s 11ms/step - loss: 0.0132 - val_loss: 0.0129\n",
            "Epoch 63/100\n",
            "469/469 [==============================] - 5s 11ms/step - loss: 0.0132 - val_loss: 0.0129\n",
            "Epoch 64/100\n",
            "469/469 [==============================] - 6s 12ms/step - loss: 0.0131 - val_loss: 0.0128\n",
            "Epoch 65/100\n",
            "469/469 [==============================] - 5s 11ms/step - loss: 0.0130 - val_loss: 0.0128\n",
            "Epoch 66/100\n",
            "469/469 [==============================] - 5s 11ms/step - loss: 0.0130 - val_loss: 0.0127\n",
            "Epoch 67/100\n",
            "469/469 [==============================] - 5s 11ms/step - loss: 0.0129 - val_loss: 0.0127\n",
            "Epoch 68/100\n",
            "469/469 [==============================] - 5s 11ms/step - loss: 0.0129 - val_loss: 0.0126\n",
            "Epoch 69/100\n",
            "469/469 [==============================] - 5s 11ms/step - loss: 0.0128 - val_loss: 0.0126\n",
            "Epoch 70/100\n",
            "469/469 [==============================] - 5s 11ms/step - loss: 0.0128 - val_loss: 0.0125\n",
            "Epoch 71/100\n",
            "469/469 [==============================] - 6s 12ms/step - loss: 0.0128 - val_loss: 0.0125\n",
            "Epoch 72/100\n",
            "469/469 [==============================] - 5s 11ms/step - loss: 0.0127 - val_loss: 0.0124\n",
            "Epoch 73/100\n",
            "469/469 [==============================] - 6s 12ms/step - loss: 0.0127 - val_loss: 0.0124\n",
            "Epoch 74/100\n",
            "469/469 [==============================] - 5s 11ms/step - loss: 0.0126 - val_loss: 0.0123\n",
            "Epoch 75/100\n",
            "469/469 [==============================] - 5s 11ms/step - loss: 0.0126 - val_loss: 0.0123\n",
            "Epoch 76/100\n",
            "469/469 [==============================] - 5s 11ms/step - loss: 0.0125 - val_loss: 0.0122\n",
            "Epoch 77/100\n",
            "469/469 [==============================] - 5s 11ms/step - loss: 0.0125 - val_loss: 0.0122\n",
            "Epoch 78/100\n",
            "469/469 [==============================] - 5s 11ms/step - loss: 0.0124 - val_loss: 0.0122\n",
            "Epoch 79/100\n",
            "469/469 [==============================] - 5s 11ms/step - loss: 0.0124 - val_loss: 0.0121\n",
            "Epoch 80/100\n",
            "469/469 [==============================] - 5s 12ms/step - loss: 0.0124 - val_loss: 0.0121\n",
            "Epoch 81/100\n",
            "469/469 [==============================] - 5s 11ms/step - loss: 0.0123 - val_loss: 0.0121\n",
            "Epoch 82/100\n",
            "469/469 [==============================] - 6s 12ms/step - loss: 0.0123 - val_loss: 0.0120\n",
            "Epoch 83/100\n",
            "469/469 [==============================] - 5s 11ms/step - loss: 0.0123 - val_loss: 0.0120\n",
            "Epoch 84/100\n",
            "469/469 [==============================] - 5s 12ms/step - loss: 0.0122 - val_loss: 0.0119\n",
            "Epoch 85/100\n",
            "469/469 [==============================] - 5s 11ms/step - loss: 0.0122 - val_loss: 0.0119\n",
            "Epoch 86/100\n",
            "469/469 [==============================] - 5s 11ms/step - loss: 0.0121 - val_loss: 0.0119\n",
            "Epoch 87/100\n",
            "469/469 [==============================] - 5s 11ms/step - loss: 0.0121 - val_loss: 0.0118\n",
            "Epoch 88/100\n",
            "469/469 [==============================] - 5s 11ms/step - loss: 0.0121 - val_loss: 0.0118\n",
            "Epoch 89/100\n",
            "469/469 [==============================] - 5s 11ms/step - loss: 0.0120 - val_loss: 0.0118\n",
            "Epoch 90/100\n",
            "469/469 [==============================] - 5s 11ms/step - loss: 0.0120 - val_loss: 0.0117\n",
            "Epoch 91/100\n",
            "469/469 [==============================] - 5s 11ms/step - loss: 0.0120 - val_loss: 0.0117\n",
            "Epoch 92/100\n",
            "469/469 [==============================] - 5s 12ms/step - loss: 0.0119 - val_loss: 0.0117\n",
            "Epoch 93/100\n",
            "469/469 [==============================] - 5s 12ms/step - loss: 0.0119 - val_loss: 0.0116\n",
            "Epoch 94/100\n",
            "469/469 [==============================] - 5s 11ms/step - loss: 0.0119 - val_loss: 0.0116\n",
            "Epoch 95/100\n",
            "469/469 [==============================] - 5s 11ms/step - loss: 0.0118 - val_loss: 0.0116\n",
            "Epoch 96/100\n",
            "469/469 [==============================] - 5s 11ms/step - loss: 0.0118 - val_loss: 0.0116\n",
            "Epoch 97/100\n",
            "469/469 [==============================] - 5s 11ms/step - loss: 0.0118 - val_loss: 0.0115\n",
            "Epoch 98/100\n",
            "469/469 [==============================] - 5s 11ms/step - loss: 0.0118 - val_loss: 0.0115\n",
            "Epoch 99/100\n",
            "469/469 [==============================] - 5s 11ms/step - loss: 0.0117 - val_loss: 0.0115\n",
            "Epoch 100/100\n",
            "469/469 [==============================] - 5s 11ms/step - loss: 0.0117 - val_loss: 0.0114\n"
          ]
        },
        {
          "output_type": "execute_result",
          "data": {
            "text/plain": [
              "<keras.callbacks.History at 0x7f452012ffd0>"
            ]
          },
          "metadata": {},
          "execution_count": 6
        }
      ]
    },
    {
      "cell_type": "code",
      "metadata": {
        "id": "9TYGhJutTIm8"
      },
      "source": [
        "# TEST\n",
        "decoded_imgs = autoencoder.predict(x_test)"
      ],
      "execution_count": null,
      "outputs": []
    },
    {
      "cell_type": "markdown",
      "source": [
        "# **Ejercicios**"
      ],
      "metadata": {
        "id": "fteTlkgAxYtT"
      }
    },
    {
      "cell_type": "markdown",
      "source": [
        "1) Comprueba la reconstrucción"
      ],
      "metadata": {
        "id": "EUvkZo1KxO9F"
      }
    },
    {
      "cell_type": "markdown",
      "source": [
        "2) Aplícalo para limpieza de ruido"
      ],
      "metadata": {
        "id": "9aHMLEqYxyfa"
      }
    },
    {
      "cell_type": "markdown",
      "source": [
        "3) Aplícalo para detección de anomalías"
      ],
      "metadata": {
        "id": "aRIBpOFMx3GO"
      }
    },
    {
      "cell_type": "markdown",
      "source": [
        "4) Modifica la arquitectura para que funcione con cifar 10"
      ],
      "metadata": {
        "id": "9Iq1xLNTzEPo"
      }
    },
    {
      "cell_type": "markdown",
      "source": [
        "# **Ejercicios EXTRA**"
      ],
      "metadata": {
        "id": "GnRoJrmg8nA5"
      }
    },
    {
      "cell_type": "markdown",
      "source": [
        "5) Incluye regularización de actividad en el dominio interno y compara los resultados"
      ],
      "metadata": {
        "id": "WDDZG8jFyE5T"
      }
    },
    {
      "cell_type": "markdown",
      "source": [
        "6) Corre el siguiente código con una imagen de tu cara\n",
        "\t\thttps://www.tensorflow.org/tutorials/images/segmentation\n",
        "\t\t"
      ],
      "metadata": {
        "id": "cVFMMLrxyFSw"
      }
    }
  ]
}