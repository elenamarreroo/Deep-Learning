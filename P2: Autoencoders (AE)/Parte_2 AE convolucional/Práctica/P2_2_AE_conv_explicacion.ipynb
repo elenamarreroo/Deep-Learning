{
  "nbformat": 4,
  "nbformat_minor": 0,
  "metadata": {
    "colab": {
      "provenance": [],
      "collapsed_sections": []
    },
    "kernelspec": {
      "name": "python3",
      "display_name": "Python 3"
    },
    "accelerator": "GPU"
  },
  "cells": [
    {
      "cell_type": "markdown",
      "metadata": {
        "id": "fvlrVi5YxEXf"
      },
      "source": [
        "# **PRÁCTICA 2: AUTOENCODERS - Parte 2: Convolucionales**\n",
        "### Universitat de València, Escola Tecnica Superior d'Enginyeria\n",
        "### Elena Marrero Castellano | 4ª curso del Grado Ciencia de Datos"
      ]
    },
    {
      "cell_type": "markdown",
      "source": [
        "## Autoencoder convolucional"
      ],
      "metadata": {
        "id": "JzSlgyaWxJi9"
      }
    },
    {
      "cell_type": "markdown",
      "source": [
        "**Codificador automático convolucional**\n",
        "\n",
        "<p align=\"justify\">Dado que nuestras entradas son imágenes, tiene sentido utilizar redes neuronales convolucionales (convnets) como codificadores y decodificadores. En entornos prácticos, los codificadores automáticos aplicados a las imágenes son siempre codificadores automáticos convolucionales, simplemente funcionan mucho mejor.</p>\n",
        "\n",
        "<p align=\"justify\">Implementemos uno. El codificador consistirá en una pila de capas Conv2Dy MaxPooling2D(la agrupación máxima se utiliza para el muestreo descendente espacial), mientras que el decodificador consistirá en una pila de capas Conv2Dy .UpSampling2D.</p>\n",
        "\n",
        "<p align=\"justify\">Es decir, comenzaremos de manera simple, con una sola capa neuronal completamente conectada como codificador y decodificador:</p>"
      ],
      "metadata": {
        "id": "gR-BIipdzWci"
      }
    },
    {
      "cell_type": "code",
      "metadata": {
        "id": "nPYuKtjYTSD_"
      },
      "source": [
        "from tensorflow.keras.layers import Input, Dense, Conv2D, MaxPooling2D, UpSampling2D\n",
        "from tensorflow.keras.models import Model\n",
        "from tensorflow.keras.optimizers import Adam"
      ],
      "execution_count": null,
      "outputs": []
    },
    {
      "cell_type": "code",
      "metadata": {
        "id": "uSq5lDFkWAh_"
      },
      "source": [
        "# MODELO\n",
        "\n",
        "# ENCODER activity_regularizer (parámentro de las Dense); activity_regularizer = regularizers.l1(0.01)\n",
        "input_img = Input(shape=(28, 28, 1))  \n",
        "x = Conv2D(16, (3, 3), activation='relu', padding='same')(input_img)\n",
        "x = MaxPooling2D((2, 2), padding='same')(x)\n",
        "x = Conv2D(8, (3, 3), activation='relu', padding='same')(x)\n",
        "x = MaxPooling2D((2, 2), padding='same')(x)\n",
        "x = Conv2D(8, (3, 3), activation='relu', padding='same')(x)\n",
        "encoded = MaxPooling2D((2, 2), padding='same')(x)\n",
        "\n",
        "# DECODER\n",
        "x = Conv2D(8, (3, 3), activation='relu', padding='same')(encoded)\n",
        "x = UpSampling2D((2, 2))(x)\n",
        "x = Conv2D(8, (3, 3), activation='relu', padding='same')(x)\n",
        "x = UpSampling2D((2, 2))(x)\n",
        "x = Conv2D(16, (3, 3), activation='relu')(x)\n",
        "x = UpSampling2D((2, 2))(x)\n",
        "decoded = Conv2D(1, (3, 3), activation='sigmoid', padding='same')(x)\n"
      ],
      "execution_count": null,
      "outputs": []
    },
    {
      "cell_type": "code",
      "metadata": {
        "id": "XnGJRQIJje5k"
      },
      "source": [
        "opt = Adam(learning_rate=0.0001)\n",
        "autoencoder0 = Model(input_img, decoded)\n",
        "autoencoder0.compile(optimizer=opt, loss='mse')"
      ],
      "execution_count": null,
      "outputs": []
    },
    {
      "cell_type": "code",
      "source": [
        "autoencoder0.summary()"
      ],
      "metadata": {
        "colab": {
          "base_uri": "https://localhost:8080/"
        },
        "id": "K-iLOVYOHp3B",
        "outputId": "6538307e-5750-464a-98aa-339675b4f838"
      },
      "execution_count": null,
      "outputs": [
        {
          "output_type": "stream",
          "name": "stdout",
          "text": [
            "Model: \"model\"\n",
            "_________________________________________________________________\n",
            " Layer (type)                Output Shape              Param #   \n",
            "=================================================================\n",
            " input_1 (InputLayer)        [(None, 28, 28, 1)]       0         \n",
            "                                                                 \n",
            " conv2d (Conv2D)             (None, 28, 28, 16)        160       \n",
            "                                                                 \n",
            " max_pooling2d (MaxPooling2D  (None, 14, 14, 16)       0         \n",
            " )                                                               \n",
            "                                                                 \n",
            " conv2d_1 (Conv2D)           (None, 14, 14, 8)         1160      \n",
            "                                                                 \n",
            " max_pooling2d_1 (MaxPooling  (None, 7, 7, 8)          0         \n",
            " 2D)                                                             \n",
            "                                                                 \n",
            " conv2d_2 (Conv2D)           (None, 7, 7, 8)           584       \n",
            "                                                                 \n",
            " max_pooling2d_2 (MaxPooling  (None, 4, 4, 8)          0         \n",
            " 2D)                                                             \n",
            "                                                                 \n",
            " conv2d_3 (Conv2D)           (None, 4, 4, 8)           584       \n",
            "                                                                 \n",
            " up_sampling2d (UpSampling2D  (None, 8, 8, 8)          0         \n",
            " )                                                               \n",
            "                                                                 \n",
            " conv2d_4 (Conv2D)           (None, 8, 8, 8)           584       \n",
            "                                                                 \n",
            " up_sampling2d_1 (UpSampling  (None, 16, 16, 8)        0         \n",
            " 2D)                                                             \n",
            "                                                                 \n",
            " conv2d_5 (Conv2D)           (None, 14, 14, 16)        1168      \n",
            "                                                                 \n",
            " up_sampling2d_2 (UpSampling  (None, 28, 28, 16)       0         \n",
            " 2D)                                                             \n",
            "                                                                 \n",
            " conv2d_6 (Conv2D)           (None, 28, 28, 1)         145       \n",
            "                                                                 \n",
            "=================================================================\n",
            "Total params: 4,385\n",
            "Trainable params: 4,385\n",
            "Non-trainable params: 0\n",
            "_________________________________________________________________\n"
          ]
        }
      ]
    },
    {
      "cell_type": "markdown",
      "source": [
        "<p align=\"justify\">Para entrenarlo, usaremos los dígitos MNIST originales:</p>"
      ],
      "metadata": {
        "id": "lUnTiqpvzjiE"
      }
    },
    {
      "cell_type": "code",
      "metadata": {
        "id": "xIrlLun-TFA4",
        "colab": {
          "base_uri": "https://localhost:8080/"
        },
        "outputId": "70dd9e83-61ec-46bf-97ee-2f05f8754240"
      },
      "source": [
        "# DATOS\n",
        "from keras.datasets import mnist\n",
        "import numpy as np\n",
        "\n",
        "(x_train, _), (x_test, _) = mnist.load_data()\n",
        "\n",
        "x_train = x_train.astype('float32') / 255.\n",
        "x_test = x_test.astype('float32') / 255.\n",
        "x_train = np.reshape(x_train, (len(x_train), 28, 28, 1)) \n",
        "x_test = np.reshape(x_test, (len(x_test), 28, 28, 1))  "
      ],
      "execution_count": null,
      "outputs": [
        {
          "output_type": "stream",
          "name": "stdout",
          "text": [
            "Downloading data from https://storage.googleapis.com/tensorflow/tf-keras-datasets/mnist.npz\n",
            "11493376/11490434 [==============================] - 0s 0us/step\n",
            "11501568/11490434 [==============================] - 0s 0us/step\n"
          ]
        }
      ]
    },
    {
      "cell_type": "markdown",
      "source": [
        "<p align=\"justify\">Entrenemos este modelo durante 100 épocas.</p>"
      ],
      "metadata": {
        "id": "H4dOnJskzvgh"
      }
    },
    {
      "cell_type": "code",
      "metadata": {
        "id": "3defT4BpTG5r",
        "colab": {
          "base_uri": "https://localhost:8080/"
        },
        "outputId": "cdd83f46-0936-4657-d757-9719309dc61e"
      },
      "source": [
        "# ENTRENAMIENTO\n",
        "from keras.callbacks import TensorBoard\n",
        "\n",
        "autoencoder0.fit(x_train, x_train,\n",
        "                epochs=100,\n",
        "                batch_size=128,\n",
        "                shuffle=True,\n",
        "                validation_data=(x_test, x_test),\n",
        "                callbacks=[TensorBoard(log_dir='/tmp/autoencoder')])"
      ],
      "execution_count": null,
      "outputs": [
        {
          "output_type": "stream",
          "name": "stdout",
          "text": [
            "Epoch 1/100\n",
            "469/469 [==============================] - 17s 14ms/step - loss: 0.1166 - val_loss: 0.0681\n",
            "Epoch 2/100\n",
            "469/469 [==============================] - 5s 12ms/step - loss: 0.0558 - val_loss: 0.0475\n",
            "Epoch 3/100\n",
            "469/469 [==============================] - 5s 12ms/step - loss: 0.0433 - val_loss: 0.0397\n",
            "Epoch 4/100\n",
            "469/469 [==============================] - 6s 12ms/step - loss: 0.0379 - val_loss: 0.0356\n",
            "Epoch 5/100\n",
            "469/469 [==============================] - 5s 12ms/step - loss: 0.0342 - val_loss: 0.0322\n",
            "Epoch 6/100\n",
            "469/469 [==============================] - 6s 12ms/step - loss: 0.0312 - val_loss: 0.0296\n",
            "Epoch 7/100\n",
            "469/469 [==============================] - 5s 12ms/step - loss: 0.0289 - val_loss: 0.0275\n",
            "Epoch 8/100\n",
            "469/469 [==============================] - 6s 12ms/step - loss: 0.0270 - val_loss: 0.0259\n",
            "Epoch 9/100\n",
            "469/469 [==============================] - 6s 13ms/step - loss: 0.0256 - val_loss: 0.0246\n",
            "Epoch 10/100\n",
            "469/469 [==============================] - 6s 12ms/step - loss: 0.0244 - val_loss: 0.0236\n",
            "Epoch 11/100\n",
            "469/469 [==============================] - 6s 12ms/step - loss: 0.0234 - val_loss: 0.0227\n",
            "Epoch 12/100\n",
            "469/469 [==============================] - 6s 12ms/step - loss: 0.0226 - val_loss: 0.0219\n",
            "Epoch 13/100\n",
            "469/469 [==============================] - 5s 12ms/step - loss: 0.0219 - val_loss: 0.0212\n",
            "Epoch 14/100\n",
            "469/469 [==============================] - 6s 13ms/step - loss: 0.0213 - val_loss: 0.0207\n",
            "Epoch 15/100\n",
            "469/469 [==============================] - 5s 11ms/step - loss: 0.0207 - val_loss: 0.0202\n",
            "Epoch 16/100\n",
            "469/469 [==============================] - 5s 11ms/step - loss: 0.0203 - val_loss: 0.0197\n",
            "Epoch 17/100\n",
            "469/469 [==============================] - 6s 12ms/step - loss: 0.0199 - val_loss: 0.0193\n",
            "Epoch 18/100\n",
            "469/469 [==============================] - 5s 12ms/step - loss: 0.0195 - val_loss: 0.0190\n",
            "Epoch 19/100\n",
            "469/469 [==============================] - 5s 12ms/step - loss: 0.0191 - val_loss: 0.0186\n",
            "Epoch 20/100\n",
            "469/469 [==============================] - 6s 14ms/step - loss: 0.0188 - val_loss: 0.0183\n",
            "Epoch 21/100\n",
            "469/469 [==============================] - 6s 12ms/step - loss: 0.0185 - val_loss: 0.0180\n",
            "Epoch 22/100\n",
            "469/469 [==============================] - 5s 11ms/step - loss: 0.0182 - val_loss: 0.0178\n",
            "Epoch 23/100\n",
            "469/469 [==============================] - 5s 11ms/step - loss: 0.0180 - val_loss: 0.0175\n",
            "Epoch 24/100\n",
            "469/469 [==============================] - 6s 12ms/step - loss: 0.0178 - val_loss: 0.0173\n",
            "Epoch 25/100\n",
            "469/469 [==============================] - 6s 12ms/step - loss: 0.0176 - val_loss: 0.0171\n",
            "Epoch 26/100\n",
            "469/469 [==============================] - 5s 11ms/step - loss: 0.0174 - val_loss: 0.0169\n",
            "Epoch 27/100\n",
            "469/469 [==============================] - 5s 11ms/step - loss: 0.0172 - val_loss: 0.0167\n",
            "Epoch 28/100\n",
            "469/469 [==============================] - 6s 12ms/step - loss: 0.0170 - val_loss: 0.0166\n",
            "Epoch 29/100\n",
            "469/469 [==============================] - 6s 12ms/step - loss: 0.0168 - val_loss: 0.0164\n",
            "Epoch 30/100\n",
            "469/469 [==============================] - 5s 11ms/step - loss: 0.0167 - val_loss: 0.0162\n",
            "Epoch 31/100\n",
            "469/469 [==============================] - 5s 11ms/step - loss: 0.0165 - val_loss: 0.0161\n",
            "Epoch 32/100\n",
            "469/469 [==============================] - 6s 12ms/step - loss: 0.0164 - val_loss: 0.0160\n",
            "Epoch 33/100\n",
            "469/469 [==============================] - 6s 12ms/step - loss: 0.0162 - val_loss: 0.0158\n",
            "Epoch 34/100\n",
            "469/469 [==============================] - 6s 12ms/step - loss: 0.0161 - val_loss: 0.0157\n",
            "Epoch 35/100\n",
            "469/469 [==============================] - 8s 17ms/step - loss: 0.0160 - val_loss: 0.0156\n",
            "Epoch 36/100\n",
            "469/469 [==============================] - 8s 18ms/step - loss: 0.0159 - val_loss: 0.0155\n",
            "Epoch 37/100\n",
            "469/469 [==============================] - 9s 19ms/step - loss: 0.0157 - val_loss: 0.0153\n",
            "Epoch 38/100\n",
            "469/469 [==============================] - 8s 16ms/step - loss: 0.0156 - val_loss: 0.0153\n",
            "Epoch 39/100\n",
            "469/469 [==============================] - 8s 16ms/step - loss: 0.0155 - val_loss: 0.0152\n",
            "Epoch 40/100\n",
            "469/469 [==============================] - 6s 14ms/step - loss: 0.0154 - val_loss: 0.0151\n",
            "Epoch 41/100\n",
            "469/469 [==============================] - 6s 13ms/step - loss: 0.0153 - val_loss: 0.0150\n",
            "Epoch 42/100\n",
            "469/469 [==============================] - 7s 15ms/step - loss: 0.0152 - val_loss: 0.0149\n",
            "Epoch 43/100\n",
            "469/469 [==============================] - 7s 15ms/step - loss: 0.0152 - val_loss: 0.0148\n",
            "Epoch 44/100\n",
            "469/469 [==============================] - 7s 16ms/step - loss: 0.0151 - val_loss: 0.0147\n",
            "Epoch 45/100\n",
            "469/469 [==============================] - 8s 18ms/step - loss: 0.0150 - val_loss: 0.0146\n",
            "Epoch 46/100\n",
            "469/469 [==============================] - 8s 17ms/step - loss: 0.0149 - val_loss: 0.0146\n",
            "Epoch 47/100\n",
            "469/469 [==============================] - 7s 16ms/step - loss: 0.0148 - val_loss: 0.0145\n",
            "Epoch 48/100\n",
            "469/469 [==============================] - 7s 14ms/step - loss: 0.0147 - val_loss: 0.0144\n",
            "Epoch 49/100\n",
            "469/469 [==============================] - 6s 12ms/step - loss: 0.0147 - val_loss: 0.0143\n",
            "Epoch 50/100\n",
            "469/469 [==============================] - 6s 12ms/step - loss: 0.0146 - val_loss: 0.0142\n",
            "Epoch 51/100\n",
            "469/469 [==============================] - 6s 14ms/step - loss: 0.0145 - val_loss: 0.0142\n",
            "Epoch 52/100\n",
            "469/469 [==============================] - 8s 16ms/step - loss: 0.0145 - val_loss: 0.0141\n",
            "Epoch 53/100\n",
            "469/469 [==============================] - 7s 15ms/step - loss: 0.0144 - val_loss: 0.0140\n",
            "Epoch 54/100\n",
            "469/469 [==============================] - 6s 13ms/step - loss: 0.0143 - val_loss: 0.0140\n",
            "Epoch 55/100\n",
            "469/469 [==============================] - 6s 12ms/step - loss: 0.0143 - val_loss: 0.0139\n",
            "Epoch 56/100\n",
            "469/469 [==============================] - 6s 12ms/step - loss: 0.0142 - val_loss: 0.0138\n",
            "Epoch 57/100\n",
            "469/469 [==============================] - 6s 12ms/step - loss: 0.0141 - val_loss: 0.0138\n",
            "Epoch 58/100\n",
            "469/469 [==============================] - 7s 15ms/step - loss: 0.0141 - val_loss: 0.0137\n",
            "Epoch 59/100\n",
            "469/469 [==============================] - 7s 16ms/step - loss: 0.0140 - val_loss: 0.0137\n",
            "Epoch 60/100\n",
            "469/469 [==============================] - 7s 16ms/step - loss: 0.0140 - val_loss: 0.0136\n",
            "Epoch 61/100\n",
            "469/469 [==============================] - 7s 16ms/step - loss: 0.0139 - val_loss: 0.0136\n",
            "Epoch 62/100\n",
            "469/469 [==============================] - 6s 14ms/step - loss: 0.0139 - val_loss: 0.0135\n",
            "Epoch 63/100\n",
            "469/469 [==============================] - 6s 13ms/step - loss: 0.0138 - val_loss: 0.0135\n",
            "Epoch 64/100\n",
            "469/469 [==============================] - 6s 12ms/step - loss: 0.0138 - val_loss: 0.0134\n",
            "Epoch 65/100\n",
            "469/469 [==============================] - 6s 12ms/step - loss: 0.0137 - val_loss: 0.0134\n",
            "Epoch 66/100\n",
            "469/469 [==============================] - 6s 12ms/step - loss: 0.0136 - val_loss: 0.0133\n",
            "Epoch 67/100\n",
            "469/469 [==============================] - 6s 12ms/step - loss: 0.0136 - val_loss: 0.0133\n",
            "Epoch 68/100\n",
            "469/469 [==============================] - 6s 13ms/step - loss: 0.0136 - val_loss: 0.0132\n",
            "Epoch 69/100\n",
            "469/469 [==============================] - 6s 12ms/step - loss: 0.0135 - val_loss: 0.0132\n",
            "Epoch 70/100\n",
            "469/469 [==============================] - 6s 13ms/step - loss: 0.0135 - val_loss: 0.0131\n",
            "Epoch 71/100\n",
            "469/469 [==============================] - 6s 12ms/step - loss: 0.0134 - val_loss: 0.0131\n",
            "Epoch 72/100\n",
            "469/469 [==============================] - 6s 12ms/step - loss: 0.0134 - val_loss: 0.0131\n",
            "Epoch 73/100\n",
            "469/469 [==============================] - 6s 13ms/step - loss: 0.0133 - val_loss: 0.0130\n",
            "Epoch 74/100\n",
            "469/469 [==============================] - 6s 13ms/step - loss: 0.0133 - val_loss: 0.0130\n",
            "Epoch 75/100\n",
            "469/469 [==============================] - 8s 17ms/step - loss: 0.0133 - val_loss: 0.0129\n",
            "Epoch 76/100\n",
            "469/469 [==============================] - 8s 18ms/step - loss: 0.0132 - val_loss: 0.0129\n",
            "Epoch 77/100\n",
            "469/469 [==============================] - 8s 17ms/step - loss: 0.0132 - val_loss: 0.0129\n",
            "Epoch 78/100\n",
            "469/469 [==============================] - 6s 13ms/step - loss: 0.0132 - val_loss: 0.0128\n",
            "Epoch 79/100\n",
            "469/469 [==============================] - 7s 15ms/step - loss: 0.0131 - val_loss: 0.0128\n",
            "Epoch 80/100\n",
            "469/469 [==============================] - 6s 13ms/step - loss: 0.0131 - val_loss: 0.0128\n",
            "Epoch 81/100\n",
            "469/469 [==============================] - 6s 12ms/step - loss: 0.0130 - val_loss: 0.0127\n",
            "Epoch 82/100\n",
            "469/469 [==============================] - 6s 12ms/step - loss: 0.0130 - val_loss: 0.0127\n",
            "Epoch 83/100\n",
            "469/469 [==============================] - 6s 12ms/step - loss: 0.0130 - val_loss: 0.0126\n",
            "Epoch 84/100\n",
            "469/469 [==============================] - 6s 13ms/step - loss: 0.0129 - val_loss: 0.0126\n",
            "Epoch 85/100\n",
            "469/469 [==============================] - 6s 13ms/step - loss: 0.0129 - val_loss: 0.0126\n",
            "Epoch 86/100\n",
            "469/469 [==============================] - 6s 13ms/step - loss: 0.0129 - val_loss: 0.0126\n",
            "Epoch 87/100\n",
            "469/469 [==============================] - 6s 12ms/step - loss: 0.0128 - val_loss: 0.0126\n",
            "Epoch 88/100\n",
            "469/469 [==============================] - 6s 12ms/step - loss: 0.0128 - val_loss: 0.0125\n",
            "Epoch 89/100\n",
            "469/469 [==============================] - 6s 12ms/step - loss: 0.0128 - val_loss: 0.0125\n",
            "Epoch 90/100\n",
            "469/469 [==============================] - 6s 12ms/step - loss: 0.0128 - val_loss: 0.0124\n",
            "Epoch 91/100\n",
            "469/469 [==============================] - 6s 12ms/step - loss: 0.0127 - val_loss: 0.0124\n",
            "Epoch 92/100\n",
            "469/469 [==============================] - 6s 12ms/step - loss: 0.0127 - val_loss: 0.0124\n",
            "Epoch 93/100\n",
            "469/469 [==============================] - 6s 12ms/step - loss: 0.0127 - val_loss: 0.0124\n",
            "Epoch 94/100\n",
            "469/469 [==============================] - 6s 13ms/step - loss: 0.0127 - val_loss: 0.0123\n",
            "Epoch 95/100\n",
            "469/469 [==============================] - 6s 12ms/step - loss: 0.0126 - val_loss: 0.0123\n",
            "Epoch 96/100\n",
            "469/469 [==============================] - 6s 13ms/step - loss: 0.0126 - val_loss: 0.0123\n",
            "Epoch 97/100\n",
            "469/469 [==============================] - 6s 12ms/step - loss: 0.0126 - val_loss: 0.0123\n",
            "Epoch 98/100\n",
            "469/469 [==============================] - 6s 12ms/step - loss: 0.0126 - val_loss: 0.0123\n",
            "Epoch 99/100\n",
            "469/469 [==============================] - 6s 12ms/step - loss: 0.0125 - val_loss: 0.0122\n",
            "Epoch 100/100\n",
            "469/469 [==============================] - 6s 13ms/step - loss: 0.0125 - val_loss: 0.0122\n"
          ]
        },
        {
          "output_type": "execute_result",
          "data": {
            "text/plain": [
              "<keras.callbacks.History at 0x7f64590df650>"
            ]
          },
          "metadata": {},
          "execution_count": 6
        }
      ]
    },
    {
      "cell_type": "markdown",
      "source": [
        "<p align=\"justify\">Después de 100 épocas, el codificador automático parece alcanzar un valor de pérdida de validación/entrenamiento estable de aproximadamente 0.0122. Podemos intentar visualizar las entradas reconstruidas y las representaciones codificadas. Usaremos Matplotlib en el siguiente apartado.</p>"
      ],
      "metadata": {
        "id": "_J7go_kY-Xt4"
      }
    }
  ]
}