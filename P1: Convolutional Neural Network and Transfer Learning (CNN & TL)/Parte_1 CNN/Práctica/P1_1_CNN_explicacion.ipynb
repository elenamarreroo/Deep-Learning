{
  "nbformat": 4,
  "nbformat_minor": 0,
  "metadata": {
    "colab": {
      "provenance": [],
      "collapsed_sections": []
    },
    "kernelspec": {
      "name": "python3",
      "display_name": "Python 3"
    },
    "accelerator": "GPU"
  },
  "cells": [
    {
      "cell_type": "markdown",
      "metadata": {
        "id": "J8gzHbwZmtO2"
      },
      "source": [
        "# **PRÁCTICA 1 - Parte 1: CNNs**\n",
        "### Universitat de València, Escola Tecnica Superior d'Enginyeria\n",
        "### Elena Marrero Castellano | 4ª curso del Grado Ciencia de Datos"
      ]
    },
    {
      "cell_type": "markdown",
      "source": [
        "## **Prelaboratorio**"
      ],
      "metadata": {
        "id": "xthhVMqCPFqV"
      }
    },
    {
      "cell_type": "markdown",
      "source": [
        "\n",
        "Rellena los siguientes apartados tomando como ejemplo el proporcionado para la capa densa. Puedes buscar ejemplos en la documentación del Keras:\n",
        "https://keras.io/\n",
        "\n",
        "Interpreta como \"parámetros importantes\" los que tu consideres importantes"
      ],
      "metadata": {
        "id": "JrVAksgYuXtZ"
      }
    },
    {
      "cell_type": "markdown",
      "source": [
        "### Capas\n"
      ],
      "metadata": {
        "id": "3dWjDa0yRunS"
      }
    },
    {
      "cell_type": "markdown",
      "source": [
        "<p align=\"justify\">En los modelos de Deep Learning, las capas se pueden considerar como la configuración de diferentes líneas que se resumen juntas. Básicamente, cada capa del modelo de Deep Learning tiene su propio significado específico según el trabajo que se le asigne o según sus características.</p>"
      ],
      "metadata": {
        "id": "1LOlhUS5eqDQ"
      }
    },
    {
      "cell_type": "markdown",
      "source": [
        "\n",
        "**Densa:**\n",
        "    https://keras.io/api/layers/core_layers/dense/\n",
        "\n",
        "<p align=\"justify\">Las capas densas en las redes neuronales están completamente conectadas entre sí y también con las neuronas de la capa anterior. Las neuronas realizan la multiplicación matriz-vector, ya que sabemos que la neurona en el modelo obtiene salida de cada neurona en su capa anterior. y la forma estandarizada de realizar el método de multiplicación es que le vector columna y el vector fila deben tener el mismo número de columnas. Podemos concluir que las capas densas con ayuda de neuronas son útiles para cambiar la dimension de los vectores.</p>\n",
        "\n",
        "    https://keras.io/api/layers/core_layers/dense/\n",
        "    \n",
        "    · Definición/parámetros importantes\n",
        "    tf.keras.layers.Dense(units, activation=None)\n",
        "    units = número de neuronas en la capa \n",
        "    activation = función de activación, por ejemplo, activation = 'relu'.\n",
        "\n",
        "    · Tamaños entrada/salida\n",
        "    Entrada (N,canales)\n",
        "    Salida (N,units)\n",
        "\n",
        "    · Número de parámetros\n",
        "    kernel = canales*units\n",
        "    bias = units\n",
        "\n",
        "**Convolucional:**\n",
        "    https://keras.io/api/layers/convolution_layers/convolution2d/\n",
        "\n",
        "\n",
        "<p align=\"justify\">Capa de convolución 2D correlacionará la entrada y el kernel de convolución, y agregará una desviación escalar para obtener la salida. Los parámetros del modelo de la capa de convolución incluyen el núcleo de convolución y la desviación estándar. Por ejemplo, convolución espacial sobre imágenes.</p>\n",
        "\n",
        "    · Definición/parámetros importantes\n",
        "    tf.keras.layers.Conv2D(32, kernel_size=(3, 3), activation='relu', input_shape = input_shape)\n",
        "    kernel_size = tamaño del kernel\n",
        "    activation = Función de acticavión\n",
        "    batch_size = número de ejemplos que se pasan al algoritmo en cada iteración de aprendizaje. En este caso esta operación se realiza 32 veces en la primera capa, dando lugar a una salida de 32 imágenes “filtradas” diferentes.\n",
        "    input_shape = tupla de números enteros o None, no incluye el eje de muestra. Por ejemplo, input_shape=(128, 128, 3) para imágenes RGB de 128x128 en formato data_format=\"channels_last\". Puede usar Nonecuando una dimensión tiene un tamaño variable.\n",
        "\n",
        "    · Tamaños entrada/salida\n",
        "    Entrada1: batch_shape + (channels, rows, cols) if data_format='channels_first'\n",
        "    Entrada2: batch_shape + (rows, cols, channels) if data_format='channels_last'.\n",
        "\n",
        "    Salida 1: batch_shape + (filters, new_rows, new_cols) if data_format='channels_first'\n",
        "    Salida 2: batch_shape + (new_rows, new_cols, filters) if data_format='channels_last'\n",
        "    NOTA: Los valores de las filas y las columnas  pueden cambiar según el padding (relleno).\n",
        "\n",
        "    · Número de parámetros\n",
        "    pesos_kernel = kernel_size*canales*filtro\n",
        "    sesgo \n",
        "    \n",
        "**Flatten:** \n",
        "    https://keras.io/api/layers/reshaping_layers/flatten/\n",
        "\n",
        "<p align=\"justify\">La capa Flatten se usa para \"aplanar\" la entrada, es decir, unidimensionalizar la entrada multidimensional, que se usa comúnmente en la transición de la capa convolucional a la capa completamente conectada. Aplanar con Flattern no afecta el tamaño del batch (batch size).</p>\n",
        "\n",
        "    · Definición\n",
        "    tf.keras.layers.Flatten(data_format=None, **kwargs)\n",
        "    data_format = Una cadena, una de channels_last(predeterminado) o channels_first. El orden de las dimensiones en las entradas. channels_lastcorresponde a entradas con forma (batch, ..., channels)mientras que channels_firstcorresponde a entradas con forma (batch, channels, ...). El valor predeterminado es el image_data_formatque se encuentra en el archivo de configuración de Keras en ~/.keras/keras.json. Si nunca lo configura, entonces será \"channels_last\".\"\n",
        "    kwargs = es un diccionario cuyas claves se convierten en parámetros y sus valores en los argumentos de los parámetros\n",
        "\n",
        "**Pooling:**\n",
        "    https://keras.io/api/layers/pooling_layers/max_pooling2d/\n",
        "\n",
        "<p align=\"justify\">Operación de agrupación máxima para datos espaciales 2D. Reduce la muestra de la entrada a lo largo de sus dimensiones espaciales (alto y ancho) tomando el valor máximo sobre una ventana de entrada (de tamaño definido por pool_size) para cada canal de la entrada. La ventana se desplaza a strideslo largo de cada dimensión.</p>\n",
        "\n",
        "    · Definición/parámetros importantes\n",
        "    tf.keras.layers.MaxPooling2D(\n",
        "    pool_size=(2, 2), strides=None, padding=\"valid\", data_format=None, **kwargs)\n",
        "\n",
        "    pool_size =  entero o tupla de 2 enteros, tamaño de la ventana sobre la que tomar el máximo. (2, 2)tomará el valor máximo en una ventana de agrupación de 2x2. Si solo se especifica un número entero, se utilizará la misma longitud de ventana para ambas dimensiones.\n",
        "    strides = Entero, tupla de 2 enteros, o Ninguno. Valores de zancadas. Especifica cuánto se mueve la ventana de agrupación para cada paso de agrupación. Si es Ninguno, se establecerá de forma predeterminada en pool_size.\n",
        "    padding = Uno de \"valid\"o \"same\"(no distingue entre mayúsculas y minúsculas). \"valid\"significa sin relleno. \"same\"da como resultado un relleno uniforme hacia la izquierda/derecha o hacia arriba/abajo de la entrada, de modo que la salida tiene la misma dimensión de alto/ancho que la entrada.\n",
        "    data_format = Una cadena, una de channels_last(predeterminado) o channels_first.\n",
        "    kwargs = es un diccionario cuyas claves se convierten en parámetros y sus valores en los argumentos de los parámetros\n",
        "\n",
        "    · Tipos\n",
        "    MaxPooling, AveragePooling,GlobalMaxPooling y GlobalAveragePooling. Todos ellos con 1D 2D,3D layers."
      ],
      "metadata": {
        "id": "MSkqIRnOR4QH"
      }
    },
    {
      "cell_type": "markdown",
      "source": [
        "### Regularización"
      ],
      "metadata": {
        "id": "8CvBlKgQSTt0"
      }
    },
    {
      "cell_type": "markdown",
      "source": [
        "<p align=\"justify\">En los modelos de Deep Learning, la regularización es cuando añades un término que suaviza los resultados para evitar el sobreajuste (overfitting). Esto quiere decir que, cuando entrenas una maquina, la maquina intentará adaptarse lo máximo posible a los datos de entrenamiento, ya que quiere evitar lo más posible el error.</p>"
      ],
      "metadata": {
        "id": "bzfbeW0mlbX8"
      }
    },
    {
      "cell_type": "markdown",
      "source": [
        "**Batch normalization:**\n",
        "    https://keras.io/api/layers/normalization_layers/batch_normalization/\n",
        "\n",
        "<p align=\"justify\">La normalización por batch es una técnica diseñada para estandarizar automáticamente las entradas a una capa en una red neuronal de aprendizaje profundo. Normaliza los datos antes de que pasen por la función de activación en cada capa que de la red neuronal, de esta manera siempre tendremos los datos normalizados. Una vez implementada, la normalización por batch tiene el efecto de acelerar drásticamente el proceso de entrenamiento de una red neuronal y, en algunos casos, mejora el rendimiento del modelo a través de un modesto efecto de regularización. </p>\n",
        "\n",
        "    · Definición/parámetros importantes\n",
        "    tf.keras.layers.BatchNormalization()\n",
        "    epsilon = es una constante pequeña (configurable como parte de los argumentos del constructor)\n",
        "    gamma = es un factor de escala aprendido (inicializado como 1), que se puede desactivar pasándolo scale=False al constructor.\n",
        "    beta = es un factor de compensación aprendido (inicializado como 0), que se puede desactivar pasándolo center=Falseal constructor.\n",
        "\n",
        "**Dropout:**\n",
        "    https://keras.io/api/layers/regularization_layers/dropout/\n",
        "\n",
        "<p align=\"justify\">Dropout es un metodo que desactiva un numero de neuronas de una red neuronal de forma aleatoria. En cada iteración de la red neuronal dropout desactivara diferentes neuronas, las neuronas desactivadas no se toman en cuenta para el forwardpropagation ni para el backwardpropagation lo que obliga a las neuronas cercanas a no depender tanto de las neuronas desactivadas. Este metodo ayuda a reducir el overfitting ya que las neuronas cercanas suelen aprender patrones que se relacionan y estas relaciones pueden llegar a formar un patron muy especifico con los datos de entrenamiento, con dropout esta dependencia entre neuronas es menor en toda la red neuronal, de esta manera la neuronas necesitan trabajar mejor de forma solitaria y no depender tanto de las relaciones con las neuronas vecinas.</p>\n",
        "\n",
        "    · Definición/parámetros importantes\n",
        "    tf.keras.layers.Dropout(rate, noise_shape=None, seed=None, **kwargs)\n",
        "    rate = Dropout tiene un parametro que indica la probabilidad de que las neuronas se queden activadas, este paremetro toma valores de 0 a 1, 0.5 suele usarse por defecto indicando que la mitad de las neuronas se quedaran activadas, si los valores son cercanos a 0 dropout desactivara menos neuronas, si es cercano a 1 desactivara muchas más neuronas.\n",
        "    noise_shape =  que representa la forma de la maáscara de la salida binaria que se multiplicará con la entrada.\n",
        "    seed = un entero de Python para usar como semilla aleatoria.\n",
        "\n",
        "**Capa:** https://keras.io/api/layers/regularizers/\n",
        "\n",
        "    · Actividad\n",
        "    activity_regularizer: Regularizador para aplicar una penalización en la salida de la capa\n",
        "    · En los pesos\n",
        "    kernel_regularizer: Regularizador para aplicar una penalización en el núcleo de la capa"
      ],
      "metadata": {
        "id": "ZCBgacXgSXhH"
      }
    },
    {
      "cell_type": "markdown",
      "source": [
        "### Funciones de coste"
      ],
      "metadata": {
        "id": "od06N_D6T6Vl"
      }
    },
    {
      "cell_type": "markdown",
      "source": [
        "<p align=\"justify\">En los modelos de Deep Learning, la función de coste, que es aquella que trata de cuantificar el error entre la predicción arrojada y el valor real, con el fin de optimizar los parámetros de la red neuronal.</p>"
      ],
      "metadata": {
        "id": "b2rDC-N9mLja"
      }
    },
    {
      "cell_type": "markdown",
      "source": [
        "**Clasificación:**\n",
        "    https://keras.io/api/losses/probabilistic_losses/\n",
        "\n",
        "    · Cross entropy: \n",
        "     diferencias entre binary or categorical\n",
        "\n",
        "<p align=\"justify\">La entropía cruzada categórica, es una medida de precisión para variables categóricas. Mientras que la entropía cruzada binaria, es una medida de precisión para variables binarias. Las características de la entropía cruzada podemos detacar que es más difícil diferenciación y convergencia, consta de una escala univariante, es simétrica y es más fácil de interpretar.</p>\n",
        "\n",
        "<p align=\"justify\">Por lo tanto podemos decir que, BinaryCrossentropy calcula la pérdida de entropía cruzada entre etiquetas verdaderas y etiquetas predichas y CategoricalCrossentropy, calcula la pérdida de entropía cruzada entre las etiquetas y las predicciones </p>\n",
        "\n",
        "    · Cross entropy: \n",
        "     diferencias entre sparse y no sparse\n",
        "\n",
        "<p align=\"justify\">Tanto la entropía cruzada categórica sparse como la entropía cruzada categórica no sparse tienen las mismas funciones de pérdida, pero la única diferencia es el formato.</p>\n",
        "\n",
        "<p align=\"justify\">Las dos tienen la siguiente fórmula J(w)=−1N∑i=1N[yilog(y^i)+(1−yi)log(1−y^i).</p>\n",
        "\n",
        "<p align=\"justify\">Donde, w se refiere a los parámetros del modelo, por ejemplo, pesos de la red neuronal, yi es la verdadera etiqueta e y^i es la etiqueta predicha. Si sus Yi están codificados en caliente, use entropía cruzada categórica. Pero si sus Yi son números enteros, use entropía cruzada escasa. </p>\n",
        "\n",
        "<p align=\"justify\">El uso depende completamente de la carga del conjunto de datos. La ventaja de usar sparse categorical cross entropy es que ahorra tiempo en la memoria y acelera el proceso de cálculo.</p>\n",
        "\n",
        "\n",
        "**Regresión:**\n",
        "    https://keras.io/api/metrics/regression_metrics/\n",
        "\n",
        "\n",
        "    · MAE \n",
        "    tf.keras.metrics.MeanAbsoluteError(name=\"mean_absolute_error\", dtype=None)\n",
        "     \n",
        "<p align=\"justify\">MAE calcula el error absoluto medio entre las etiquetas y las predicciones.</p>\n",
        "\n",
        "    \n",
        "    · MSE\n",
        "    tf.keras.metrics.MeanSquaredError(name=\"mean_squared_error\", dtype=None)\n",
        "\n",
        "<p align=\"justify\">Calcula el error cuadrático medio entre y_truey y_pred.</p>\n",
        "    \n",
        "    \n",
        "    Ambas tienen como argumentos name : (Opcional) nombre de cadena de la instancia de métrica y dtype : tipo de datos (opcional) \n",
        "    del resultado de la métrica."
      ],
      "metadata": {
        "id": "lglLda4VT-Fc"
      }
    },
    {
      "cell_type": "markdown",
      "source": [
        "### Optimizadores"
      ],
      "metadata": {
        "id": "zbiituGDZddn"
      }
    },
    {
      "cell_type": "markdown",
      "source": [
        "<p align=\"justify\">En los modelos de Deep Learning, el optimizador más básico posible lo que hace es actualizar los valores de los parámetros, equitativamente, con base al learning rate. Es necesario destacar que dicha actualización toma en cuenta la derivada de la matriz de parámetros, ya que esta nos da una medición del error cometido por la red.\n",
        "\n",
        "Entonces, lo que un optimizador hace es, obviamente, optimizar los valores de los parámetros para reducir el error cometido por la red. El proceso mediante el cual se hace esto se conoce como “backpropagation”. </p>"
      ],
      "metadata": {
        "id": "Qqooc1P8txwM"
      }
    },
    {
      "cell_type": "markdown",
      "source": [
        "**Optimizadores:**\n",
        "    https://keras.io/api/optimizers/\n",
        "\n",
        "    · Tipos: \n",
        "\n",
        "**Stochastic Gradient Descent (SGD)**<p align=\"justify\">El cálculo de la derivada parcial de la función de coste respecto a cada uno de los pesos de la red para cada observación es, dado el número de diferentes pesos y observaciones, inviable.</p>\n",
        "\n",
        "**Adagrad** <p align=\"justify\"> El algoritmo AdaGrad introduce una variación muy interesante en el concepto de factor de entrenamiento: en vez de considerar un valor uniforme para todos los pesos, se mantiene un factor de entrenamiento específico para cada uno de ellos. Sería inviable calcular este valor de forma específica así que, partiendo del factor de entrenamiento inicial, AdaGrad lo escala y adapta para cada dimensión con respecto al gradiente acumulado en cada iteración.</p>\n",
        "\n",
        "**Adadelta** <p align=\"justify\"> Adadelta es una variación de AdaGrad en la que en vez de calcular el escalado del factor de entrenamiento de cada dimensión teniendo en cuenta el gradiente acumulado desde el principio de la ejecución, se restringe a una ventana de tamaño fijo de los últimos n gradientes.</p>\n",
        "\n",
        "**RMSprop** <p align=\"justify\">RMSProp es un algoritmo similar. También mantiene un factor de entrenamiento diferente para cada dimensión, pero en este caso el escalado del factor de entrenamiento se realiza dividiéndolo por la media del declive exponencial del cuadrado de los gradientes.</p>\n",
        "\n",
        "**Adam** <p align=\"justify\">El algoritmo Adam combina las bondades de AdaGrad y RMSProp. Se mantiene un factor de entrenamiento por parámetro y además de calcular RMSProp, cada factor de entrenamiento también se ve afectado por la media del momentum del gradiente.</p>\n",
        "\n",
        "<p align=\"justify\">También tenemos como otros tipos Adamax, Nadam y Ftrl.</p>\n",
        "\n",
        "<p align=\"justify\">El algoritmo Adam presenta un comportamiento adecuado en diferentes problemas, por tanto puede ser un buen candidato para empezar a probar en nuestros modelos.</p>\n",
        "\n",
        "    · Parámetros importantes "
      ],
      "metadata": {
        "id": "kT0vERvhZfX2"
      }
    },
    {
      "cell_type": "markdown",
      "source": [
        "### Entrenamiento y evaluación"
      ],
      "metadata": {
        "id": "tdiMWn49U42I"
      }
    },
    {
      "cell_type": "markdown",
      "source": [
        "https://keras.io/api/models/model_training_apis/"
      ],
      "metadata": {
        "id": "35rQgPL34ikb"
      }
    },
    {
      "cell_type": "markdown",
      "source": [
        "    · Parámetros \"model.fit\". \n",
        "        Batch size: Número de muestras por actualización de gradiente. Si no batch_sizese especifica, el valor predeterminado es 32.\n",
        "        Epochs: Número de épocas para entrenar el modelo. Una época es una iteración sobre la totalidad x e y los datos proporcionados \n",
        "        Validation_split: Flotante entre 0 y 1. Fracción de los datos de entrenamiento que se usará como datos de validación. El \n",
        "        modelo separará esta fracción de los datos de entrenamiento, no los entrenará y evaluará la pérdida y cualquier métrica del \n",
        "        modelo en estos datos al final de cada época. Los datos de validación se seleccionan de las últimas muestras en los x datos \n",
        "        y proporcionados, antes de barajar."
      ],
      "metadata": {
        "id": "VxxRVDzUV1F3"
      }
    },
    {
      "cell_type": "markdown",
      "source": [
        "### Callbacks\n"
      ],
      "metadata": {
        "id": "vGTwxHGoVR-Z"
      }
    },
    {
      "cell_type": "markdown",
      "source": [
        "<p align=\"justify\">Una devolución de llamada es un conjunto de funciones que se aplicarán en determinadas etapas del procedimiento de formación. Puede usar devoluciones de llamada para obtener una vista de los estados internos y las estadísticas del modelo durante el entrenamiento.</p>"
      ],
      "metadata": {
        "id": "603yfAQN1-Sn"
      }
    },
    {
      "cell_type": "markdown",
      "source": [
        "\n",
        "Criterio de parada. EarlyStopping: https://keras.io/api/callbacks/early_stopping/\n",
        "    \n",
        "    · Definición\n",
        "    tf.keras.callbacks.EarlyStopping()\n",
        "    Deje de entrenar cuando una métrica monitoreada haya dejado de mejorar. Reduce el sobreajuste y evita el sobreentrenamiento de \n",
        "    manera que si su modelo al finalizar el proceso de entrenamiento si realmente no está aprendiendo nada. \n",
        "\n",
        "Evolución del LR. ReduceLROnPlateau: https://keras.io/api/callbacks/reduce_lr_on_plateau/\n",
        "\n",
        "    · Definición\n",
        "    tf.keras.callbacks.ReduceLROnPlateau()\n",
        "    Reduce la tasa de aprendizaje cuando una métrica ha dejado de mejorar.\n",
        "    \n",
        "Guarda el mejor modelo. ModelCheckpoint: https://keras.io/api/callbacks/model_checkpoint/\n",
        "\n",
        "    · Definición\n",
        "    Devolución de llamada para guardar el modelo Keras o los pesos del modelo con alguna frecuencia."
      ],
      "metadata": {
        "id": "po1VhgOeV4L0"
      }
    },
    {
      "cell_type": "markdown",
      "source": [
        "## **LABORATORIO**\n",
        "## **CNN usando como ejemplo los datos de Cifar10**"
      ],
      "metadata": {
        "id": "xqjxpvAGPTyr"
      }
    },
    {
      "cell_type": "code",
      "metadata": {
        "id": "Ub8IUhmduJ7y",
        "colab": {
          "base_uri": "https://localhost:8080/"
        },
        "outputId": "290fea2b-af9a-422f-d5ba-1bfaaaa0d052"
      },
      "source": [
        "# Importamos librerias\n",
        "import tensorflow as tf\n",
        "print(tf.__version__)"
      ],
      "execution_count": null,
      "outputs": [
        {
          "output_type": "stream",
          "name": "stdout",
          "text": [
            "2.8.0\n"
          ]
        }
      ]
    },
    {
      "cell_type": "markdown",
      "source": [
        "- Version del profesor 2.7.0. \n",
        "- Versión mia 2.8.0. "
      ],
      "metadata": {
        "id": "cRZ413UV8ivZ"
      }
    },
    {
      "cell_type": "markdown",
      "source": [
        "### Datos"
      ],
      "metadata": {
        "id": "_or7OU3DRptN"
      }
    },
    {
      "cell_type": "markdown",
      "source": [
        "**Preparando el conjunto de datos**\n",
        "\n",
        "<p align=\"justify\">Para el experimento, usaremos el conjunto de datos ampliamente usado CIFAR-100. Este conjunto de datos consta de 600 imágenes por cada clase de un total de 100 clases. Se divide en 500 imágenes para entrenamiento y 100 imágenes para validación por cada clase. Las 100 clases están agrupadas en 20 superclases. Cada imagen tiene una etiqueta \"fina\" (la clase, de entre las 100, a la que pertenece) y una etiqueta \"gruesa\" (correspondiente a su superclase).</p>\n",
        "\n",
        "<p align=\"justify\">El framework de Keras incluye el módulo para descargarlo directamente:</p>"
      ],
      "metadata": {
        "id": "SGDJk-m-8uYN"
      }
    },
    {
      "cell_type": "code",
      "metadata": {
        "id": "LAd5BiAPnbqr",
        "colab": {
          "base_uri": "https://localhost:8080/"
        },
        "outputId": "4b767714-ce4f-407f-a71d-2fb8dddab5e5"
      },
      "source": [
        "# descargamos los datos cifar10 y los partimos en train y test\n",
        "(X_train, y_train), (X_test, y_test) = tf.keras.datasets.cifar10.load_data()\n",
        "\n",
        "# Si quisieramos directamente de cifar100\n",
        "# from keras.datasets import cifar100\n",
        "# cifar100.load_data(label_mode='fine')"
      ],
      "execution_count": null,
      "outputs": [
        {
          "output_type": "stream",
          "name": "stdout",
          "text": [
            "Downloading data from https://www.cs.toronto.edu/~kriz/cifar-10-python.tar.gz\n",
            "170500096/170498071 [==============================] - 2s 0us/step\n",
            "170508288/170498071 [==============================] - 2s 0us/step\n"
          ]
        }
      ]
    },
    {
      "cell_type": "markdown",
      "source": [
        "<p align=\"justify\">Actualmente, hemos descargado los datasets de entrenamiento y validación. X_train y X_test son los conjuntos de datos con las imágenes de entrenamiento y validación respectivamente, mientras que y_train y y_test son los datasets con las etiquetas.</p>"
      ],
      "metadata": {
        "id": "Figrkejj9QzS"
      }
    },
    {
      "cell_type": "code",
      "metadata": {
        "id": "CVrsjJ0ypgKS",
        "colab": {
          "base_uri": "https://localhost:8080/"
        },
        "outputId": "8fdba65c-8d2b-4073-c86e-9da7dbda4391"
      },
      "source": [
        "# Tamaño de los datos (#datos,#lado,#alto,#canales)\n",
        "print(X_train.shape)"
      ],
      "execution_count": null,
      "outputs": [
        {
          "output_type": "stream",
          "name": "stdout",
          "text": [
            "(50000, 32, 32, 3)\n"
          ]
        }
      ]
    },
    {
      "cell_type": "markdown",
      "source": [
        "- Tamaño profesor: (50000, 32, 32, 3)\n",
        "- Tamaño mio: (50000, 32, 32, 3)"
      ],
      "metadata": {
        "id": "YiJhn30s9FFj"
      }
    },
    {
      "cell_type": "code",
      "metadata": {
        "id": "l2qv8fJQKSX3"
      },
      "source": [
        "# Podemos coger un mini dataset para que funcione mas rápido\n",
        "X_train = X_train[0:5000,:,:,:]\n",
        "X_test = X_test[0:100,:,:,:]\n",
        "y_train = y_train[0:5000]\n",
        "y_test = y_test[0:100]"
      ],
      "execution_count": null,
      "outputs": []
    },
    {
      "cell_type": "markdown",
      "source": [
        "<p align=\"justify\">Veamos la forma de y_train:</p>"
      ],
      "metadata": {
        "id": "DrLTbvA2-ZNw"
      }
    },
    {
      "cell_type": "code",
      "metadata": {
        "id": "tsI3Mc_yVPmk",
        "colab": {
          "base_uri": "https://localhost:8080/"
        },
        "outputId": "3dbe3fc3-22be-45b3-996a-2b8df8231182"
      },
      "source": [
        "y_train"
      ],
      "execution_count": null,
      "outputs": [
        {
          "output_type": "execute_result",
          "data": {
            "text/plain": [
              "array([[6],\n",
              "       [9],\n",
              "       [9],\n",
              "       ...,\n",
              "       [5],\n",
              "       [4],\n",
              "       [6]], dtype=uint8)"
            ]
          },
          "metadata": {},
          "execution_count": 5
        }
      ]
    },
    {
      "cell_type": "markdown",
      "source": [
        "<p align=\"justify\">Como se puede ver, se trata de un array donde cada número se corresponde con la etiqueta concreta. Lo primero que hay que hacer es convertir este array en su versión one-hot-encoding.</p>"
      ],
      "metadata": {
        "id": "KIrgO3Kx-qgQ"
      }
    },
    {
      "cell_type": "code",
      "metadata": {
        "id": "0sE_9bAEnsmw"
      },
      "source": [
        "# one-hot encoding en las 'y'\n",
        "from tensorflow.keras.utils import to_categorical\n",
        "y_train = to_categorical(y_train)\n",
        "y_test = to_categorical(y_test)"
      ],
      "execution_count": null,
      "outputs": []
    },
    {
      "cell_type": "markdown",
      "source": [
        "**To_categorical:**\n",
        "    https://keras.io/api/utils/python_utils/\n",
        "\n",
        "<p align=\"justify\">Convierte un vector de clase (enteros) en una matriz de clase binaria.</p>\n",
        "\n",
        "    · Definición\n",
        "    tf.keras.utils.to_categorical(y, num_classes=None, dtype=\"float32\")\n",
        "    y = tipo de matriz con valores de clase para convertirlos en una matriz (numeros enteros)\n",
        "    num_classes : Número total de clases. Si None, esto se inferiría como max(y) + 1.\n",
        "    dtype = El tipo de datos esperado por la entrada. Predeterminado: 'float32'\n",
        "    \n",
        "    · Devuelve:\n",
        "    Una representación de matriz binaria de la entrada."
      ],
      "metadata": {
        "id": "6kWuR59aDx06"
      }
    },
    {
      "cell_type": "markdown",
      "source": [
        "<p align=\"justify\">La codificación one-hot es un método de uso frecuente para tratar datos categóricos. Debido a que muchos modelos de aprendizaje automático necesitan que sus variables de entrada sean numéricas, las variables categóricas deben transformarse en la parte de preprocesamiento.</p>"
      ],
      "metadata": {
        "id": "QEBj6-C1BiVK"
      }
    },
    {
      "cell_type": "markdown",
      "source": [
        "<p align=\"justify\">El siguiente paso es ver los datos de entrenamiento X_train:</p>"
      ],
      "metadata": {
        "id": "uQaZSIUlC9KJ"
      }
    },
    {
      "cell_type": "code",
      "source": [
        "X_train"
      ],
      "metadata": {
        "colab": {
          "base_uri": "https://localhost:8080/"
        },
        "id": "Fpj7fdcTC6aG",
        "outputId": "9579ac58-bbb2-40e9-c907-5a2d0d525e81"
      },
      "execution_count": null,
      "outputs": [
        {
          "output_type": "execute_result",
          "data": {
            "text/plain": [
              "array([[[[ 59,  62,  63],\n",
              "         [ 43,  46,  45],\n",
              "         [ 50,  48,  43],\n",
              "         ...,\n",
              "         [158, 132, 108],\n",
              "         [152, 125, 102],\n",
              "         [148, 124, 103]],\n",
              "\n",
              "        [[ 16,  20,  20],\n",
              "         [  0,   0,   0],\n",
              "         [ 18,   8,   0],\n",
              "         ...,\n",
              "         [123,  88,  55],\n",
              "         [119,  83,  50],\n",
              "         [122,  87,  57]],\n",
              "\n",
              "        [[ 25,  24,  21],\n",
              "         [ 16,   7,   0],\n",
              "         [ 49,  27,   8],\n",
              "         ...,\n",
              "         [118,  84,  50],\n",
              "         [120,  84,  50],\n",
              "         [109,  73,  42]],\n",
              "\n",
              "        ...,\n",
              "\n",
              "        [[208, 170,  96],\n",
              "         [201, 153,  34],\n",
              "         [198, 161,  26],\n",
              "         ...,\n",
              "         [160, 133,  70],\n",
              "         [ 56,  31,   7],\n",
              "         [ 53,  34,  20]],\n",
              "\n",
              "        [[180, 139,  96],\n",
              "         [173, 123,  42],\n",
              "         [186, 144,  30],\n",
              "         ...,\n",
              "         [184, 148,  94],\n",
              "         [ 97,  62,  34],\n",
              "         [ 83,  53,  34]],\n",
              "\n",
              "        [[177, 144, 116],\n",
              "         [168, 129,  94],\n",
              "         [179, 142,  87],\n",
              "         ...,\n",
              "         [216, 184, 140],\n",
              "         [151, 118,  84],\n",
              "         [123,  92,  72]]],\n",
              "\n",
              "\n",
              "       [[[154, 177, 187],\n",
              "         [126, 137, 136],\n",
              "         [105, 104,  95],\n",
              "         ...,\n",
              "         [ 91,  95,  71],\n",
              "         [ 87,  90,  71],\n",
              "         [ 79,  81,  70]],\n",
              "\n",
              "        [[140, 160, 169],\n",
              "         [145, 153, 154],\n",
              "         [125, 125, 118],\n",
              "         ...,\n",
              "         [ 96,  99,  78],\n",
              "         [ 77,  80,  62],\n",
              "         [ 71,  73,  61]],\n",
              "\n",
              "        [[140, 155, 164],\n",
              "         [139, 146, 149],\n",
              "         [115, 115, 112],\n",
              "         ...,\n",
              "         [ 79,  82,  64],\n",
              "         [ 68,  70,  55],\n",
              "         [ 67,  69,  55]],\n",
              "\n",
              "        ...,\n",
              "\n",
              "        [[175, 167, 166],\n",
              "         [156, 154, 160],\n",
              "         [154, 160, 170],\n",
              "         ...,\n",
              "         [ 42,  34,  36],\n",
              "         [ 61,  53,  57],\n",
              "         [ 93,  83,  91]],\n",
              "\n",
              "        [[165, 154, 128],\n",
              "         [156, 152, 130],\n",
              "         [159, 161, 142],\n",
              "         ...,\n",
              "         [103,  93,  96],\n",
              "         [123, 114, 120],\n",
              "         [131, 121, 131]],\n",
              "\n",
              "        [[163, 148, 120],\n",
              "         [158, 148, 122],\n",
              "         [163, 156, 133],\n",
              "         ...,\n",
              "         [143, 133, 139],\n",
              "         [143, 134, 142],\n",
              "         [143, 133, 144]]],\n",
              "\n",
              "\n",
              "       [[[255, 255, 255],\n",
              "         [253, 253, 253],\n",
              "         [253, 253, 253],\n",
              "         ...,\n",
              "         [253, 253, 253],\n",
              "         [253, 253, 253],\n",
              "         [253, 253, 253]],\n",
              "\n",
              "        [[255, 255, 255],\n",
              "         [255, 255, 255],\n",
              "         [255, 255, 255],\n",
              "         ...,\n",
              "         [255, 255, 255],\n",
              "         [255, 255, 255],\n",
              "         [255, 255, 255]],\n",
              "\n",
              "        [[255, 255, 255],\n",
              "         [254, 254, 254],\n",
              "         [254, 254, 254],\n",
              "         ...,\n",
              "         [254, 254, 254],\n",
              "         [254, 254, 254],\n",
              "         [254, 254, 254]],\n",
              "\n",
              "        ...,\n",
              "\n",
              "        [[113, 120, 112],\n",
              "         [111, 118, 111],\n",
              "         [105, 112, 106],\n",
              "         ...,\n",
              "         [ 72,  81,  80],\n",
              "         [ 72,  80,  79],\n",
              "         [ 72,  80,  79]],\n",
              "\n",
              "        [[111, 118, 110],\n",
              "         [104, 111, 104],\n",
              "         [ 99, 106,  98],\n",
              "         ...,\n",
              "         [ 68,  75,  73],\n",
              "         [ 70,  76,  75],\n",
              "         [ 78,  84,  82]],\n",
              "\n",
              "        [[106, 113, 105],\n",
              "         [ 99, 106,  98],\n",
              "         [ 95, 102,  94],\n",
              "         ...,\n",
              "         [ 78,  85,  83],\n",
              "         [ 79,  85,  83],\n",
              "         [ 80,  86,  84]]],\n",
              "\n",
              "\n",
              "       ...,\n",
              "\n",
              "\n",
              "       [[[167, 163, 145],\n",
              "         [206, 201, 181],\n",
              "         [202, 196, 177],\n",
              "         ...,\n",
              "         [ 91,  85,  89],\n",
              "         [ 50,  64,  68],\n",
              "         [ 46,  86,  90]],\n",
              "\n",
              "        [[156, 153, 136],\n",
              "         [206, 201, 181],\n",
              "         [206, 199, 180],\n",
              "         ...,\n",
              "         [171, 166, 174],\n",
              "         [ 99, 115, 123],\n",
              "         [ 48,  88,  94]],\n",
              "\n",
              "        [[147, 143, 128],\n",
              "         [192, 186, 167],\n",
              "         [206, 198, 177],\n",
              "         ...,\n",
              "         [173, 176, 186],\n",
              "         [106, 130, 140],\n",
              "         [ 48,  90,  96]],\n",
              "\n",
              "        ...,\n",
              "\n",
              "        [[144, 156, 151],\n",
              "         [145, 153, 148],\n",
              "         [152, 160, 156],\n",
              "         ...,\n",
              "         [ 45,  85,  91],\n",
              "         [ 41,  78,  85],\n",
              "         [ 47,  88,  94]],\n",
              "\n",
              "        [[143, 155, 150],\n",
              "         [148, 157, 154],\n",
              "         [156, 167, 167],\n",
              "         ...,\n",
              "         [ 32,  56,  65],\n",
              "         [ 31,  58,  66],\n",
              "         [ 34,  66,  73]],\n",
              "\n",
              "        [[139, 154, 149],\n",
              "         [144, 157, 155],\n",
              "         [140, 157, 159],\n",
              "         ...,\n",
              "         [ 39,  75,  81],\n",
              "         [ 42,  82,  87],\n",
              "         [ 42,  78,  84]]],\n",
              "\n",
              "\n",
              "       [[[154, 152, 125],\n",
              "         [156, 154, 130],\n",
              "         [149, 146, 125],\n",
              "         ...,\n",
              "         [156, 154, 110],\n",
              "         [131, 130,  97],\n",
              "         [154, 149, 111]],\n",
              "\n",
              "        [[163, 150, 111],\n",
              "         [178, 167, 125],\n",
              "         [179, 168, 126],\n",
              "         ...,\n",
              "         [185, 175, 127],\n",
              "         [166, 165, 118],\n",
              "         [168, 164, 117]],\n",
              "\n",
              "        [[198, 184, 126],\n",
              "         [188, 173, 117],\n",
              "         [193, 179, 121],\n",
              "         ...,\n",
              "         [188, 166, 118],\n",
              "         [184, 172, 126],\n",
              "         [183, 179, 128]],\n",
              "\n",
              "        ...,\n",
              "\n",
              "        [[187, 185, 132],\n",
              "         [175, 175, 129],\n",
              "         [162, 162, 109],\n",
              "         ...,\n",
              "         [201, 217, 129],\n",
              "         [200, 220, 129],\n",
              "         [190, 205, 118]],\n",
              "\n",
              "        [[157, 160, 109],\n",
              "         [147, 153, 104],\n",
              "         [144, 157,  98],\n",
              "         ...,\n",
              "         [213, 232, 134],\n",
              "         [191, 227, 117],\n",
              "         [173, 216, 105]],\n",
              "\n",
              "        [[153, 150, 102],\n",
              "         [150, 159,  99],\n",
              "         [173, 195, 124],\n",
              "         ...,\n",
              "         [195, 234, 113],\n",
              "         [187, 237, 108],\n",
              "         [194, 247, 114]]],\n",
              "\n",
              "\n",
              "       [[[ 45,  32,  21],\n",
              "         [ 48,  34,  21],\n",
              "         [ 66,  54,  41],\n",
              "         ...,\n",
              "         [ 19,   9,   7],\n",
              "         [ 23,  14,  10],\n",
              "         [ 20,  10,   8]],\n",
              "\n",
              "        [[ 47,  33,  21],\n",
              "         [ 50,  35,  22],\n",
              "         [ 71,  58,  44],\n",
              "         ...,\n",
              "         [ 22,  10,   8],\n",
              "         [ 22,  11,  10],\n",
              "         [ 19,   8,   7]],\n",
              "\n",
              "        [[ 47,  35,  22],\n",
              "         [ 54,  40,  24],\n",
              "         [ 63,  50,  35],\n",
              "         ...,\n",
              "         [ 24,  10,   7],\n",
              "         [ 18,   6,   6],\n",
              "         [ 18,   7,   6]],\n",
              "\n",
              "        ...,\n",
              "\n",
              "        [[109, 105,  66],\n",
              "         [113, 108,  68],\n",
              "         [115, 106,  67],\n",
              "         ...,\n",
              "         [103,  87,  55],\n",
              "         [ 85,  75,  43],\n",
              "         [ 97,  85,  52]],\n",
              "\n",
              "        [[ 96,  90,  53],\n",
              "         [114, 106,  69],\n",
              "         [111, 102,  64],\n",
              "         ...,\n",
              "         [164, 146, 104],\n",
              "         [154, 135,  89],\n",
              "         [152, 139,  97]],\n",
              "\n",
              "        [[ 97,  91,  52],\n",
              "         [ 85,  79,  40],\n",
              "         [105,  99,  57],\n",
              "         ...,\n",
              "         [161, 148, 108],\n",
              "         [156, 137,  93],\n",
              "         [156, 142, 100]]]], dtype=uint8)"
            ]
          },
          "metadata": {},
          "execution_count": 7
        }
      ]
    },
    {
      "cell_type": "markdown",
      "source": [
        "<p align=\"justify\">Bien, representa la imagen en los 3 canales RGB de 256 píxeles. Vamos a verla:</p>"
      ],
      "metadata": {
        "id": "5R6TlfHRFcAS"
      }
    },
    {
      "cell_type": "code",
      "source": [
        "import matplotlib.pyplot as plt\n",
        "# enseñamos la primera imagen del dataset\n",
        "plt.imshow(X_train[0],cmap=\"gray\")"
      ],
      "metadata": {
        "colab": {
          "base_uri": "https://localhost:8080/",
          "height": 283
        },
        "id": "GVKDtpcCC3AL",
        "outputId": "6a7bdb60-5353-448b-83ea-0c59dec01332"
      },
      "execution_count": null,
      "outputs": [
        {
          "output_type": "execute_result",
          "data": {
            "text/plain": [
              "<matplotlib.image.AxesImage at 0x7fa5998d9bd0>"
            ]
          },
          "metadata": {},
          "execution_count": 5
        },
        {
          "output_type": "display_data",
          "data": {
            "image/png": "[encoded data removed]",
            "text/plain": [
              "<Figure size 432x288 with 1 Axes>"
            ]
          },
          "metadata": {
            "needs_background": "light"
          }
        }
      ]
    },
    {
      "cell_type": "markdown",
      "metadata": {
        "id": "SF5CgUo8nt1w"
      },
      "source": [
        "### Modelo"
      ]
    },
    {
      "cell_type": "code",
      "source": [
        "# Hacemos un modelo con varias capas\n",
        "from tensorflow.keras.models import Sequential\n",
        "from tensorflow.keras.layers import Dense, Conv2D, Flatten, BatchNormalization, Dropout, MaxPooling2D, AveragePooling2D\n",
        "from tensorflow.keras import regularizers\n",
        "from tensorflow.keras.optimizers import Adam"
      ],
      "metadata": {
        "id": "cgW6vyc4Wm5q"
      },
      "execution_count": null,
      "outputs": []
    },
    {
      "cell_type": "code",
      "metadata": {
        "id": "uQHWqWS5nt6y"
      },
      "source": [
        "# crear modelo secuencial\n",
        "model = Sequential()\n",
        "\n",
        "# Vamos añadiendo capas\n",
        "\n",
        "model.add(Conv2D(32, kernel_size=3, activation='relu', input_shape=(32,32,3)))\n",
        "model.add(BatchNormalization())\n",
        "#model.add(MaxPooling2D(2))\n",
        "#model.add(Dropout(0.3))\n",
        "\n",
        "model.add(Conv2D(64, kernel_size=3, activation='relu'))\n",
        "#model.add(Conv2D(64, kernel_size=3, activation='relu', name='Convolucional_1'))\n",
        "model.add(BatchNormalization())\n",
        "#model.add(MaxPooling2D(2))\n",
        "#model.add(Dropout(0.3))\n",
        "\n",
        "model.add(Conv2D(128, kernel_size=3, activation='relu')) #,kernel_regularizer = regularizers.l1(0.01)\n",
        "#model.add(Conv2D(128, kernel_size=3, activation='relu'))\n",
        "model.add(BatchNormalization())\n",
        "#model.add(MaxPooling2D(2))\n",
        "#model.add(Dropout(0.3))\n",
        "\n",
        "model.add(Conv2D(256, kernel_size=3, activation='relu'))\n",
        "#model.add(Conv2D(256, kernel_size=3, activation='relu', activity_regularizer = regularizers.l1(0.01)))\n",
        "model.add(BatchNormalization())\n",
        "#model.add(MaxPooling2D(2))\n",
        "\n",
        "model.add(Flatten())\n",
        "\n",
        "#model.add(Dense(256, activation='relu'))\n",
        "#model.add(Dense(512, activation='relu'))\n",
        "model.add(Dense(10, activation='softmax'))"
      ],
      "execution_count": null,
      "outputs": []
    },
    {
      "cell_type": "markdown",
      "source": [
        "<p align=\"justify\">La instrucción Flatten convierte los elementos de la matriz de imagenes de entrada en un array plano. Luego, con la instrucción Dense, añadimos una capa oculta (hidden layer) de la red neuronal. La primera tendrá 256 nodos, la segunda 512 y la tercera (capa de salida) 10. Para la función de activación usaremos en las capas ocultas ReLu y para la capa de salida SoftMax.</p>"
      ],
      "metadata": {
        "id": "NDXTsTILNM9Z"
      }
    },
    {
      "cell_type": "code",
      "source": [
        "# Este es el modelo\n",
        "model.summary()"
      ],
      "metadata": {
        "colab": {
          "base_uri": "https://localhost:8080/"
        },
        "id": "riy8zQFlW-7_",
        "outputId": "175fa36a-5170-4bf6-ebc4-40e2dd25813d"
      },
      "execution_count": null,
      "outputs": [
        {
          "output_type": "stream",
          "name": "stdout",
          "text": [
            "Model: \"sequential_1\"\n",
            "_________________________________________________________________\n",
            " Layer (type)                Output Shape              Param #   \n",
            "=================================================================\n",
            " conv2d_4 (Conv2D)           (None, 30, 30, 32)        896       \n",
            "                                                                 \n",
            " batch_normalization_4 (Batc  (None, 30, 30, 32)       128       \n",
            " hNormalization)                                                 \n",
            "                                                                 \n",
            " conv2d_5 (Conv2D)           (None, 28, 28, 64)        18496     \n",
            "                                                                 \n",
            " batch_normalization_5 (Batc  (None, 28, 28, 64)       256       \n",
            " hNormalization)                                                 \n",
            "                                                                 \n",
            " conv2d_6 (Conv2D)           (None, 26, 26, 128)       73856     \n",
            "                                                                 \n",
            " batch_normalization_6 (Batc  (None, 26, 26, 128)      512       \n",
            " hNormalization)                                                 \n",
            "                                                                 \n",
            " conv2d_7 (Conv2D)           (None, 24, 24, 256)       295168    \n",
            "                                                                 \n",
            " batch_normalization_7 (Batc  (None, 24, 24, 256)      1024      \n",
            " hNormalization)                                                 \n",
            "                                                                 \n",
            " flatten_1 (Flatten)         (None, 147456)            0         \n",
            "                                                                 \n",
            " dense_1 (Dense)             (None, 10)                1474570   \n",
            "                                                                 \n",
            "=================================================================\n",
            "Total params: 1,864,906\n",
            "Trainable params: 1,863,946\n",
            "Non-trainable params: 960\n",
            "_________________________________________________________________\n"
          ]
        }
      ]
    },
    {
      "cell_type": "markdown",
      "source": [
        "### Optimizador, función de coste y métricas"
      ],
      "metadata": {
        "id": "jBmByOJcPqLD"
      }
    },
    {
      "cell_type": "markdown",
      "source": [
        "<p align=\"justify\">Una vez definido el modelo, lo compilamos especificando la función de optimización, la de coste o pérdida y las métricas que usaremos. En este caso, usaremos la función de optimización de descenso de gradiente estocástico (stochactic gradient descent), la función de pérdida de entropía cruzada (categorical cross entropy) y, para las métricas, accuracy (o tasa de acierto) y mse (media de los errores cuadráticos). Todas éstas funciones ya vienen preimplementadas en Keras."
      ],
      "metadata": {
        "id": "_JhlTAdqNrR1"
      }
    },
    {
      "cell_type": "code",
      "metadata": {
        "id": "Uqup8SlMnwU0"
      },
      "source": [
        "# Compilamos el modelo\n",
        "optimizer_adam = Adam() # learning_rate=0.01\n",
        "model.compile(optimizer=optimizer_adam, loss='categorical_crossentropy', metrics=['categorical_accuracy','mse'])"
      ],
      "execution_count": null,
      "outputs": []
    },
    {
      "cell_type": "markdown",
      "source": [
        "### Callbacks"
      ],
      "metadata": {
        "id": "p10-ike3PwYL"
      }
    },
    {
      "cell_type": "code",
      "metadata": {
        "id": "gKgh5QPeNsxR"
      },
      "source": [
        "# Ejemplo de uso del callback de earlystopping\n",
        "#from keras.callbacks import EarlyStopping\n",
        "#early_stopping = EarlyStopping(monitor='val_loss', patience=12, min_delta=0.01)"
      ],
      "execution_count": null,
      "outputs": []
    },
    {
      "cell_type": "markdown",
      "source": [
        "### Entrenamiento"
      ],
      "metadata": {
        "id": "knUfpu78PyV5"
      }
    },
    {
      "cell_type": "code",
      "metadata": {
        "id": "LjNKLB6Tn7gR",
        "colab": {
          "base_uri": "https://localhost:8080/"
        },
        "outputId": "30ce94f3-c1a8-4972-fb8c-4088bb913b92"
      },
      "source": [
        "# Entrenamos\n",
        "hist = model.fit(X_train, y_train, validation_split=0.1, epochs=50)#, callbacks=[early_stopping])"
      ],
      "execution_count": null,
      "outputs": [
        {
          "output_type": "stream",
          "name": "stdout",
          "text": [
            "Epoch 1/50\n",
            "1407/1407 [==============================] - 29s 20ms/step - loss: 8.9939 - categorical_accuracy: 0.1009 - mse: 0.0905 - val_loss: 4.7373 - val_categorical_accuracy: 0.0958 - val_mse: 0.0900\n",
            "Epoch 2/50\n",
            "1407/1407 [==============================] - 27s 19ms/step - loss: 3.8288 - categorical_accuracy: 0.1962 - mse: 0.0855 - val_loss: 2.4050 - val_categorical_accuracy: 0.4124 - val_mse: 0.0709\n",
            "Epoch 3/50\n",
            "1407/1407 [==============================] - 29s 21ms/step - loss: 1.8557 - categorical_accuracy: 0.5052 - mse: 0.0631 - val_loss: 1.5186 - val_categorical_accuracy: 0.5476 - val_mse: 0.0585\n",
            "Epoch 4/50\n",
            "1407/1407 [==============================] - 28s 20ms/step - loss: 1.2470 - categorical_accuracy: 0.6287 - mse: 0.0495 - val_loss: 1.3745 - val_categorical_accuracy: 0.5700 - val_mse: 0.0560\n",
            "Epoch 5/50\n",
            "1407/1407 [==============================] - 28s 20ms/step - loss: 0.8334 - categorical_accuracy: 0.7672 - mse: 0.0326 - val_loss: 1.5723 - val_categorical_accuracy: 0.5832 - val_mse: 0.0589\n",
            "Epoch 6/50\n",
            "1407/1407 [==============================] - 27s 20ms/step - loss: 0.4724 - categorical_accuracy: 0.8973 - mse: 0.0151 - val_loss: 2.1275 - val_categorical_accuracy: 0.5654 - val_mse: 0.0667\n",
            "Epoch 7/50\n",
            "1407/1407 [==============================] - 27s 20ms/step - loss: 0.3496 - categorical_accuracy: 0.9408 - mse: 0.0090 - val_loss: 2.4924 - val_categorical_accuracy: 0.5562 - val_mse: 0.0703\n",
            "Epoch 8/50\n",
            "1407/1407 [==============================] - 27s 20ms/step - loss: 0.3111 - categorical_accuracy: 0.9553 - mse: 0.0069 - val_loss: 2.6766 - val_categorical_accuracy: 0.5376 - val_mse: 0.0736\n",
            "Epoch 9/50\n",
            "1407/1407 [==============================] - 28s 20ms/step - loss: 0.2769 - categorical_accuracy: 0.9639 - mse: 0.0056 - val_loss: 2.9980 - val_categorical_accuracy: 0.5492 - val_mse: 0.0744\n",
            "Epoch 10/50\n",
            "1407/1407 [==============================] - 27s 19ms/step - loss: 0.2670 - categorical_accuracy: 0.9654 - mse: 0.0053 - val_loss: 3.2331 - val_categorical_accuracy: 0.5538 - val_mse: 0.0741\n",
            "Epoch 11/50\n",
            "1407/1407 [==============================] - 28s 20ms/step - loss: 0.2559 - categorical_accuracy: 0.9696 - mse: 0.0047 - val_loss: 3.3637 - val_categorical_accuracy: 0.5498 - val_mse: 0.0755\n",
            "Epoch 12/50\n",
            "1407/1407 [==============================] - 28s 20ms/step - loss: 0.2373 - categorical_accuracy: 0.9742 - mse: 0.0040 - val_loss: 3.4585 - val_categorical_accuracy: 0.5590 - val_mse: 0.0747\n",
            "Epoch 13/50\n",
            "1407/1407 [==============================] - 28s 20ms/step - loss: 0.2400 - categorical_accuracy: 0.9744 - mse: 0.0039 - val_loss: 3.5349 - val_categorical_accuracy: 0.5412 - val_mse: 0.0769\n",
            "Epoch 14/50\n",
            "1407/1407 [==============================] - 28s 20ms/step - loss: 0.2440 - categorical_accuracy: 0.9739 - mse: 0.0041 - val_loss: 3.2138 - val_categorical_accuracy: 0.5446 - val_mse: 0.0750\n",
            "Epoch 15/50\n",
            "1407/1407 [==============================] - 28s 20ms/step - loss: 0.2135 - categorical_accuracy: 0.9793 - mse: 0.0032 - val_loss: 4.0497 - val_categorical_accuracy: 0.5326 - val_mse: 0.0803\n",
            "Epoch 16/50\n",
            "1407/1407 [==============================] - 28s 20ms/step - loss: 0.2104 - categorical_accuracy: 0.9812 - mse: 0.0029 - val_loss: 3.8419 - val_categorical_accuracy: 0.5426 - val_mse: 0.0784\n",
            "Epoch 17/50\n",
            "1407/1407 [==============================] - 28s 20ms/step - loss: 0.2222 - categorical_accuracy: 0.9804 - mse: 0.0031 - val_loss: 3.9895 - val_categorical_accuracy: 0.5324 - val_mse: 0.0798\n",
            "Epoch 18/50\n",
            "1407/1407 [==============================] - 28s 20ms/step - loss: 0.2118 - categorical_accuracy: 0.9813 - mse: 0.0030 - val_loss: 4.3354 - val_categorical_accuracy: 0.5350 - val_mse: 0.0806\n",
            "Epoch 19/50\n",
            "1407/1407 [==============================] - 28s 20ms/step - loss: 0.2030 - categorical_accuracy: 0.9843 - mse: 0.0025 - val_loss: 4.2649 - val_categorical_accuracy: 0.5308 - val_mse: 0.0816\n",
            "Epoch 20/50\n",
            "1407/1407 [==============================] - 28s 20ms/step - loss: 0.2097 - categorical_accuracy: 0.9828 - mse: 0.0027 - val_loss: 4.4351 - val_categorical_accuracy: 0.5352 - val_mse: 0.0811\n",
            "Epoch 21/50\n",
            "1407/1407 [==============================] - 28s 20ms/step - loss: 0.2106 - categorical_accuracy: 0.9829 - mse: 0.0027 - val_loss: 5.1807 - val_categorical_accuracy: 0.5196 - val_mse: 0.0849\n",
            "Epoch 22/50\n",
            "1407/1407 [==============================] - 28s 20ms/step - loss: 0.2199 - categorical_accuracy: 0.9826 - mse: 0.0028 - val_loss: 4.8563 - val_categorical_accuracy: 0.5306 - val_mse: 0.0824\n",
            "Epoch 23/50\n",
            "1407/1407 [==============================] - 28s 20ms/step - loss: 0.1919 - categorical_accuracy: 0.9872 - mse: 0.0022 - val_loss: 4.9555 - val_categorical_accuracy: 0.5404 - val_mse: 0.0809\n",
            "Epoch 24/50\n",
            "1407/1407 [==============================] - 28s 20ms/step - loss: 0.2196 - categorical_accuracy: 0.9826 - mse: 0.0028 - val_loss: 4.6135 - val_categorical_accuracy: 0.5280 - val_mse: 0.0821\n",
            "Epoch 25/50\n",
            "1407/1407 [==============================] - 28s 20ms/step - loss: 0.2090 - categorical_accuracy: 0.9846 - mse: 0.0025 - val_loss: 5.1713 - val_categorical_accuracy: 0.5194 - val_mse: 0.0849\n",
            "Epoch 26/50\n",
            "1407/1407 [==============================] - 28s 20ms/step - loss: 0.1908 - categorical_accuracy: 0.9883 - mse: 0.0019 - val_loss: 5.3561 - val_categorical_accuracy: 0.5130 - val_mse: 0.0860\n",
            "Epoch 27/50\n",
            "1407/1407 [==============================] - 28s 20ms/step - loss: 0.2112 - categorical_accuracy: 0.9843 - mse: 0.0025 - val_loss: 5.5332 - val_categorical_accuracy: 0.5304 - val_mse: 0.0842\n",
            "Epoch 28/50\n",
            "1407/1407 [==============================] - 28s 20ms/step - loss: 0.2076 - categorical_accuracy: 0.9851 - mse: 0.0024 - val_loss: 6.0580 - val_categorical_accuracy: 0.5230 - val_mse: 0.0856\n",
            "Epoch 29/50\n",
            "1407/1407 [==============================] - 28s 20ms/step - loss: 0.1889 - categorical_accuracy: 0.9894 - mse: 0.0018 - val_loss: 6.3672 - val_categorical_accuracy: 0.5306 - val_mse: 0.0844\n",
            "Epoch 30/50\n",
            "1407/1407 [==============================] - 28s 20ms/step - loss: 0.2102 - categorical_accuracy: 0.9858 - mse: 0.0023 - val_loss: 6.1257 - val_categorical_accuracy: 0.5356 - val_mse: 0.0833\n",
            "Epoch 31/50\n",
            "1407/1407 [==============================] - 28s 20ms/step - loss: 0.1876 - categorical_accuracy: 0.9892 - mse: 0.0018 - val_loss: 6.4386 - val_categorical_accuracy: 0.5350 - val_mse: 0.0843\n",
            "Epoch 32/50\n",
            "1407/1407 [==============================] - 28s 20ms/step - loss: 0.2134 - categorical_accuracy: 0.9864 - mse: 0.0023 - val_loss: 6.6739 - val_categorical_accuracy: 0.5300 - val_mse: 0.0857\n",
            "Epoch 33/50\n",
            "1407/1407 [==============================] - 28s 20ms/step - loss: 0.1912 - categorical_accuracy: 0.9892 - mse: 0.0017 - val_loss: 8.3723 - val_categorical_accuracy: 0.5194 - val_mse: 0.0888\n",
            "Epoch 34/50\n",
            "1407/1407 [==============================] - 28s 20ms/step - loss: 0.2125 - categorical_accuracy: 0.9860 - mse: 0.0023 - val_loss: 7.4250 - val_categorical_accuracy: 0.5238 - val_mse: 0.0874\n",
            "Epoch 35/50\n",
            "1407/1407 [==============================] - 28s 20ms/step - loss: 0.1883 - categorical_accuracy: 0.9902 - mse: 0.0017 - val_loss: 8.1661 - val_categorical_accuracy: 0.5102 - val_mse: 0.0894\n",
            "Epoch 36/50\n",
            "1407/1407 [==============================] - 28s 20ms/step - loss: 0.2259 - categorical_accuracy: 0.9855 - mse: 0.0024 - val_loss: 5.6107 - val_categorical_accuracy: 0.5142 - val_mse: 0.0859\n",
            "Epoch 37/50\n",
            "1407/1407 [==============================] - 28s 20ms/step - loss: 0.2026 - categorical_accuracy: 0.9887 - mse: 0.0019 - val_loss: 6.9371 - val_categorical_accuracy: 0.5190 - val_mse: 0.0878\n",
            "Epoch 38/50\n",
            "1407/1407 [==============================] - 28s 20ms/step - loss: 0.1981 - categorical_accuracy: 0.9890 - mse: 0.0018 - val_loss: 7.2250 - val_categorical_accuracy: 0.5332 - val_mse: 0.0859\n",
            "Epoch 39/50\n",
            "1407/1407 [==============================] - 28s 20ms/step - loss: 0.2082 - categorical_accuracy: 0.9888 - mse: 0.0019 - val_loss: 7.7043 - val_categorical_accuracy: 0.5200 - val_mse: 0.0889\n",
            "Epoch 40/50\n",
            "1407/1407 [==============================] - 28s 20ms/step - loss: 0.2064 - categorical_accuracy: 0.9882 - mse: 0.0020 - val_loss: 6.9160 - val_categorical_accuracy: 0.5154 - val_mse: 0.0876\n",
            "Epoch 41/50\n",
            "1407/1407 [==============================] - 28s 20ms/step - loss: 0.1904 - categorical_accuracy: 0.9908 - mse: 0.0015 - val_loss: 7.8586 - val_categorical_accuracy: 0.5214 - val_mse: 0.0875\n",
            "Epoch 42/50\n",
            "1407/1407 [==============================] - 29s 20ms/step - loss: 0.2143 - categorical_accuracy: 0.9882 - mse: 0.0020 - val_loss: 8.6203 - val_categorical_accuracy: 0.5272 - val_mse: 0.0879\n",
            "Epoch 43/50\n",
            "1407/1407 [==============================] - 28s 20ms/step - loss: 0.2184 - categorical_accuracy: 0.9884 - mse: 0.0020 - val_loss: 8.6513 - val_categorical_accuracy: 0.5244 - val_mse: 0.0881\n",
            "Epoch 44/50\n",
            "1407/1407 [==============================] - 28s 20ms/step - loss: 0.2033 - categorical_accuracy: 0.9900 - mse: 0.0017 - val_loss: 8.4035 - val_categorical_accuracy: 0.5306 - val_mse: 0.0874\n",
            "Epoch 45/50\n",
            "1407/1407 [==============================] - 28s 20ms/step - loss: 0.2052 - categorical_accuracy: 0.9899 - mse: 0.0017 - val_loss: 8.5229 - val_categorical_accuracy: 0.5342 - val_mse: 0.0863\n",
            "Epoch 46/50\n",
            "1407/1407 [==============================] - 28s 20ms/step - loss: 0.2195 - categorical_accuracy: 0.9887 - mse: 0.0019 - val_loss: 9.4807 - val_categorical_accuracy: 0.5270 - val_mse: 0.0880\n",
            "Epoch 47/50\n",
            "1407/1407 [==============================] - 28s 20ms/step - loss: 0.2169 - categorical_accuracy: 0.9895 - mse: 0.0018 - val_loss: 7.7164 - val_categorical_accuracy: 0.5190 - val_mse: 0.0881\n",
            "Epoch 48/50\n",
            "1407/1407 [==============================] - 28s 20ms/step - loss: 0.1913 - categorical_accuracy: 0.9922 - mse: 0.0014 - val_loss: 8.2890 - val_categorical_accuracy: 0.5364 - val_mse: 0.0854\n",
            "Epoch 49/50\n",
            "1407/1407 [==============================] - 28s 20ms/step - loss: 0.2228 - categorical_accuracy: 0.9877 - mse: 0.0021 - val_loss: 8.6229 - val_categorical_accuracy: 0.5316 - val_mse: 0.0872\n",
            "Epoch 50/50\n",
            "1407/1407 [==============================] - 28s 20ms/step - loss: 0.2094 - categorical_accuracy: 0.9896 - mse: 0.0018 - val_loss: 9.3568 - val_categorical_accuracy: 0.5186 - val_mse: 0.0897\n"
          ]
        }
      ]
    },
    {
      "cell_type": "code",
      "metadata": {
        "id": "9LiatwSPoPT7",
        "colab": {
          "base_uri": "https://localhost:8080/",
          "height": 283
        },
        "outputId": "4197c1fc-07bf-4398-f551-e3fdc6d99dbd"
      },
      "source": [
        "# Ploteamos la evolucion del loss durante el entrenamiento\n",
        "import matplotlib.pyplot as plt\n",
        "\n",
        "%matplotlib inline\n",
        "\n",
        "plt.figure\n",
        "plt.plot(hist.history['loss'],label=\"loss\")\n",
        "plt.plot(hist.history['val_loss'],label=\"val_loss\")\n",
        "plt.legend()\n"
      ],
      "execution_count": null,
      "outputs": [
        {
          "output_type": "execute_result",
          "data": {
            "text/plain": [
              "<matplotlib.legend.Legend at 0x7f633a741d10>"
            ]
          },
          "metadata": {},
          "execution_count": 47
        },
        {
          "output_type": "display_data",
          "data": {
            "image/png": "[encoded data removed]",
            "text/plain": [
              "<Figure size 432x288 with 1 Axes>"
            ]
          },
          "metadata": {
            "needs_background": "light"
          }
        }
      ]
    },
    {
      "cell_type": "code",
      "source": [
        "# Ploteamos la evolucion de la métrica durante el entrenamiento\n",
        "import matplotlib.pyplot as plt\n",
        "\n",
        "%matplotlib inline\n",
        "\n",
        "plt.figure\n",
        "plt.plot(hist.history['categorical_accuracy'],label=\"acc\")\n",
        "plt.plot(hist.history['val_categorical_accuracy'],label=\"val_acc\")\n",
        "plt.legend()"
      ],
      "metadata": {
        "id": "9ermitHqJas-",
        "colab": {
          "base_uri": "https://localhost:8080/",
          "height": 283
        },
        "outputId": "eb0ad3dc-c243-470b-918d-3cf0599c22be"
      },
      "execution_count": null,
      "outputs": [
        {
          "output_type": "execute_result",
          "data": {
            "text/plain": [
              "<matplotlib.legend.Legend at 0x7f633a6b5090>"
            ]
          },
          "metadata": {},
          "execution_count": 48
        },
        {
          "output_type": "display_data",
          "data": {
            "image/png": "[encoded data removed]",
            "text/plain": [
              "<Figure size 432x288 with 1 Axes>"
            ]
          },
          "metadata": {
            "needs_background": "light"
          }
        }
      ]
    },
    {
      "cell_type": "code",
      "source": [
        "# Ploteamos la evolucion de la métrica durante el entrenamiento\n",
        "import matplotlib.pyplot as plt\n",
        "\n",
        "%matplotlib inline\n",
        "\n",
        "plt.figure\n",
        "plt.plot(hist.history['mse'],label=\"mse\")\n",
        "plt.plot(hist.history['val_mse'],label=\"val_mse\")\n",
        "plt.legend()"
      ],
      "metadata": {
        "id": "yjXoiAiRJpB4",
        "colab": {
          "base_uri": "https://localhost:8080/",
          "height": 283
        },
        "outputId": "b3adf889-9351-48e7-a4da-1e6a7caf3e4f"
      },
      "execution_count": null,
      "outputs": [
        {
          "output_type": "execute_result",
          "data": {
            "text/plain": [
              "<matplotlib.legend.Legend at 0x7f633a632d90>"
            ]
          },
          "metadata": {},
          "execution_count": 49
        },
        {
          "output_type": "display_data",
          "data": {
            "image/png": "[encoded data removed]",
            "text/plain": [
              "<Figure size 432x288 with 1 Axes>"
            ]
          },
          "metadata": {
            "needs_background": "light"
          }
        }
      ]
    },
    {
      "cell_type": "markdown",
      "source": [
        "### Evaluación"
      ],
      "metadata": {
        "id": "sR9X5IM5JxK4"
      }
    },
    {
      "cell_type": "code",
      "source": [
        "# Evaluamos el modelo en Test\n",
        "score = model.evaluate(X_test,y_test)\n",
        "score"
      ],
      "metadata": {
        "id": "5DyBtj8zPgQR",
        "colab": {
          "base_uri": "https://localhost:8080/"
        },
        "outputId": "e742eaa2-be55-4591-fe57-e37304d83efb"
      },
      "execution_count": null,
      "outputs": [
        {
          "output_type": "stream",
          "name": "stdout",
          "text": [
            "32/32 [==============================] - 0s 4ms/step - loss: 1.6641 - categorical_accuracy: 0.7140 - mse: 0.0383\n"
          ]
        },
        {
          "output_type": "execute_result",
          "data": {
            "text/plain": [
              "[1.6641103029251099, 0.7139999866485596, 0.03826693817973137]"
            ]
          },
          "metadata": {},
          "execution_count": 42
        }
      ]
    }
  ]
}