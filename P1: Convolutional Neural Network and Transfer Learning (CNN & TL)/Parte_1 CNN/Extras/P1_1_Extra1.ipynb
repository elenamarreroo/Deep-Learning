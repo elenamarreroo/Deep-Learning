{
  "cells": [
    {
      "cell_type": "markdown",
      "metadata": {
        "id": "J8gzHbwZmtO2"
      },
      "source": [
        "# **PRÁCTICA 1 - Parte 1: CNNs**\n",
        "### Universitat de València, Escola Tecnica Superior d'Enginyeria\n",
        "### Elena Marrero Castellano | 4ª curso del Grado Ciencia de Datos"
      ]
    },
    {
      "cell_type": "markdown",
      "metadata": {
        "id": "cxcDPnC7c7Dm"
      },
      "source": [
        "# **Ejercicio EXTRA 1**\n",
        "\n",
        "Con lo que has aprendido genera un modelo para resolver el problema de la base de datos cifar100. Guarda la estructura del modelo, las curvas de aprendizaje, loss entrenamiento, loss de validación, loss de test, accuracy entrenamiento, accuracy de validación, accuracy de test, número de parámetros."
      ]
    },
    {
      "cell_type": "code",
      "execution_count": 1,
      "metadata": {
        "id": "KXhyxuMFTkAY"
      },
      "outputs": [],
      "source": [
        "from tensorflow.keras.datasets import cifar10\n",
        "from tensorflow.keras.models import Sequential\n",
        "from tensorflow.keras.layers import Dense, Flatten, Conv2D, MaxPooling2D\n",
        "from tensorflow.keras.losses import sparse_categorical_crossentropy\n",
        "from tensorflow.keras.optimizers import Adam\n",
        "import matplotlib.pyplot as plt\n",
        "\n",
        "# Model configuration\n",
        "batch_size = 50\n",
        "img_width, img_height, img_num_channels = 32, 32, 3\n",
        "loss_function = sparse_categorical_crossentropy\n",
        "no_classes = 10\n",
        "no_epochs = 100\n",
        "optimizer = Adam()\n",
        "validation_split = 0.2\n",
        "verbosity = 1"
      ]
    },
    {
      "cell_type": "code",
      "execution_count": 2,
      "metadata": {
        "colab": {
          "base_uri": "https://localhost:8080/"
        },
        "id": "5fEVkJbCTlzF",
        "outputId": "6c775288-46d5-448d-88cb-dc5904a147b0"
      },
      "outputs": [
        {
          "name": "stdout",
          "output_type": "stream",
          "text": [
            "Downloading data from https://www.cs.toronto.edu/~kriz/cifar-10-python.tar.gz\n",
            "170498071/170498071 [==============================] - 3s 0us/step\n"
          ]
        }
      ],
      "source": [
        "# Load CIFAR-10 data\n",
        "(input_train, target_train), (input_test, target_test) = cifar10.load_data()\n",
        "\n",
        "# Determine shape of the data\n",
        "input_shape = (img_width, img_height, img_num_channels)\n",
        "\n",
        "# Parse numbers as floats\n",
        "input_train = input_train.astype('float32')\n",
        "input_test = input_test.astype('float32')\n",
        "\n",
        "# Normalize data\n",
        "input_train = input_train / 255\n",
        "input_test = input_test / 255"
      ]
    },
    {
      "cell_type": "code",
      "execution_count": 3,
      "metadata": {
        "colab": {
          "base_uri": "https://localhost:8080/"
        },
        "id": "G8vtCMJPTo05",
        "outputId": "c8f36593-a1e7-49cb-90b8-7bc1fcc2f901"
      },
      "outputs": [
        {
          "name": "stdout",
          "output_type": "stream",
          "text": [
            "Epoch 1/100\n",
            "800/800 [==============================] - 67s 83ms/step - loss: 1.5867 - accuracy: 0.4077 - val_loss: 1.3494 - val_accuracy: 0.5228\n",
            "Epoch 2/100\n",
            "800/800 [==============================] - 65s 81ms/step - loss: 1.2097 - accuracy: 0.5657 - val_loss: 1.1657 - val_accuracy: 0.5911\n",
            "Epoch 3/100\n",
            "800/800 [==============================] - 65s 81ms/step - loss: 1.0339 - accuracy: 0.6345 - val_loss: 1.0041 - val_accuracy: 0.6419\n",
            "Epoch 4/100\n",
            "800/800 [==============================] - 65s 81ms/step - loss: 0.9082 - accuracy: 0.6806 - val_loss: 0.9279 - val_accuracy: 0.6764\n",
            "Epoch 5/100\n",
            "800/800 [==============================] - 65s 81ms/step - loss: 0.8118 - accuracy: 0.7138 - val_loss: 0.9013 - val_accuracy: 0.6834\n",
            "Epoch 6/100\n",
            "800/800 [==============================] - 67s 84ms/step - loss: 0.7374 - accuracy: 0.7390 - val_loss: 0.8581 - val_accuracy: 0.7025\n",
            "Epoch 7/100\n",
            "800/800 [==============================] - 64s 80ms/step - loss: 0.6688 - accuracy: 0.7663 - val_loss: 0.9193 - val_accuracy: 0.6846\n",
            "Epoch 8/100\n",
            "800/800 [==============================] - 65s 81ms/step - loss: 0.6088 - accuracy: 0.7845 - val_loss: 0.8676 - val_accuracy: 0.7065\n",
            "Epoch 9/100\n",
            "800/800 [==============================] - 64s 80ms/step - loss: 0.5531 - accuracy: 0.8061 - val_loss: 0.8696 - val_accuracy: 0.7113\n",
            "Epoch 10/100\n",
            "800/800 [==============================] - 63s 79ms/step - loss: 0.4988 - accuracy: 0.8245 - val_loss: 0.8647 - val_accuracy: 0.7141\n",
            "Epoch 11/100\n",
            "800/800 [==============================] - 63s 79ms/step - loss: 0.4460 - accuracy: 0.8445 - val_loss: 0.9817 - val_accuracy: 0.7046\n",
            "Epoch 12/100\n",
            "800/800 [==============================] - 65s 81ms/step - loss: 0.4045 - accuracy: 0.8559 - val_loss: 0.9596 - val_accuracy: 0.7178\n",
            "Epoch 13/100\n",
            "800/800 [==============================] - 64s 79ms/step - loss: 0.3593 - accuracy: 0.8741 - val_loss: 1.0713 - val_accuracy: 0.7032\n",
            "Epoch 14/100\n",
            "800/800 [==============================] - 63s 79ms/step - loss: 0.3276 - accuracy: 0.8827 - val_loss: 1.0776 - val_accuracy: 0.7118\n",
            "Epoch 15/100\n",
            "800/800 [==============================] - 65s 81ms/step - loss: 0.2852 - accuracy: 0.8991 - val_loss: 1.1331 - val_accuracy: 0.7126\n",
            "Epoch 16/100\n",
            "800/800 [==============================] - 63s 79ms/step - loss: 0.2522 - accuracy: 0.9101 - val_loss: 1.1469 - val_accuracy: 0.7163\n",
            "Epoch 17/100\n",
            "800/800 [==============================] - 63s 79ms/step - loss: 0.2364 - accuracy: 0.9150 - val_loss: 1.2175 - val_accuracy: 0.7119\n",
            "Epoch 18/100\n",
            "800/800 [==============================] - 64s 80ms/step - loss: 0.2120 - accuracy: 0.9241 - val_loss: 1.3244 - val_accuracy: 0.6966\n",
            "Epoch 19/100\n",
            "800/800 [==============================] - 63s 79ms/step - loss: 0.1831 - accuracy: 0.9345 - val_loss: 1.3239 - val_accuracy: 0.7060\n",
            "Epoch 20/100\n",
            "800/800 [==============================] - 63s 79ms/step - loss: 0.1866 - accuracy: 0.9345 - val_loss: 1.3946 - val_accuracy: 0.6954\n",
            "Epoch 21/100\n",
            "800/800 [==============================] - 63s 79ms/step - loss: 0.1656 - accuracy: 0.9423 - val_loss: 1.5049 - val_accuracy: 0.7028\n",
            "Epoch 22/100\n",
            "800/800 [==============================] - 65s 81ms/step - loss: 0.1531 - accuracy: 0.9464 - val_loss: 1.5153 - val_accuracy: 0.7030\n",
            "Epoch 23/100\n",
            "800/800 [==============================] - 64s 80ms/step - loss: 0.1461 - accuracy: 0.9481 - val_loss: 1.6883 - val_accuracy: 0.7025\n",
            "Epoch 24/100\n",
            "800/800 [==============================] - 64s 79ms/step - loss: 0.1430 - accuracy: 0.9490 - val_loss: 1.7019 - val_accuracy: 0.7012\n",
            "Epoch 25/100\n",
            "800/800 [==============================] - 65s 82ms/step - loss: 0.1304 - accuracy: 0.9548 - val_loss: 1.7142 - val_accuracy: 0.6969\n",
            "Epoch 26/100\n",
            "800/800 [==============================] - 64s 80ms/step - loss: 0.1250 - accuracy: 0.9564 - val_loss: 1.6969 - val_accuracy: 0.7084\n",
            "Epoch 27/100\n",
            "800/800 [==============================] - 63s 79ms/step - loss: 0.1249 - accuracy: 0.9558 - val_loss: 1.7092 - val_accuracy: 0.7074\n",
            "Epoch 28/100\n",
            "800/800 [==============================] - 65s 81ms/step - loss: 0.1140 - accuracy: 0.9591 - val_loss: 1.8349 - val_accuracy: 0.6993\n",
            "Epoch 29/100\n",
            "800/800 [==============================] - 63s 79ms/step - loss: 0.1137 - accuracy: 0.9606 - val_loss: 1.7972 - val_accuracy: 0.7012\n",
            "Epoch 30/100\n",
            "800/800 [==============================] - 64s 79ms/step - loss: 0.1129 - accuracy: 0.9604 - val_loss: 1.8827 - val_accuracy: 0.7090\n",
            "Epoch 31/100\n",
            "800/800 [==============================] - 63s 79ms/step - loss: 0.1156 - accuracy: 0.9616 - val_loss: 1.9073 - val_accuracy: 0.6994\n",
            "Epoch 32/100\n",
            "800/800 [==============================] - 64s 80ms/step - loss: 0.0951 - accuracy: 0.9670 - val_loss: 1.8788 - val_accuracy: 0.7034\n",
            "Epoch 33/100\n",
            "800/800 [==============================] - 65s 81ms/step - loss: 0.1004 - accuracy: 0.9648 - val_loss: 2.1761 - val_accuracy: 0.6791\n",
            "Epoch 34/100\n",
            "800/800 [==============================] - 63s 79ms/step - loss: 0.1071 - accuracy: 0.9642 - val_loss: 1.9597 - val_accuracy: 0.7000\n",
            "Epoch 35/100\n",
            "800/800 [==============================] - 64s 80ms/step - loss: 0.0820 - accuracy: 0.9724 - val_loss: 2.0903 - val_accuracy: 0.6964\n",
            "Epoch 36/100\n",
            "800/800 [==============================] - 63s 79ms/step - loss: 0.0940 - accuracy: 0.9682 - val_loss: 2.0247 - val_accuracy: 0.6962\n",
            "Epoch 37/100\n",
            "800/800 [==============================] - 65s 81ms/step - loss: 0.0933 - accuracy: 0.9678 - val_loss: 2.1141 - val_accuracy: 0.6931\n",
            "Epoch 38/100\n",
            "800/800 [==============================] - 66s 82ms/step - loss: 0.1072 - accuracy: 0.9633 - val_loss: 2.0746 - val_accuracy: 0.6898\n",
            "Epoch 39/100\n",
            "800/800 [==============================] - 65s 81ms/step - loss: 0.0818 - accuracy: 0.9729 - val_loss: 2.2151 - val_accuracy: 0.6838\n",
            "Epoch 40/100\n",
            "800/800 [==============================] - 65s 81ms/step - loss: 0.0920 - accuracy: 0.9693 - val_loss: 2.1427 - val_accuracy: 0.7030\n",
            "Epoch 41/100\n",
            "800/800 [==============================] - 66s 82ms/step - loss: 0.0825 - accuracy: 0.9712 - val_loss: 2.1656 - val_accuracy: 0.6944\n",
            "Epoch 42/100\n",
            "800/800 [==============================] - 65s 81ms/step - loss: 0.0788 - accuracy: 0.9735 - val_loss: 2.1961 - val_accuracy: 0.7069\n",
            "Epoch 43/100\n",
            "800/800 [==============================] - 65s 82ms/step - loss: 0.0852 - accuracy: 0.9707 - val_loss: 2.2396 - val_accuracy: 0.6916\n",
            "Epoch 44/100\n",
            "800/800 [==============================] - 65s 81ms/step - loss: 0.0873 - accuracy: 0.9713 - val_loss: 2.2427 - val_accuracy: 0.6952\n",
            "Epoch 45/100\n",
            "800/800 [==============================] - 67s 83ms/step - loss: 0.0880 - accuracy: 0.9706 - val_loss: 2.2283 - val_accuracy: 0.6975\n",
            "Epoch 46/100\n",
            "800/800 [==============================] - 65s 81ms/step - loss: 0.0734 - accuracy: 0.9746 - val_loss: 2.3826 - val_accuracy: 0.6953\n",
            "Epoch 47/100\n",
            "800/800 [==============================] - 65s 81ms/step - loss: 0.0776 - accuracy: 0.9749 - val_loss: 2.3410 - val_accuracy: 0.6998\n",
            "Epoch 48/100\n",
            "800/800 [==============================] - 66s 82ms/step - loss: 0.0814 - accuracy: 0.9732 - val_loss: 2.2114 - val_accuracy: 0.6927\n",
            "Epoch 49/100\n",
            "800/800 [==============================] - 65s 82ms/step - loss: 0.0629 - accuracy: 0.9790 - val_loss: 2.4495 - val_accuracy: 0.6874\n",
            "Epoch 50/100\n",
            "800/800 [==============================] - 65s 82ms/step - loss: 0.0900 - accuracy: 0.9702 - val_loss: 2.4223 - val_accuracy: 0.6970\n",
            "Epoch 51/100\n",
            "800/800 [==============================] - 67s 83ms/step - loss: 0.0694 - accuracy: 0.9773 - val_loss: 2.4304 - val_accuracy: 0.6929\n",
            "Epoch 52/100\n",
            "800/800 [==============================] - 65s 81ms/step - loss: 0.0758 - accuracy: 0.9751 - val_loss: 2.3724 - val_accuracy: 0.6917\n",
            "Epoch 53/100\n",
            "800/800 [==============================] - 66s 82ms/step - loss: 0.0663 - accuracy: 0.9779 - val_loss: 2.5107 - val_accuracy: 0.6959\n",
            "Epoch 54/100\n",
            "800/800 [==============================] - 66s 83ms/step - loss: 0.0727 - accuracy: 0.9755 - val_loss: 2.4020 - val_accuracy: 0.6969\n",
            "Epoch 55/100\n",
            "800/800 [==============================] - 65s 81ms/step - loss: 0.0675 - accuracy: 0.9785 - val_loss: 2.6339 - val_accuracy: 0.6849\n",
            "Epoch 56/100\n",
            "800/800 [==============================] - 66s 82ms/step - loss: 0.0815 - accuracy: 0.9739 - val_loss: 2.4109 - val_accuracy: 0.6928\n",
            "Epoch 57/100\n",
            "800/800 [==============================] - 67s 83ms/step - loss: 0.0649 - accuracy: 0.9790 - val_loss: 2.4324 - val_accuracy: 0.6881\n",
            "Epoch 58/100\n",
            "800/800 [==============================] - 66s 82ms/step - loss: 0.0654 - accuracy: 0.9791 - val_loss: 2.5789 - val_accuracy: 0.6963\n",
            "Epoch 59/100\n",
            "800/800 [==============================] - 67s 83ms/step - loss: 0.0684 - accuracy: 0.9783 - val_loss: 2.6097 - val_accuracy: 0.6929\n",
            "Epoch 60/100\n",
            "800/800 [==============================] - 68s 85ms/step - loss: 0.0690 - accuracy: 0.9778 - val_loss: 2.4479 - val_accuracy: 0.6959\n",
            "Epoch 61/100\n",
            "800/800 [==============================] - 69s 86ms/step - loss: 0.0767 - accuracy: 0.9754 - val_loss: 2.5034 - val_accuracy: 0.6958\n",
            "Epoch 62/100\n",
            "800/800 [==============================] - 68s 85ms/step - loss: 0.0678 - accuracy: 0.9785 - val_loss: 2.6013 - val_accuracy: 0.6985\n",
            "Epoch 63/100\n",
            "800/800 [==============================] - 68s 85ms/step - loss: 0.0546 - accuracy: 0.9819 - val_loss: 2.6329 - val_accuracy: 0.6962\n",
            "Epoch 64/100\n",
            "800/800 [==============================] - 69s 86ms/step - loss: 0.0818 - accuracy: 0.9741 - val_loss: 2.4107 - val_accuracy: 0.6902\n",
            "Epoch 65/100\n",
            "800/800 [==============================] - 68s 85ms/step - loss: 0.0592 - accuracy: 0.9808 - val_loss: 2.6066 - val_accuracy: 0.6904\n",
            "Epoch 66/100\n",
            "800/800 [==============================] - 68s 85ms/step - loss: 0.0700 - accuracy: 0.9780 - val_loss: 2.5541 - val_accuracy: 0.6924\n",
            "Epoch 67/100\n",
            "800/800 [==============================] - 69s 87ms/step - loss: 0.0516 - accuracy: 0.9830 - val_loss: 2.6872 - val_accuracy: 0.6899\n",
            "Epoch 68/100\n",
            "800/800 [==============================] - 69s 86ms/step - loss: 0.0686 - accuracy: 0.9778 - val_loss: 2.6206 - val_accuracy: 0.6950\n",
            "Epoch 69/100\n",
            "800/800 [==============================] - 68s 85ms/step - loss: 0.0579 - accuracy: 0.9816 - val_loss: 2.6964 - val_accuracy: 0.7006\n",
            "Epoch 70/100\n",
            "800/800 [==============================] - 70s 88ms/step - loss: 0.0748 - accuracy: 0.9772 - val_loss: 2.6585 - val_accuracy: 0.6916\n",
            "Epoch 71/100\n",
            "800/800 [==============================] - 69s 86ms/step - loss: 0.0521 - accuracy: 0.9839 - val_loss: 2.6772 - val_accuracy: 0.6979\n",
            "Epoch 72/100\n",
            "800/800 [==============================] - 69s 86ms/step - loss: 0.0599 - accuracy: 0.9819 - val_loss: 2.6731 - val_accuracy: 0.6939\n",
            "Epoch 73/100\n",
            "800/800 [==============================] - 69s 87ms/step - loss: 0.0681 - accuracy: 0.9790 - val_loss: 2.7176 - val_accuracy: 0.6875\n",
            "Epoch 74/100\n",
            "800/800 [==============================] - 68s 85ms/step - loss: 0.0430 - accuracy: 0.9861 - val_loss: 2.7715 - val_accuracy: 0.6969\n",
            "Epoch 75/100\n",
            "800/800 [==============================] - 68s 85ms/step - loss: 0.0792 - accuracy: 0.9746 - val_loss: 2.8221 - val_accuracy: 0.6879\n",
            "Epoch 76/100\n",
            "800/800 [==============================] - 71s 89ms/step - loss: 0.0478 - accuracy: 0.9845 - val_loss: 3.0118 - val_accuracy: 0.6845\n",
            "Epoch 77/100\n",
            "800/800 [==============================] - 70s 87ms/step - loss: 0.0642 - accuracy: 0.9794 - val_loss: 2.8640 - val_accuracy: 0.6937\n",
            "Epoch 78/100\n",
            "800/800 [==============================] - 68s 85ms/step - loss: 0.0583 - accuracy: 0.9820 - val_loss: 2.8285 - val_accuracy: 0.6770\n",
            "Epoch 79/100\n",
            "800/800 [==============================] - 70s 88ms/step - loss: 0.0538 - accuracy: 0.9819 - val_loss: 2.8464 - val_accuracy: 0.6939\n",
            "Epoch 80/100\n",
            "800/800 [==============================] - 70s 88ms/step - loss: 0.0541 - accuracy: 0.9835 - val_loss: 2.8599 - val_accuracy: 0.6995\n",
            "Epoch 81/100\n",
            "800/800 [==============================] - 68s 85ms/step - loss: 0.0672 - accuracy: 0.9793 - val_loss: 2.6410 - val_accuracy: 0.6956\n",
            "Epoch 82/100\n",
            "800/800 [==============================] - 69s 86ms/step - loss: 0.0473 - accuracy: 0.9849 - val_loss: 2.7947 - val_accuracy: 0.7044\n",
            "Epoch 83/100\n",
            "800/800 [==============================] - 68s 85ms/step - loss: 0.0561 - accuracy: 0.9830 - val_loss: 2.9817 - val_accuracy: 0.6998\n",
            "Epoch 84/100\n",
            "800/800 [==============================] - 68s 85ms/step - loss: 0.0634 - accuracy: 0.9800 - val_loss: 2.6934 - val_accuracy: 0.6968\n",
            "Epoch 85/100\n",
            "800/800 [==============================] - 69s 87ms/step - loss: 0.0443 - accuracy: 0.9860 - val_loss: 2.9155 - val_accuracy: 0.6952\n",
            "Epoch 86/100\n",
            "800/800 [==============================] - 68s 85ms/step - loss: 0.0630 - accuracy: 0.9800 - val_loss: 2.9333 - val_accuracy: 0.6919\n",
            "Epoch 87/100\n",
            "800/800 [==============================] - 69s 86ms/step - loss: 0.0527 - accuracy: 0.9833 - val_loss: 2.8944 - val_accuracy: 0.6946\n",
            "Epoch 88/100\n",
            "800/800 [==============================] - 70s 88ms/step - loss: 0.0630 - accuracy: 0.9812 - val_loss: 2.9214 - val_accuracy: 0.6917\n",
            "Epoch 89/100\n",
            "800/800 [==============================] - 69s 87ms/step - loss: 0.0456 - accuracy: 0.9860 - val_loss: 2.9012 - val_accuracy: 0.6952\n",
            "Epoch 90/100\n",
            "800/800 [==============================] - 69s 86ms/step - loss: 0.0598 - accuracy: 0.9812 - val_loss: 2.8933 - val_accuracy: 0.6951\n",
            "Epoch 91/100\n",
            "800/800 [==============================] - 70s 87ms/step - loss: 0.0465 - accuracy: 0.9851 - val_loss: 2.9761 - val_accuracy: 0.7031\n",
            "Epoch 92/100\n",
            "800/800 [==============================] - 69s 87ms/step - loss: 0.0599 - accuracy: 0.9813 - val_loss: 2.9180 - val_accuracy: 0.6933\n",
            "Epoch 93/100\n",
            "800/800 [==============================] - 71s 89ms/step - loss: 0.0457 - accuracy: 0.9859 - val_loss: 3.0609 - val_accuracy: 0.6988\n",
            "Epoch 94/100\n",
            "800/800 [==============================] - 70s 88ms/step - loss: 0.0554 - accuracy: 0.9826 - val_loss: 3.0276 - val_accuracy: 0.6992\n",
            "Epoch 95/100\n",
            "800/800 [==============================] - 69s 87ms/step - loss: 0.0435 - accuracy: 0.9861 - val_loss: 3.2359 - val_accuracy: 0.6872\n",
            "Epoch 96/100\n",
            "800/800 [==============================] - 69s 87ms/step - loss: 0.0657 - accuracy: 0.9802 - val_loss: 3.1921 - val_accuracy: 0.6912\n",
            "Epoch 97/100\n",
            "800/800 [==============================] - 70s 88ms/step - loss: 0.0561 - accuracy: 0.9834 - val_loss: 2.9345 - val_accuracy: 0.6995\n",
            "Epoch 98/100\n",
            "800/800 [==============================] - 69s 87ms/step - loss: 0.0483 - accuracy: 0.9852 - val_loss: 2.9143 - val_accuracy: 0.6991\n",
            "Epoch 99/100\n",
            "800/800 [==============================] - 69s 86ms/step - loss: 0.0477 - accuracy: 0.9856 - val_loss: 3.0221 - val_accuracy: 0.6987\n",
            "Epoch 100/100\n",
            "800/800 [==============================] - 69s 86ms/step - loss: 0.0633 - accuracy: 0.9809 - val_loss: 2.9802 - val_accuracy: 0.6976\n"
          ]
        }
      ],
      "source": [
        "# Create the model\n",
        "model = Sequential()\n",
        "model.add(Conv2D(32, kernel_size=(3, 3), activation='relu', input_shape=input_shape))\n",
        "model.add(MaxPooling2D(pool_size=(2, 2)))\n",
        "model.add(Conv2D(64, kernel_size=(3, 3), activation='relu'))\n",
        "model.add(MaxPooling2D(pool_size=(2, 2)))\n",
        "model.add(Conv2D(128, kernel_size=(3, 3), activation='relu'))\n",
        "model.add(MaxPooling2D(pool_size=(2, 2)))\n",
        "model.add(Flatten())\n",
        "model.add(Dense(256, activation='relu'))\n",
        "model.add(Dense(128, activation='relu'))\n",
        "model.add(Dense(no_classes, activation='softmax'))\n",
        "\n",
        "# Compile the model\n",
        "model.compile(loss=loss_function,\n",
        "              optimizer=optimizer,\n",
        "              metrics=['accuracy'])\n",
        "\n",
        "# Fit data to model\n",
        "history = model.fit(input_train, target_train,\n",
        "            batch_size=batch_size,\n",
        "            epochs=no_epochs,\n",
        "            verbose=verbosity,\n",
        "            validation_split=validation_split)"
      ]
    },
    {
      "cell_type": "code",
      "execution_count": 4,
      "metadata": {
        "colab": {
          "base_uri": "https://localhost:8080/"
        },
        "id": "xhl5jHGjTwGW",
        "outputId": "deac3934-7610-46e2-830a-cb0d91a477bc"
      },
      "outputs": [
        {
          "name": "stdout",
          "output_type": "stream",
          "text": [
            "Test loss: 3.042787790298462 / Test accuracy: 0.6955999732017517\n"
          ]
        }
      ],
      "source": [
        "# Generate generalization metrics\n",
        "score = model.evaluate(input_test, target_test, verbose=0)\n",
        "print(f'Test loss: {score[0]} / Test accuracy: {score[1]}')"
      ]
    },
    {
      "cell_type": "code",
      "execution_count": 5,
      "metadata": {
        "colab": {
          "base_uri": "https://localhost:8080/",
          "height": 299
        },
        "id": "-k23b_vMYaDd",
        "outputId": "5fc09e1a-3db6-40b8-b15d-a43d6c5b9ea7"
      },
      "outputs": [
        {
          "data": {
            "text/plain": [
              "<matplotlib.legend.Legend at 0x7fe4bfd0f710>"
            ]
          },
          "execution_count": 5,
          "metadata": {},
          "output_type": "execute_result"
        },
        {
          "data": {
            "image/png": "[encoded data removed]",
            "text/plain": [
              "<Figure size 1296x288 with 2 Axes>"
            ]
          },
          "metadata": {
            "needs_background": "light"
          },
          "output_type": "display_data"
        }
      ],
      "source": [
        "%matplotlib inline\n",
        "import matplotlib.pyplot as plt\n",
        "fig, (ax0, ax1) = plt.subplots(nrows=1, ncols=2, sharex=True,\n",
        "                                    figsize=(18, 4))\n",
        "# Ploteamos la evolucion del loss durante el entrenamiento\n",
        "ax0.set_title('Evolucion del loss durante el entrenamiento')\n",
        "ax0.plot(history.history['loss'],label=\"loss\")\n",
        "ax0.plot(history.history['val_loss'],label=\"val_loss\")\n",
        "ax0.legend()\n",
        "\n",
        "# Ploteamos la evolucion de la métrica durante el entrenamiento\n",
        "ax1.set_title('Evolucion del accuracy durante el entrenamiento')\n",
        "ax1.plot(history.history['accuracy'],label=\"acc\")\n",
        "ax1.plot(history.history['val_accuracy'],label=\"val_acc\")\n",
        "ax1.legend()"
      ]
    }
  ],
  "metadata": {
    "colab": {
      "provenance": []
    },
    "kernelspec": {
      "display_name": "Python 3",
      "name": "python3"
    },
    "language_info": {
      "name": "python"
    }
  },
  "nbformat": 4,
  "nbformat_minor": 0
}
