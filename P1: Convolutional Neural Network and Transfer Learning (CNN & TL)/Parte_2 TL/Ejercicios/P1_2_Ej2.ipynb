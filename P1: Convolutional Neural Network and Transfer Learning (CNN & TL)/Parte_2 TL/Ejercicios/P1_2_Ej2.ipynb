{
  "nbformat": 4,
  "nbformat_minor": 0,
  "metadata": {
    "colab": {
      "provenance": []
    },
    "kernelspec": {
      "name": "python3",
      "display_name": "Python 3"
    },
    "language_info": {
      "name": "python"
    }
  },
  "cells": [
    {
      "cell_type": "markdown",
      "metadata": {
        "id": "tSjXNW7ulMPb"
      },
      "source": [
        "# **PRÁCTICA 1 - Parte 2: Transfer learning**\n",
        "### Universitat de València, Escola Tecnica Superior d'Enginyeria\n",
        "### Elena Marrero Castellano | 4ª curso del Grado Ciencia de Datos\n"
      ]
    },
    {
      "cell_type": "markdown",
      "source": [
        "## **Ejercicio 2:** Prueba un modelo de https://tfhub.dev/ con una imagen de internet"
      ],
      "metadata": {
        "id": "z_lvYvt6B5Ni"
      }
    }
  ]
}